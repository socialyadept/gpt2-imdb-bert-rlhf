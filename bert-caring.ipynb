{
  "cells": [
    {
      "cell_type": "code",
      "execution_count": 1,
      "metadata": {
        "id": "Z4sDW_nlWHNU"
      },
      "outputs": [],
      "source": [
        "\n",
        "# Python >= 3.8\n"
      ]
    },
    {
      "cell_type": "code",
      "execution_count": 2,
      "metadata": {
        "colab": {
          "base_uri": "https://localhost:8080/"
        },
        "id": "0ZtIR7SsWHNV",
        "outputId": "3dc89bfe-ecc8-4ace-f205-3257716feb87"
      },
      "outputs": [
        {
          "output_type": "stream",
          "name": "stdout",
          "text": [
            "Requirement already satisfied: transformers in /usr/local/lib/python3.10/dist-packages (4.38.2)\n",
            "Requirement already satisfied: filelock in /usr/local/lib/python3.10/dist-packages (from transformers) (3.13.1)\n",
            "Requirement already satisfied: huggingface-hub<1.0,>=0.19.3 in /usr/local/lib/python3.10/dist-packages (from transformers) (0.20.3)\n",
            "Requirement already satisfied: numpy>=1.17 in /usr/local/lib/python3.10/dist-packages (from transformers) (1.25.2)\n",
            "Requirement already satisfied: packaging>=20.0 in /usr/local/lib/python3.10/dist-packages (from transformers) (24.0)\n",
            "Requirement already satisfied: pyyaml>=5.1 in /usr/local/lib/python3.10/dist-packages (from transformers) (6.0.1)\n",
            "Requirement already satisfied: regex!=2019.12.17 in /usr/local/lib/python3.10/dist-packages (from transformers) (2023.12.25)\n",
            "Requirement already satisfied: requests in /usr/local/lib/python3.10/dist-packages (from transformers) (2.31.0)\n",
            "Requirement already satisfied: tokenizers<0.19,>=0.14 in /usr/local/lib/python3.10/dist-packages (from transformers) (0.15.2)\n",
            "Requirement already satisfied: safetensors>=0.4.1 in /usr/local/lib/python3.10/dist-packages (from transformers) (0.4.2)\n",
            "Requirement already satisfied: tqdm>=4.27 in /usr/local/lib/python3.10/dist-packages (from transformers) (4.66.2)\n",
            "Requirement already satisfied: fsspec>=2023.5.0 in /usr/local/lib/python3.10/dist-packages (from huggingface-hub<1.0,>=0.19.3->transformers) (2023.6.0)\n",
            "Requirement already satisfied: typing-extensions>=3.7.4.3 in /usr/local/lib/python3.10/dist-packages (from huggingface-hub<1.0,>=0.19.3->transformers) (4.10.0)\n",
            "Requirement already satisfied: charset-normalizer<4,>=2 in /usr/local/lib/python3.10/dist-packages (from requests->transformers) (3.3.2)\n",
            "Requirement already satisfied: idna<4,>=2.5 in /usr/local/lib/python3.10/dist-packages (from requests->transformers) (3.6)\n",
            "Requirement already satisfied: urllib3<3,>=1.21.1 in /usr/local/lib/python3.10/dist-packages (from requests->transformers) (2.0.7)\n",
            "Requirement already satisfied: certifi>=2017.4.17 in /usr/local/lib/python3.10/dist-packages (from requests->transformers) (2024.2.2)\n",
            "Requirement already satisfied: wandb in /usr/local/lib/python3.10/dist-packages (0.16.4)\n",
            "Requirement already satisfied: Click!=8.0.0,>=7.1 in /usr/local/lib/python3.10/dist-packages (from wandb) (8.1.7)\n",
            "Requirement already satisfied: GitPython!=3.1.29,>=1.0.0 in /usr/local/lib/python3.10/dist-packages (from wandb) (3.1.42)\n",
            "Requirement already satisfied: requests<3,>=2.0.0 in /usr/local/lib/python3.10/dist-packages (from wandb) (2.31.0)\n",
            "Requirement already satisfied: psutil>=5.0.0 in /usr/local/lib/python3.10/dist-packages (from wandb) (5.9.5)\n",
            "Requirement already satisfied: sentry-sdk>=1.0.0 in /usr/local/lib/python3.10/dist-packages (from wandb) (1.43.0)\n",
            "Requirement already satisfied: docker-pycreds>=0.4.0 in /usr/local/lib/python3.10/dist-packages (from wandb) (0.4.0)\n",
            "Requirement already satisfied: PyYAML in /usr/local/lib/python3.10/dist-packages (from wandb) (6.0.1)\n",
            "Requirement already satisfied: setproctitle in /usr/local/lib/python3.10/dist-packages (from wandb) (1.3.3)\n",
            "Requirement already satisfied: setuptools in /usr/local/lib/python3.10/dist-packages (from wandb) (67.7.2)\n",
            "Requirement already satisfied: appdirs>=1.4.3 in /usr/local/lib/python3.10/dist-packages (from wandb) (1.4.4)\n",
            "Requirement already satisfied: protobuf!=4.21.0,<5,>=3.19.0 in /usr/local/lib/python3.10/dist-packages (from wandb) (3.20.3)\n",
            "Requirement already satisfied: six>=1.4.0 in /usr/local/lib/python3.10/dist-packages (from docker-pycreds>=0.4.0->wandb) (1.16.0)\n",
            "Requirement already satisfied: gitdb<5,>=4.0.1 in /usr/local/lib/python3.10/dist-packages (from GitPython!=3.1.29,>=1.0.0->wandb) (4.0.11)\n",
            "Requirement already satisfied: charset-normalizer<4,>=2 in /usr/local/lib/python3.10/dist-packages (from requests<3,>=2.0.0->wandb) (3.3.2)\n",
            "Requirement already satisfied: idna<4,>=2.5 in /usr/local/lib/python3.10/dist-packages (from requests<3,>=2.0.0->wandb) (3.6)\n",
            "Requirement already satisfied: urllib3<3,>=1.21.1 in /usr/local/lib/python3.10/dist-packages (from requests<3,>=2.0.0->wandb) (2.0.7)\n",
            "Requirement already satisfied: certifi>=2017.4.17 in /usr/local/lib/python3.10/dist-packages (from requests<3,>=2.0.0->wandb) (2024.2.2)\n",
            "Requirement already satisfied: smmap<6,>=3.0.1 in /usr/local/lib/python3.10/dist-packages (from gitdb<5,>=4.0.1->GitPython!=3.1.29,>=1.0.0->wandb) (5.0.1)\n",
            "Requirement already satisfied: trl in /usr/local/lib/python3.10/dist-packages (0.8.1)\n",
            "Requirement already satisfied: torch>=1.4.0 in /usr/local/lib/python3.10/dist-packages (from trl) (2.2.1+cu121)\n",
            "Requirement already satisfied: transformers>=4.31.0 in /usr/local/lib/python3.10/dist-packages (from trl) (4.38.2)\n",
            "Requirement already satisfied: numpy>=1.18.2 in /usr/local/lib/python3.10/dist-packages (from trl) (1.25.2)\n",
            "Requirement already satisfied: accelerate in /usr/local/lib/python3.10/dist-packages (from trl) (0.28.0)\n",
            "Requirement already satisfied: datasets in /usr/local/lib/python3.10/dist-packages (from trl) (2.18.0)\n",
            "Requirement already satisfied: tyro>=0.5.11 in /usr/local/lib/python3.10/dist-packages (from trl) (0.7.3)\n",
            "Requirement already satisfied: filelock in /usr/local/lib/python3.10/dist-packages (from torch>=1.4.0->trl) (3.13.1)\n",
            "Requirement already satisfied: typing-extensions>=4.8.0 in /usr/local/lib/python3.10/dist-packages (from torch>=1.4.0->trl) (4.10.0)\n",
            "Requirement already satisfied: sympy in /usr/local/lib/python3.10/dist-packages (from torch>=1.4.0->trl) (1.12)\n",
            "Requirement already satisfied: networkx in /usr/local/lib/python3.10/dist-packages (from torch>=1.4.0->trl) (3.2.1)\n",
            "Requirement already satisfied: jinja2 in /usr/local/lib/python3.10/dist-packages (from torch>=1.4.0->trl) (3.1.3)\n",
            "Requirement already satisfied: fsspec in /usr/local/lib/python3.10/dist-packages (from torch>=1.4.0->trl) (2023.6.0)\n",
            "Requirement already satisfied: nvidia-cuda-nvrtc-cu12==12.1.105 in /usr/local/lib/python3.10/dist-packages (from torch>=1.4.0->trl) (12.1.105)\n",
            "Requirement already satisfied: nvidia-cuda-runtime-cu12==12.1.105 in /usr/local/lib/python3.10/dist-packages (from torch>=1.4.0->trl) (12.1.105)\n",
            "Requirement already satisfied: nvidia-cuda-cupti-cu12==12.1.105 in /usr/local/lib/python3.10/dist-packages (from torch>=1.4.0->trl) (12.1.105)\n",
            "Requirement already satisfied: nvidia-cudnn-cu12==8.9.2.26 in /usr/local/lib/python3.10/dist-packages (from torch>=1.4.0->trl) (8.9.2.26)\n",
            "Requirement already satisfied: nvidia-cublas-cu12==12.1.3.1 in /usr/local/lib/python3.10/dist-packages (from torch>=1.4.0->trl) (12.1.3.1)\n",
            "Requirement already satisfied: nvidia-cufft-cu12==11.0.2.54 in /usr/local/lib/python3.10/dist-packages (from torch>=1.4.0->trl) (11.0.2.54)\n",
            "Requirement already satisfied: nvidia-curand-cu12==10.3.2.106 in /usr/local/lib/python3.10/dist-packages (from torch>=1.4.0->trl) (10.3.2.106)\n",
            "Requirement already satisfied: nvidia-cusolver-cu12==11.4.5.107 in /usr/local/lib/python3.10/dist-packages (from torch>=1.4.0->trl) (11.4.5.107)\n",
            "Requirement already satisfied: nvidia-cusparse-cu12==12.1.0.106 in /usr/local/lib/python3.10/dist-packages (from torch>=1.4.0->trl) (12.1.0.106)\n",
            "Requirement already satisfied: nvidia-nccl-cu12==2.19.3 in /usr/local/lib/python3.10/dist-packages (from torch>=1.4.0->trl) (2.19.3)\n",
            "Requirement already satisfied: nvidia-nvtx-cu12==12.1.105 in /usr/local/lib/python3.10/dist-packages (from torch>=1.4.0->trl) (12.1.105)\n",
            "Requirement already satisfied: triton==2.2.0 in /usr/local/lib/python3.10/dist-packages (from torch>=1.4.0->trl) (2.2.0)\n",
            "Requirement already satisfied: nvidia-nvjitlink-cu12 in /usr/local/lib/python3.10/dist-packages (from nvidia-cusolver-cu12==11.4.5.107->torch>=1.4.0->trl) (12.4.99)\n",
            "Requirement already satisfied: huggingface-hub<1.0,>=0.19.3 in /usr/local/lib/python3.10/dist-packages (from transformers>=4.31.0->trl) (0.20.3)\n",
            "Requirement already satisfied: packaging>=20.0 in /usr/local/lib/python3.10/dist-packages (from transformers>=4.31.0->trl) (24.0)\n",
            "Requirement already satisfied: pyyaml>=5.1 in /usr/local/lib/python3.10/dist-packages (from transformers>=4.31.0->trl) (6.0.1)\n",
            "Requirement already satisfied: regex!=2019.12.17 in /usr/local/lib/python3.10/dist-packages (from transformers>=4.31.0->trl) (2023.12.25)\n",
            "Requirement already satisfied: requests in /usr/local/lib/python3.10/dist-packages (from transformers>=4.31.0->trl) (2.31.0)\n",
            "Requirement already satisfied: tokenizers<0.19,>=0.14 in /usr/local/lib/python3.10/dist-packages (from transformers>=4.31.0->trl) (0.15.2)\n",
            "Requirement already satisfied: safetensors>=0.4.1 in /usr/local/lib/python3.10/dist-packages (from transformers>=4.31.0->trl) (0.4.2)\n",
            "Requirement already satisfied: tqdm>=4.27 in /usr/local/lib/python3.10/dist-packages (from transformers>=4.31.0->trl) (4.66.2)\n",
            "Requirement already satisfied: docstring-parser>=0.14.1 in /usr/local/lib/python3.10/dist-packages (from tyro>=0.5.11->trl) (0.16)\n",
            "Requirement already satisfied: rich>=11.1.0 in /usr/local/lib/python3.10/dist-packages (from tyro>=0.5.11->trl) (13.7.1)\n",
            "Requirement already satisfied: shtab>=1.5.6 in /usr/local/lib/python3.10/dist-packages (from tyro>=0.5.11->trl) (1.7.1)\n",
            "Requirement already satisfied: psutil in /usr/local/lib/python3.10/dist-packages (from accelerate->trl) (5.9.5)\n",
            "Requirement already satisfied: pyarrow>=12.0.0 in /usr/local/lib/python3.10/dist-packages (from datasets->trl) (14.0.2)\n",
            "Requirement already satisfied: pyarrow-hotfix in /usr/local/lib/python3.10/dist-packages (from datasets->trl) (0.6)\n",
            "Requirement already satisfied: dill<0.3.9,>=0.3.0 in /usr/local/lib/python3.10/dist-packages (from datasets->trl) (0.3.8)\n",
            "Requirement already satisfied: pandas in /usr/local/lib/python3.10/dist-packages (from datasets->trl) (1.5.3)\n",
            "Requirement already satisfied: xxhash in /usr/local/lib/python3.10/dist-packages (from datasets->trl) (3.4.1)\n",
            "Requirement already satisfied: multiprocess in /usr/local/lib/python3.10/dist-packages (from datasets->trl) (0.70.16)\n",
            "Requirement already satisfied: aiohttp in /usr/local/lib/python3.10/dist-packages (from datasets->trl) (3.9.3)\n",
            "Requirement already satisfied: aiosignal>=1.1.2 in /usr/local/lib/python3.10/dist-packages (from aiohttp->datasets->trl) (1.3.1)\n",
            "Requirement already satisfied: attrs>=17.3.0 in /usr/local/lib/python3.10/dist-packages (from aiohttp->datasets->trl) (23.2.0)\n",
            "Requirement already satisfied: frozenlist>=1.1.1 in /usr/local/lib/python3.10/dist-packages (from aiohttp->datasets->trl) (1.4.1)\n",
            "Requirement already satisfied: multidict<7.0,>=4.5 in /usr/local/lib/python3.10/dist-packages (from aiohttp->datasets->trl) (6.0.5)\n",
            "Requirement already satisfied: yarl<2.0,>=1.0 in /usr/local/lib/python3.10/dist-packages (from aiohttp->datasets->trl) (1.9.4)\n",
            "Requirement already satisfied: async-timeout<5.0,>=4.0 in /usr/local/lib/python3.10/dist-packages (from aiohttp->datasets->trl) (4.0.3)\n",
            "Requirement already satisfied: charset-normalizer<4,>=2 in /usr/local/lib/python3.10/dist-packages (from requests->transformers>=4.31.0->trl) (3.3.2)\n",
            "Requirement already satisfied: idna<4,>=2.5 in /usr/local/lib/python3.10/dist-packages (from requests->transformers>=4.31.0->trl) (3.6)\n",
            "Requirement already satisfied: urllib3<3,>=1.21.1 in /usr/local/lib/python3.10/dist-packages (from requests->transformers>=4.31.0->trl) (2.0.7)\n",
            "Requirement already satisfied: certifi>=2017.4.17 in /usr/local/lib/python3.10/dist-packages (from requests->transformers>=4.31.0->trl) (2024.2.2)\n",
            "Requirement already satisfied: markdown-it-py>=2.2.0 in /usr/local/lib/python3.10/dist-packages (from rich>=11.1.0->tyro>=0.5.11->trl) (3.0.0)\n",
            "Requirement already satisfied: pygments<3.0.0,>=2.13.0 in /usr/local/lib/python3.10/dist-packages (from rich>=11.1.0->tyro>=0.5.11->trl) (2.16.1)\n",
            "Requirement already satisfied: MarkupSafe>=2.0 in /usr/local/lib/python3.10/dist-packages (from jinja2->torch>=1.4.0->trl) (2.1.5)\n",
            "Requirement already satisfied: python-dateutil>=2.8.1 in /usr/local/lib/python3.10/dist-packages (from pandas->datasets->trl) (2.8.2)\n",
            "Requirement already satisfied: pytz>=2020.1 in /usr/local/lib/python3.10/dist-packages (from pandas->datasets->trl) (2023.4)\n",
            "Requirement already satisfied: mpmath>=0.19 in /usr/local/lib/python3.10/dist-packages (from sympy->torch>=1.4.0->trl) (1.3.0)\n",
            "Requirement already satisfied: mdurl~=0.1 in /usr/local/lib/python3.10/dist-packages (from markdown-it-py>=2.2.0->rich>=11.1.0->tyro>=0.5.11->trl) (0.1.2)\n",
            "Requirement already satisfied: six>=1.5 in /usr/local/lib/python3.10/dist-packages (from python-dateutil>=2.8.1->pandas->datasets->trl) (1.16.0)\n",
            "Requirement already satisfied: pandas in /usr/local/lib/python3.10/dist-packages (1.5.3)\n",
            "Requirement already satisfied: python-dateutil>=2.8.1 in /usr/local/lib/python3.10/dist-packages (from pandas) (2.8.2)\n",
            "Requirement already satisfied: pytz>=2020.1 in /usr/local/lib/python3.10/dist-packages (from pandas) (2023.4)\n",
            "Requirement already satisfied: numpy>=1.21.0 in /usr/local/lib/python3.10/dist-packages (from pandas) (1.25.2)\n",
            "Requirement already satisfied: six>=1.5 in /usr/local/lib/python3.10/dist-packages (from python-dateutil>=2.8.1->pandas) (1.16.0)\n",
            "Requirement already satisfied: datasets in /usr/local/lib/python3.10/dist-packages (2.18.0)\n",
            "Requirement already satisfied: filelock in /usr/local/lib/python3.10/dist-packages (from datasets) (3.13.1)\n",
            "Requirement already satisfied: numpy>=1.17 in /usr/local/lib/python3.10/dist-packages (from datasets) (1.25.2)\n",
            "Requirement already satisfied: pyarrow>=12.0.0 in /usr/local/lib/python3.10/dist-packages (from datasets) (14.0.2)\n",
            "Requirement already satisfied: pyarrow-hotfix in /usr/local/lib/python3.10/dist-packages (from datasets) (0.6)\n",
            "Requirement already satisfied: dill<0.3.9,>=0.3.0 in /usr/local/lib/python3.10/dist-packages (from datasets) (0.3.8)\n",
            "Requirement already satisfied: pandas in /usr/local/lib/python3.10/dist-packages (from datasets) (1.5.3)\n",
            "Requirement already satisfied: requests>=2.19.0 in /usr/local/lib/python3.10/dist-packages (from datasets) (2.31.0)\n",
            "Requirement already satisfied: tqdm>=4.62.1 in /usr/local/lib/python3.10/dist-packages (from datasets) (4.66.2)\n",
            "Requirement already satisfied: xxhash in /usr/local/lib/python3.10/dist-packages (from datasets) (3.4.1)\n",
            "Requirement already satisfied: multiprocess in /usr/local/lib/python3.10/dist-packages (from datasets) (0.70.16)\n",
            "Requirement already satisfied: fsspec[http]<=2024.2.0,>=2023.1.0 in /usr/local/lib/python3.10/dist-packages (from datasets) (2023.6.0)\n",
            "Requirement already satisfied: aiohttp in /usr/local/lib/python3.10/dist-packages (from datasets) (3.9.3)\n",
            "Requirement already satisfied: huggingface-hub>=0.19.4 in /usr/local/lib/python3.10/dist-packages (from datasets) (0.20.3)\n",
            "Requirement already satisfied: packaging in /usr/local/lib/python3.10/dist-packages (from datasets) (24.0)\n",
            "Requirement already satisfied: pyyaml>=5.1 in /usr/local/lib/python3.10/dist-packages (from datasets) (6.0.1)\n",
            "Requirement already satisfied: aiosignal>=1.1.2 in /usr/local/lib/python3.10/dist-packages (from aiohttp->datasets) (1.3.1)\n",
            "Requirement already satisfied: attrs>=17.3.0 in /usr/local/lib/python3.10/dist-packages (from aiohttp->datasets) (23.2.0)\n",
            "Requirement already satisfied: frozenlist>=1.1.1 in /usr/local/lib/python3.10/dist-packages (from aiohttp->datasets) (1.4.1)\n",
            "Requirement already satisfied: multidict<7.0,>=4.5 in /usr/local/lib/python3.10/dist-packages (from aiohttp->datasets) (6.0.5)\n",
            "Requirement already satisfied: yarl<2.0,>=1.0 in /usr/local/lib/python3.10/dist-packages (from aiohttp->datasets) (1.9.4)\n",
            "Requirement already satisfied: async-timeout<5.0,>=4.0 in /usr/local/lib/python3.10/dist-packages (from aiohttp->datasets) (4.0.3)\n",
            "Requirement already satisfied: typing-extensions>=3.7.4.3 in /usr/local/lib/python3.10/dist-packages (from huggingface-hub>=0.19.4->datasets) (4.10.0)\n",
            "Requirement already satisfied: charset-normalizer<4,>=2 in /usr/local/lib/python3.10/dist-packages (from requests>=2.19.0->datasets) (3.3.2)\n",
            "Requirement already satisfied: idna<4,>=2.5 in /usr/local/lib/python3.10/dist-packages (from requests>=2.19.0->datasets) (3.6)\n",
            "Requirement already satisfied: urllib3<3,>=1.21.1 in /usr/local/lib/python3.10/dist-packages (from requests>=2.19.0->datasets) (2.0.7)\n",
            "Requirement already satisfied: certifi>=2017.4.17 in /usr/local/lib/python3.10/dist-packages (from requests>=2.19.0->datasets) (2024.2.2)\n",
            "Requirement already satisfied: python-dateutil>=2.8.1 in /usr/local/lib/python3.10/dist-packages (from pandas->datasets) (2.8.2)\n",
            "Requirement already satisfied: pytz>=2020.1 in /usr/local/lib/python3.10/dist-packages (from pandas->datasets) (2023.4)\n",
            "Requirement already satisfied: six>=1.5 in /usr/local/lib/python3.10/dist-packages (from python-dateutil>=2.8.1->pandas->datasets) (1.16.0)\n",
            "Requirement already satisfied: accelerate in /usr/local/lib/python3.10/dist-packages (0.28.0)\n",
            "Requirement already satisfied: numpy>=1.17 in /usr/local/lib/python3.10/dist-packages (from accelerate) (1.25.2)\n",
            "Requirement already satisfied: packaging>=20.0 in /usr/local/lib/python3.10/dist-packages (from accelerate) (24.0)\n",
            "Requirement already satisfied: psutil in /usr/local/lib/python3.10/dist-packages (from accelerate) (5.9.5)\n",
            "Requirement already satisfied: pyyaml in /usr/local/lib/python3.10/dist-packages (from accelerate) (6.0.1)\n",
            "Requirement already satisfied: torch>=1.10.0 in /usr/local/lib/python3.10/dist-packages (from accelerate) (2.2.1+cu121)\n",
            "Requirement already satisfied: huggingface-hub in /usr/local/lib/python3.10/dist-packages (from accelerate) (0.20.3)\n",
            "Requirement already satisfied: safetensors>=0.3.1 in /usr/local/lib/python3.10/dist-packages (from accelerate) (0.4.2)\n",
            "Requirement already satisfied: filelock in /usr/local/lib/python3.10/dist-packages (from torch>=1.10.0->accelerate) (3.13.1)\n",
            "Requirement already satisfied: typing-extensions>=4.8.0 in /usr/local/lib/python3.10/dist-packages (from torch>=1.10.0->accelerate) (4.10.0)\n",
            "Requirement already satisfied: sympy in /usr/local/lib/python3.10/dist-packages (from torch>=1.10.0->accelerate) (1.12)\n",
            "Requirement already satisfied: networkx in /usr/local/lib/python3.10/dist-packages (from torch>=1.10.0->accelerate) (3.2.1)\n",
            "Requirement already satisfied: jinja2 in /usr/local/lib/python3.10/dist-packages (from torch>=1.10.0->accelerate) (3.1.3)\n",
            "Requirement already satisfied: fsspec in /usr/local/lib/python3.10/dist-packages (from torch>=1.10.0->accelerate) (2023.6.0)\n",
            "Requirement already satisfied: nvidia-cuda-nvrtc-cu12==12.1.105 in /usr/local/lib/python3.10/dist-packages (from torch>=1.10.0->accelerate) (12.1.105)\n",
            "Requirement already satisfied: nvidia-cuda-runtime-cu12==12.1.105 in /usr/local/lib/python3.10/dist-packages (from torch>=1.10.0->accelerate) (12.1.105)\n",
            "Requirement already satisfied: nvidia-cuda-cupti-cu12==12.1.105 in /usr/local/lib/python3.10/dist-packages (from torch>=1.10.0->accelerate) (12.1.105)\n",
            "Requirement already satisfied: nvidia-cudnn-cu12==8.9.2.26 in /usr/local/lib/python3.10/dist-packages (from torch>=1.10.0->accelerate) (8.9.2.26)\n",
            "Requirement already satisfied: nvidia-cublas-cu12==12.1.3.1 in /usr/local/lib/python3.10/dist-packages (from torch>=1.10.0->accelerate) (12.1.3.1)\n",
            "Requirement already satisfied: nvidia-cufft-cu12==11.0.2.54 in /usr/local/lib/python3.10/dist-packages (from torch>=1.10.0->accelerate) (11.0.2.54)\n",
            "Requirement already satisfied: nvidia-curand-cu12==10.3.2.106 in /usr/local/lib/python3.10/dist-packages (from torch>=1.10.0->accelerate) (10.3.2.106)\n",
            "Requirement already satisfied: nvidia-cusolver-cu12==11.4.5.107 in /usr/local/lib/python3.10/dist-packages (from torch>=1.10.0->accelerate) (11.4.5.107)\n",
            "Requirement already satisfied: nvidia-cusparse-cu12==12.1.0.106 in /usr/local/lib/python3.10/dist-packages (from torch>=1.10.0->accelerate) (12.1.0.106)\n",
            "Requirement already satisfied: nvidia-nccl-cu12==2.19.3 in /usr/local/lib/python3.10/dist-packages (from torch>=1.10.0->accelerate) (2.19.3)\n",
            "Requirement already satisfied: nvidia-nvtx-cu12==12.1.105 in /usr/local/lib/python3.10/dist-packages (from torch>=1.10.0->accelerate) (12.1.105)\n",
            "Requirement already satisfied: triton==2.2.0 in /usr/local/lib/python3.10/dist-packages (from torch>=1.10.0->accelerate) (2.2.0)\n",
            "Requirement already satisfied: nvidia-nvjitlink-cu12 in /usr/local/lib/python3.10/dist-packages (from nvidia-cusolver-cu12==11.4.5.107->torch>=1.10.0->accelerate) (12.4.99)\n",
            "Requirement already satisfied: requests in /usr/local/lib/python3.10/dist-packages (from huggingface-hub->accelerate) (2.31.0)\n",
            "Requirement already satisfied: tqdm>=4.42.1 in /usr/local/lib/python3.10/dist-packages (from huggingface-hub->accelerate) (4.66.2)\n",
            "Requirement already satisfied: MarkupSafe>=2.0 in /usr/local/lib/python3.10/dist-packages (from jinja2->torch>=1.10.0->accelerate) (2.1.5)\n",
            "Requirement already satisfied: charset-normalizer<4,>=2 in /usr/local/lib/python3.10/dist-packages (from requests->huggingface-hub->accelerate) (3.3.2)\n",
            "Requirement already satisfied: idna<4,>=2.5 in /usr/local/lib/python3.10/dist-packages (from requests->huggingface-hub->accelerate) (3.6)\n",
            "Requirement already satisfied: urllib3<3,>=1.21.1 in /usr/local/lib/python3.10/dist-packages (from requests->huggingface-hub->accelerate) (2.0.7)\n",
            "Requirement already satisfied: certifi>=2017.4.17 in /usr/local/lib/python3.10/dist-packages (from requests->huggingface-hub->accelerate) (2024.2.2)\n",
            "Requirement already satisfied: mpmath>=0.19 in /usr/local/lib/python3.10/dist-packages (from sympy->torch>=1.10.0->accelerate) (1.3.0)\n",
            "Requirement already satisfied: tyro in /usr/local/lib/python3.10/dist-packages (0.7.3)\n",
            "Requirement already satisfied: docstring-parser>=0.14.1 in /usr/local/lib/python3.10/dist-packages (from tyro) (0.16)\n",
            "Requirement already satisfied: typing-extensions>=4.3.0 in /usr/local/lib/python3.10/dist-packages (from tyro) (4.10.0)\n",
            "Requirement already satisfied: rich>=11.1.0 in /usr/local/lib/python3.10/dist-packages (from tyro) (13.7.1)\n",
            "Requirement already satisfied: shtab>=1.5.6 in /usr/local/lib/python3.10/dist-packages (from tyro) (1.7.1)\n",
            "Requirement already satisfied: markdown-it-py>=2.2.0 in /usr/local/lib/python3.10/dist-packages (from rich>=11.1.0->tyro) (3.0.0)\n",
            "Requirement already satisfied: pygments<3.0.0,>=2.13.0 in /usr/local/lib/python3.10/dist-packages (from rich>=11.1.0->tyro) (2.16.1)\n",
            "Requirement already satisfied: mdurl~=0.1 in /usr/local/lib/python3.10/dist-packages (from markdown-it-py>=2.2.0->rich>=11.1.0->tyro) (0.1.2)\n",
            "Requirement already satisfied: nltk in /usr/local/lib/python3.10/dist-packages (3.8.1)\n",
            "Requirement already satisfied: click in /usr/local/lib/python3.10/dist-packages (from nltk) (8.1.7)\n",
            "Requirement already satisfied: joblib in /usr/local/lib/python3.10/dist-packages (from nltk) (1.3.2)\n",
            "Requirement already satisfied: regex>=2021.8.3 in /usr/local/lib/python3.10/dist-packages (from nltk) (2023.12.25)\n",
            "Requirement already satisfied: tqdm in /usr/local/lib/python3.10/dist-packages (from nltk) (4.66.2)\n"
          ]
        }
      ],
      "source": [
        "\n",
        "!pip install transformers\n",
        "!pip install wandb\n",
        "!pip install trl\n",
        "!pip install pandas\n",
        "!pip install datasets\n",
        "!pip install accelerate\n",
        "!pip install tyro\n",
        "!pip install nltk -U\n"
      ]
    },
    {
      "cell_type": "code",
      "execution_count": 3,
      "metadata": {
        "id": "EpP0ytZkWHNW"
      },
      "outputs": [],
      "source": [
        "\n",
        "import torch\n",
        "from tqdm import tqdm\n",
        "import pandas as pd\n",
        "import wandb\n",
        "import os\n",
        "\n",
        "tqdm.pandas()\n",
        "\n",
        "from transformers import pipeline, AutoTokenizer\n",
        "from datasets import load_dataset\n",
        "\n",
        "from trl import PPOTrainer, PPOConfig, AutoModelForCausalLMWithValueHead\n",
        "from trl.core import LengthSampler\n"
      ]
    },
    {
      "cell_type": "code",
      "execution_count": 4,
      "metadata": {
        "id": "IpGpKtsAWHNW"
      },
      "outputs": [],
      "source": [
        "\n",
        "config = PPOConfig(\n",
        "    model_name    = \"gpt2\",\n",
        "    learning_rate = 1.41e-5,\n",
        "    ## log_with      = \"wandb\",\n",
        ")\n",
        "\n",
        "sent_kwargs = {\n",
        "         \"return_all_scores\": True,\n",
        "         \"function_to_apply\": \"none\",\n",
        "         \"batch_size\": 16\n",
        "}\n"
      ]
    },
    {
      "cell_type": "code",
      "execution_count": 5,
      "metadata": {
        "id": "YDHT8iaAWHNW"
      },
      "outputs": [],
      "source": [
        "\n",
        "## wandb.init()\n",
        "\n",
        "wandb.init(mode=\"disabled\")\n",
        "os.environ['WANDB_DISABLED'] = 'true'\n"
      ]
    },
    {
      "cell_type": "markdown",
      "metadata": {
        "id": "GL41Ns1RWHNX"
      },
      "source": [
        "\n",
        "## Load IMDB dataset\n",
        "\n",
        "The IMDB dataset contains 50k movie review annotated with \"positive\"/\"negative\" feedback indicating the sentiment. We load the IMDB dataset into a DataFrame and filter for comments that are at least 200 characters. Then we tokenize each text and cut it to random size with the LengthSampler.\n"
      ]
    },
    {
      "cell_type": "markdown",
      "metadata": {
        "id": "Z962G4XtWHNY"
      },
      "source": [
        "\n",
        "## Visualize details of dataset\n"
      ]
    },
    {
      "cell_type": "code",
      "execution_count": 6,
      "metadata": {
        "id": "9q932B4hWHNY"
      },
      "outputs": [],
      "source": [
        "\n",
        "dataset_name=\"go_emotions\"\n"
      ]
    },
    {
      "cell_type": "code",
      "execution_count": 7,
      "metadata": {
        "colab": {
          "base_uri": "https://localhost:8080/"
        },
        "id": "jDLrxt5uWHNZ",
        "outputId": "872510f5-3830-4544-806e-162f9fc4fa3c"
      },
      "outputs": [
        {
          "output_type": "stream",
          "name": "stderr",
          "text": [
            "/usr/local/lib/python3.10/dist-packages/huggingface_hub/utils/_token.py:88: UserWarning: \n",
            "The secret `HF_TOKEN` does not exist in your Colab secrets.\n",
            "To authenticate with the Hugging Face Hub, create a token in your settings tab (https://huggingface.co/settings/tokens), set it as secret in your Google Colab and restart your session.\n",
            "You will be able to reuse this secret in all of your notebooks.\n",
            "Please note that authentication is recommended but still optional to access public models or datasets.\n",
            "  warnings.warn(\n"
          ]
        }
      ],
      "source": [
        "\n",
        "ds = load_dataset(dataset_name, split=\"train\")\n"
      ]
    },
    {
      "cell_type": "code",
      "execution_count": 8,
      "metadata": {
        "colab": {
          "base_uri": "https://localhost:8080/"
        },
        "id": "-H4FNEx3WHNZ",
        "outputId": "9903dd58-8e21-4c06-cbfc-904d38c97c10"
      },
      "outputs": [
        {
          "output_type": "execute_result",
          "data": {
            "text/plain": [
              "Dataset({\n",
              "    features: ['text', 'labels', 'id'],\n",
              "    num_rows: 43410\n",
              "})"
            ]
          },
          "metadata": {},
          "execution_count": 8
        }
      ],
      "source": [
        "\n",
        "ds\n"
      ]
    },
    {
      "cell_type": "code",
      "execution_count": 9,
      "metadata": {
        "colab": {
          "base_uri": "https://localhost:8080/"
        },
        "id": "Gfcf0alBWHNa",
        "outputId": "df1cf187-4d81-417c-aa52-960d1408c2f8"
      },
      "outputs": [
        {
          "output_type": "execute_result",
          "data": {
            "text/plain": [
              "{'text': ['Shit, I guess I accidentally bought a Pay-Per-View boxing match',\n",
              "  'Thank you friend',\n",
              "  'Fucking coward.'],\n",
              " 'labels': [[3, 12], [15], [2]],\n",
              " 'id': ['edivtm3', 'eeqd04y', 'edk0z9k']}"
            ]
          },
          "metadata": {},
          "execution_count": 9
        }
      ],
      "source": [
        "\n",
        "ds[15:18]\n"
      ]
    },
    {
      "cell_type": "code",
      "execution_count": 10,
      "metadata": {
        "id": "ckTJon-xWHNa"
      },
      "outputs": [],
      "source": [
        "\n",
        "from datasets import ClassLabel\n",
        "import random\n",
        "import pandas as pd\n",
        "from IPython.display import display, HTML\n"
      ]
    },
    {
      "cell_type": "code",
      "execution_count": 11,
      "metadata": {
        "id": "1Gk-pJYmWHNb"
      },
      "outputs": [],
      "source": [
        "\n",
        "def show_random_elements(dataset, num_examples=20):\n",
        "    assert num_examples <= len(dataset), \"Can't pick more elements than there are in the dataset.\"\n",
        "\n",
        "    picks = []\n",
        "\n",
        "    for _ in range( num_examples ):\n",
        "\n",
        "        pick = random.randint(0, len(dataset)-1)\n",
        "        while pick in picks:\n",
        "            pick = random.randint(0, len(dataset)-1)\n",
        "        picks.append(pick)\n",
        "\n",
        "    df = pd.DataFrame( dataset[picks] )        ## indexing 10 picks\n",
        "\n",
        "    print(df)\n",
        "    print(dataset.features.items())\n",
        "\n",
        "    for column, typ in dataset.features.items():\n",
        "        print(column)\n",
        "        print(typ)\n",
        "        print(ClassLabel)\n",
        "        ## The isinstance() function returns True if the specified object\n",
        "        ## is of the specified type, otherwise False\n",
        "        if isinstance(typ, ClassLabel):\n",
        "            print(\"Hello\")\n",
        "            df[column] = df[column].transform(lambda i: typ.names[i])\n",
        "            ## print(typ.names[i])\n",
        "\n",
        "    display(HTML(df.to_html()))\n"
      ]
    },
    {
      "cell_type": "code",
      "execution_count": 12,
      "metadata": {
        "colab": {
          "base_uri": "https://localhost:8080/",
          "height": 1000
        },
        "id": "C5hmzakCWHNb",
        "outputId": "70a6cb4f-bc64-4e19-bece-f95b4e6cac32"
      },
      "outputs": [
        {
          "output_type": "stream",
          "name": "stdout",
          "text": [
            "                                                 text    labels       id\n",
            "0   Does it contain like 5 members like the real o...       [1]  ednshdu\n",
            "1   You are alone and touching her...that is a gla...      [27]  eera0wb\n",
            "2   except for call your mother. The undisputed be...      [27]  ee5fldn\n",
            "3   I don’t think I’ve ever seen that many downvotes.       [9]  ee7i3ux\n",
            "4                 What if your only job was recovery?       [7]  ed0swqf\n",
            "5                           Hijab, keeps my ears warm      [27]  eeostkh\n",
            "6   Big words coming from a guy who only talks abo...      [27]  eewicfv\n",
            "7               How cute, the JV players are fighting       [0]  ee2hi7v\n",
            "8   I swear of all the people that dislike artifac...      [11]  eer9s5f\n",
            "9   True, but it all started under [NAME] and will...      [11]  eeng9p9\n",
            "10                               hey uhhhh I love you      [18]  ednzjb6\n",
            "11                 Haha \"like a snake on a toddler\".        [1]  edtsjzy\n",
            "12                        This literally made my day!      [17]  eejbqjt\n",
            "13       Search your feelings, you know it to be true       [4]  ee38vkq\n",
            "14  Wait, they banned his mother from travelling t...    [6, 7]  efcdk9h\n",
            "15                You got a license for that sarcasm?       [7]  efdtff8\n",
            "16  Well the post wasn’t anything new. We’ve had t...      [27]  eeajopx\n",
            "17  What are the sequels called? Loved Infernal Af...      [18]  eejz5rs\n",
            "18  Besides, Canada is extremely choosy about the ...   [5, 27]  edg43q3\n",
            "19                            Horrible waste of time.  [11, 14]  edvxx8t\n",
            "dict_items([('text', Value(dtype='string', id=None)), ('labels', Sequence(feature=ClassLabel(names=['admiration', 'amusement', 'anger', 'annoyance', 'approval', 'caring', 'confusion', 'curiosity', 'desire', 'disappointment', 'disapproval', 'disgust', 'embarrassment', 'excitement', 'fear', 'gratitude', 'grief', 'joy', 'love', 'nervousness', 'optimism', 'pride', 'realization', 'relief', 'remorse', 'sadness', 'surprise', 'neutral'], id=None), length=-1, id=None)), ('id', Value(dtype='string', id=None))])\n",
            "text\n",
            "Value(dtype='string', id=None)\n",
            "<class 'datasets.features.features.ClassLabel'>\n",
            "labels\n",
            "Sequence(feature=ClassLabel(names=['admiration', 'amusement', 'anger', 'annoyance', 'approval', 'caring', 'confusion', 'curiosity', 'desire', 'disappointment', 'disapproval', 'disgust', 'embarrassment', 'excitement', 'fear', 'gratitude', 'grief', 'joy', 'love', 'nervousness', 'optimism', 'pride', 'realization', 'relief', 'remorse', 'sadness', 'surprise', 'neutral'], id=None), length=-1, id=None)\n",
            "<class 'datasets.features.features.ClassLabel'>\n",
            "id\n",
            "Value(dtype='string', id=None)\n",
            "<class 'datasets.features.features.ClassLabel'>\n"
          ]
        },
        {
          "output_type": "display_data",
          "data": {
            "text/plain": [
              "<IPython.core.display.HTML object>"
            ],
            "text/html": [
              "<table border=\"1\" class=\"dataframe\">\n",
              "  <thead>\n",
              "    <tr style=\"text-align: right;\">\n",
              "      <th></th>\n",
              "      <th>text</th>\n",
              "      <th>labels</th>\n",
              "      <th>id</th>\n",
              "    </tr>\n",
              "  </thead>\n",
              "  <tbody>\n",
              "    <tr>\n",
              "      <th>0</th>\n",
              "      <td>Does it contain like 5 members like the real one? lol.</td>\n",
              "      <td>[1]</td>\n",
              "      <td>ednshdu</td>\n",
              "    </tr>\n",
              "    <tr>\n",
              "      <th>1</th>\n",
              "      <td>You are alone and touching her...that is a glaring sign!</td>\n",
              "      <td>[27]</td>\n",
              "      <td>eera0wb</td>\n",
              "    </tr>\n",
              "    <tr>\n",
              "      <th>2</th>\n",
              "      <td>except for call your mother. The undisputed best bagels in dc.</td>\n",
              "      <td>[27]</td>\n",
              "      <td>ee5fldn</td>\n",
              "    </tr>\n",
              "    <tr>\n",
              "      <th>3</th>\n",
              "      <td>I don’t think I’ve ever seen that many downvotes.</td>\n",
              "      <td>[9]</td>\n",
              "      <td>ee7i3ux</td>\n",
              "    </tr>\n",
              "    <tr>\n",
              "      <th>4</th>\n",
              "      <td>What if your only job was recovery?</td>\n",
              "      <td>[7]</td>\n",
              "      <td>ed0swqf</td>\n",
              "    </tr>\n",
              "    <tr>\n",
              "      <th>5</th>\n",
              "      <td>Hijab, keeps my ears warm</td>\n",
              "      <td>[27]</td>\n",
              "      <td>eeostkh</td>\n",
              "    </tr>\n",
              "    <tr>\n",
              "      <th>6</th>\n",
              "      <td>Big words coming from a guy who only talks about [NAME]</td>\n",
              "      <td>[27]</td>\n",
              "      <td>eewicfv</td>\n",
              "    </tr>\n",
              "    <tr>\n",
              "      <th>7</th>\n",
              "      <td>How cute, the JV players are fighting</td>\n",
              "      <td>[0]</td>\n",
              "      <td>ee2hi7v</td>\n",
              "    </tr>\n",
              "    <tr>\n",
              "      <th>8</th>\n",
              "      <td>I swear of all the people that dislike artifact, the gwent crew is by far the most obnoxious.</td>\n",
              "      <td>[11]</td>\n",
              "      <td>eer9s5f</td>\n",
              "    </tr>\n",
              "    <tr>\n",
              "      <th>9</th>\n",
              "      <td>True, but it all started under [NAME] and will get even worse if Labour manages to get into government.</td>\n",
              "      <td>[11]</td>\n",
              "      <td>eeng9p9</td>\n",
              "    </tr>\n",
              "    <tr>\n",
              "      <th>10</th>\n",
              "      <td>hey uhhhh I love you</td>\n",
              "      <td>[18]</td>\n",
              "      <td>ednzjb6</td>\n",
              "    </tr>\n",
              "    <tr>\n",
              "      <th>11</th>\n",
              "      <td>Haha \"like a snake on a toddler\".</td>\n",
              "      <td>[1]</td>\n",
              "      <td>edtsjzy</td>\n",
              "    </tr>\n",
              "    <tr>\n",
              "      <th>12</th>\n",
              "      <td>This literally made my day!</td>\n",
              "      <td>[17]</td>\n",
              "      <td>eejbqjt</td>\n",
              "    </tr>\n",
              "    <tr>\n",
              "      <th>13</th>\n",
              "      <td>Search your feelings, you know it to be true</td>\n",
              "      <td>[4]</td>\n",
              "      <td>ee38vkq</td>\n",
              "    </tr>\n",
              "    <tr>\n",
              "      <th>14</th>\n",
              "      <td>Wait, they banned his mother from travelling too?</td>\n",
              "      <td>[6, 7]</td>\n",
              "      <td>efcdk9h</td>\n",
              "    </tr>\n",
              "    <tr>\n",
              "      <th>15</th>\n",
              "      <td>You got a license for that sarcasm?</td>\n",
              "      <td>[7]</td>\n",
              "      <td>efdtff8</td>\n",
              "    </tr>\n",
              "    <tr>\n",
              "      <th>16</th>\n",
              "      <td>Well the post wasn’t anything new. We’ve had these posts for pretty much all offseason.</td>\n",
              "      <td>[27]</td>\n",
              "      <td>eeajopx</td>\n",
              "    </tr>\n",
              "    <tr>\n",
              "      <th>17</th>\n",
              "      <td>What are the sequels called? Loved Infernal Affairs</td>\n",
              "      <td>[18]</td>\n",
              "      <td>eejz5rs</td>\n",
              "    </tr>\n",
              "    <tr>\n",
              "      <th>18</th>\n",
              "      <td>Besides, Canada is extremely choosy about the kind of people they allow in.</td>\n",
              "      <td>[5, 27]</td>\n",
              "      <td>edg43q3</td>\n",
              "    </tr>\n",
              "    <tr>\n",
              "      <th>19</th>\n",
              "      <td>Horrible waste of time.</td>\n",
              "      <td>[11, 14]</td>\n",
              "      <td>edvxx8t</td>\n",
              "    </tr>\n",
              "  </tbody>\n",
              "</table>"
            ]
          },
          "metadata": {}
        }
      ],
      "source": [
        "\n",
        "show_random_elements(ds)\n"
      ]
    },
    {
      "cell_type": "code",
      "execution_count": 13,
      "metadata": {
        "id": "yzKdrgoZWHNb"
      },
      "outputs": [],
      "source": [
        "\n",
        "ds = ds.rename_columns({\"text\": \"review\"})\n",
        "\n"
      ]
    },
    {
      "cell_type": "code",
      "execution_count": 14,
      "metadata": {
        "colab": {
          "base_uri": "https://localhost:8080/"
        },
        "id": "XJyRDPKiWHNb",
        "outputId": "01879826-bacf-469d-b2cf-dab471825acd"
      },
      "outputs": [
        {
          "output_type": "execute_result",
          "data": {
            "text/plain": [
              "Dataset({\n",
              "    features: ['review', 'labels', 'id'],\n",
              "    num_rows: 43410\n",
              "})"
            ]
          },
          "metadata": {},
          "execution_count": 14
        }
      ],
      "source": [
        "\n",
        "ds\n"
      ]
    },
    {
      "cell_type": "code",
      "execution_count": 15,
      "metadata": {
        "id": "8CyRgE5IWHNc"
      },
      "outputs": [],
      "source": [
        "ds = ds.filter(lambda x: len(x[\"review\"]) > 200, batched=False)"
      ]
    },
    {
      "cell_type": "code",
      "execution_count": 16,
      "metadata": {
        "colab": {
          "base_uri": "https://localhost:8080/"
        },
        "id": "iI_joI5PWHNc",
        "outputId": "9c933e89-87ba-4935-d56d-c8f9dcb06392"
      },
      "outputs": [
        {
          "output_type": "execute_result",
          "data": {
            "text/plain": [
              "Dataset({\n",
              "    features: ['review', 'labels', 'id'],\n",
              "    num_rows: 5\n",
              "})"
            ]
          },
          "metadata": {},
          "execution_count": 16
        }
      ],
      "source": [
        "ds"
      ]
    },
    {
      "cell_type": "code",
      "execution_count": 17,
      "metadata": {
        "id": "YYC90aR_WHNc"
      },
      "outputs": [],
      "source": [
        "\n",
        "tokenizer           = AutoTokenizer.from_pretrained(config.model_name)\n",
        "tokenizer.pad_token = tokenizer.eos_token\n"
      ]
    },
    {
      "cell_type": "code",
      "execution_count": 18,
      "metadata": {
        "colab": {
          "base_uri": "https://localhost:8080/"
        },
        "id": "3XES4mrWWHNc",
        "outputId": "249d5da5-7b63-428a-ee95-fe310465f69d"
      },
      "outputs": [
        {
          "output_type": "execute_result",
          "data": {
            "text/plain": [
              "Dataset({\n",
              "    features: ['review', 'labels', 'id', 'input_ids', 'query'],\n",
              "    num_rows: 5\n",
              "})"
            ]
          },
          "metadata": {},
          "execution_count": 18
        }
      ],
      "source": [
        "\n",
        "def tokenize( sample ):\n",
        "    sample[\"input_ids\"] = tokenizer.encode( sample[\"review\"]    )[: 20]\n",
        "    sample[\"query\"]     = tokenizer.decode( sample[\"input_ids\"] )\n",
        "    return sample\n",
        "\n",
        "\n",
        "ds = ds.map(tokenize, batched=False)\n",
        "ds\n"
      ]
    },
    {
      "cell_type": "code",
      "execution_count": 19,
      "metadata": {
        "colab": {
          "base_uri": "https://localhost:8080/"
        },
        "id": "LahT-3rAWHNd",
        "outputId": "f99247ce-cad0-4fed-9e41-280d7ced02c0"
      },
      "outputs": [
        {
          "output_type": "execute_result",
          "data": {
            "text/plain": [
              "{'review': [], 'labels': [], 'id': [], 'input_ids': [], 'query': []}"
            ]
          },
          "metadata": {},
          "execution_count": 19
        }
      ],
      "source": [
        "\n",
        "ds[15:18]\n"
      ]
    },
    {
      "cell_type": "markdown",
      "metadata": {
        "id": "OeaBwDWnWHNd"
      },
      "source": [
        "\n",
        "\n",
        "    \n",
        "## Now this for actual RLHF  \n",
        "\n"
      ]
    },
    {
      "cell_type": "code",
      "execution_count": 20,
      "metadata": {
        "id": "pK2AfJJtWHNd"
      },
      "outputs": [],
      "source": [
        "\n",
        "def build_dataset(\n",
        "         config,\n",
        "         dataset_name=\"go_emotions\",\n",
        "         input_min_text_length=2,\n",
        "         input_max_text_length=8\n",
        "):\n",
        "    \"\"\"\n",
        "    Build dataset for training. This builds the dataset from `load_dataset`, one should\n",
        "    customize this function to train the model on its own dataset.\n",
        "\n",
        "    Args:\n",
        "        dataset_name (`str`):\n",
        "            The name of the dataset to be loaded.\n",
        "\n",
        "    Returns:\n",
        "        dataloader (`torch.utils.data.DataLoader`):\n",
        "            The dataloader for the dataset.\n",
        "    \"\"\"\n",
        "    tokenizer           = AutoTokenizer.from_pretrained(config.model_name)\n",
        "    tokenizer.pad_token = tokenizer.eos_token\n",
        "\n",
        "    # load imdb with datasets\n",
        "\n",
        "    ds = load_dataset(dataset_name, split=\"train\")\n",
        "\n",
        "    ds = ds.rename_columns({\"text\": \"review\"})\n",
        "    # ds = ds.filter(lambda x: len(x[\"review\"]) > 200, batched=False)\n",
        "\n",
        "    input_size = LengthSampler(input_min_text_length, input_max_text_length)\n",
        "\n",
        "    def tokenize(sample):\n",
        "        sample[\"input_ids\"] = tokenizer.encode( sample[\"review\"]    )[: input_size()]\n",
        "        sample[\"query\"]     = tokenizer.decode( sample[\"input_ids\"] )\n",
        "        return sample\n",
        "\n",
        "    ds = ds.map(tokenize, batched=False)\n",
        "    ds.set_format(type=\"torch\")\n",
        "    return ds\n"
      ]
    },
    {
      "cell_type": "code",
      "execution_count": 21,
      "metadata": {
        "id": "TUnNG7EcWHNd"
      },
      "outputs": [],
      "source": [
        "\n",
        "dataset = build_dataset(config)\n"
      ]
    },
    {
      "cell_type": "code",
      "execution_count": 22,
      "metadata": {
        "id": "shZpJ_F0WHNe"
      },
      "outputs": [],
      "source": [
        "\n",
        "def collator(data):\n",
        "    return dict((key, [d[key] for d in data]) for key in data[0])\n"
      ]
    },
    {
      "cell_type": "markdown",
      "metadata": {
        "id": "-Fx9hW4CWHNe"
      },
      "source": [
        "\n",
        "## Load pre-trained GPT2 language models\n",
        "We load the GPT2 model with a value head and the tokenizer. We load the model twice; the first model is optimized while the second model serves as a reference to calculate the KL-divergence from the starting point. This serves as an additional reward signal in the PPO training to make sure the optimized model does not deviate too much from the original language model.\n"
      ]
    },
    {
      "cell_type": "code",
      "execution_count": 23,
      "metadata": {
        "id": "Gv0-lUQMWHNe"
      },
      "outputs": [],
      "source": [
        "\n",
        "model     = AutoModelForCausalLMWithValueHead.from_pretrained(config.model_name)\n",
        "ref_model = AutoModelForCausalLMWithValueHead.from_pretrained(config.model_name)\n",
        "\n",
        "tokenizer = AutoTokenizer.from_pretrained(config.model_name)\n",
        "\n",
        "tokenizer.pad_token = tokenizer.eos_token\n"
      ]
    },
    {
      "cell_type": "code",
      "execution_count": 24,
      "metadata": {
        "id": "ZH2DhsZBWHNe"
      },
      "outputs": [],
      "source": [
        "\n",
        "ppo_trainer = PPOTrainer(\n",
        "                 config,\n",
        "                 model,\n",
        "                 ref_model,\n",
        "                 tokenizer,\n",
        "                 dataset=dataset,\n",
        "                 data_collator=collator\n",
        ")\n"
      ]
    },
    {
      "cell_type": "markdown",
      "metadata": {
        "id": "LvdB1Q08WHNe"
      },
      "source": [
        "\n",
        "## Load BERT classifier (Reward Function)\n",
        "\n",
        "We load a BERT classifier fine-tuned on the IMDB dataset.\n"
      ]
    },
    {
      "cell_type": "code",
      "execution_count": 25,
      "metadata": {
        "colab": {
          "base_uri": "https://localhost:8080/"
        },
        "id": "5YklDyFtWHNf",
        "outputId": "939fb894-65c9-4bbc-e6bc-dbd094e5a60b"
      },
      "outputs": [
        {
          "output_type": "execute_result",
          "data": {
            "text/plain": [
              "device(type='cuda')"
            ]
          },
          "metadata": {},
          "execution_count": 25
        }
      ],
      "source": [
        "\n",
        "device = ppo_trainer.accelerator.device\n",
        "device\n"
      ]
    },
    {
      "cell_type": "code",
      "execution_count": 26,
      "metadata": {
        "colab": {
          "base_uri": "https://localhost:8080/"
        },
        "id": "MGSXZMnSWHNf",
        "outputId": "09829ffa-09df-4fc5-87d2-2d6a7a6021e0"
      },
      "outputs": [
        {
          "output_type": "execute_result",
          "data": {
            "text/plain": [
              "0"
            ]
          },
          "metadata": {},
          "execution_count": 26
        }
      ],
      "source": [
        "\n",
        "if ppo_trainer.accelerator.num_processes == 1:\n",
        "    device = 0 if torch.cuda.is_available() else \"cpu\"  # to avoid a `pipeline` bug\n",
        "\n",
        "device"
      ]
    },
    {
      "cell_type": "code",
      "execution_count": 27,
      "metadata": {
        "id": "DIqZI_tLWHNf"
      },
      "outputs": [],
      "source": [
        "\n",
        "sentiment_pipe = pipeline(\"sentiment-analysis\", model=\"SamLowe/roberta-base-go_emotions\", device=device)\n"
      ]
    },
    {
      "cell_type": "markdown",
      "metadata": {
        "id": "Xc2TzGEFWHNf"
      },
      "source": [
        "\n",
        "The model outputs are the logits for the negative and positive class. We will use the logits for positive class as a reward signal for the language model.\n"
      ]
    },
    {
      "cell_type": "code",
      "execution_count": 28,
      "metadata": {
        "colab": {
          "base_uri": "https://localhost:8080/"
        },
        "id": "Sy5LoZ9OWHNf",
        "outputId": "bd46d354-1626-4241-e8f5-67db2af3219b"
      },
      "outputs": [
        {
          "output_type": "stream",
          "name": "stderr",
          "text": [
            "/usr/local/lib/python3.10/dist-packages/transformers/pipelines/text_classification.py:104: UserWarning: `return_all_scores` is now deprecated,  if want a similar functionality use `top_k=None` instead of `return_all_scores=True` or `top_k=1` instead of `return_all_scores=False`.\n",
            "  warnings.warn(\n"
          ]
        },
        {
          "output_type": "execute_result",
          "data": {
            "text/plain": [
              "[[{'label': 'admiration', 'score': -4.414551258087158},\n",
              "  {'label': 'amusement', 'score': -5.570497512817383},\n",
              "  {'label': 'anger', 'score': -2.9189398288726807},\n",
              "  {'label': 'annoyance', 'score': -1.3585652112960815},\n",
              "  {'label': 'approval', 'score': -5.215704917907715},\n",
              "  {'label': 'caring', 'score': -6.811775207519531},\n",
              "  {'label': 'confusion', 'score': -4.697816848754883},\n",
              "  {'label': 'curiosity', 'score': -5.354123592376709},\n",
              "  {'label': 'desire', 'score': -5.924103260040283},\n",
              "  {'label': 'disappointment', 'score': -0.5507287383079529},\n",
              "  {'label': 'disapproval', 'score': -2.1392874717712402},\n",
              "  {'label': 'disgust', 'score': -1.1301006078720093},\n",
              "  {'label': 'embarrassment', 'score': -4.194786071777344},\n",
              "  {'label': 'excitement', 'score': -6.156727313995361},\n",
              "  {'label': 'fear', 'score': -4.558877944946289},\n",
              "  {'label': 'gratitude', 'score': -6.890646457672119},\n",
              "  {'label': 'grief', 'score': -6.52256965637207},\n",
              "  {'label': 'joy', 'score': -6.479082107543945},\n",
              "  {'label': 'love', 'score': -5.418763637542725},\n",
              "  {'label': 'nervousness', 'score': -5.436463356018066},\n",
              "  {'label': 'optimism', 'score': -6.161362171173096},\n",
              "  {'label': 'pride', 'score': -7.59342098236084},\n",
              "  {'label': 'realization', 'score': -4.919163703918457},\n",
              "  {'label': 'relief', 'score': -7.264664173126221},\n",
              "  {'label': 'remorse', 'score': -6.438612937927246},\n",
              "  {'label': 'sadness', 'score': -2.833263874053955},\n",
              "  {'label': 'surprise', 'score': -5.564531326293945},\n",
              "  {'label': 'neutral', 'score': -4.346599578857422}]]"
            ]
          },
          "metadata": {},
          "execution_count": 28
        }
      ],
      "source": [
        "\n",
        "text = \"this movie was really bad!!\"\n",
        "\n",
        "sentiment_pipe(text, **sent_kwargs)\n"
      ]
    },
    {
      "cell_type": "code",
      "execution_count": 29,
      "metadata": {
        "colab": {
          "base_uri": "https://localhost:8080/"
        },
        "id": "Jgwe09kvWHNg",
        "outputId": "9df76b24-acec-4af9-f717-c2901f5ae330"
      },
      "outputs": [
        {
          "output_type": "execute_result",
          "data": {
            "text/plain": [
              "[[{'label': 'admiration', 'score': 3.072791576385498},\n",
              "  {'label': 'amusement', 'score': -5.656264305114746},\n",
              "  {'label': 'anger', 'score': -6.556077480316162},\n",
              "  {'label': 'annoyance', 'score': -5.903409957885742},\n",
              "  {'label': 'approval', 'score': -3.417325258255005},\n",
              "  {'label': 'caring', 'score': -6.516039848327637},\n",
              "  {'label': 'confusion', 'score': -6.159371852874756},\n",
              "  {'label': 'curiosity', 'score': -5.4741902351379395},\n",
              "  {'label': 'desire', 'score': -6.721272945404053},\n",
              "  {'label': 'disappointment', 'score': -6.090070724487305},\n",
              "  {'label': 'disapproval', 'score': -5.804598331451416},\n",
              "  {'label': 'disgust', 'score': -7.164876461029053},\n",
              "  {'label': 'embarrassment', 'score': -8.019838333129883},\n",
              "  {'label': 'excitement', 'score': -4.54598331451416},\n",
              "  {'label': 'fear', 'score': -7.5312018394470215},\n",
              "  {'label': 'gratitude', 'score': -5.093955993652344},\n",
              "  {'label': 'grief', 'score': -7.936448574066162},\n",
              "  {'label': 'joy', 'score': -4.590585708618164},\n",
              "  {'label': 'love', 'score': -5.408088684082031},\n",
              "  {'label': 'nervousness', 'score': -8.272615432739258},\n",
              "  {'label': 'optimism', 'score': -5.475405216217041},\n",
              "  {'label': 'pride', 'score': -5.849045753479004},\n",
              "  {'label': 'realization', 'score': -5.4055962562561035},\n",
              "  {'label': 'relief', 'score': -7.250349521636963},\n",
              "  {'label': 'remorse', 'score': -8.223797798156738},\n",
              "  {'label': 'sadness', 'score': -6.441188335418701},\n",
              "  {'label': 'surprise', 'score': -5.679222106933594},\n",
              "  {'label': 'neutral', 'score': -4.524555683135986}]]"
            ]
          },
          "metadata": {},
          "execution_count": 29
        }
      ],
      "source": [
        "\n",
        "text = \"this movie was really good!!\"\n",
        "sentiment_pipe(text, **sent_kwargs)\n"
      ]
    },
    {
      "cell_type": "markdown",
      "metadata": {
        "id": "F-dSLZc4WHNg"
      },
      "source": [
        "\n",
        "\n",
        "## Generation settings\n",
        "\n",
        "For the response generation we just use sampling and make sure top-k and nucleus sampling are turned off as well as a minimal length.\n"
      ]
    },
    {
      "cell_type": "code",
      "execution_count": 30,
      "metadata": {
        "id": "C3tkQ36HWHNg"
      },
      "outputs": [],
      "source": [
        "\n",
        "gen_kwargs = {\n",
        "         \"min_length\":   -1,\n",
        "         \"top_k\":       0.0,\n",
        "         \"top_p\":       1.0,\n",
        "         \"do_sample\":  True,\n",
        "         \"pad_token_id\": tokenizer.eos_token_id\n",
        "}\n"
      ]
    },
    {
      "cell_type": "markdown",
      "metadata": {
        "id": "mxX8O0HSWHNg"
      },
      "source": [
        "\n",
        "## Optimize model\n",
        "\n",
        "### Training loop\n",
        "\n",
        "The training loop consists of the following main steps:\n",
        "\n",
        "* Get the query and responses from the policy network (GPT-2)\n",
        "* Get sentiments for query/responses from BERT\n",
        "* Optimize policy with PPO using the (query, response, reward) triplet\n"
      ]
    },
    {
      "cell_type": "code",
      "execution_count": 31,
      "metadata": {
        "id": "_FIRzfZ3WHNg"
      },
      "outputs": [],
      "source": [
        "\n",
        "output_min_length     = 4\n",
        "output_max_length     = 16\n",
        "output_length_sampler = LengthSampler(output_min_length, output_max_length)\n"
      ]
    },
    {
      "cell_type": "code",
      "execution_count": 32,
      "metadata": {
        "id": "dF3E6y_IWHNs"
      },
      "outputs": [],
      "source": [
        "\n",
        "generation_kwargs = {\n",
        "    \"min_length\":     -1,\n",
        "    \"top_k\":         0.0,\n",
        "    \"top_p\":         1.0,\n",
        "    \"do_sample\":    True,\n",
        "    \"pad_token_id\": tokenizer.eos_token_id,\n",
        "}\n"
      ]
    },
    {
      "cell_type": "code",
      "execution_count": 33,
      "metadata": {
        "colab": {
          "base_uri": "https://localhost:8080/"
        },
        "id": "5atc8eRoWHNs",
        "outputId": "395072b2-d6ec-4ea4-e055-3660da3803b7"
      },
      "outputs": [
        {
          "output_type": "execute_result",
          "data": {
            "text/plain": [
              "20000"
            ]
          },
          "metadata": {},
          "execution_count": 33
        }
      ],
      "source": [
        "\n",
        "## ppo_trainer.config.steps = 100    ## 20,000\n",
        "ppo_trainer.config.steps\n"
      ]
    },
    {
      "cell_type": "code",
      "execution_count": 34,
      "metadata": {
        "colab": {
          "base_uri": "https://localhost:8080/"
        },
        "id": "EtS9UR8_WHNs",
        "outputId": "e2100372-fa1a-4f16-87a1-d1df34e8f3e2"
      },
      "outputs": [
        {
          "output_type": "stream",
          "name": "stderr",
          "text": [
            "1it [00:00,  7.89it/s]"
          ]
        },
        {
          "output_type": "stream",
          "name": "stdout",
          "text": [
            "[tensor([2396, 4451,  340, 3073,  588,  339, 4423], device='cuda:0'), tensor([  45,  993,  345, 7684,  423], device='cuda:0'), tensor([  40,  561, 1826,  510], device='cuda:0'), tensor([   40,   466,   326,   351,   616, 13850], device='cuda:0'), tensor([   1, 3347], device='cuda:0'), tensor([   40,  1101,   523,  9675,   685, 20608], device='cuda:0'), tensor([ 464, 1109,  428, 2125,  470,  257,  685], device='cuda:0'), tensor([2504,  338,  281], device='cuda:0'), tensor([2504,  338,  644,  314, 2982, 2406], device='cuda:0'), tensor([361, 340, 338], device='cuda:0'), tensor([9275,  340, 1541,  475, 5875,  345], device='cuda:0'), tensor([22017,   326,   447,   247,    82,   257], device='cuda:0'), tensor([5779,  379, 1551], device='cuda:0'), tensor([42322,    11,   314,  7048], device='cuda:0'), tensor([ 1639,   389, 26329, 12214,    13,  6363], device='cuda:0'), tensor([28211,   508], device='cuda:0'), tensor([21129,  3505,  1612,   685], device='cuda:0'), tensor([2514, 1577,  683,  257, 2863,  284,  711], device='cuda:0'), tensor([7376,  364], device='cuda:0'), tensor([3109,   12, 7676, 1127,  389], device='cuda:0'), tensor([1639, 1422], device='cuda:0'), tensor([28971,   284,  4341,   262,  5041,   287,  7356], device='cuda:0'), tensor([818, 262, 640, 314], device='cuda:0'), tensor([ 464, 1266, 2146,   72], device='cuda:0'), tensor([1219,  616,   11], device='cuda:0'), tensor([43335, 13896,   314,   481,  1239,  1833,  1521], device='cuda:0'), tensor([5247, 1497], device='cuda:0'), tensor([   72, 35607,  1842], device='cuda:0'), tensor([ 1273,   320,  8306, 46472,   282,     0], device='cuda:0'), tensor([ 40, 892, 262], device='cuda:0'), tensor([34784,   780,   339,   318,   287,   257], device='cuda:0'), tensor([10995,   340,   318,   407,  8531], device='cuda:0'), tensor([ 40, 655], device='cuda:0'), tensor([ 1532,   484,  1682,   765,   284,  2948, 19985], device='cuda:0'), tensor([11633,   429], device='cuda:0'), tensor([  40, 1842], device='cuda:0'), tensor([1532,  339,  373], device='cuda:0'), tensor([ 2504,   561,   307, 17570,  6819, 20429], device='cuda:0'), tensor([5779,   11,  326,  338], device='cuda:0'), tensor([2953, 1551], device='cuda:0'), tensor([2504,  338, 2081,  329], device='cuda:0'), tensor([1199, 1381], device='cuda:0'), tensor([  46,  794,   11,  616, 2612,   13,  314], device='cuda:0'), tensor([ 9690,   329,   262, 10763,     0], device='cuda:0'), tensor([2990,  389, 1719,  257, 2187], device='cuda:0'), tensor([3673,  257,  685], device='cuda:0'), tensor([1212,  318, 2407, 2219,  319,  661], device='cuda:0'), tensor([43343,   428,  5238,   588], device='cuda:0'), tensor([5812, 2818,   12,  314], device='cuda:0'), tensor([1212, 4286,  318,  257, 6994], device='cuda:0'), tensor([1212,  373,  257, 5465, 4065,   13, 9712], device='cuda:0'), tensor([10814,    11,   502,  1165,    13,  4599,  8458], device='cuda:0'), tensor([6104,  611,  345,  836,  470], device='cuda:0'), tensor([2389,   42,  546,  428], device='cuda:0'), tensor([3987,  470, 5490,   11,  618], device='cuda:0'), tensor([  32, 5948,  475], device='cuda:0'), tensor([  29, 1925, 6137,  651,  284, 3853,  508], device='cuda:0'), tensor([5080,  292,  257, 9707], device='cuda:0'), tensor([  40, 1842,  534, 5675, 2611,    0, 4599], device='cuda:0'), tensor([   58, 20608,    60,   460,  3280,   428], device='cuda:0'), tensor([10910, 12337,  3763,    11,   262,   314,   460], device='cuda:0'), tensor([23303, 19030,  1381,     0], device='cuda:0'), tensor([3666, 2496,  468, 6041], device='cuda:0'), tensor([ 464, 5007,  373, 4585,  986], device='cuda:0'), tensor([  32, 2008,  373], device='cuda:0'), tensor([1639,  804, 7427], device='cuda:0'), tensor([32365,   484,   460], device='cuda:0'), tensor([   44,  3020, 27532], device='cuda:0'), tensor([   58, 20608,    60,   750], device='cuda:0'), tensor([11633,   262,  3061,  1657,   467,   572,    30], device='cuda:0'), tensor([  40, 1101, 9675,  284,  766,  314, 1101], device='cuda:0'), tensor([ 3347,   373,  7205,   422,   607, 10825,  2427], device='cuda:0'), tensor([ 9690, 43158,   685, 20608,    60], device='cuda:0'), tensor([2990, 1422,  470], device='cuda:0'), tensor([1870,  484, 4240, 1521,  484,  836], device='cuda:0'), tensor([1639,  760,   11], device='cuda:0'), tensor([ 464, 1218, 5141], device='cuda:0'), tensor([44004, 11948], device='cuda:0'), tensor([ 45, 993, 314], device='cuda:0'), tensor([  40,  447,  247,  303, 1239], device='cuda:0'), tensor([   46,  2840,    11,  2048, 16453,   262], device='cuda:0'), tensor([   32,  1383,   428,   925,   502, 11626], device='cuda:0'), tensor([ 1858,   389,  1165,   867, 31193, 14408], device='cuda:0'), tensor([14385,    11,   475,   345,  2192,   466,  1813], device='cuda:0'), tensor([ 1537,   256, 34369,    11,  1312], device='cuda:0'), tensor([ 5805, 10128,   290, 18879,   477], device='cuda:0'), tensor([   40,   892,   262, 28520,  5205,   389], device='cuda:0'), tensor([ 3103,  9275,   534, 13592, 28037], device='cuda:0'), tensor([22210,   561,   467], device='cuda:0'), tensor([2990, 3588,  447,  247,   83], device='cuda:0'), tensor([  32, 1105, 1510,  850, 6518], device='cuda:0'), tensor([17821,  2081], device='cuda:0'), tensor([  43,  349,  428, 2872,  373,  588,  352], device='cuda:0'), tensor([ 2725,  1837,  1146,    11,   407, 14946,   393], device='cuda:0'), tensor([ 4863, 23523,  4890], device='cuda:0'), tensor([993, 326], device='cuda:0'), tensor([1544, 2810, 6117, 2029,   13], device='cuda:0'), tensor([3987,  470,  345], device='cuda:0'), tensor([34695,   278,   355,   257,  3516], device='cuda:0'), tensor([29252, 25780,    44, 31858], device='cuda:0'), tensor([  55,   10,   77,  318,  281,  772, 4785], device='cuda:0'), tensor([ 40, 716, 262, 976], device='cuda:0'), tensor([ 258,   71,   11,  314, 3505,  326, 5068], device='cuda:0'), tensor([8496,  423,  314, 1775,  428,  878], device='cuda:0'), tensor([  40, 4236,   13], device='cuda:0'), tensor([20459,  3499,   703,   340,   338], device='cuda:0'), tensor([3792,  340], device='cuda:0'), tensor([22017,     0,   770,   318], device='cuda:0'), tensor([1639,  531,  326,  340,  318], device='cuda:0'), tensor([32163, 12027,   635,  1724,   345], device='cuda:0'), tensor([16973,  8066,  2277,   345,   351,   262], device='cuda:0'), tensor([   40,   716, 11534,   284, 11206,   422,   612], device='cuda:0'), tensor([  40, 1549, 1842,  284, 3285], device='cuda:0'), tensor([16678,   257, 10195,    13,  2332,  8530,   373], device='cuda:0'), tensor([38413,  4135,  3496,   290,  1049], device='cuda:0'), tensor([7594,  314], device='cuda:0'), tensor([ 2949,    13, 48293], device='cuda:0'), tensor([34094,    11,   616,  3656], device='cuda:0'), tensor([  40,  447,  247,   76, 3058], device='cuda:0'), tensor([  40, 9144,  345, 2263], device='cuda:0'), tensor([ 2484,  3723,    13, 44841], device='cuda:0'), tensor([ 1544, 24790,   511], device='cuda:0'), tensor([ 2949,    13,  1320,   318, 23387,   290], device='cuda:0'), tensor([40909,   314], device='cuda:0'), tensor([31442,  4305,  3240,   783,    13,  6930], device='cuda:0'), tensor([ 43, 349], device='cuda:0'), tensor([ 40, 447, 247,  67], device='cuda:0'), tensor([27894,   286,  7202,  2546], device='cuda:0')]\n",
            "128\n",
            "[tensor([1026,  338, 1444,  366], device='cuda:0'), tensor([13847,    82,   510,  3730,   878,   345], device='cuda:0'), tensor([ 40, 423, 281], device='cuda:0'), tensor([ 40, 836, 447, 247], device='cuda:0'), tensor([5779,  314], device='cuda:0'), tensor([   58, 20608,    60,   318,  4753,   257,   922], device='cuda:0'), tensor([2953, 1551,  345, 9159], device='cuda:0'), tensor([   35,  2564,  3481,  1969,   284, 36164], device='cuda:0'), tensor([43343,    11,  4819,  1635, 22437], device='cuda:0'), tensor([3673,  284], device='cuda:0'), tensor([16791,  7513,   538,    88, 21081], device='cuda:0'), tensor([1544,  318, 1541,  678,   11, 4962], device='cuda:0'), tensor([4053,  356, 3088, 1327], device='cuda:0'), tensor([  40,  655, 5465,  262,  366,   40,  836], device='cuda:0'), tensor([  35, 2507,  338, 3632,  318], device='cuda:0'), tensor([2504, 3516,  373,  257, 2081,  685], device='cuda:0'), tensor([ 40, 760,  11, 826], device='cuda:0'), tensor([   40,   716, 14442,   428,  5163,    13], device='cuda:0'), tensor([   46, 11296,  1521], device='cuda:0'), tensor([36937, 20608,    60,  3894,   339, 16453,   284], device='cuda:0'), tensor([30313,   661,   423,   587, 22187], device='cuda:0'), tensor([2949,   11,  617,  286], device='cuda:0'), tensor([18565,  4854], device='cuda:0'), tensor([35284,   284,   766,  2130,  1682,  4481,  1223], device='cuda:0'), tensor([10449,   345,    11,   766,   373], device='cuda:0'), tensor([ 5812, 20927,   514,   329,  2111,   284,   787], device='cuda:0'), tensor([  40,  836,  470, 3505,  428, 3496,  379], device='cuda:0'), tensor([16973, 33064,   368, 16233, 13214], device='cuda:0'), tensor([  44,  432,  407,  423, 9292], device='cuda:0'), tensor([26417,   314,  1842, 10801,   290,   922], device='cuda:0'), tensor([ 40, 836, 447, 247,  83, 787], device='cuda:0'), tensor([ 3118, 27780,   276], device='cuda:0'), tensor([  51, 2487,   82,  389, 8788,  287], device='cuda:0'), tensor([3666, 3061,  329,  262], device='cuda:0'), tensor([13856, 18095,  1464,   761, 26151], device='cuda:0'), tensor([   40,  3285, 21349,   582], device='cuda:0'), tensor([  34, 2543, 5549,   30,  314,  766,  345], device='cuda:0'), tensor([10449,   345,  1611,  5230], device='cuda:0'), tensor([   71, 12038,    44,   685, 20608,    60], device='cuda:0'), tensor([14157,  5694,  3446,   986], device='cuda:0'), tensor([   40,  1011, 32290,   379,  1755,   290,   314], device='cuda:0'), tensor([10995,   326,   804,  2173,   284,  1767], device='cuda:0'), tensor([  40, 2227,  257], device='cuda:0'), tensor([10995,   262], device='cuda:0'), tensor([1544,  338, 1541], device='cuda:0'), tensor([   58, 20608,    60,   318,   523,  4939,    13], device='cuda:0'), tensor([ 2504,   447,   247,    82,   588, 10833], device='cuda:0'), tensor([1026,  338, 8788,   26,  465, 2988], device='cuda:0'), tensor([   40, 13818,   379,   428,   604], device='cuda:0'), tensor([   58, 20608], device='cuda:0'), tensor([1544,  481], device='cuda:0'), tensor([3856,  268,  511,   13,  775], device='cuda:0'), tensor([25591,  3988,  9008,   262,   664,  3780], device='cuda:0'), tensor([31642,  1312,  1254,   334], device='cuda:0'), tensor([19532,   475,   326,  1595,   470], device='cuda:0'), tensor([   29, 13004,    51], device='cuda:0'), tensor([23812,   618,   284,  4423], device='cuda:0'), tensor([   58, 20608], device='cuda:0'), tensor([43468,  2522, 17517], device='cuda:0'), tensor([  464, 11714,   684,   389], device='cuda:0'), tensor([15496,     0,   703,   447,   247], device='cuda:0'), tensor([  270,   338,   257, 17547,   284], device='cuda:0'), tensor([   56, 18213,   314,  2497,   326,   986], device='cuda:0'), tensor([   58, 20608,  4357,  1309,   447], device='cuda:0'), tensor([1026,  373,  287], device='cuda:0'), tensor([2949,  340,  338, 1682,  257], device='cuda:0'), tensor([ 464, 7627, 7051,  468,  523,  867, 3466], device='cuda:0'), tensor([  40,  373,  655, 1611,  286], device='cuda:0'), tensor([1870,  703, 1690], device='cuda:0'), tensor([5574, 3863], device='cuda:0'), tensor([13014,   655,   284,  6594,   826,   287,   262], device='cuda:0'), tensor([3666, 6317,  284, 4379, 1111,  286], device='cuda:0'), tensor([5195,  407,  779,  530, 2298,  290], device='cuda:0'), tensor([ 3792,   326, 35597,    11,  7257], device='cuda:0'), tensor([25214,   611,   484,   460,  3758], device='cuda:0'), tensor([  40, 3708,  281, 1468], device='cuda:0'), tensor([  40,  561,  910, 1223,  588], device='cuda:0'), tensor([16973,    77,   470,   339, 13785,     6], device='cuda:0'), tensor([ 40, 447, 247,  76], device='cuda:0'), tensor([7583,  314,  760], device='cuda:0'), tensor([18565,   703,  9321,   428,  3280,   318], device='cuda:0'), tensor([  42,  273, 1148,  281, 4112], device='cuda:0'), tensor([9099,  470], device='cuda:0'), tensor([2990, 1283], device='cuda:0'), tensor([   49, 22651,   351,   262], device='cuda:0'), tensor([ 3673,   257, 24486,  3768,   475], device='cuda:0'), tensor([26392,    30,  1320,   338,  3499,    13,   314], device='cuda:0'), tensor([15597,  6225,   257,  7770], device='cuda:0'), tensor([1639,  836,  470,  651,  340,   11], device='cuda:0'), tensor([ 40, 716, 407], device='cuda:0'), tensor([ 40, 892, 340, 447], device='cuda:0'), tensor([43669,  4753,   523,   644,  1312,  1101], device='cuda:0'), tensor([13847,  1370,   550,   502,  3612], device='cuda:0'), tensor([1169, 5318], device='cuda:0'), tensor([  40, 1101, 7926], device='cuda:0'), tensor([  40, 2911,   13,  311], device='cuda:0'), tensor([1212,  743,  307,  530,  286,  883], device='cuda:0'), tensor([   40,  1101, 10416,    13,  1148,   428], device='cuda:0'), tensor([19457,    11,   612,   389,  5743], device='cuda:0'), tensor([   46,  1381,   423, 15568,  2092], device='cuda:0'), tensor([5211, 5626], device='cuda:0'), tensor([10995, 19462,   588,   314], device='cuda:0'), tensor([ 3673, 14442,   644,   314,  1101,  4379,   523], device='cuda:0'), tensor([  40, 5465], device='cuda:0'), tensor([1544,  338,  407,  262], device='cuda:0'), tensor([9203, 4111, 2912,   13], device='cuda:0'), tensor([10995,   986], device='cuda:0'), tensor([22017,   326,   338,   655,   588,   618], device='cuda:0'), tensor([   32,   835,   284,  3368,  3950,    13, 30472], device='cuda:0'), tensor([   33, 10124,   685], device='cuda:0'), tensor([30463,   329], device='cuda:0'), tensor([47288,  1521,   561,   356], device='cuda:0'), tensor([2504, 3073], device='cuda:0'), tensor([16341,   329,   262], device='cuda:0'), tensor([ 2061,   338,   340,  2300, 12248, 12248], device='cuda:0'), tensor([ 1870,  3387,   466,   407, 45553,  4556,   345], device='cuda:0'), tensor([   58, 20608,    60,   373,  3076,  6058,   329], device='cuda:0'), tensor([34621,  1524], device='cuda:0'), tensor([38413,  4135,   290,  5875], device='cuda:0'), tensor([  40,  766,  617, 2420], device='cuda:0'), tensor([   58, 20608,    60,   468], device='cuda:0'), tensor([   33, 19367,  1310], device='cuda:0'), tensor([2396,  788], device='cuda:0'), tensor([1026,  338, 2147, 3688,  284,  703], device='cuda:0'), tensor([3666, 3072], device='cuda:0'), tensor([  40, 1254,  588], device='cuda:0'), tensor([1495,  830, 7832], device='cuda:0'), tensor([1639,  447,  247,  260,  826,   11,  642], device='cuda:0')]\n",
            "128\n"
          ]
        },
        {
          "output_type": "stream",
          "name": "stderr",
          "text": [
            "\n"
          ]
        }
      ],
      "source": [
        "\n",
        "for epoch, batch in tqdm(enumerate(ppo_trainer.dataloader)):\n",
        "    query_tensors = batch[\"input_ids\"]\n",
        "\n",
        "    print(query_tensors)\n",
        "    print(len(query_tensors))\n",
        "    if epoch == 1:\n",
        "        break\n"
      ]
    },
    {
      "cell_type": "code",
      "execution_count": 35,
      "metadata": {
        "colab": {
          "base_uri": "https://localhost:8080/"
        },
        "id": "ndzj90D3WHNt",
        "outputId": "cb65af8c-47a8-4cde-a775-aac0052384c5"
      },
      "outputs": [
        {
          "output_type": "stream",
          "name": "stderr",
          "text": [
            "\r0it [00:00, ?it/s]"
          ]
        },
        {
          "output_type": "stream",
          "name": "stdout",
          "text": [
            "0\n",
            "{'input_ids': [tensor([5195,  340, 1392, 4615,   13], device='cuda:0'), tensor([25082,   329,   683,    11,  1049], device='cuda:0'), tensor([10995,   314,  1101,  9675], device='cuda:0'), tensor([1219,   11,  339,  373,  287], device='cuda:0'), tensor([  40, 1654, 2911,  428], device='cuda:0'), tensor([   58, 20608,    60,   561], device='cuda:0'), tensor([11028, 12248,  1320,   447], device='cuda:0'), tensor([ 2396,    11,   345,   651, 27406,  1394], device='cuda:0'), tensor([ 1212,   318, 12876,   355,  3131], device='cuda:0'), tensor([33336, 22574], device='cuda:0'), tensor([10995,  1377,   257], device='cuda:0'), tensor([ 40, 836], device='cuda:0'), tensor([34784,    13,  5070,  8592,   389,  1541,  7818], device='cuda:0'), tensor([  40, 1101, 1297,  314,  804], device='cuda:0'), tensor([  40, 4236,  351, 2279,  345,  531,   13], device='cuda:0'), tensor([2061,  338,  510,  351,  326,  289], device='cuda:0'), tensor([1639,  804,  588,  685], device='cuda:0'), tensor([  47, 2433,  263,  481, 1037,  345,  517], device='cuda:0'), tensor([ 8128,   428,   318,   257, 13455,  1057,  8663], device='cuda:0'), tensor([5297,  314, 2982,  450,   83,  262], device='cuda:0'), tensor([ 2061,   257,  1964, 40107, 23169,   685, 20608], device='cuda:0'), tensor([ 5124,   314,  1842,   266, 15799,  3952,   290], device='cuda:0'), tensor([2953,  617,  966,  287,  262], device='cuda:0'), tensor([18273,   484,  1064,   503], device='cuda:0'), tensor([1858,  338], device='cuda:0'), tensor([1212,  318, 3501,  502,  523], device='cuda:0'), tensor([ 40, 588], device='cuda:0'), tensor([17821,  1842,    11], device='cuda:0'), tensor([  32, 5948,  502,   11], device='cuda:0'), tensor([2990, 6619,  546], device='cuda:0'), tensor([  45,  993,  582,   11, 1438,  262, 5141], device='cuda:0'), tensor([1639, 1392,  866], device='cuda:0'), tensor([2437,  890], device='cuda:0'), tensor([  40, 1541,  750], device='cuda:0'), tensor([14385,   582,    11,   345,   447], device='cuda:0'), tensor([13300, 24166,   475,   314,  1239,  4483, 47008], device='cuda:0'), tensor([40501, 34759], device='cuda:0'), tensor([8421, 1946,  612,  373], device='cuda:0'), tensor([  40, 4601], device='cuda:0'), tensor([3546, 6079,  340,  736], device='cuda:0'), tensor([6090, 6216,   13,  314, 1053,  587], device='cuda:0'), tensor([2437,  423,  685], device='cuda:0'), tensor([  40, 1842,  428,  290,  683], device='cuda:0'), tensor([ 40, 716, 407], device='cuda:0'), tensor([  40,  447,  247,   76, 1290], device='cuda:0'), tensor([  40, 1053,  587, 4964,  257], device='cuda:0'), tensor([1135,  750,  340,  685], device='cuda:0'), tensor([14385,   475,  1521], device='cuda:0'), tensor([  40, 1807,  326], device='cuda:0'), tensor([2061,  257, 4929,   11,  326,  338], device='cuda:0'), tensor([  464, 12682,  1222], device='cuda:0'), tensor([ 5562,  6825, 35434,   318], device='cuda:0'), tensor([  40,  447,  247,   76, 6568], device='cuda:0'), tensor([9690,  428,  373,  257, 3608], device='cuda:0'), tensor([3792,  943, 3212,  262], device='cuda:0'), tensor([   58, 20608,    60, 32456,   750], device='cuda:0'), tensor([   40,  2911,   345, 18537], device='cuda:0'), tensor([5562,  338], device='cuda:0'), tensor([29907, 44062,  8299,  3691,  8121], device='cuda:0'), tensor([24461,   561,   423,  5839], device='cuda:0'), tensor([ 2949, 29294,   685, 20608,    60,  1106], device='cuda:0'), tensor([ 33, 412], device='cuda:0'), tensor([  40, 1392,  257,  922, 6487,  379], device='cuda:0'), tensor([24206, 25744,   284,   534,  1995,     0], device='cuda:0'), tensor([ 6090,   470,    13,  3771, 31735,  2089,    13], device='cuda:0'), tensor([  29,  487,   82,  655, 9159], device='cuda:0'), tensor([33336,  7510,   484,   447,   247], device='cuda:0'), tensor([1026,  447,  247,   82, 2048,  825], device='cuda:0'), tensor([35700,   922,    11,  3511,    30], device='cuda:0'), tensor([40164,    82,   319,   428,   850,   389], device='cuda:0'), tensor([  40, 1053, 3443, 1043,  616,  661,  508], device='cuda:0'), tensor([32365,   366,  3605,  1830,     1], device='cuda:0'), tensor([2061,  447], device='cuda:0'), tensor([   40,   460,   447,   247,    83,  5967, 11236], device='cuda:0'), tensor([   58, 20608], device='cuda:0'), tensor([5661,  373, 2192, 1016,  284,  307], device='cuda:0'), tensor([9690,  329], device='cuda:0'), tensor([ 40, 373, 379, 262, 983, 379], device='cuda:0'), tensor([ 40, 892, 262, 905, 373, 477, 546], device='cuda:0'), tensor([1026,  373,  257], device='cuda:0'), tensor([1544,  691, 6292,  685], device='cuda:0'), tensor([2504,  447], device='cuda:0'), tensor([21129,   326], device='cuda:0'), tensor([3666, 7540], device='cuda:0'), tensor([ 7469, 12998,   407,   257,  6766,  6260], device='cuda:0'), tensor([32365,   477,   286], device='cuda:0'), tensor([10449,   345, 28983,  2677,     0,  8090], device='cuda:0'), tensor([10019,   640,  1223,   588,   428], device='cuda:0'), tensor([ 1026, 22523], device='cuda:0'), tensor([ 2437, 16498,   345,   787], device='cuda:0'), tensor([  40, 1101, 9675,  284,  766,  314, 1101], device='cuda:0'), tensor([  40, 1254,  588,  428,  318,  422], device='cuda:0'), tensor([ 986,   82, 6548], device='cuda:0'), tensor([  44,  432,  407,  423, 9292], device='cuda:0'), tensor([14385,    11], device='cuda:0'), tensor([5812,  922], device='cuda:0'), tensor([10434,  2263, 17331,   297,  1505], device='cuda:0'), tensor([3347,  373,  367], device='cuda:0'), tensor([2504,  338], device='cuda:0'), tensor([   40, 12698,   460,   447], device='cuda:0'), tensor([   39, 12236, 12876], device='cuda:0'), tensor([  40, 1101, 7926,  326, 3022], device='cuda:0'), tensor([13828,   318, 13699], device='cuda:0'), tensor([  72,  447,  247,   67, 1234], device='cuda:0'), tensor([  56,  929,   13, 1867], device='cuda:0'), tensor([ 40, 588, 484, 892, 326], device='cuda:0'), tensor([  35, 5893], device='cuda:0'), tensor([1639,  714, 1254,  477], device='cuda:0'), tensor([   58, 20608,    60,  1392], device='cuda:0'), tensor([2061,  338,  428,  422,   30], device='cuda:0'), tensor([8726,  284,  262], device='cuda:0'), tensor([1026, 1718], device='cuda:0'), tensor([2061,  257, 3595, 2415,  508], device='cuda:0'), tensor([  32, 1165], device='cuda:0'), tensor([5812, 3608,   11], device='cuda:0'), tensor([7594, 1466,  836,  447,  247], device='cuda:0'), tensor([ 29, 258, 338], device='cuda:0'), tensor([1212,  318,  262,  749, 7187], device='cuda:0'), tensor([2215,  262], device='cuda:0'), tensor([9690, 2801, 1949], device='cuda:0'), tensor([  40, 1422,  470], device='cuda:0'), tensor([  40, 1101, 3058], device='cuda:0'), tensor([ 464, 3052,  318,  991,  510], device='cuda:0'), tensor([  40, 1254,  588], device='cuda:0'), tensor([1639, 2128], device='cuda:0'), tensor([10449,   345,   616,  1545], device='cuda:0'), tensor([  40, 1107,  765,  284,  760], device='cuda:0'), tensor([ 1532,   345,   389,   257,   685, 20608,    60], device='cuda:0')], 'query': ['Why it got removed.', 'Happy for him, great', \"Yeah I'm glad\", 'oh, he was in', 'I sure hope this', '[NAME] would', 'Right?! That�', 'So, you get yo keep', 'This is ok as extra', 'Holy heck', 'Yeah -- a', 'I don', 'Probably. Government contracts are already terrible', \"I'm told I look\", 'I agree with everything you said.', \"What's up with that h\", 'You look like [', 'Prayer will help you more', 'Because this is a poorly run franchise', 'Yes I heard abt the', 'What a political whore Uncle [NAME', 'Man I love wicker park and', 'At some point in the', 'Until they find out', \"There's\", 'This is giving me so', 'I like', 'True love,', 'Aye me,', 'They talked about', 'Nah man, name the kid', 'You got down', 'How long', 'I already did', 'Sorry man, you�', 'Maybe unpopular but I never eat pancakes', 'Absolutely ripping', 'Before 2014 there was', 'I wish', 'Im bringing it back', \"Can confirm. I've been\", 'How have [', 'I love this and him', 'I am not', 'I’m far', \"I've been watching a\", 'We did it [', 'Sorry but why', 'I thought that', \"What a catch, that's\", 'The NEW &', 'that missed dunk is', 'I’m excited', 'Thanks this was a cool', 'Is Arges the', '[NAME] advisors did', 'I hope you bundle', \"that's\", 'Taylor Pork Roll vs Taylor', 'Mine would have bought', 'No thats [NAME]....', 'B E', 'I got a good laugh at', 'Major props to your mom!', \"Can't. Prequel bad.\", '>ffs just admit', 'Holy shit they’', 'It’s almost def', 'Pretty good, yourself?', 'Regulars on this sub are', \"I've finally found my people who\", 'Hopefully \"new games\"', 'What�', 'I can’t imagine choosing', '[NAME', 'this was probably going to be', 'Thanks for', 'I was at the game at', 'I think the show was all about', 'It was a', 'He only accepted [', 'That�', 'Anyone that', 'My cock', 'Definitely not a sky writer', 'Hopefully all of', 'Thank you Burger King! Source', 'Next time something like this', 'It sucks', 'How dare you make', \"I'm glad to see I'm\", 'I feel like this is from', '...silly', 'Might not have fallen', 'Sorry,', 'Oh good', 'Start taking psyllium', 'She was H', \"That's\", 'I honestly can�', 'Haha ok', \"I'm sorry that happened\", 'Which is bizarre', 'i’d put', 'Yup. What', 'I like they think that', 'Dirty', 'You could feel all', '[NAME] got', \"What's this from?\", 'link to the', 'It took', 'What a poor woman who', 'A too', 'Oh cool,', 'Like women don’', \">he's\", 'This is the most accurate', 'When the', 'Thanks ill try', \"I didn't\", \"I'm currently\", 'The website is still up', 'I feel like', 'You sound', 'Thank you my friend', 'I really want to know', 'If you are a [NAME]']}\n",
            "*********************\n",
            "*********************\n",
            "*********************\n",
            "*********************\n"
          ]
        },
        {
          "output_type": "stream",
          "name": "stderr",
          "text": [
            "\r1it [00:27, 27.39s/it]"
          ]
        },
        {
          "output_type": "stream",
          "name": "stdout",
          "text": [
            "{'input_ids': [tensor([5195,  340, 1392, 4615,   13], device='cuda:0'), tensor([25082,   329,   683,    11,  1049], device='cuda:0'), tensor([10995,   314,  1101,  9675], device='cuda:0'), tensor([1219,   11,  339,  373,  287], device='cuda:0'), tensor([  40, 1654, 2911,  428], device='cuda:0'), tensor([   58, 20608,    60,   561], device='cuda:0'), tensor([11028, 12248,  1320,   447], device='cuda:0'), tensor([ 2396,    11,   345,   651, 27406,  1394], device='cuda:0'), tensor([ 1212,   318, 12876,   355,  3131], device='cuda:0'), tensor([33336, 22574], device='cuda:0'), tensor([10995,  1377,   257], device='cuda:0'), tensor([ 40, 836], device='cuda:0'), tensor([34784,    13,  5070,  8592,   389,  1541,  7818], device='cuda:0'), tensor([  40, 1101, 1297,  314,  804], device='cuda:0'), tensor([  40, 4236,  351, 2279,  345,  531,   13], device='cuda:0'), tensor([2061,  338,  510,  351,  326,  289], device='cuda:0'), tensor([1639,  804,  588,  685], device='cuda:0'), tensor([  47, 2433,  263,  481, 1037,  345,  517], device='cuda:0'), tensor([ 8128,   428,   318,   257, 13455,  1057,  8663], device='cuda:0'), tensor([5297,  314, 2982,  450,   83,  262], device='cuda:0'), tensor([ 2061,   257,  1964, 40107, 23169,   685, 20608], device='cuda:0'), tensor([ 5124,   314,  1842,   266, 15799,  3952,   290], device='cuda:0'), tensor([2953,  617,  966,  287,  262], device='cuda:0'), tensor([18273,   484,  1064,   503], device='cuda:0'), tensor([1858,  338], device='cuda:0'), tensor([1212,  318, 3501,  502,  523], device='cuda:0'), tensor([ 40, 588], device='cuda:0'), tensor([17821,  1842,    11], device='cuda:0'), tensor([  32, 5948,  502,   11], device='cuda:0'), tensor([2990, 6619,  546], device='cuda:0'), tensor([  45,  993,  582,   11, 1438,  262, 5141], device='cuda:0'), tensor([1639, 1392,  866], device='cuda:0'), tensor([2437,  890], device='cuda:0'), tensor([  40, 1541,  750], device='cuda:0'), tensor([14385,   582,    11,   345,   447], device='cuda:0'), tensor([13300, 24166,   475,   314,  1239,  4483, 47008], device='cuda:0'), tensor([40501, 34759], device='cuda:0'), tensor([8421, 1946,  612,  373], device='cuda:0'), tensor([  40, 4601], device='cuda:0'), tensor([3546, 6079,  340,  736], device='cuda:0'), tensor([6090, 6216,   13,  314, 1053,  587], device='cuda:0'), tensor([2437,  423,  685], device='cuda:0'), tensor([  40, 1842,  428,  290,  683], device='cuda:0'), tensor([ 40, 716, 407], device='cuda:0'), tensor([  40,  447,  247,   76, 1290], device='cuda:0'), tensor([  40, 1053,  587, 4964,  257], device='cuda:0'), tensor([1135,  750,  340,  685], device='cuda:0'), tensor([14385,   475,  1521], device='cuda:0'), tensor([  40, 1807,  326], device='cuda:0'), tensor([2061,  257, 4929,   11,  326,  338], device='cuda:0'), tensor([  464, 12682,  1222], device='cuda:0'), tensor([ 5562,  6825, 35434,   318], device='cuda:0'), tensor([  40,  447,  247,   76, 6568], device='cuda:0'), tensor([9690,  428,  373,  257, 3608], device='cuda:0'), tensor([3792,  943, 3212,  262], device='cuda:0'), tensor([   58, 20608,    60, 32456,   750], device='cuda:0'), tensor([   40,  2911,   345, 18537], device='cuda:0'), tensor([5562,  338], device='cuda:0'), tensor([29907, 44062,  8299,  3691,  8121], device='cuda:0'), tensor([24461,   561,   423,  5839], device='cuda:0'), tensor([ 2949, 29294,   685, 20608,    60,  1106], device='cuda:0'), tensor([ 33, 412], device='cuda:0'), tensor([  40, 1392,  257,  922, 6487,  379], device='cuda:0'), tensor([24206, 25744,   284,   534,  1995,     0], device='cuda:0'), tensor([ 6090,   470,    13,  3771, 31735,  2089,    13], device='cuda:0'), tensor([  29,  487,   82,  655, 9159], device='cuda:0'), tensor([33336,  7510,   484,   447,   247], device='cuda:0'), tensor([1026,  447,  247,   82, 2048,  825], device='cuda:0'), tensor([35700,   922,    11,  3511,    30], device='cuda:0'), tensor([40164,    82,   319,   428,   850,   389], device='cuda:0'), tensor([  40, 1053, 3443, 1043,  616,  661,  508], device='cuda:0'), tensor([32365,   366,  3605,  1830,     1], device='cuda:0'), tensor([2061,  447], device='cuda:0'), tensor([   40,   460,   447,   247,    83,  5967, 11236], device='cuda:0'), tensor([   58, 20608], device='cuda:0'), tensor([5661,  373, 2192, 1016,  284,  307], device='cuda:0'), tensor([9690,  329], device='cuda:0'), tensor([ 40, 373, 379, 262, 983, 379], device='cuda:0'), tensor([ 40, 892, 262, 905, 373, 477, 546], device='cuda:0'), tensor([1026,  373,  257], device='cuda:0'), tensor([1544,  691, 6292,  685], device='cuda:0'), tensor([2504,  447], device='cuda:0'), tensor([21129,   326], device='cuda:0'), tensor([3666, 7540], device='cuda:0'), tensor([ 7469, 12998,   407,   257,  6766,  6260], device='cuda:0'), tensor([32365,   477,   286], device='cuda:0'), tensor([10449,   345, 28983,  2677,     0,  8090], device='cuda:0'), tensor([10019,   640,  1223,   588,   428], device='cuda:0'), tensor([ 1026, 22523], device='cuda:0'), tensor([ 2437, 16498,   345,   787], device='cuda:0'), tensor([  40, 1101, 9675,  284,  766,  314, 1101], device='cuda:0'), tensor([  40, 1254,  588,  428,  318,  422], device='cuda:0'), tensor([ 986,   82, 6548], device='cuda:0'), tensor([  44,  432,  407,  423, 9292], device='cuda:0'), tensor([14385,    11], device='cuda:0'), tensor([5812,  922], device='cuda:0'), tensor([10434,  2263, 17331,   297,  1505], device='cuda:0'), tensor([3347,  373,  367], device='cuda:0'), tensor([2504,  338], device='cuda:0'), tensor([   40, 12698,   460,   447], device='cuda:0'), tensor([   39, 12236, 12876], device='cuda:0'), tensor([  40, 1101, 7926,  326, 3022], device='cuda:0'), tensor([13828,   318, 13699], device='cuda:0'), tensor([  72,  447,  247,   67, 1234], device='cuda:0'), tensor([  56,  929,   13, 1867], device='cuda:0'), tensor([ 40, 588, 484, 892, 326], device='cuda:0'), tensor([  35, 5893], device='cuda:0'), tensor([1639,  714, 1254,  477], device='cuda:0'), tensor([   58, 20608,    60,  1392], device='cuda:0'), tensor([2061,  338,  428,  422,   30], device='cuda:0'), tensor([8726,  284,  262], device='cuda:0'), tensor([1026, 1718], device='cuda:0'), tensor([2061,  257, 3595, 2415,  508], device='cuda:0'), tensor([  32, 1165], device='cuda:0'), tensor([5812, 3608,   11], device='cuda:0'), tensor([7594, 1466,  836,  447,  247], device='cuda:0'), tensor([ 29, 258, 338], device='cuda:0'), tensor([1212,  318,  262,  749, 7187], device='cuda:0'), tensor([2215,  262], device='cuda:0'), tensor([9690, 2801, 1949], device='cuda:0'), tensor([  40, 1422,  470], device='cuda:0'), tensor([  40, 1101, 3058], device='cuda:0'), tensor([ 464, 3052,  318,  991,  510], device='cuda:0'), tensor([  40, 1254,  588], device='cuda:0'), tensor([1639, 2128], device='cuda:0'), tensor([10449,   345,   616,  1545], device='cuda:0'), tensor([  40, 1107,  765,  284,  760], device='cuda:0'), tensor([ 1532,   345,   389,   257,   685, 20608,    60], device='cuda:0')], 'query': ['Why it got removed.', 'Happy for him, great', \"Yeah I'm glad\", 'oh, he was in', 'I sure hope this', '[NAME] would', 'Right?! That�', 'So, you get yo keep', 'This is ok as extra', 'Holy heck', 'Yeah -- a', 'I don', 'Probably. Government contracts are already terrible', \"I'm told I look\", 'I agree with everything you said.', \"What's up with that h\", 'You look like [', 'Prayer will help you more', 'Because this is a poorly run franchise', 'Yes I heard abt the', 'What a political whore Uncle [NAME', 'Man I love wicker park and', 'At some point in the', 'Until they find out', \"There's\", 'This is giving me so', 'I like', 'True love,', 'Aye me,', 'They talked about', 'Nah man, name the kid', 'You got down', 'How long', 'I already did', 'Sorry man, you�', 'Maybe unpopular but I never eat pancakes', 'Absolutely ripping', 'Before 2014 there was', 'I wish', 'Im bringing it back', \"Can confirm. I've been\", 'How have [', 'I love this and him', 'I am not', 'I’m far', \"I've been watching a\", 'We did it [', 'Sorry but why', 'I thought that', \"What a catch, that's\", 'The NEW &', 'that missed dunk is', 'I’m excited', 'Thanks this was a cool', 'Is Arges the', '[NAME] advisors did', 'I hope you bundle', \"that's\", 'Taylor Pork Roll vs Taylor', 'Mine would have bought', 'No thats [NAME]....', 'B E', 'I got a good laugh at', 'Major props to your mom!', \"Can't. Prequel bad.\", '>ffs just admit', 'Holy shit they’', 'It’s almost def', 'Pretty good, yourself?', 'Regulars on this sub are', \"I've finally found my people who\", 'Hopefully \"new games\"', 'What�', 'I can’t imagine choosing', '[NAME', 'this was probably going to be', 'Thanks for', 'I was at the game at', 'I think the show was all about', 'It was a', 'He only accepted [', 'That�', 'Anyone that', 'My cock', 'Definitely not a sky writer', 'Hopefully all of', 'Thank you Burger King! Source', 'Next time something like this', 'It sucks', 'How dare you make', \"I'm glad to see I'm\", 'I feel like this is from', '...silly', 'Might not have fallen', 'Sorry,', 'Oh good', 'Start taking psyllium', 'She was H', \"That's\", 'I honestly can�', 'Haha ok', \"I'm sorry that happened\", 'Which is bizarre', 'i’d put', 'Yup. What', 'I like they think that', 'Dirty', 'You could feel all', '[NAME] got', \"What's this from?\", 'link to the', 'It took', 'What a poor woman who', 'A too', 'Oh cool,', 'Like women don’', \">he's\", 'This is the most accurate', 'When the', 'Thanks ill try', \"I didn't\", \"I'm currently\", 'The website is still up', 'I feel like', 'You sound', 'Thank you my friend', 'I really want to know', 'If you are a [NAME]'], 'response': [' Visit this page...olla refund.\\n\\n', ' cook, with all', ' you were from Brisbane, where I', \" Norway from the 1940's. Soviet marchers reached the date of Bill Clinton\", ' resulted in better parts for your family', \" be your name, i.e. 'Uija\", '�s what they think.\"\\n\\nSCP-4502 promptly', 'in... uh.. bucl...', ' lootbox customizations. First you want your', ' take that, not a single', ' cat lives by being alive. It is', \"'t think they'll be Here [Dietrich].\", ' and have made nothing easy for the businesses – our', ' great.\"\\n\\nAdvertisement\\n\\nSteven Jackson repeats he told', \" It isn't to deny that gender to men is a storm\", 'unk of rattly? All that to your eyes we find Rof', 'the guys that grew up', ' than just listen; it means help others by showing', ' already with paydays varying by month and budget, the', ' warning of the PETA letter.\"\\n\\nNeither of', '] is causing. Good hold on, tuck into his', ' bluewoods but your up', ' future, EA deviants will gather all his', ', the album will become a reality with its score from Songs From', ' more to your price than the amount shown. Insert an alk', ' much happiness now. I love succeeding in increasing my employment because it', ' you.\" It\\'s one of the best', \" of rare bones — children's bones\", ' Well I have is', ' the election as a heavyweight event and', ' you lost to that just two years ago?', ' at this development has', \" while you're working on the\", ' (Fake) info Dale from Che', '� You are dead! I killed them all! (g', \" tonight when I'm working\", ' off Miraclemen is markedly unfair.', ' some Trades Week confusion around when', ' to say thank you to Joe Br', '!--\\n\\nMODS-Users\\n\\nIf you', \" dated and I'm\", 'JUSTIN]!] earned', '!\" said Cypher, a racist, divorced save \"wonder', ' purchasing it for my wife, as this paid spin pot does not', ' better than jack you', ' lot of gangbusters through Rome. You can see some of the western', 'the 1999 Istanbul Stadium],\" says Gianni', \"? We also didn't get the notoriously fraught romance between\", ' was, I just had no idea', ' my weed).\\n\\nA recent web activity with friends back home, lost', ' GRANTED Elstar 250', ' a major inefficiency transfer from another.300 team.', ' to unpack and give you', ' contribution! Harry can', ' Unminded.', ' not act seamlessly with imperialism,\" that further', ' the recommendations with a map and name plate mounted', ' one of the things I hate about Nintendo).', ' Cheese Dinner\\n\\nOct. 2: Stony', ' you a condo and, despite your demise, help you out', ' Where are [NAME]? I am', 'HL PERFORMANCE', ' the end of that stupid television commercial,\"', \"\\n\\n\\nHot (almost hot!)Dugs' Rachel, isn\", ' Worked fine from even the mundane out-thereverse, until Lost', ' 5336 500 05 2010-09-27 Except for things like their', '….******I mean, look at you’.', 'eated 🐸', '\\n\\nKirk:', ' beginner focused. There is little to no chapter numbering or', ' love patting the\\n\\nstreamies out of, and', ' are coming, and we know they have an opinion on them some', '� About wished that Gerard was wearing', ' to fail,\" he told Quartz. \"It\\'s', ']: Directive Legend\", \"terminator\" : \"', ' in the books.\") Rick believed that \"this means we could confirm whether Donald', ' visiting this site, as we', ' the time and I had the scene to myself, I was a jock', ' sawing my face', ' difficult year for the Sixers. The', '2000] cdc 34va 10823.', \"�oh he's Meslin․ And then we got …\", ' has never run into a humidity or sweet spot in my life has found', ' feels good in my t-shirt cum', ' and that reader hates us.\"\\n\\nThe next morning, Iran called Aw', ' those would be looted and left behind.', \"\\n\\nContact Billie Walden's Aunt Carol\", ' snuck into my mind again, that', ' that people use review sites to \"re', ' this effort, or find it true', ' in such shape in a form that the', ' my years as a paramedic,\" said', ' jig...quiet anxious mien biceps SocialIZER', ' dramatically below and the RTC Size Card', ' There is a problem with your subscription', \" that is first thing. Let's take the names and companies. The\", ' first, and ΔH for mormera then ph', ' forh professor. Grover continued: \"', ' no doubt about this,\" said Warren, \"', '�⇺', ', I was rather surprised', '.\\n\\nFrom what Mr. Romano', ', but well done, Neil.\\n\\nMOSTLY THREE', ' it, neutrality of Choice telephone and', ' does this have to', \" because he's living a vegan lifestyle he's\", ' Bird\" and his', ' sorts of emotions on your', ' suspended from Internet chatroom\"', ' --これはじゃ', ' bulk of this article while still', ' 11 minutes and 27', ' tries as hard as she can to', \" rough and he'll take a\", ' Izumi is a lovely person.\"\\n\\nThe mother giggled', ' (or probably not', ' dead in mass dumpster fire (Both safety and chemistry', ' way to read my incoming highway scenario, because', \" waitress's family ate and drank their salad (a kind of Med\", ' to say one last', ' really have much of a choice, but I was glad and happy with', ' courting a whole bunch of', ' around 7am so you might see it under a drone, but we were', \" most Republicans don't understand that immigration policy may not be able to prevent\", ' like a romantic and some man demands more sex? To', ' for this wonderful gift.\" \"Yes, I\\'m so glad I did.\"', ' how my former colleagues are doing', ' character,this will allow you to teleport to any area where the']}\n",
            "1\n",
            "{'input_ids': [tensor([ 817, 1381,  257,  922,  835,  284], device='cuda:0'), tensor([10262,   631,  3228], device='cuda:0'), tensor([ 43, 349,  13], device='cuda:0'), tensor([ 3987,   470,  6044,   546,   262, 17448], device='cuda:0'), tensor([  40,  991, 5465, 5181], device='cuda:0'), tensor([  32, 5007,  318, 5626], device='cuda:0'), tensor([9690,  582], device='cuda:0'), tensor([ 40, 765, 284], device='cuda:0'), tensor([1026,  468,  284, 2291,  257], device='cuda:0'), tensor([23307,  1310,  1165], device='cuda:0'), tensor([1212,  318,  523,   11], device='cuda:0'), tensor([   40,  1816, 14380,   329], device='cuda:0'), tensor([5297,  475,  644], device='cuda:0'), tensor([18243,   278], device='cuda:0'), tensor([5308, 1165,   13], device='cuda:0'), tensor([ 40, 481], device='cuda:0'), tensor([2990,  711, 7812], device='cuda:0'), tensor([10919,   257, 10195], device='cuda:0'), tensor([1026,  857], device='cuda:0'), tensor([1544, 3751,  703, 2562,  340,  318], device='cuda:0'), tensor([18690,   783,   314,   447,   247], device='cuda:0'), tensor([10814,    11,   750,   345,   760], device='cuda:0'), tensor([7390,   74], device='cuda:0'), tensor([40825, 36597], device='cuda:0'), tensor([ 52, 456,  11, 339], device='cuda:0'), tensor([   58, 20608,    60, 12012,   345,    11], device='cuda:0'), tensor([10449,   345,    13], device='cuda:0'), tensor([ 8128, 10870, 47080,   590,    13], device='cuda:0'), tensor([5124,  340,  373,  326,  890], device='cuda:0'), tensor([2061,  262], device='cuda:0'), tensor([13916,  1530,    13], device='cuda:0'), tensor([3987,  470, 5490,  986,  314, 1101], device='cuda:0'), tensor([1212,  318, 1521], device='cuda:0'), tensor([20459,   262,   976,  7054,   284], device='cuda:0'), tensor([1532,  663,  534,  717], device='cuda:0'), tensor([  45, 3008,   11,  345, 6304,  470], device='cuda:0'), tensor([15597,   319,  1016], device='cuda:0'), tensor([  40, 6635], device='cuda:0'), tensor([   58, 20608,    60,  1392], device='cuda:0'), tensor([2504,  338,  257], device='cuda:0'), tensor([   72,   460,   635,  1281, 27618,   286], device='cuda:0'), tensor([5812,  582,   11,  314, 1422], device='cuda:0'), tensor([1532,  326,  447,  247], device='cuda:0'), tensor([ 2504,  3595, 10505,    74], device='cuda:0'), tensor([15086,   594,   290,  1114, 18169, 25778], device='cuda:0'), tensor([ 5962,   290, 20976,   345], device='cuda:0'), tensor([   40,   765,   257, 12528,   270], device='cuda:0'), tensor([3792,  428,  262, 1295,  326,  550], device='cuda:0'), tensor([ 1532,   416,   564,   246, 50032], device='cuda:0'), tensor([22017,   986, 13408,   345], device='cuda:0'), tensor([2396, 6209,  262, 6000, 1048,  319], device='cuda:0'), tensor([ 3260, 27416], device='cuda:0'), tensor([34094,  1521,  1422,   447,   247,    83], device='cuda:0'), tensor([ 5812, 10194,     0,   679,   373], device='cuda:0'), tensor([2953, 1551,  340,  338, 7709, 1414], device='cuda:0'), tensor([ 2504,   318,   429, 13347,    13], device='cuda:0'), tensor([   42, 22261,   318,    13,   887,  4232], device='cuda:0'), tensor([17821,    11,   314,   716,   407,   257,  4336], device='cuda:0'), tensor([3041,  620,  503,  284], device='cuda:0'), tensor([1544,  447,  247,   82, 1969], device='cuda:0'), tensor([  45, 8476,  986, 5390], device='cuda:0'), tensor([2662,   38,  428], device='cuda:0'), tensor([ 2061,  3297,   286, 41466,  1571,  9811], device='cuda:0'), tensor([   58, 20608,  4357], device='cuda:0'), tensor([49061,     0], device='cuda:0'), tensor([10814,    11,   314], device='cuda:0'), tensor([10995,    11,   340,   338, 23374,  1222,   314], device='cuda:0'), tensor([  38, 9435, 1635, 5832,    9, 1064], device='cuda:0'), tensor([ 5779,   339, 15519,   465], device='cuda:0'), tensor([   39, 12236,  7926,   314,   447], device='cuda:0'), tensor([   3, 2154,  986], device='cuda:0'), tensor([ 2396, 18256, 25873,  6209], device='cuda:0'), tensor([8241, 4206,   13,  383], device='cuda:0'), tensor([12518,   468,   530,   286,   883,  3341], device='cuda:0'), tensor([  40, 1101, 9675], device='cuda:0'), tensor([3137, 3114,  379,  607,  916, 6713], device='cuda:0'), tensor([3792,  326,  257, 3487, 2756,  329], device='cuda:0'), tensor([ 320, 9675,  284], device='cuda:0'), tensor([  40, 1549, 4724,  611,  484,  714,  466], device='cuda:0'), tensor([  40, 2911,  523, 1165,   11], device='cuda:0'), tensor([5211,  345, 1612, 7912,   30], device='cuda:0'), tensor([6423, 2883,  340,  329], device='cuda:0'), tensor([10248,  1257,    11,   655], device='cuda:0'), tensor([3347,  468, 2495], device='cuda:0'), tensor([27467,   278,   340,    13,   632,  1838, 38013], device='cuda:0'), tensor([27110,    11, 42547,   760,   326], device='cuda:0'), tensor([2504,  447,  247,   82, 7226,  370], device='cuda:0'), tensor([14385,    13,  8920,  1327,   284,  1833,   329], device='cuda:0'), tensor([22017,  2254], device='cuda:0'), tensor([31439,   414, 42677], device='cuda:0'), tensor([ 40, 423, 281], device='cuda:0'), tensor([11793,  1050,  1417,   339,  5818,   447], device='cuda:0'), tensor([ 1106, 12081,    30], device='cuda:0'), tensor([   40,   588,   685, 20608,    60, 40351], device='cuda:0'), tensor([  40, 4601], device='cuda:0'), tensor([3666, 9955, 1838,  326, 9707,  366], device='cuda:0'), tensor([22017,   783,   314], device='cuda:0'), tensor([8048,  284,  604, 9366, 3653], device='cuda:0'), tensor([  40,  836,  470, 4144,  314,  836,  470], device='cuda:0'), tensor([1639,  460], device='cuda:0'), tensor([ 3792,   607,  8390, 22531,  6635,   284,   262], device='cuda:0'), tensor([25574,  1146], device='cuda:0'), tensor([  21, 1933,  318], device='cuda:0'), tensor([26141,  2667,   416], device='cuda:0'), tensor([42338,    13,   317,  1256,   286,  1402], device='cuda:0'), tensor([  43, 1557], device='cuda:0'), tensor([2061,  373], device='cuda:0'), tensor([18378,    25,   314,  6939], device='cuda:0'), tensor([ 1026, 42547,   938,   890], device='cuda:0'), tensor([1212, 1838,  502,  523, 3772,   11], device='cuda:0'), tensor([22342,  1474,   883, 17475, 33915, 40793,   318], device='cuda:0'), tensor([ 9527, 11752,  1288,   326,   373,  9372], device='cuda:0'), tensor([   1, 1219,  326, 2492,  470], device='cuda:0'), tensor([4342,  345,  389,  757], device='cuda:0'), tensor([   58, 20608,    60], device='cuda:0'), tensor([  40, 1101, 7926,   11,  618,  750,  257], device='cuda:0'), tensor([   38, 12375,  1842], device='cuda:0'), tensor([   54,  1939, 19593,   290], device='cuda:0'), tensor([1026,  447,  247,   82, 8788], device='cuda:0'), tensor([10449,   345, 26820], device='cuda:0'), tensor([5779,  673, 4966,  351,  257, 7684,  286], device='cuda:0'), tensor([1212, 2912, 1224,   83], device='cuda:0'), tensor([5812,  645], device='cuda:0'), tensor([   72,  2911,   428, 10319,   276], device='cuda:0'), tensor([2437,  466,  345], device='cuda:0'), tensor([ 8241,  2993, 10584,   338], device='cuda:0'), tensor([ 7469, 12998], device='cuda:0'), tensor([27354,  7616, 12883,   996], device='cuda:0')], 'query': ['Thats a good way to', 'Agree!!', 'Lol.', \"Don't forget about the flooding\", 'I still hate Cat', 'A Wall is NOT', 'Thanks man', 'I want to', 'It has to include a', 'Too little too', 'This is so,', 'I went nuts for', 'Yes but what', 'Searching', 'Me too.', 'I will', 'They play loud', 'what a shame', 'It does', 'He showed how easy it is', 'Ok now I’', 'Hey, did you know', 'Idk', 'Sounds nicer', 'Ugh, he', '[NAME] bless you,', 'Thank you.', 'Because cognitive dissonance.', 'Man it was that long', 'What the', 'Crush.', \"Don't worry... I'm\", 'This is why', 'Its the same AS to', 'If its your first', \"Nope, you weren't\", 'Keep on going', 'I totally', '[NAME] got', \"That's a\", 'i can also post pics of', 'Oh man, I didn', 'If that’', 'That poor snek', 'Silence and For Greater Glory', 'First and foremost you', 'I want a Dorit', 'Is this the place that had', 'If by ‘needs', 'Wow... Hope you', 'So basically the greatest person on', 'After awhile', 'Fuck why didn’t', 'Oh yeah! He was', \"At least it's decent pay\", 'That isnt sustainable.', 'Kinda is. But whatever', 'True, I am not a fan', 'Reach out to', 'He’s close', 'NICE... TO', 'OMG this', 'What sort of condescending racist', '[NAME],', 'Awesome!', 'Hey, I', \"Yeah, it's disgusting & I\", 'Glad *you* find', 'Well he abused his', 'Haha sorry I�', '$70...', 'So premier skins basically', 'Who knows. The', 'when has one of those systems', \"I'm glad\", 'just looked at her instagram', 'Is that a normal price for', 'im glad to', \"I'd guess if they could do\", 'I hope so too,', 'Do you mean artists?', 'Then enjoy it for', 'Good fun, just', 'She has pretty', 'Enjoying it. It makes shaving', 'tf, didnt know that', 'That’s typical W', 'Sorry. Was hard to understand for', 'Wow City', 'Modernity bullies', 'I have an', 'surprised he hasn�', '....never?', 'I like [NAME] Colombian', 'I wish', 'My dad makes that joke \"', 'Wow now I', 'Down to 4 defencemen', \"I don't drink I don't\", 'You can', 'Is her fake chin totally to the', 'Technically', '6 months is', 'Judging by', 'Seriously. A lot of small', 'Liqu', 'What was', 'Edit: I realized', 'It didnt last long', 'This makes me so happy,', 'Land near those coastal hotspots is', 'El oh el that was fucking', '\"oh that wasn\\'t', 'Here you are again', '[NAME]', \"I'm sorry, when did a\", 'Gotta love', 'Winchester and', 'It’s okay', 'Thank you kindly', 'Well she ran with a bunch of', 'This comment complet', 'Oh no', 'i hope this grossed', 'How do you', \"Who knew Mother's\", 'Definitely', 'Dat trigger discipline though']}\n",
            "*********************\n",
            "*********************\n",
            "*********************\n",
            "*********************\n"
          ]
        },
        {
          "output_type": "stream",
          "name": "stderr",
          "text": [
            "\r1it [00:42, 42.96s/it]"
          ]
        },
        {
          "output_type": "stream",
          "name": "stdout",
          "text": [
            "{'input_ids': [tensor([ 817, 1381,  257,  922,  835,  284], device='cuda:0'), tensor([10262,   631,  3228], device='cuda:0'), tensor([ 43, 349,  13], device='cuda:0'), tensor([ 3987,   470,  6044,   546,   262, 17448], device='cuda:0'), tensor([  40,  991, 5465, 5181], device='cuda:0'), tensor([  32, 5007,  318, 5626], device='cuda:0'), tensor([9690,  582], device='cuda:0'), tensor([ 40, 765, 284], device='cuda:0'), tensor([1026,  468,  284, 2291,  257], device='cuda:0'), tensor([23307,  1310,  1165], device='cuda:0'), tensor([1212,  318,  523,   11], device='cuda:0'), tensor([   40,  1816, 14380,   329], device='cuda:0'), tensor([5297,  475,  644], device='cuda:0'), tensor([18243,   278], device='cuda:0'), tensor([5308, 1165,   13], device='cuda:0'), tensor([ 40, 481], device='cuda:0'), tensor([2990,  711, 7812], device='cuda:0'), tensor([10919,   257, 10195], device='cuda:0'), tensor([1026,  857], device='cuda:0'), tensor([1544, 3751,  703, 2562,  340,  318], device='cuda:0'), tensor([18690,   783,   314,   447,   247], device='cuda:0'), tensor([10814,    11,   750,   345,   760], device='cuda:0'), tensor([7390,   74], device='cuda:0'), tensor([40825, 36597], device='cuda:0'), tensor([ 52, 456,  11, 339], device='cuda:0'), tensor([   58, 20608,    60, 12012,   345,    11], device='cuda:0'), tensor([10449,   345,    13], device='cuda:0'), tensor([ 8128, 10870, 47080,   590,    13], device='cuda:0'), tensor([5124,  340,  373,  326,  890], device='cuda:0'), tensor([2061,  262], device='cuda:0'), tensor([13916,  1530,    13], device='cuda:0'), tensor([3987,  470, 5490,  986,  314, 1101], device='cuda:0'), tensor([1212,  318, 1521], device='cuda:0'), tensor([20459,   262,   976,  7054,   284], device='cuda:0'), tensor([1532,  663,  534,  717], device='cuda:0'), tensor([  45, 3008,   11,  345, 6304,  470], device='cuda:0'), tensor([15597,   319,  1016], device='cuda:0'), tensor([  40, 6635], device='cuda:0'), tensor([   58, 20608,    60,  1392], device='cuda:0'), tensor([2504,  338,  257], device='cuda:0'), tensor([   72,   460,   635,  1281, 27618,   286], device='cuda:0'), tensor([5812,  582,   11,  314, 1422], device='cuda:0'), tensor([1532,  326,  447,  247], device='cuda:0'), tensor([ 2504,  3595, 10505,    74], device='cuda:0'), tensor([15086,   594,   290,  1114, 18169, 25778], device='cuda:0'), tensor([ 5962,   290, 20976,   345], device='cuda:0'), tensor([   40,   765,   257, 12528,   270], device='cuda:0'), tensor([3792,  428,  262, 1295,  326,  550], device='cuda:0'), tensor([ 1532,   416,   564,   246, 50032], device='cuda:0'), tensor([22017,   986, 13408,   345], device='cuda:0'), tensor([2396, 6209,  262, 6000, 1048,  319], device='cuda:0'), tensor([ 3260, 27416], device='cuda:0'), tensor([34094,  1521,  1422,   447,   247,    83], device='cuda:0'), tensor([ 5812, 10194,     0,   679,   373], device='cuda:0'), tensor([2953, 1551,  340,  338, 7709, 1414], device='cuda:0'), tensor([ 2504,   318,   429, 13347,    13], device='cuda:0'), tensor([   42, 22261,   318,    13,   887,  4232], device='cuda:0'), tensor([17821,    11,   314,   716,   407,   257,  4336], device='cuda:0'), tensor([3041,  620,  503,  284], device='cuda:0'), tensor([1544,  447,  247,   82, 1969], device='cuda:0'), tensor([  45, 8476,  986, 5390], device='cuda:0'), tensor([2662,   38,  428], device='cuda:0'), tensor([ 2061,  3297,   286, 41466,  1571,  9811], device='cuda:0'), tensor([   58, 20608,  4357], device='cuda:0'), tensor([49061,     0], device='cuda:0'), tensor([10814,    11,   314], device='cuda:0'), tensor([10995,    11,   340,   338, 23374,  1222,   314], device='cuda:0'), tensor([  38, 9435, 1635, 5832,    9, 1064], device='cuda:0'), tensor([ 5779,   339, 15519,   465], device='cuda:0'), tensor([   39, 12236,  7926,   314,   447], device='cuda:0'), tensor([   3, 2154,  986], device='cuda:0'), tensor([ 2396, 18256, 25873,  6209], device='cuda:0'), tensor([8241, 4206,   13,  383], device='cuda:0'), tensor([12518,   468,   530,   286,   883,  3341], device='cuda:0'), tensor([  40, 1101, 9675], device='cuda:0'), tensor([3137, 3114,  379,  607,  916, 6713], device='cuda:0'), tensor([3792,  326,  257, 3487, 2756,  329], device='cuda:0'), tensor([ 320, 9675,  284], device='cuda:0'), tensor([  40, 1549, 4724,  611,  484,  714,  466], device='cuda:0'), tensor([  40, 2911,  523, 1165,   11], device='cuda:0'), tensor([5211,  345, 1612, 7912,   30], device='cuda:0'), tensor([6423, 2883,  340,  329], device='cuda:0'), tensor([10248,  1257,    11,   655], device='cuda:0'), tensor([3347,  468, 2495], device='cuda:0'), tensor([27467,   278,   340,    13,   632,  1838, 38013], device='cuda:0'), tensor([27110,    11, 42547,   760,   326], device='cuda:0'), tensor([2504,  447,  247,   82, 7226,  370], device='cuda:0'), tensor([14385,    13,  8920,  1327,   284,  1833,   329], device='cuda:0'), tensor([22017,  2254], device='cuda:0'), tensor([31439,   414, 42677], device='cuda:0'), tensor([ 40, 423, 281], device='cuda:0'), tensor([11793,  1050,  1417,   339,  5818,   447], device='cuda:0'), tensor([ 1106, 12081,    30], device='cuda:0'), tensor([   40,   588,   685, 20608,    60, 40351], device='cuda:0'), tensor([  40, 4601], device='cuda:0'), tensor([3666, 9955, 1838,  326, 9707,  366], device='cuda:0'), tensor([22017,   783,   314], device='cuda:0'), tensor([8048,  284,  604, 9366, 3653], device='cuda:0'), tensor([  40,  836,  470, 4144,  314,  836,  470], device='cuda:0'), tensor([1639,  460], device='cuda:0'), tensor([ 3792,   607,  8390, 22531,  6635,   284,   262], device='cuda:0'), tensor([25574,  1146], device='cuda:0'), tensor([  21, 1933,  318], device='cuda:0'), tensor([26141,  2667,   416], device='cuda:0'), tensor([42338,    13,   317,  1256,   286,  1402], device='cuda:0'), tensor([  43, 1557], device='cuda:0'), tensor([2061,  373], device='cuda:0'), tensor([18378,    25,   314,  6939], device='cuda:0'), tensor([ 1026, 42547,   938,   890], device='cuda:0'), tensor([1212, 1838,  502,  523, 3772,   11], device='cuda:0'), tensor([22342,  1474,   883, 17475, 33915, 40793,   318], device='cuda:0'), tensor([ 9527, 11752,  1288,   326,   373,  9372], device='cuda:0'), tensor([   1, 1219,  326, 2492,  470], device='cuda:0'), tensor([4342,  345,  389,  757], device='cuda:0'), tensor([   58, 20608,    60], device='cuda:0'), tensor([  40, 1101, 7926,   11,  618,  750,  257], device='cuda:0'), tensor([   38, 12375,  1842], device='cuda:0'), tensor([   54,  1939, 19593,   290], device='cuda:0'), tensor([1026,  447,  247,   82, 8788], device='cuda:0'), tensor([10449,   345, 26820], device='cuda:0'), tensor([5779,  673, 4966,  351,  257, 7684,  286], device='cuda:0'), tensor([1212, 2912, 1224,   83], device='cuda:0'), tensor([5812,  645], device='cuda:0'), tensor([   72,  2911,   428, 10319,   276], device='cuda:0'), tensor([2437,  466,  345], device='cuda:0'), tensor([ 8241,  2993, 10584,   338], device='cuda:0'), tensor([ 7469, 12998], device='cuda:0'), tensor([27354,  7616, 12883,   996], device='cuda:0')], 'query': ['Thats a good way to', 'Agree!!', 'Lol.', \"Don't forget about the flooding\", 'I still hate Cat', 'A Wall is NOT', 'Thanks man', 'I want to', 'It has to include a', 'Too little too', 'This is so,', 'I went nuts for', 'Yes but what', 'Searching', 'Me too.', 'I will', 'They play loud', 'what a shame', 'It does', 'He showed how easy it is', 'Ok now I’', 'Hey, did you know', 'Idk', 'Sounds nicer', 'Ugh, he', '[NAME] bless you,', 'Thank you.', 'Because cognitive dissonance.', 'Man it was that long', 'What the', 'Crush.', \"Don't worry... I'm\", 'This is why', 'Its the same AS to', 'If its your first', \"Nope, you weren't\", 'Keep on going', 'I totally', '[NAME] got', \"That's a\", 'i can also post pics of', 'Oh man, I didn', 'If that’', 'That poor snek', 'Silence and For Greater Glory', 'First and foremost you', 'I want a Dorit', 'Is this the place that had', 'If by ‘needs', 'Wow... Hope you', 'So basically the greatest person on', 'After awhile', 'Fuck why didn’t', 'Oh yeah! He was', \"At least it's decent pay\", 'That isnt sustainable.', 'Kinda is. But whatever', 'True, I am not a fan', 'Reach out to', 'He’s close', 'NICE... TO', 'OMG this', 'What sort of condescending racist', '[NAME],', 'Awesome!', 'Hey, I', \"Yeah, it's disgusting & I\", 'Glad *you* find', 'Well he abused his', 'Haha sorry I�', '$70...', 'So premier skins basically', 'Who knows. The', 'when has one of those systems', \"I'm glad\", 'just looked at her instagram', 'Is that a normal price for', 'im glad to', \"I'd guess if they could do\", 'I hope so too,', 'Do you mean artists?', 'Then enjoy it for', 'Good fun, just', 'She has pretty', 'Enjoying it. It makes shaving', 'tf, didnt know that', 'That’s typical W', 'Sorry. Was hard to understand for', 'Wow City', 'Modernity bullies', 'I have an', 'surprised he hasn�', '....never?', 'I like [NAME] Colombian', 'I wish', 'My dad makes that joke \"', 'Wow now I', 'Down to 4 defencemen', \"I don't drink I don't\", 'You can', 'Is her fake chin totally to the', 'Technically', '6 months is', 'Judging by', 'Seriously. A lot of small', 'Liqu', 'What was', 'Edit: I realized', 'It didnt last long', 'This makes me so happy,', 'Land near those coastal hotspots is', 'El oh el that was fucking', '\"oh that wasn\\'t', 'Here you are again', '[NAME]', \"I'm sorry, when did a\", 'Gotta love', 'Winchester and', 'It’s okay', 'Thank you kindly', 'Well she ran with a bunch of', 'This comment complet', 'Oh no', 'i hope this grossed', 'How do you', \"Who knew Mother's\", 'Definitely', 'Dat trigger discipline though'], 'response': [' send me cloned mef', \" If I'm not mistaken, some\", ' A coffee bean is a food.)\\nCompleted Mackay County 2010\\nInd', \" and you'll be staying in a\", ': \"This is for all', ' the end of the world if a', ', thank you (another little one sound', ' agree that democracy is a', ' cited list of \"promotional', ' much is at stake when it comes to the economy.\\n\\nAnd Alberta', ' and I have \"rebasa\" such that it\\'s dead', ' this complete set the full time, I was expecting this party night,\"', ' do Scots believe are the', ' Memories of Human Reality\\n\\nThe founding', \" I don't have many needs. This was my fit for my military\", ' not accept your idea...see how it is.\"', \" music and usually don't sound too humbled. Jones' takes on the\", ') or blame for your own selection of hacker tools. We', ' keep satellites and air traffic neatly separated: once in Moscow, at Thess', \" when you're trying to learn\", 'will heroes remember, and mortality will', ' that Minnie Tak', 'bn:1759', \" than Felsen's own product's version. Limited\", ' left us to write', ' (Added bonus and reserve level) progress, like', '\\n\\nI hear you. Hello', \" Compare this to incredulous individuals. Or perhaps the group's freedom.\", ' ago you started up this website.', \" 'Schools' are Putting Into History, Myth, and\", '1.28RY standardized pH 7.1 plus antibodies as', ' not a saint, but I keep assuming it.\"\\n\\n', ' this run in CoffeeCraft is', ' be considered within the last three years', ' time shopping for footwear, if', \" listening.\\n\\nWe saw all the hype and it wasn't until Dave\", ', because the Gate', ' speak for anybody at all,\" she said. \"They take', ' a screen shot in making it: http://www.live', ' new street in Toronto,\" she said', \" it. Unfortunately, he didn't, so it's not\", \"'t expect to see chances die down even higher. Granted, there...\", '—sat with my parents while', 'ker is waiting for the day without a job, because he', ' After Dying On The Edge When Spiritual Strike', ' can improve your vocal quality by opening', 'os in the saddle', ' hospitals? So, if those NYHC', ' you to treat this one as death', '\\'re okay, y-you\\'re still here\". CLOSE ONBLE,', ' Earth is Mr. Da Verde, and I', \", I began to forget about I'm a traditionally Protestant scholar.\", ' they paint those people their pain!\"\\n\\nThe American public, for deceased', ' so scared, and he just rushed in. This was this', ' for a professional trainer', ' And most literally what countless ex priests do not know to what', ' happened on her ranch? Prins-S', '. My stay life was very dreary.\\n\\nHaving', ' lots of r3', ' ɾ’sous Glom ―mol�', 'OLS... GAINS... FORGGED DR', ' year were on RAM STS for 30 minutes', ' feminist is saying that she accepts it', ' i++) {\\n\\n', ' Thanks, Perishek :)⊆️�', \"'m not a porn\", \"'m beginning to fall in love with dem\", ' glory because you know what they do to your art If that I may use', ' power?\\n\\nModern formats are rife with ODMs that allow players to', '�.This week I plan on strengthening Little Sisters. I noticed', ' $500 12 Match Term: $250 $600', ' guarantee a 50% wool exfoliating exp', ' first thing we can say is the bailiff said has', ' that are rocketing into space, checking all of the status', ' to hear that cameras this well up there, these guys are', ' but she was trying to figure out her own appropriate, correct expression', ' a vehicle such as an emergency', ' address our recent questions with a simple request, how makes rust', ' it. They just have to work on helping them', ' as I consider this political-legal issue as a populist war-making strategy', '\\n\\nKK: I, I mean whether you', ' yourself.\\n\\nChapter 2: BC4: Chapter 12 Ver', ' to show, not to', ' much the best at her job as she is a', ' smell like wet dandelion! Enjoy! Today I tried', ' this came from togglerschool?? Sub itself isnt', 'TF episode—extremely ineffective, o', ' an industry with lots of Chinese', '\",\"ps4\":181,\"pt', ' are off acting like grandmothers, haunted home care centers and pavers', \" extensive presentation that begins at the ordinance's lowest level\", \"� it wasn't impossible for anyone\", '\\n\\nAfter that, the game decided which asked', ' play, Great Los Angeles, Great burger chili', ' I had some darker requested panels for your fabbing blog', 'You want jobs? You want in?\" every time I hear what they tell', ' promise to never stop', ' also saw their shot on goal go up, allowing James Harden to face Tyson', ' breathe I don\\'t have a choice,\" Mother Granny cry', ' see how little this gag was necessary for', \" dogs wife's face? Was that signified that the Larry search proves\", \" off the rush, it's going to be interesting\", \" what both parties want to achieve. You can't simply change what's already\", \" how well I'm doing. As soon as\", \" groups in Watertown don't LOVE water use ANYMORE.\", 'efied Active\\n\\nB', ' excited you to do this?\\n\\nRemain of the message: Really', ' Ghost Ship unsuitable for expansion was', ', and based on that performance venture ZB across Mostgrowth.', ' I usually get excited when my CU girls disappear, so', ' actually lower than some to say it is safe', ' mr who who u dont even', ' answered in our tweets they promised every tweet', '!\\n\\n\\nWe joined in celebration of our', ' - string/html\\n\\nThis', ' pig get suckered into your house', ' this stuff 2 bad or so, and I really don', ' That Their Creek View (812 E. Robinson St; Union', ' to regret… at least once in his life.\" Mother Rice r', '! [-> Set Spinning Wheel] Rice Scroll [Dry', ' git. That way the team would see what had taken', 'ly not addresses me when I understand', '-Nuala, no-Nuala!\" Renlly cried, rolling', ' enough to change my mind about', ' go about transporting a fruit in different', ' Day was a minefield?\\' \" Mossman asked.\\n\\n', ' put down a lot of baggage (I had an illustrious career and remained', ', since SC3e so many times repealed ties with college bodies after DK']}\n"
          ]
        },
        {
          "output_type": "stream",
          "name": "stderr",
          "text": [
            "\n"
          ]
        }
      ],
      "source": [
        "\n",
        "for epoch, batch in tqdm(enumerate(ppo_trainer.dataloader)):\n",
        "    query_tensors = batch[\"input_ids\"]\n",
        "    print(epoch)\n",
        "    print(batch)\n",
        "    print('*********************')\n",
        "    print('*********************')\n",
        "    print('*********************')\n",
        "    print('*********************')\n",
        "    #### Get response from gpt2\n",
        "    response_tensors = []\n",
        "    for query in query_tensors:\n",
        "        gen_len                             = output_length_sampler()\n",
        "        generation_kwargs[\"max_new_tokens\"] = gen_len\n",
        "        response                            = ppo_trainer.generate(query, **generation_kwargs)\n",
        "        response_tensors.append( response.squeeze()[-gen_len:] )\n",
        "    batch[\"response\"] = [ tokenizer.decode(r.squeeze()) for r in response_tensors ]\n",
        "    print(batch)\n",
        "    if epoch == 1:\n",
        "        break\n"
      ]
    },
    {
      "cell_type": "code",
      "execution_count": 36,
      "metadata": {
        "colab": {
          "base_uri": "https://localhost:8080/"
        },
        "id": "u2JfB_TJWHNt",
        "outputId": "03be20b5-d9a8-4a82-b3ee-dd51f3670d53"
      },
      "outputs": [
        {
          "output_type": "execute_result",
          "data": {
            "text/plain": [
              "dict_keys(['input_ids', 'query', 'response'])"
            ]
          },
          "metadata": {},
          "execution_count": 36
        }
      ],
      "source": [
        "\n",
        "batch.keys()\n"
      ]
    },
    {
      "cell_type": "markdown",
      "metadata": {
        "id": "Gi2g3SvIWHNt"
      },
      "source": [
        "\n",
        "#### Compute sentiment score\n"
      ]
    },
    {
      "cell_type": "code",
      "execution_count": 37,
      "metadata": {
        "colab": {
          "base_uri": "https://localhost:8080/"
        },
        "id": "IzbXM1RaWHNt",
        "outputId": "5843af95-2074-48e4-d748-31cf9c50b44b"
      },
      "outputs": [
        {
          "output_type": "execute_result",
          "data": {
            "text/plain": [
              "['Thats a good way to',\n",
              " 'Agree!!',\n",
              " 'Lol.',\n",
              " \"Don't forget about the flooding\",\n",
              " 'I still hate Cat',\n",
              " 'A Wall is NOT',\n",
              " 'Thanks man',\n",
              " 'I want to',\n",
              " 'It has to include a',\n",
              " 'Too little too',\n",
              " 'This is so,',\n",
              " 'I went nuts for',\n",
              " 'Yes but what',\n",
              " 'Searching',\n",
              " 'Me too.',\n",
              " 'I will',\n",
              " 'They play loud',\n",
              " 'what a shame',\n",
              " 'It does',\n",
              " 'He showed how easy it is',\n",
              " 'Ok now I’',\n",
              " 'Hey, did you know',\n",
              " 'Idk',\n",
              " 'Sounds nicer',\n",
              " 'Ugh, he',\n",
              " '[NAME] bless you,',\n",
              " 'Thank you.',\n",
              " 'Because cognitive dissonance.',\n",
              " 'Man it was that long',\n",
              " 'What the',\n",
              " 'Crush.',\n",
              " \"Don't worry... I'm\",\n",
              " 'This is why',\n",
              " 'Its the same AS to',\n",
              " 'If its your first',\n",
              " \"Nope, you weren't\",\n",
              " 'Keep on going',\n",
              " 'I totally',\n",
              " '[NAME] got',\n",
              " \"That's a\",\n",
              " 'i can also post pics of',\n",
              " 'Oh man, I didn',\n",
              " 'If that’',\n",
              " 'That poor snek',\n",
              " 'Silence and For Greater Glory',\n",
              " 'First and foremost you',\n",
              " 'I want a Dorit',\n",
              " 'Is this the place that had',\n",
              " 'If by ‘needs',\n",
              " 'Wow... Hope you',\n",
              " 'So basically the greatest person on',\n",
              " 'After awhile',\n",
              " 'Fuck why didn’t',\n",
              " 'Oh yeah! He was',\n",
              " \"At least it's decent pay\",\n",
              " 'That isnt sustainable.',\n",
              " 'Kinda is. But whatever',\n",
              " 'True, I am not a fan',\n",
              " 'Reach out to',\n",
              " 'He’s close',\n",
              " 'NICE... TO',\n",
              " 'OMG this',\n",
              " 'What sort of condescending racist',\n",
              " '[NAME],',\n",
              " 'Awesome!',\n",
              " 'Hey, I',\n",
              " \"Yeah, it's disgusting & I\",\n",
              " 'Glad *you* find',\n",
              " 'Well he abused his',\n",
              " 'Haha sorry I�',\n",
              " '$70...',\n",
              " 'So premier skins basically',\n",
              " 'Who knows. The',\n",
              " 'when has one of those systems',\n",
              " \"I'm glad\",\n",
              " 'just looked at her instagram',\n",
              " 'Is that a normal price for',\n",
              " 'im glad to',\n",
              " \"I'd guess if they could do\",\n",
              " 'I hope so too,',\n",
              " 'Do you mean artists?',\n",
              " 'Then enjoy it for',\n",
              " 'Good fun, just',\n",
              " 'She has pretty',\n",
              " 'Enjoying it. It makes shaving',\n",
              " 'tf, didnt know that',\n",
              " 'That’s typical W',\n",
              " 'Sorry. Was hard to understand for',\n",
              " 'Wow City',\n",
              " 'Modernity bullies',\n",
              " 'I have an',\n",
              " 'surprised he hasn�',\n",
              " '....never?',\n",
              " 'I like [NAME] Colombian',\n",
              " 'I wish',\n",
              " 'My dad makes that joke \"',\n",
              " 'Wow now I',\n",
              " 'Down to 4 defencemen',\n",
              " \"I don't drink I don't\",\n",
              " 'You can',\n",
              " 'Is her fake chin totally to the',\n",
              " 'Technically',\n",
              " '6 months is',\n",
              " 'Judging by',\n",
              " 'Seriously. A lot of small',\n",
              " 'Liqu',\n",
              " 'What was',\n",
              " 'Edit: I realized',\n",
              " 'It didnt last long',\n",
              " 'This makes me so happy,',\n",
              " 'Land near those coastal hotspots is',\n",
              " 'El oh el that was fucking',\n",
              " '\"oh that wasn\\'t',\n",
              " 'Here you are again',\n",
              " '[NAME]',\n",
              " \"I'm sorry, when did a\",\n",
              " 'Gotta love',\n",
              " 'Winchester and',\n",
              " 'It’s okay',\n",
              " 'Thank you kindly',\n",
              " 'Well she ran with a bunch of',\n",
              " 'This comment complet',\n",
              " 'Oh no',\n",
              " 'i hope this grossed',\n",
              " 'How do you',\n",
              " \"Who knew Mother's\",\n",
              " 'Definitely',\n",
              " 'Dat trigger discipline though']"
            ]
          },
          "metadata": {},
          "execution_count": 37
        }
      ],
      "source": [
        "\n",
        "batch[\"query\"]\n"
      ]
    },
    {
      "cell_type": "code",
      "execution_count": 38,
      "metadata": {
        "colab": {
          "base_uri": "https://localhost:8080/"
        },
        "id": "n5TlhujkWHNu",
        "outputId": "34b427d6-ae56-47d7-ad03-bfd644486df2"
      },
      "outputs": [
        {
          "output_type": "execute_result",
          "data": {
            "text/plain": [
              "[' send me cloned mef',\n",
              " \" If I'm not mistaken, some\",\n",
              " ' A coffee bean is a food.)\\nCompleted Mackay County 2010\\nInd',\n",
              " \" and you'll be staying in a\",\n",
              " ': \"This is for all',\n",
              " ' the end of the world if a',\n",
              " ', thank you (another little one sound',\n",
              " ' agree that democracy is a',\n",
              " ' cited list of \"promotional',\n",
              " ' much is at stake when it comes to the economy.\\n\\nAnd Alberta',\n",
              " ' and I have \"rebasa\" such that it\\'s dead',\n",
              " ' this complete set the full time, I was expecting this party night,\"',\n",
              " ' do Scots believe are the',\n",
              " ' Memories of Human Reality\\n\\nThe founding',\n",
              " \" I don't have many needs. This was my fit for my military\",\n",
              " ' not accept your idea...see how it is.\"',\n",
              " \" music and usually don't sound too humbled. Jones' takes on the\",\n",
              " ') or blame for your own selection of hacker tools. We',\n",
              " ' keep satellites and air traffic neatly separated: once in Moscow, at Thess',\n",
              " \" when you're trying to learn\",\n",
              " 'will heroes remember, and mortality will',\n",
              " ' that Minnie Tak',\n",
              " 'bn:1759',\n",
              " \" than Felsen's own product's version. Limited\",\n",
              " ' left us to write',\n",
              " ' (Added bonus and reserve level) progress, like',\n",
              " '\\n\\nI hear you. Hello',\n",
              " \" Compare this to incredulous individuals. Or perhaps the group's freedom.\",\n",
              " ' ago you started up this website.',\n",
              " \" 'Schools' are Putting Into History, Myth, and\",\n",
              " '1.28RY standardized pH 7.1 plus antibodies as',\n",
              " ' not a saint, but I keep assuming it.\"\\n\\n',\n",
              " ' this run in CoffeeCraft is',\n",
              " ' be considered within the last three years',\n",
              " ' time shopping for footwear, if',\n",
              " \" listening.\\n\\nWe saw all the hype and it wasn't until Dave\",\n",
              " ', because the Gate',\n",
              " ' speak for anybody at all,\" she said. \"They take',\n",
              " ' a screen shot in making it: http://www.live',\n",
              " ' new street in Toronto,\" she said',\n",
              " \" it. Unfortunately, he didn't, so it's not\",\n",
              " \"'t expect to see chances die down even higher. Granted, there...\",\n",
              " '—sat with my parents while',\n",
              " 'ker is waiting for the day without a job, because he',\n",
              " ' After Dying On The Edge When Spiritual Strike',\n",
              " ' can improve your vocal quality by opening',\n",
              " 'os in the saddle',\n",
              " ' hospitals? So, if those NYHC',\n",
              " ' you to treat this one as death',\n",
              " '\\'re okay, y-you\\'re still here\". CLOSE ONBLE,',\n",
              " ' Earth is Mr. Da Verde, and I',\n",
              " \", I began to forget about I'm a traditionally Protestant scholar.\",\n",
              " ' they paint those people their pain!\"\\n\\nThe American public, for deceased',\n",
              " ' so scared, and he just rushed in. This was this',\n",
              " ' for a professional trainer',\n",
              " ' And most literally what countless ex priests do not know to what',\n",
              " ' happened on her ranch? Prins-S',\n",
              " '. My stay life was very dreary.\\n\\nHaving',\n",
              " ' lots of r3',\n",
              " ' ɾ’sous Glom ―mol�',\n",
              " 'OLS... GAINS... FORGGED DR',\n",
              " ' year were on RAM STS for 30 minutes',\n",
              " ' feminist is saying that she accepts it',\n",
              " ' i++) {\\n\\n',\n",
              " ' Thanks, Perishek :)⊆️�',\n",
              " \"'m not a porn\",\n",
              " \"'m beginning to fall in love with dem\",\n",
              " ' glory because you know what they do to your art If that I may use',\n",
              " ' power?\\n\\nModern formats are rife with ODMs that allow players to',\n",
              " '�.This week I plan on strengthening Little Sisters. I noticed',\n",
              " ' $500 12 Match Term: $250 $600',\n",
              " ' guarantee a 50% wool exfoliating exp',\n",
              " ' first thing we can say is the bailiff said has',\n",
              " ' that are rocketing into space, checking all of the status',\n",
              " ' to hear that cameras this well up there, these guys are',\n",
              " ' but she was trying to figure out her own appropriate, correct expression',\n",
              " ' a vehicle such as an emergency',\n",
              " ' address our recent questions with a simple request, how makes rust',\n",
              " ' it. They just have to work on helping them',\n",
              " ' as I consider this political-legal issue as a populist war-making strategy',\n",
              " '\\n\\nKK: I, I mean whether you',\n",
              " ' yourself.\\n\\nChapter 2: BC4: Chapter 12 Ver',\n",
              " ' to show, not to',\n",
              " ' much the best at her job as she is a',\n",
              " ' smell like wet dandelion! Enjoy! Today I tried',\n",
              " ' this came from togglerschool?? Sub itself isnt',\n",
              " 'TF episode—extremely ineffective, o',\n",
              " ' an industry with lots of Chinese',\n",
              " '\",\"ps4\":181,\"pt',\n",
              " ' are off acting like grandmothers, haunted home care centers and pavers',\n",
              " \" extensive presentation that begins at the ordinance's lowest level\",\n",
              " \"� it wasn't impossible for anyone\",\n",
              " '\\n\\nAfter that, the game decided which asked',\n",
              " ' play, Great Los Angeles, Great burger chili',\n",
              " ' I had some darker requested panels for your fabbing blog',\n",
              " 'You want jobs? You want in?\" every time I hear what they tell',\n",
              " ' promise to never stop',\n",
              " ' also saw their shot on goal go up, allowing James Harden to face Tyson',\n",
              " ' breathe I don\\'t have a choice,\" Mother Granny cry',\n",
              " ' see how little this gag was necessary for',\n",
              " \" dogs wife's face? Was that signified that the Larry search proves\",\n",
              " \" off the rush, it's going to be interesting\",\n",
              " \" what both parties want to achieve. You can't simply change what's already\",\n",
              " \" how well I'm doing. As soon as\",\n",
              " \" groups in Watertown don't LOVE water use ANYMORE.\",\n",
              " 'efied Active\\n\\nB',\n",
              " ' excited you to do this?\\n\\nRemain of the message: Really',\n",
              " ' Ghost Ship unsuitable for expansion was',\n",
              " ', and based on that performance venture ZB across Mostgrowth.',\n",
              " ' I usually get excited when my CU girls disappear, so',\n",
              " ' actually lower than some to say it is safe',\n",
              " ' mr who who u dont even',\n",
              " ' answered in our tweets they promised every tweet',\n",
              " '!\\n\\n\\nWe joined in celebration of our',\n",
              " ' - string/html\\n\\nThis',\n",
              " ' pig get suckered into your house',\n",
              " ' this stuff 2 bad or so, and I really don',\n",
              " ' That Their Creek View (812 E. Robinson St; Union',\n",
              " ' to regret… at least once in his life.\" Mother Rice r',\n",
              " '! [-> Set Spinning Wheel] Rice Scroll [Dry',\n",
              " ' git. That way the team would see what had taken',\n",
              " 'ly not addresses me when I understand',\n",
              " '-Nuala, no-Nuala!\" Renlly cried, rolling',\n",
              " ' enough to change my mind about',\n",
              " ' go about transporting a fruit in different',\n",
              " ' Day was a minefield?\\' \" Mossman asked.\\n\\n',\n",
              " ' put down a lot of baggage (I had an illustrious career and remained',\n",
              " ', since SC3e so many times repealed ties with college bodies after DK']"
            ]
          },
          "metadata": {},
          "execution_count": 38
        }
      ],
      "source": [
        "\n",
        "batch[\"response\"]\n"
      ]
    },
    {
      "cell_type": "code",
      "execution_count": 39,
      "metadata": {
        "id": "zPd1atzwWHNu"
      },
      "outputs": [],
      "source": [
        "\n",
        "texts = [ q + r for q, r in zip(batch[\"query\"], batch[\"response\"]) ]\n"
      ]
    },
    {
      "cell_type": "code",
      "execution_count": 40,
      "metadata": {
        "colab": {
          "base_uri": "https://localhost:8080/"
        },
        "id": "WJNreSx1WHNu",
        "outputId": "fe8a19d9-15bc-4518-975a-06300c474808"
      },
      "outputs": [
        {
          "output_type": "execute_result",
          "data": {
            "text/plain": [
              "['Thats a good way to send me cloned mef',\n",
              " \"Agree!! If I'm not mistaken, some\",\n",
              " 'Lol. A coffee bean is a food.)\\nCompleted Mackay County 2010\\nInd',\n",
              " \"Don't forget about the flooding and you'll be staying in a\",\n",
              " 'I still hate Cat: \"This is for all',\n",
              " 'A Wall is NOT the end of the world if a',\n",
              " 'Thanks man, thank you (another little one sound',\n",
              " 'I want to agree that democracy is a',\n",
              " 'It has to include a cited list of \"promotional',\n",
              " 'Too little too much is at stake when it comes to the economy.\\n\\nAnd Alberta',\n",
              " 'This is so, and I have \"rebasa\" such that it\\'s dead',\n",
              " 'I went nuts for this complete set the full time, I was expecting this party night,\"',\n",
              " 'Yes but what do Scots believe are the',\n",
              " 'Searching Memories of Human Reality\\n\\nThe founding',\n",
              " \"Me too. I don't have many needs. This was my fit for my military\",\n",
              " 'I will not accept your idea...see how it is.\"',\n",
              " \"They play loud music and usually don't sound too humbled. Jones' takes on the\",\n",
              " 'what a shame) or blame for your own selection of hacker tools. We',\n",
              " 'It does keep satellites and air traffic neatly separated: once in Moscow, at Thess',\n",
              " \"He showed how easy it is when you're trying to learn\",\n",
              " 'Ok now I’will heroes remember, and mortality will',\n",
              " 'Hey, did you know that Minnie Tak',\n",
              " 'Idkbn:1759',\n",
              " \"Sounds nicer than Felsen's own product's version. Limited\",\n",
              " 'Ugh, he left us to write',\n",
              " '[NAME] bless you, (Added bonus and reserve level) progress, like',\n",
              " 'Thank you.\\n\\nI hear you. Hello',\n",
              " \"Because cognitive dissonance. Compare this to incredulous individuals. Or perhaps the group's freedom.\",\n",
              " 'Man it was that long ago you started up this website.',\n",
              " \"What the 'Schools' are Putting Into History, Myth, and\",\n",
              " 'Crush.1.28RY standardized pH 7.1 plus antibodies as',\n",
              " 'Don\\'t worry... I\\'m not a saint, but I keep assuming it.\"\\n\\n',\n",
              " 'This is why this run in CoffeeCraft is',\n",
              " 'Its the same AS to be considered within the last three years',\n",
              " 'If its your first time shopping for footwear, if',\n",
              " \"Nope, you weren't listening.\\n\\nWe saw all the hype and it wasn't until Dave\",\n",
              " 'Keep on going, because the Gate',\n",
              " 'I totally speak for anybody at all,\" she said. \"They take',\n",
              " '[NAME] got a screen shot in making it: http://www.live',\n",
              " 'That\\'s a new street in Toronto,\" she said',\n",
              " \"i can also post pics of it. Unfortunately, he didn't, so it's not\",\n",
              " \"Oh man, I didn't expect to see chances die down even higher. Granted, there...\",\n",
              " 'If that’—sat with my parents while',\n",
              " 'That poor snekker is waiting for the day without a job, because he',\n",
              " 'Silence and For Greater Glory After Dying On The Edge When Spiritual Strike',\n",
              " 'First and foremost you can improve your vocal quality by opening',\n",
              " 'I want a Doritos in the saddle',\n",
              " 'Is this the place that had hospitals? So, if those NYHC',\n",
              " 'If by ‘needs you to treat this one as death',\n",
              " 'Wow... Hope you\\'re okay, y-you\\'re still here\". CLOSE ONBLE,',\n",
              " 'So basically the greatest person on Earth is Mr. Da Verde, and I',\n",
              " \"After awhile, I began to forget about I'm a traditionally Protestant scholar.\",\n",
              " 'Fuck why didn’t they paint those people their pain!\"\\n\\nThe American public, for deceased',\n",
              " 'Oh yeah! He was so scared, and he just rushed in. This was this',\n",
              " \"At least it's decent pay for a professional trainer\",\n",
              " 'That isnt sustainable. And most literally what countless ex priests do not know to what',\n",
              " 'Kinda is. But whatever happened on her ranch? Prins-S',\n",
              " 'True, I am not a fan. My stay life was very dreary.\\n\\nHaving',\n",
              " 'Reach out to lots of r3',\n",
              " 'He’s close ɾ’sous Glom ―mol�',\n",
              " 'NICE... TOOLS... GAINS... FORGGED DR',\n",
              " 'OMG this year were on RAM STS for 30 minutes',\n",
              " 'What sort of condescending racist feminist is saying that she accepts it',\n",
              " '[NAME], i++) {\\n\\n',\n",
              " 'Awesome! Thanks, Perishek :)⊆️�',\n",
              " \"Hey, I'm not a porn\",\n",
              " \"Yeah, it's disgusting & I'm beginning to fall in love with dem\",\n",
              " 'Glad *you* find glory because you know what they do to your art If that I may use',\n",
              " 'Well he abused his power?\\n\\nModern formats are rife with ODMs that allow players to',\n",
              " 'Haha sorry I��.This week I plan on strengthening Little Sisters. I noticed',\n",
              " '$70... $500 12 Match Term: $250 $600',\n",
              " 'So premier skins basically guarantee a 50% wool exfoliating exp',\n",
              " 'Who knows. The first thing we can say is the bailiff said has',\n",
              " 'when has one of those systems that are rocketing into space, checking all of the status',\n",
              " \"I'm glad to hear that cameras this well up there, these guys are\",\n",
              " 'just looked at her instagram but she was trying to figure out her own appropriate, correct expression',\n",
              " 'Is that a normal price for a vehicle such as an emergency',\n",
              " 'im glad to address our recent questions with a simple request, how makes rust',\n",
              " \"I'd guess if they could do it. They just have to work on helping them\",\n",
              " 'I hope so too, as I consider this political-legal issue as a populist war-making strategy',\n",
              " 'Do you mean artists?\\n\\nKK: I, I mean whether you',\n",
              " 'Then enjoy it for yourself.\\n\\nChapter 2: BC4: Chapter 12 Ver',\n",
              " 'Good fun, just to show, not to',\n",
              " 'She has pretty much the best at her job as she is a',\n",
              " 'Enjoying it. It makes shaving smell like wet dandelion! Enjoy! Today I tried',\n",
              " 'tf, didnt know that this came from togglerschool?? Sub itself isnt',\n",
              " 'That’s typical WTF episode—extremely ineffective, o',\n",
              " 'Sorry. Was hard to understand for an industry with lots of Chinese',\n",
              " 'Wow City\",\"ps4\":181,\"pt',\n",
              " 'Modernity bullies are off acting like grandmothers, haunted home care centers and pavers',\n",
              " \"I have an extensive presentation that begins at the ordinance's lowest level\",\n",
              " \"surprised he hasn�� it wasn't impossible for anyone\",\n",
              " '....never?\\n\\nAfter that, the game decided which asked',\n",
              " 'I like [NAME] Colombian play, Great Los Angeles, Great burger chili',\n",
              " 'I wish I had some darker requested panels for your fabbing blog',\n",
              " 'My dad makes that joke \"You want jobs? You want in?\" every time I hear what they tell',\n",
              " 'Wow now I promise to never stop',\n",
              " 'Down to 4 defencemen also saw their shot on goal go up, allowing James Harden to face Tyson',\n",
              " 'I don\\'t drink I don\\'t breathe I don\\'t have a choice,\" Mother Granny cry',\n",
              " 'You can see how little this gag was necessary for',\n",
              " \"Is her fake chin totally to the dogs wife's face? Was that signified that the Larry search proves\",\n",
              " \"Technically off the rush, it's going to be interesting\",\n",
              " \"6 months is what both parties want to achieve. You can't simply change what's already\",\n",
              " \"Judging by how well I'm doing. As soon as\",\n",
              " \"Seriously. A lot of small groups in Watertown don't LOVE water use ANYMORE.\",\n",
              " 'Liquefied Active\\n\\nB',\n",
              " 'What was excited you to do this?\\n\\nRemain of the message: Really',\n",
              " 'Edit: I realized Ghost Ship unsuitable for expansion was',\n",
              " 'It didnt last long, and based on that performance venture ZB across Mostgrowth.',\n",
              " 'This makes me so happy, I usually get excited when my CU girls disappear, so',\n",
              " 'Land near those coastal hotspots is actually lower than some to say it is safe',\n",
              " 'El oh el that was fucking mr who who u dont even',\n",
              " '\"oh that wasn\\'t answered in our tweets they promised every tweet',\n",
              " 'Here you are again!\\n\\n\\nWe joined in celebration of our',\n",
              " '[NAME] - string/html\\n\\nThis',\n",
              " \"I'm sorry, when did a pig get suckered into your house\",\n",
              " 'Gotta love this stuff 2 bad or so, and I really don',\n",
              " 'Winchester and That Their Creek View (812 E. Robinson St; Union',\n",
              " 'It’s okay to regret… at least once in his life.\" Mother Rice r',\n",
              " 'Thank you kindly! [-> Set Spinning Wheel] Rice Scroll [Dry',\n",
              " 'Well she ran with a bunch of git. That way the team would see what had taken',\n",
              " 'This comment completly not addresses me when I understand',\n",
              " 'Oh no-Nuala, no-Nuala!\" Renlly cried, rolling',\n",
              " 'i hope this grossed enough to change my mind about',\n",
              " 'How do you go about transporting a fruit in different',\n",
              " 'Who knew Mother\\'s Day was a minefield?\\' \" Mossman asked.\\n\\n',\n",
              " 'Definitely put down a lot of baggage (I had an illustrious career and remained',\n",
              " 'Dat trigger discipline though, since SC3e so many times repealed ties with college bodies after DK']"
            ]
          },
          "metadata": {},
          "execution_count": 40
        }
      ],
      "source": [
        "\n",
        "texts\n"
      ]
    },
    {
      "cell_type": "code",
      "execution_count": 41,
      "metadata": {
        "colab": {
          "base_uri": "https://localhost:8080/"
        },
        "id": "HO8kA6dBWHNu",
        "outputId": "93ac3b21-5a5f-4173-99c1-6d4f74899c51"
      },
      "outputs": [
        {
          "output_type": "execute_result",
          "data": {
            "text/plain": [
              "[[{'label': 'admiration', 'score': -0.7318404912948608},\n",
              "  {'label': 'amusement', 'score': -7.137917518615723},\n",
              "  {'label': 'anger', 'score': -7.918138027191162},\n",
              "  {'label': 'annoyance', 'score': -6.302253723144531},\n",
              "  {'label': 'approval', 'score': -0.0831017717719078},\n",
              "  {'label': 'caring', 'score': -5.575819492340088},\n",
              "  {'label': 'confusion', 'score': -6.07122802734375},\n",
              "  {'label': 'curiosity', 'score': -6.546262741088867},\n",
              "  {'label': 'desire', 'score': -6.391024112701416},\n",
              "  {'label': 'disappointment', 'score': -6.888919830322266},\n",
              "  {'label': 'disapproval', 'score': -5.453632354736328},\n",
              "  {'label': 'disgust', 'score': -7.6543288230896},\n",
              "  {'label': 'embarrassment', 'score': -9.055230140686035},\n",
              "  {'label': 'excitement', 'score': -5.794053554534912},\n",
              "  {'label': 'fear', 'score': -8.355690956115723},\n",
              "  {'label': 'gratitude', 'score': -5.052929878234863},\n",
              "  {'label': 'grief', 'score': -8.862860679626465},\n",
              "  {'label': 'joy', 'score': -5.421574592590332},\n",
              "  {'label': 'love', 'score': -4.723688125610352},\n",
              "  {'label': 'nervousness', 'score': -9.027046203613281},\n",
              "  {'label': 'optimism', 'score': -4.247392654418945},\n",
              "  {'label': 'pride', 'score': -6.565003395080566},\n",
              "  {'label': 'realization', 'score': -4.581952095031738},\n",
              "  {'label': 'relief', 'score': -6.610745429992676},\n",
              "  {'label': 'remorse', 'score': -8.486391067504883},\n",
              "  {'label': 'sadness', 'score': -7.823639869689941},\n",
              "  {'label': 'surprise', 'score': -7.689041614532471},\n",
              "  {'label': 'neutral', 'score': -1.6553980112075806}],\n",
              " [{'label': 'admiration', 'score': -3.437112808227539},\n",
              "  {'label': 'amusement', 'score': -5.480996608734131},\n",
              "  {'label': 'anger', 'score': -5.982089042663574},\n",
              "  {'label': 'annoyance', 'score': -4.478356838226318},\n",
              "  {'label': 'approval', 'score': 2.576508045196533},\n",
              "  {'label': 'caring', 'score': -5.025948524475098},\n",
              "  {'label': 'confusion', 'score': -4.880380153656006},\n",
              "  {'label': 'curiosity', 'score': -4.597743034362793},\n",
              "  {'label': 'desire', 'score': -5.844625473022461},\n",
              "  {'label': 'disappointment', 'score': -5.952795028686523},\n",
              "  {'label': 'disapproval', 'score': -4.560416221618652},\n",
              "  {'label': 'disgust', 'score': -5.892163276672363},\n",
              "  {'label': 'embarrassment', 'score': -6.7974677085876465},\n",
              "  {'label': 'excitement', 'score': -4.920382976531982},\n",
              "  {'label': 'fear', 'score': -6.35962438583374},\n",
              "  {'label': 'gratitude', 'score': -5.050380229949951},\n",
              "  {'label': 'grief', 'score': -7.527062892913818},\n",
              "  {'label': 'joy', 'score': -4.829261779785156},\n",
              "  {'label': 'love', 'score': -4.945633411407471},\n",
              "  {'label': 'nervousness', 'score': -6.985572338104248},\n",
              "  {'label': 'optimism', 'score': -4.217258930206299},\n",
              "  {'label': 'pride', 'score': -6.328060150146484},\n",
              "  {'label': 'realization', 'score': -3.936574697494507},\n",
              "  {'label': 'relief', 'score': -5.398801326751709},\n",
              "  {'label': 'remorse', 'score': -6.705145359039307},\n",
              "  {'label': 'sadness', 'score': -6.165310382843018},\n",
              "  {'label': 'surprise', 'score': -6.353780269622803},\n",
              "  {'label': 'neutral', 'score': -3.2627696990966797}],\n",
              " [{'label': 'admiration', 'score': -4.93850040435791},\n",
              "  {'label': 'amusement', 'score': 2.0372395515441895},\n",
              "  {'label': 'anger', 'score': -6.586777210235596},\n",
              "  {'label': 'annoyance', 'score': -5.042451858520508},\n",
              "  {'label': 'approval', 'score': -4.618577003479004},\n",
              "  {'label': 'caring', 'score': -6.8954057693481445},\n",
              "  {'label': 'confusion', 'score': -6.278573989868164},\n",
              "  {'label': 'curiosity', 'score': -6.282065391540527},\n",
              "  {'label': 'desire', 'score': -6.764147758483887},\n",
              "  {'label': 'disappointment', 'score': -6.348302841186523},\n",
              "  {'label': 'disapproval', 'score': -6.050634860992432},\n",
              "  {'label': 'disgust', 'score': -6.568714141845703},\n",
              "  {'label': 'embarrassment', 'score': -6.702902793884277},\n",
              "  {'label': 'excitement', 'score': -6.1002373695373535},\n",
              "  {'label': 'fear', 'score': -7.907646656036377},\n",
              "  {'label': 'gratitude', 'score': -6.427886009216309},\n",
              "  {'label': 'grief', 'score': -8.117884635925293},\n",
              "  {'label': 'joy', 'score': -3.25921368598938},\n",
              "  {'label': 'love', 'score': -5.537857532501221},\n",
              "  {'label': 'nervousness', 'score': -8.06418228149414},\n",
              "  {'label': 'optimism', 'score': -5.886237144470215},\n",
              "  {'label': 'pride', 'score': -8.202609062194824},\n",
              "  {'label': 'realization', 'score': -4.775826454162598},\n",
              "  {'label': 'relief', 'score': -7.3125152587890625},\n",
              "  {'label': 'remorse', 'score': -7.339658737182617},\n",
              "  {'label': 'sadness', 'score': -6.151480197906494},\n",
              "  {'label': 'surprise', 'score': -6.689359188079834},\n",
              "  {'label': 'neutral', 'score': -2.380431890487671}],\n",
              " [{'label': 'admiration', 'score': -6.928569793701172},\n",
              "  {'label': 'amusement', 'score': -7.15907621383667},\n",
              "  {'label': 'anger', 'score': -5.714452266693115},\n",
              "  {'label': 'annoyance', 'score': -3.995786190032959},\n",
              "  {'label': 'approval', 'score': -3.575085401535034},\n",
              "  {'label': 'caring', 'score': -2.8499350547790527},\n",
              "  {'label': 'confusion', 'score': -6.8482770919799805},\n",
              "  {'label': 'curiosity', 'score': -7.321256160736084},\n",
              "  {'label': 'desire', 'score': -6.24489688873291},\n",
              "  {'label': 'disappointment', 'score': -5.111786842346191},\n",
              "  {'label': 'disapproval', 'score': -4.283817291259766},\n",
              "  {'label': 'disgust', 'score': -6.680976867675781},\n",
              "  {'label': 'embarrassment', 'score': -7.313109397888184},\n",
              "  {'label': 'excitement', 'score': -7.448838710784912},\n",
              "  {'label': 'fear', 'score': -6.239373683929443},\n",
              "  {'label': 'gratitude', 'score': -7.027259349822998},\n",
              "  {'label': 'grief', 'score': -7.208981513977051},\n",
              "  {'label': 'joy', 'score': -6.51108980178833},\n",
              "  {'label': 'love', 'score': -7.21942663192749},\n",
              "  {'label': 'nervousness', 'score': -6.664999008178711},\n",
              "  {'label': 'optimism', 'score': -5.269016265869141},\n",
              "  {'label': 'pride', 'score': -7.904434680938721},\n",
              "  {'label': 'realization', 'score': -4.250918388366699},\n",
              "  {'label': 'relief', 'score': -6.326144695281982},\n",
              "  {'label': 'remorse', 'score': -7.001428127288818},\n",
              "  {'label': 'sadness', 'score': -4.942685604095459},\n",
              "  {'label': 'surprise', 'score': -7.8880486488342285},\n",
              "  {'label': 'neutral', 'score': 2.0849506855010986}],\n",
              " [{'label': 'admiration', 'score': -5.422496318817139},\n",
              "  {'label': 'amusement', 'score': -5.991170883178711},\n",
              "  {'label': 'anger', 'score': 1.5439305305480957},\n",
              "  {'label': 'annoyance', 'score': -1.6501715183258057},\n",
              "  {'label': 'approval', 'score': -4.909957408905029},\n",
              "  {'label': 'caring', 'score': -5.611722469329834},\n",
              "  {'label': 'confusion', 'score': -5.361123561859131},\n",
              "  {'label': 'curiosity', 'score': -5.2929511070251465},\n",
              "  {'label': 'desire', 'score': -6.358109474182129},\n",
              "  {'label': 'disappointment', 'score': -4.662942409515381},\n",
              "  {'label': 'disapproval', 'score': -3.0741734504699707},\n",
              "  {'label': 'disgust', 'score': -3.5628042221069336},\n",
              "  {'label': 'embarrassment', 'score': -5.966833591461182},\n",
              "  {'label': 'excitement', 'score': -6.561063289642334},\n",
              "  {'label': 'fear', 'score': -5.876894474029541},\n",
              "  {'label': 'gratitude', 'score': -6.214047908782959},\n",
              "  {'label': 'grief', 'score': -6.760988235473633},\n",
              "  {'label': 'joy', 'score': -6.225096702575684},\n",
              "  {'label': 'love', 'score': -5.399511337280273},\n",
              "  {'label': 'nervousness', 'score': -7.57098913192749},\n",
              "  {'label': 'optimism', 'score': -5.95166015625},\n",
              "  {'label': 'pride', 'score': -7.5601019859313965},\n",
              "  {'label': 'realization', 'score': -5.501917362213135},\n",
              "  {'label': 'relief', 'score': -8.156086921691895},\n",
              "  {'label': 'remorse', 'score': -6.596236705780029},\n",
              "  {'label': 'sadness', 'score': -4.4584879875183105},\n",
              "  {'label': 'surprise', 'score': -6.385498046875},\n",
              "  {'label': 'neutral', 'score': -2.453777551651001}],\n",
              " [{'label': 'admiration', 'score': -5.759640693664551},\n",
              "  {'label': 'amusement', 'score': -7.056232929229736},\n",
              "  {'label': 'anger', 'score': -6.302282333374023},\n",
              "  {'label': 'annoyance', 'score': -4.229936122894287},\n",
              "  {'label': 'approval', 'score': -2.1473286151885986},\n",
              "  {'label': 'caring', 'score': -5.134239673614502},\n",
              "  {'label': 'confusion', 'score': -5.700366020202637},\n",
              "  {'label': 'curiosity', 'score': -7.52741813659668},\n",
              "  {'label': 'desire', 'score': -6.61923360824585},\n",
              "  {'label': 'disappointment', 'score': -4.7186279296875},\n",
              "  {'label': 'disapproval', 'score': -0.9825210571289062},\n",
              "  {'label': 'disgust', 'score': -7.276726722717285},\n",
              "  {'label': 'embarrassment', 'score': -7.729410171508789},\n",
              "  {'label': 'excitement', 'score': -7.213037490844727},\n",
              "  {'label': 'fear', 'score': -7.209805488586426},\n",
              "  {'label': 'gratitude', 'score': -6.4810967445373535},\n",
              "  {'label': 'grief', 'score': -7.844354629516602},\n",
              "  {'label': 'joy', 'score': -6.030077934265137},\n",
              "  {'label': 'love', 'score': -7.497976303100586},\n",
              "  {'label': 'nervousness', 'score': -7.7112884521484375},\n",
              "  {'label': 'optimism', 'score': -4.423269748687744},\n",
              "  {'label': 'pride', 'score': -7.4416351318359375},\n",
              "  {'label': 'realization', 'score': -3.382194995880127},\n",
              "  {'label': 'relief', 'score': -6.037549018859863},\n",
              "  {'label': 'remorse', 'score': -7.879390716552734},\n",
              "  {'label': 'sadness', 'score': -6.099452972412109},\n",
              "  {'label': 'surprise', 'score': -7.027570724487305},\n",
              "  {'label': 'neutral', 'score': 0.5308842062950134}],\n",
              " [{'label': 'admiration', 'score': -5.298453330993652},\n",
              "  {'label': 'amusement', 'score': -5.797118663787842},\n",
              "  {'label': 'anger', 'score': -6.764133453369141},\n",
              "  {'label': 'annoyance', 'score': -5.380256652832031},\n",
              "  {'label': 'approval', 'score': -4.7079291343688965},\n",
              "  {'label': 'caring', 'score': -6.450195789337158},\n",
              "  {'label': 'confusion', 'score': -5.99170446395874},\n",
              "  {'label': 'curiosity', 'score': -6.38056755065918},\n",
              "  {'label': 'desire', 'score': -6.941143989562988},\n",
              "  {'label': 'disappointment', 'score': -6.347300052642822},\n",
              "  {'label': 'disapproval', 'score': -6.078891754150391},\n",
              "  {'label': 'disgust', 'score': -6.750984191894531},\n",
              "  {'label': 'embarrassment', 'score': -7.340459823608398},\n",
              "  {'label': 'excitement', 'score': -6.110371112823486},\n",
              "  {'label': 'fear', 'score': -7.535039901733398},\n",
              "  {'label': 'gratitude', 'score': 4.444966793060303},\n",
              "  {'label': 'grief', 'score': -7.741468906402588},\n",
              "  {'label': 'joy', 'score': -5.729981422424316},\n",
              "  {'label': 'love', 'score': -6.568826198577881},\n",
              "  {'label': 'nervousness', 'score': -8.399025917053223},\n",
              "  {'label': 'optimism', 'score': -5.526886940002441},\n",
              "  {'label': 'pride', 'score': -7.745713710784912},\n",
              "  {'label': 'realization', 'score': -5.1581621170043945},\n",
              "  {'label': 'relief', 'score': -6.325432777404785},\n",
              "  {'label': 'remorse', 'score': -6.362860679626465},\n",
              "  {'label': 'sadness', 'score': -5.943513870239258},\n",
              "  {'label': 'surprise', 'score': -6.303836345672607},\n",
              "  {'label': 'neutral', 'score': -4.775349140167236}],\n",
              " [{'label': 'admiration', 'score': -3.925381660461426},\n",
              "  {'label': 'amusement', 'score': -5.895393371582031},\n",
              "  {'label': 'anger', 'score': -6.940874099731445},\n",
              "  {'label': 'annoyance', 'score': -5.132396697998047},\n",
              "  {'label': 'approval', 'score': 1.5523350238800049},\n",
              "  {'label': 'caring', 'score': -5.122441291809082},\n",
              "  {'label': 'confusion', 'score': -5.168123722076416},\n",
              "  {'label': 'curiosity', 'score': -4.766975402832031},\n",
              "  {'label': 'desire', 'score': -3.456285238265991},\n",
              "  {'label': 'disappointment', 'score': -6.3122453689575195},\n",
              "  {'label': 'disapproval', 'score': -4.906867980957031},\n",
              "  {'label': 'disgust', 'score': -6.513983249664307},\n",
              "  {'label': 'embarrassment', 'score': -7.990910530090332},\n",
              "  {'label': 'excitement', 'score': -4.400324821472168},\n",
              "  {'label': 'fear', 'score': -7.235108852386475},\n",
              "  {'label': 'gratitude', 'score': -5.6954569816589355},\n",
              "  {'label': 'grief', 'score': -8.116009712219238},\n",
              "  {'label': 'joy', 'score': -4.588405132293701},\n",
              "  {'label': 'love', 'score': -4.824955463409424},\n",
              "  {'label': 'nervousness', 'score': -7.487115383148193},\n",
              "  {'label': 'optimism', 'score': -3.30621337890625},\n",
              "  {'label': 'pride', 'score': -6.768794059753418},\n",
              "  {'label': 'realization', 'score': -4.446308612823486},\n",
              "  {'label': 'relief', 'score': -5.752342700958252},\n",
              "  {'label': 'remorse', 'score': -7.641295433044434},\n",
              "  {'label': 'sadness', 'score': -6.963211536407471},\n",
              "  {'label': 'surprise', 'score': -7.099714756011963},\n",
              "  {'label': 'neutral', 'score': -2.3577723503112793}],\n",
              " [{'label': 'admiration', 'score': -6.033846378326416},\n",
              "  {'label': 'amusement', 'score': -7.064754486083984},\n",
              "  {'label': 'anger', 'score': -6.688516616821289},\n",
              "  {'label': 'annoyance', 'score': -5.149959564208984},\n",
              "  {'label': 'approval', 'score': -3.2934155464172363},\n",
              "  {'label': 'caring', 'score': -6.557188987731934},\n",
              "  {'label': 'confusion', 'score': -6.162600517272949},\n",
              "  {'label': 'curiosity', 'score': -7.148660659790039},\n",
              "  {'label': 'desire', 'score': -6.601737022399902},\n",
              "  {'label': 'disappointment', 'score': -5.754350185394287},\n",
              "  {'label': 'disapproval', 'score': -5.0629353523254395},\n",
              "  {'label': 'disgust', 'score': -6.731672763824463},\n",
              "  {'label': 'embarrassment', 'score': -7.961987495422363},\n",
              "  {'label': 'excitement', 'score': -7.015312194824219},\n",
              "  {'label': 'fear', 'score': -7.130049705505371},\n",
              "  {'label': 'gratitude', 'score': -6.943254470825195},\n",
              "  {'label': 'grief', 'score': -8.260771751403809},\n",
              "  {'label': 'joy', 'score': -6.974942684173584},\n",
              "  {'label': 'love', 'score': -6.922395706176758},\n",
              "  {'label': 'nervousness', 'score': -8.241429328918457},\n",
              "  {'label': 'optimism', 'score': -5.530365467071533},\n",
              "  {'label': 'pride', 'score': -8.193321228027344},\n",
              "  {'label': 'realization', 'score': -4.419157981872559},\n",
              "  {'label': 'relief', 'score': -7.8042144775390625},\n",
              "  {'label': 'remorse', 'score': -7.969487190246582},\n",
              "  {'label': 'sadness', 'score': -6.515616416931152},\n",
              "  {'label': 'surprise', 'score': -7.744757175445557},\n",
              "  {'label': 'neutral', 'score': 3.066477060317993}],\n",
              " [{'label': 'admiration', 'score': -6.341125011444092},\n",
              "  {'label': 'amusement', 'score': -7.751632213592529},\n",
              "  {'label': 'anger', 'score': -7.278871536254883},\n",
              "  {'label': 'annoyance', 'score': -4.799747943878174},\n",
              "  {'label': 'approval', 'score': -2.7897746562957764},\n",
              "  {'label': 'caring', 'score': -6.208803176879883},\n",
              "  {'label': 'confusion', 'score': -5.769366264343262},\n",
              "  {'label': 'curiosity', 'score': -6.683965682983398},\n",
              "  {'label': 'desire', 'score': -5.502323150634766},\n",
              "  {'label': 'disappointment', 'score': -4.187495708465576},\n",
              "  {'label': 'disapproval', 'score': -4.1252946853637695},\n",
              "  {'label': 'disgust', 'score': -6.9834747314453125},\n",
              "  {'label': 'embarrassment', 'score': -7.522708415985107},\n",
              "  {'label': 'excitement', 'score': -6.711845397949219},\n",
              "  {'label': 'fear', 'score': -7.359880447387695},\n",
              "  {'label': 'gratitude', 'score': -7.759051322937012},\n",
              "  {'label': 'grief', 'score': -8.155831336975098},\n",
              "  {'label': 'joy', 'score': -7.309067249298096},\n",
              "  {'label': 'love', 'score': -7.072354316711426},\n",
              "  {'label': 'nervousness', 'score': -7.674649715423584},\n",
              "  {'label': 'optimism', 'score': -4.341153144836426},\n",
              "  {'label': 'pride', 'score': -8.167712211608887},\n",
              "  {'label': 'realization', 'score': -3.386021137237549},\n",
              "  {'label': 'relief', 'score': -7.370550155639648},\n",
              "  {'label': 'remorse', 'score': -7.580855369567871},\n",
              "  {'label': 'sadness', 'score': -6.047725677490234},\n",
              "  {'label': 'surprise', 'score': -7.275089263916016},\n",
              "  {'label': 'neutral', 'score': 2.003265857696533}],\n",
              " [{'label': 'admiration', 'score': -6.632934093475342},\n",
              "  {'label': 'amusement', 'score': -6.805048942565918},\n",
              "  {'label': 'anger', 'score': -6.400677680969238},\n",
              "  {'label': 'annoyance', 'score': -4.562948226928711},\n",
              "  {'label': 'approval', 'score': -3.500149965286255},\n",
              "  {'label': 'caring', 'score': -6.930562973022461},\n",
              "  {'label': 'confusion', 'score': -6.372507572174072},\n",
              "  {'label': 'curiosity', 'score': -7.211992263793945},\n",
              "  {'label': 'desire', 'score': -6.57409143447876},\n",
              "  {'label': 'disappointment', 'score': -4.468674659729004},\n",
              "  {'label': 'disapproval', 'score': -4.808831214904785},\n",
              "  {'label': 'disgust', 'score': -5.897918224334717},\n",
              "  {'label': 'embarrassment', 'score': -6.8139967918396},\n",
              "  {'label': 'excitement', 'score': -7.100142002105713},\n",
              "  {'label': 'fear', 'score': -6.050370216369629},\n",
              "  {'label': 'gratitude', 'score': -7.446252822875977},\n",
              "  {'label': 'grief', 'score': -7.222743034362793},\n",
              "  {'label': 'joy', 'score': -6.854745864868164},\n",
              "  {'label': 'love', 'score': -6.899532318115234},\n",
              "  {'label': 'nervousness', 'score': -7.26566743850708},\n",
              "  {'label': 'optimism', 'score': -5.816857814788818},\n",
              "  {'label': 'pride', 'score': -8.029967308044434},\n",
              "  {'label': 'realization', 'score': -3.654026985168457},\n",
              "  {'label': 'relief', 'score': -7.2435503005981445},\n",
              "  {'label': 'remorse', 'score': -7.416040420532227},\n",
              "  {'label': 'sadness', 'score': -4.679514408111572},\n",
              "  {'label': 'surprise', 'score': -6.9901628494262695},\n",
              "  {'label': 'neutral', 'score': 2.7127580642700195}],\n",
              " [{'label': 'admiration', 'score': -4.803302764892578},\n",
              "  {'label': 'amusement', 'score': -4.653360843658447},\n",
              "  {'label': 'anger', 'score': -6.645619869232178},\n",
              "  {'label': 'annoyance', 'score': -5.40460205078125},\n",
              "  {'label': 'approval', 'score': -3.6081113815307617},\n",
              "  {'label': 'caring', 'score': -6.230937480926514},\n",
              "  {'label': 'confusion', 'score': -6.695819854736328},\n",
              "  {'label': 'curiosity', 'score': -5.49806547164917},\n",
              "  {'label': 'desire', 'score': -2.2639057636260986},\n",
              "  {'label': 'disappointment', 'score': -6.1075239181518555},\n",
              "  {'label': 'disapproval', 'score': -6.670188903808594},\n",
              "  {'label': 'disgust', 'score': -6.5993828773498535},\n",
              "  {'label': 'embarrassment', 'score': -7.447819232940674},\n",
              "  {'label': 'excitement', 'score': -0.38218238949775696},\n",
              "  {'label': 'fear', 'score': -6.401160717010498},\n",
              "  {'label': 'gratitude', 'score': -5.194120407104492},\n",
              "  {'label': 'grief', 'score': -7.644626140594482},\n",
              "  {'label': 'joy', 'score': -2.778578042984009},\n",
              "  {'label': 'love', 'score': -5.315134048461914},\n",
              "  {'label': 'nervousness', 'score': -6.8308820724487305},\n",
              "  {'label': 'optimism', 'score': -3.7166528701782227},\n",
              "  {'label': 'pride', 'score': -6.28935432434082},\n",
              "  {'label': 'realization', 'score': -5.388820171356201},\n",
              "  {'label': 'relief', 'score': -6.299899578094482},\n",
              "  {'label': 'remorse', 'score': -7.6895904541015625},\n",
              "  {'label': 'sadness', 'score': -6.586764335632324},\n",
              "  {'label': 'surprise', 'score': -4.816805839538574},\n",
              "  {'label': 'neutral', 'score': -1.2571691274642944}],\n",
              " [{'label': 'admiration', 'score': -6.349343299865723},\n",
              "  {'label': 'amusement', 'score': -6.361812591552734},\n",
              "  {'label': 'anger', 'score': -5.824377059936523},\n",
              "  {'label': 'annoyance', 'score': -4.421756744384766},\n",
              "  {'label': 'approval', 'score': -3.5869123935699463},\n",
              "  {'label': 'caring', 'score': -7.05253267288208},\n",
              "  {'label': 'confusion', 'score': -0.6726345419883728},\n",
              "  {'label': 'curiosity', 'score': -0.5423020720481873},\n",
              "  {'label': 'desire', 'score': -6.891934394836426},\n",
              "  {'label': 'disappointment', 'score': -6.554660320281982},\n",
              "  {'label': 'disapproval', 'score': -5.132359027862549},\n",
              "  {'label': 'disgust', 'score': -6.632735729217529},\n",
              "  {'label': 'embarrassment', 'score': -7.305180549621582},\n",
              "  {'label': 'excitement', 'score': -5.97215461730957},\n",
              "  {'label': 'fear', 'score': -6.950220108032227},\n",
              "  {'label': 'gratitude', 'score': -7.85447359085083},\n",
              "  {'label': 'grief', 'score': -8.548616409301758},\n",
              "  {'label': 'joy', 'score': -6.916342735290527},\n",
              "  {'label': 'love', 'score': -6.591991424560547},\n",
              "  {'label': 'nervousness', 'score': -7.737302780151367},\n",
              "  {'label': 'optimism', 'score': -5.8574090003967285},\n",
              "  {'label': 'pride', 'score': -9.289260864257812},\n",
              "  {'label': 'realization', 'score': -4.676924228668213},\n",
              "  {'label': 'relief', 'score': -8.569456100463867},\n",
              "  {'label': 'remorse', 'score': -8.455286026000977},\n",
              "  {'label': 'sadness', 'score': -7.398736476898193},\n",
              "  {'label': 'surprise', 'score': -4.841030120849609},\n",
              "  {'label': 'neutral', 'score': 0.046752236783504486}],\n",
              " [{'label': 'admiration', 'score': -6.339811325073242},\n",
              "  {'label': 'amusement', 'score': -6.653790473937988},\n",
              "  {'label': 'anger', 'score': -6.061804294586182},\n",
              "  {'label': 'annoyance', 'score': -4.534235954284668},\n",
              "  {'label': 'approval', 'score': -4.393100738525391},\n",
              "  {'label': 'caring', 'score': -7.327154159545898},\n",
              "  {'label': 'confusion', 'score': -5.155432224273682},\n",
              "  {'label': 'curiosity', 'score': -5.94384765625},\n",
              "  {'label': 'desire', 'score': -6.7679853439331055},\n",
              "  {'label': 'disappointment', 'score': -5.238646030426025},\n",
              "  {'label': 'disapproval', 'score': -5.3017354011535645},\n",
              "  {'label': 'disgust', 'score': -5.986677646636963},\n",
              "  {'label': 'embarrassment', 'score': -6.88033390045166},\n",
              "  {'label': 'excitement', 'score': -6.284909725189209},\n",
              "  {'label': 'fear', 'score': -6.461612701416016},\n",
              "  {'label': 'gratitude', 'score': -7.471165180206299},\n",
              "  {'label': 'grief', 'score': -7.740481853485107},\n",
              "  {'label': 'joy', 'score': -6.8994927406311035},\n",
              "  {'label': 'love', 'score': -7.098783493041992},\n",
              "  {'label': 'nervousness', 'score': -7.639959335327148},\n",
              "  {'label': 'optimism', 'score': -6.267115116119385},\n",
              "  {'label': 'pride', 'score': -8.256803512573242},\n",
              "  {'label': 'realization', 'score': -4.300116539001465},\n",
              "  {'label': 'relief', 'score': -8.046242713928223},\n",
              "  {'label': 'remorse', 'score': -8.074746131896973},\n",
              "  {'label': 'sadness', 'score': -6.0203704833984375},\n",
              "  {'label': 'surprise', 'score': -6.159756660461426},\n",
              "  {'label': 'neutral', 'score': 3.140852451324463}],\n",
              " [{'label': 'admiration', 'score': -5.128645896911621},\n",
              "  {'label': 'amusement', 'score': -7.679482460021973},\n",
              "  {'label': 'anger', 'score': -7.541171073913574},\n",
              "  {'label': 'annoyance', 'score': -5.468215465545654},\n",
              "  {'label': 'approval', 'score': -0.5244905352592468},\n",
              "  {'label': 'caring', 'score': -6.636031627655029},\n",
              "  {'label': 'confusion', 'score': -5.069103717803955},\n",
              "  {'label': 'curiosity', 'score': -6.570202827453613},\n",
              "  {'label': 'desire', 'score': -6.50172233581543},\n",
              "  {'label': 'disappointment', 'score': -5.607907295227051},\n",
              "  {'label': 'disapproval', 'score': -3.3078649044036865},\n",
              "  {'label': 'disgust', 'score': -7.274753093719482},\n",
              "  {'label': 'embarrassment', 'score': -8.207758903503418},\n",
              "  {'label': 'excitement', 'score': -6.744292259216309},\n",
              "  {'label': 'fear', 'score': -7.814679145812988},\n",
              "  {'label': 'gratitude', 'score': -7.024803161621094},\n",
              "  {'label': 'grief', 'score': -8.557839393615723},\n",
              "  {'label': 'joy', 'score': -6.392229080200195},\n",
              "  {'label': 'love', 'score': -6.287489891052246},\n",
              "  {'label': 'nervousness', 'score': -7.988345623016357},\n",
              "  {'label': 'optimism', 'score': -5.143682956695557},\n",
              "  {'label': 'pride', 'score': -7.616209983825684},\n",
              "  {'label': 'realization', 'score': -3.274005651473999},\n",
              "  {'label': 'relief', 'score': -6.697725772857666},\n",
              "  {'label': 'remorse', 'score': -8.25957202911377},\n",
              "  {'label': 'sadness', 'score': -7.091673851013184},\n",
              "  {'label': 'surprise', 'score': -7.043649673461914},\n",
              "  {'label': 'neutral', 'score': 0.6915044188499451}],\n",
              " [{'label': 'admiration', 'score': -6.002701282501221},\n",
              "  {'label': 'amusement', 'score': -5.930123805999756},\n",
              "  {'label': 'anger', 'score': -3.128532648086548},\n",
              "  {'label': 'annoyance', 'score': -1.9850705862045288},\n",
              "  {'label': 'approval', 'score': -3.717135429382324},\n",
              "  {'label': 'caring', 'score': -5.0267205238342285},\n",
              "  {'label': 'confusion', 'score': -5.1914496421813965},\n",
              "  {'label': 'curiosity', 'score': -6.095773696899414},\n",
              "  {'label': 'desire', 'score': -6.4451446533203125},\n",
              "  {'label': 'disappointment', 'score': -4.215653896331787},\n",
              "  {'label': 'disapproval', 'score': 1.544891119003296},\n",
              "  {'label': 'disgust', 'score': -5.158845901489258},\n",
              "  {'label': 'embarrassment', 'score': -6.382734775543213},\n",
              "  {'label': 'excitement', 'score': -6.280630588531494},\n",
              "  {'label': 'fear', 'score': -6.687931060791016},\n",
              "  {'label': 'gratitude', 'score': -6.078732490539551},\n",
              "  {'label': 'grief', 'score': -7.635263442993164},\n",
              "  {'label': 'joy', 'score': -5.802502632141113},\n",
              "  {'label': 'love', 'score': -6.366763114929199},\n",
              "  {'label': 'nervousness', 'score': -7.325680255889893},\n",
              "  {'label': 'optimism', 'score': -5.5063395500183105},\n",
              "  {'label': 'pride', 'score': -7.654245376586914},\n",
              "  {'label': 'realization', 'score': -4.5614800453186035},\n",
              "  {'label': 'relief', 'score': -6.859644889831543},\n",
              "  {'label': 'remorse', 'score': -7.234138011932373},\n",
              "  {'label': 'sadness', 'score': -5.653636455535889},\n",
              "  {'label': 'surprise', 'score': -6.157294750213623},\n",
              "  {'label': 'neutral', 'score': -1.9789237976074219}],\n",
              " [{'label': 'admiration', 'score': -1.983424186706543},\n",
              "  {'label': 'amusement', 'score': -6.551185607910156},\n",
              "  {'label': 'anger', 'score': -6.812500953674316},\n",
              "  {'label': 'annoyance', 'score': -4.958940505981445},\n",
              "  {'label': 'approval', 'score': -2.6241302490234375},\n",
              "  {'label': 'caring', 'score': -6.117781162261963},\n",
              "  {'label': 'confusion', 'score': -7.1851277351379395},\n",
              "  {'label': 'curiosity', 'score': -7.747265815734863},\n",
              "  {'label': 'desire', 'score': -6.871105670928955},\n",
              "  {'label': 'disappointment', 'score': -5.603364944458008},\n",
              "  {'label': 'disapproval', 'score': -4.658651828765869},\n",
              "  {'label': 'disgust', 'score': -6.960043907165527},\n",
              "  {'label': 'embarrassment', 'score': -7.4811506271362305},\n",
              "  {'label': 'excitement', 'score': -5.095552444458008},\n",
              "  {'label': 'fear', 'score': -7.5987043380737305},\n",
              "  {'label': 'gratitude', 'score': -5.425390243530273},\n",
              "  {'label': 'grief', 'score': -7.9777750968933105},\n",
              "  {'label': 'joy', 'score': -4.412452220916748},\n",
              "  {'label': 'love', 'score': -6.824617862701416},\n",
              "  {'label': 'nervousness', 'score': -8.315428733825684},\n",
              "  {'label': 'optimism', 'score': -5.6873040199279785},\n",
              "  {'label': 'pride', 'score': -5.485845565795898},\n",
              "  {'label': 'realization', 'score': -4.538443088531494},\n",
              "  {'label': 'relief', 'score': -5.8641357421875},\n",
              "  {'label': 'remorse', 'score': -8.413287162780762},\n",
              "  {'label': 'sadness', 'score': -6.977840423583984},\n",
              "  {'label': 'surprise', 'score': -7.1373491287231445},\n",
              "  {'label': 'neutral', 'score': 1.6524401903152466}],\n",
              " [{'label': 'admiration', 'score': -6.466381072998047},\n",
              "  {'label': 'amusement', 'score': -5.7238335609436035},\n",
              "  {'label': 'anger', 'score': -3.640690803527832},\n",
              "  {'label': 'annoyance', 'score': -1.5919380187988281},\n",
              "  {'label': 'approval', 'score': -5.196400165557861},\n",
              "  {'label': 'caring', 'score': -6.416893482208252},\n",
              "  {'label': 'confusion', 'score': -3.256512403488159},\n",
              "  {'label': 'curiosity', 'score': -2.601977825164795},\n",
              "  {'label': 'desire', 'score': -7.147218227386475},\n",
              "  {'label': 'disappointment', 'score': -1.759462594985962},\n",
              "  {'label': 'disapproval', 'score': -2.948549747467041},\n",
              "  {'label': 'disgust', 'score': -3.3630692958831787},\n",
              "  {'label': 'embarrassment', 'score': -1.6994221210479736},\n",
              "  {'label': 'excitement', 'score': -6.997549533843994},\n",
              "  {'label': 'fear', 'score': -5.421205043792725},\n",
              "  {'label': 'gratitude', 'score': -7.525763034820557},\n",
              "  {'label': 'grief', 'score': -6.278010368347168},\n",
              "  {'label': 'joy', 'score': -7.291938781738281},\n",
              "  {'label': 'love', 'score': -7.293163299560547},\n",
              "  {'label': 'nervousness', 'score': -5.966159820556641},\n",
              "  {'label': 'optimism', 'score': -6.317575931549072},\n",
              "  {'label': 'pride', 'score': -7.890132904052734},\n",
              "  {'label': 'realization', 'score': -4.858369827270508},\n",
              "  {'label': 'relief', 'score': -7.549444675445557},\n",
              "  {'label': 'remorse', 'score': -4.997377395629883},\n",
              "  {'label': 'sadness', 'score': -3.823643207550049},\n",
              "  {'label': 'surprise', 'score': -5.364673614501953},\n",
              "  {'label': 'neutral', 'score': -0.5434622764587402}],\n",
              " [{'label': 'admiration', 'score': -5.979145050048828},\n",
              "  {'label': 'amusement', 'score': -7.263050079345703},\n",
              "  {'label': 'anger', 'score': -7.1337504386901855},\n",
              "  {'label': 'annoyance', 'score': -5.174395561218262},\n",
              "  {'label': 'approval', 'score': -2.558443069458008},\n",
              "  {'label': 'caring', 'score': -6.342899322509766},\n",
              "  {'label': 'confusion', 'score': -5.575479030609131},\n",
              "  {'label': 'curiosity', 'score': -7.186384201049805},\n",
              "  {'label': 'desire', 'score': -6.9160637855529785},\n",
              "  {'label': 'disappointment', 'score': -5.347630977630615},\n",
              "  {'label': 'disapproval', 'score': -4.166527271270752},\n",
              "  {'label': 'disgust', 'score': -7.1836347579956055},\n",
              "  {'label': 'embarrassment', 'score': -8.096738815307617},\n",
              "  {'label': 'excitement', 'score': -7.718204021453857},\n",
              "  {'label': 'fear', 'score': -7.506457328796387},\n",
              "  {'label': 'gratitude', 'score': -6.696362018585205},\n",
              "  {'label': 'grief', 'score': -8.334196090698242},\n",
              "  {'label': 'joy', 'score': -7.0378947257995605},\n",
              "  {'label': 'love', 'score': -7.236965179443359},\n",
              "  {'label': 'nervousness', 'score': -8.20439338684082},\n",
              "  {'label': 'optimism', 'score': -5.388195037841797},\n",
              "  {'label': 'pride', 'score': -8.200286865234375},\n",
              "  {'label': 'realization', 'score': -3.7457377910614014},\n",
              "  {'label': 'relief', 'score': -7.339722156524658},\n",
              "  {'label': 'remorse', 'score': -7.884530067443848},\n",
              "  {'label': 'sadness', 'score': -6.524317741394043},\n",
              "  {'label': 'surprise', 'score': -8.025914192199707},\n",
              "  {'label': 'neutral', 'score': 2.3805992603302}],\n",
              " [{'label': 'admiration', 'score': -3.6766257286071777},\n",
              "  {'label': 'amusement', 'score': -6.218465328216553},\n",
              "  {'label': 'anger', 'score': -7.652928829193115},\n",
              "  {'label': 'annoyance', 'score': -5.742311000823975},\n",
              "  {'label': 'approval', 'score': -0.46793732047080994},\n",
              "  {'label': 'caring', 'score': -4.002717018127441},\n",
              "  {'label': 'confusion', 'score': -6.534139156341553},\n",
              "  {'label': 'curiosity', 'score': -6.731474876403809},\n",
              "  {'label': 'desire', 'score': -5.791031837463379},\n",
              "  {'label': 'disappointment', 'score': -6.24381160736084},\n",
              "  {'label': 'disapproval', 'score': -6.542422771453857},\n",
              "  {'label': 'disgust', 'score': -7.457608699798584},\n",
              "  {'label': 'embarrassment', 'score': -7.496656894683838},\n",
              "  {'label': 'excitement', 'score': -5.03188419342041},\n",
              "  {'label': 'fear', 'score': -6.744347095489502},\n",
              "  {'label': 'gratitude', 'score': -6.0908403396606445},\n",
              "  {'label': 'grief', 'score': -7.415824890136719},\n",
              "  {'label': 'joy', 'score': -4.195065021514893},\n",
              "  {'label': 'love', 'score': -6.784768104553223},\n",
              "  {'label': 'nervousness', 'score': -6.846591949462891},\n",
              "  {'label': 'optimism', 'score': -2.761462926864624},\n",
              "  {'label': 'pride', 'score': -5.278676986694336},\n",
              "  {'label': 'realization', 'score': -2.8813700675964355},\n",
              "  {'label': 'relief', 'score': -4.494691848754883},\n",
              "  {'label': 'remorse', 'score': -7.379117965698242},\n",
              "  {'label': 'sadness', 'score': -6.634698390960693},\n",
              "  {'label': 'surprise', 'score': -6.677484512329102},\n",
              "  {'label': 'neutral', 'score': 0.3029380738735199}],\n",
              " [{'label': 'admiration', 'score': -5.395573616027832},\n",
              "  {'label': 'amusement', 'score': -5.562763690948486},\n",
              "  {'label': 'anger', 'score': -6.949437618255615},\n",
              "  {'label': 'annoyance', 'score': -4.999317169189453},\n",
              "  {'label': 'approval', 'score': -0.5520231127738953},\n",
              "  {'label': 'caring', 'score': -5.867310523986816},\n",
              "  {'label': 'confusion', 'score': -5.968856334686279},\n",
              "  {'label': 'curiosity', 'score': -6.501273155212402},\n",
              "  {'label': 'desire', 'score': -5.109462738037109},\n",
              "  {'label': 'disappointment', 'score': -6.126708030700684},\n",
              "  {'label': 'disapproval', 'score': -6.526769638061523},\n",
              "  {'label': 'disgust', 'score': -6.4797515869140625},\n",
              "  {'label': 'embarrassment', 'score': -6.678254127502441},\n",
              "  {'label': 'excitement', 'score': -3.123479127883911},\n",
              "  {'label': 'fear', 'score': -5.729259967803955},\n",
              "  {'label': 'gratitude', 'score': -5.145831108093262},\n",
              "  {'label': 'grief', 'score': -6.896519660949707},\n",
              "  {'label': 'joy', 'score': -3.2952847480773926},\n",
              "  {'label': 'love', 'score': -6.854529857635498},\n",
              "  {'label': 'nervousness', 'score': -5.939145565032959},\n",
              "  {'label': 'optimism', 'score': -3.323350667953491},\n",
              "  {'label': 'pride', 'score': -5.109164237976074},\n",
              "  {'label': 'realization', 'score': -1.8306825160980225},\n",
              "  {'label': 'relief', 'score': -4.261618137359619},\n",
              "  {'label': 'remorse', 'score': -7.474705219268799},\n",
              "  {'label': 'sadness', 'score': -6.267897129058838},\n",
              "  {'label': 'surprise', 'score': -5.050983428955078},\n",
              "  {'label': 'neutral', 'score': -0.3888874650001526}],\n",
              " [{'label': 'admiration', 'score': -4.08103084564209},\n",
              "  {'label': 'amusement', 'score': -4.980562210083008},\n",
              "  {'label': 'anger', 'score': -6.690481185913086},\n",
              "  {'label': 'annoyance', 'score': -5.489485263824463},\n",
              "  {'label': 'approval', 'score': -3.7887380123138428},\n",
              "  {'label': 'caring', 'score': -6.227688789367676},\n",
              "  {'label': 'confusion', 'score': -4.016367435455322},\n",
              "  {'label': 'curiosity', 'score': -1.0560399293899536},\n",
              "  {'label': 'desire', 'score': -5.944303512573242},\n",
              "  {'label': 'disappointment', 'score': -6.774550437927246},\n",
              "  {'label': 'disapproval', 'score': -6.884181499481201},\n",
              "  {'label': 'disgust', 'score': -7.5840606689453125},\n",
              "  {'label': 'embarrassment', 'score': -7.2434210777282715},\n",
              "  {'label': 'excitement', 'score': -2.3700175285339355},\n",
              "  {'label': 'fear', 'score': -6.908611297607422},\n",
              "  {'label': 'gratitude', 'score': -7.312859535217285},\n",
              "  {'label': 'grief', 'score': -7.9910478591918945},\n",
              "  {'label': 'joy', 'score': -4.435068607330322},\n",
              "  {'label': 'love', 'score': -5.984543800354004},\n",
              "  {'label': 'nervousness', 'score': -6.992109775543213},\n",
              "  {'label': 'optimism', 'score': -5.1893815994262695},\n",
              "  {'label': 'pride', 'score': -7.703908443450928},\n",
              "  {'label': 'realization', 'score': -4.7095794677734375},\n",
              "  {'label': 'relief', 'score': -7.079712390899658},\n",
              "  {'label': 'remorse', 'score': -8.085660934448242},\n",
              "  {'label': 'sadness', 'score': -7.312576770782471},\n",
              "  {'label': 'surprise', 'score': -3.1032094955444336},\n",
              "  {'label': 'neutral', 'score': -0.1256537139415741}],\n",
              " [{'label': 'admiration', 'score': -5.923812389373779},\n",
              "  {'label': 'amusement', 'score': -6.132730484008789},\n",
              "  {'label': 'anger', 'score': -5.95521879196167},\n",
              "  {'label': 'annoyance', 'score': -5.150460243225098},\n",
              "  {'label': 'approval', 'score': -4.628120422363281},\n",
              "  {'label': 'caring', 'score': -7.0326762199401855},\n",
              "  {'label': 'confusion', 'score': -4.989767074584961},\n",
              "  {'label': 'curiosity', 'score': -5.716996192932129},\n",
              "  {'label': 'desire', 'score': -6.654698848724365},\n",
              "  {'label': 'disappointment', 'score': -5.731743335723877},\n",
              "  {'label': 'disapproval', 'score': -5.691200256347656},\n",
              "  {'label': 'disgust', 'score': -6.193755626678467},\n",
              "  {'label': 'embarrassment', 'score': -7.206721782684326},\n",
              "  {'label': 'excitement', 'score': -5.990050792694092},\n",
              "  {'label': 'fear', 'score': -6.407094955444336},\n",
              "  {'label': 'gratitude', 'score': -6.963748455047607},\n",
              "  {'label': 'grief', 'score': -7.647419452667236},\n",
              "  {'label': 'joy', 'score': -6.292388916015625},\n",
              "  {'label': 'love', 'score': -6.56839656829834},\n",
              "  {'label': 'nervousness', 'score': -7.744289875030518},\n",
              "  {'label': 'optimism', 'score': -6.199499607086182},\n",
              "  {'label': 'pride', 'score': -8.15078067779541},\n",
              "  {'label': 'realization', 'score': -5.145984172821045},\n",
              "  {'label': 'relief', 'score': -8.102675437927246},\n",
              "  {'label': 'remorse', 'score': -7.919558525085449},\n",
              "  {'label': 'sadness', 'score': -6.098491668701172},\n",
              "  {'label': 'surprise', 'score': -6.514862537384033},\n",
              "  {'label': 'neutral', 'score': 3.401970386505127}],\n",
              " [{'label': 'admiration', 'score': 0.3462195098400116},\n",
              "  {'label': 'amusement', 'score': -7.347814559936523},\n",
              "  {'label': 'anger', 'score': -7.473914623260498},\n",
              "  {'label': 'annoyance', 'score': -5.716705322265625},\n",
              "  {'label': 'approval', 'score': -1.3626117706298828},\n",
              "  {'label': 'caring', 'score': -6.998653411865234},\n",
              "  {'label': 'confusion', 'score': -6.51495361328125},\n",
              "  {'label': 'curiosity', 'score': -7.062633514404297},\n",
              "  {'label': 'desire', 'score': -7.242127418518066},\n",
              "  {'label': 'disappointment', 'score': -6.0786356925964355},\n",
              "  {'label': 'disapproval', 'score': -5.441478252410889},\n",
              "  {'label': 'disgust', 'score': -7.262809753417969},\n",
              "  {'label': 'embarrassment', 'score': -8.3554105758667},\n",
              "  {'label': 'excitement', 'score': -6.1867995262146},\n",
              "  {'label': 'fear', 'score': -8.390433311462402},\n",
              "  {'label': 'gratitude', 'score': -4.693038463592529},\n",
              "  {'label': 'grief', 'score': -8.718647956848145},\n",
              "  {'label': 'joy', 'score': -6.196266174316406},\n",
              "  {'label': 'love', 'score': -6.261148929595947},\n",
              "  {'label': 'nervousness', 'score': -9.476262092590332},\n",
              "  {'label': 'optimism', 'score': -5.192681789398193},\n",
              "  {'label': 'pride', 'score': -6.23648738861084},\n",
              "  {'label': 'realization', 'score': -4.244178295135498},\n",
              "  {'label': 'relief', 'score': -7.223267555236816},\n",
              "  {'label': 'remorse', 'score': -8.464412689208984},\n",
              "  {'label': 'sadness', 'score': -7.606173992156982},\n",
              "  {'label': 'surprise', 'score': -7.145908355712891},\n",
              "  {'label': 'neutral', 'score': -1.0896220207214355}],\n",
              " [{'label': 'admiration', 'score': -6.433743476867676},\n",
              "  {'label': 'amusement', 'score': -5.530137538909912},\n",
              "  {'label': 'anger', 'score': -4.122564315795898},\n",
              "  {'label': 'annoyance', 'score': -2.7194859981536865},\n",
              "  {'label': 'approval', 'score': -4.533535957336426},\n",
              "  {'label': 'caring', 'score': -6.822612285614014},\n",
              "  {'label': 'confusion', 'score': -6.841554641723633},\n",
              "  {'label': 'curiosity', 'score': -6.76159143447876},\n",
              "  {'label': 'desire', 'score': -5.89169979095459},\n",
              "  {'label': 'disappointment', 'score': -3.846869707107544},\n",
              "  {'label': 'disapproval', 'score': -4.8487043380737305},\n",
              "  {'label': 'disgust', 'score': -1.7944060564041138},\n",
              "  {'label': 'embarrassment', 'score': -4.6884236335754395},\n",
              "  {'label': 'excitement', 'score': -6.31159782409668},\n",
              "  {'label': 'fear', 'score': -4.444174289703369},\n",
              "  {'label': 'gratitude', 'score': -7.307478904724121},\n",
              "  {'label': 'grief', 'score': -6.117971897125244},\n",
              "  {'label': 'joy', 'score': -6.600640296936035},\n",
              "  {'label': 'love', 'score': -6.557083606719971},\n",
              "  {'label': 'nervousness', 'score': -6.640876770019531},\n",
              "  {'label': 'optimism', 'score': -6.932244777679443},\n",
              "  {'label': 'pride', 'score': -7.460144519805908},\n",
              "  {'label': 'realization', 'score': -4.721217155456543},\n",
              "  {'label': 'relief', 'score': -7.214471340179443},\n",
              "  {'label': 'remorse', 'score': -6.686925888061523},\n",
              "  {'label': 'sadness', 'score': -3.3158023357391357},\n",
              "  {'label': 'surprise', 'score': -6.221244812011719},\n",
              "  {'label': 'neutral', 'score': 1.0333584547042847}],\n",
              " [{'label': 'admiration', 'score': -3.387094020843506},\n",
              "  {'label': 'amusement', 'score': -6.641849994659424},\n",
              "  {'label': 'anger', 'score': -6.036665439605713},\n",
              "  {'label': 'annoyance', 'score': -5.269805908203125},\n",
              "  {'label': 'approval', 'score': -2.7218143939971924},\n",
              "  {'label': 'caring', 'score': 1.7083247900009155},\n",
              "  {'label': 'confusion', 'score': -6.256211280822754},\n",
              "  {'label': 'curiosity', 'score': -5.688069820404053},\n",
              "  {'label': 'desire', 'score': -4.751389980316162},\n",
              "  {'label': 'disappointment', 'score': -6.554274559020996},\n",
              "  {'label': 'disapproval', 'score': -5.124075889587402},\n",
              "  {'label': 'disgust', 'score': -6.964767932891846},\n",
              "  {'label': 'embarrassment', 'score': -7.686132431030273},\n",
              "  {'label': 'excitement', 'score': -5.605006217956543},\n",
              "  {'label': 'fear', 'score': -6.077786922454834},\n",
              "  {'label': 'gratitude', 'score': -2.4637489318847656},\n",
              "  {'label': 'grief', 'score': -6.205097198486328},\n",
              "  {'label': 'joy', 'score': -4.822365760803223},\n",
              "  {'label': 'love', 'score': -3.943466901779175},\n",
              "  {'label': 'nervousness', 'score': -6.248245716094971},\n",
              "  {'label': 'optimism', 'score': -2.3153109550476074},\n",
              "  {'label': 'pride', 'score': -6.292937755584717},\n",
              "  {'label': 'realization', 'score': -5.647166728973389},\n",
              "  {'label': 'relief', 'score': -4.842720031738281},\n",
              "  {'label': 'remorse', 'score': -5.532502174377441},\n",
              "  {'label': 'sadness', 'score': -5.429816722869873},\n",
              "  {'label': 'surprise', 'score': -7.27057409286499},\n",
              "  {'label': 'neutral', 'score': -2.655261516571045}],\n",
              " [{'label': 'admiration', 'score': -5.613325119018555},\n",
              "  {'label': 'amusement', 'score': -6.039553165435791},\n",
              "  {'label': 'anger', 'score': -6.598970890045166},\n",
              "  {'label': 'annoyance', 'score': -5.243767738342285},\n",
              "  {'label': 'approval', 'score': -4.2032470703125},\n",
              "  {'label': 'caring', 'score': -5.920074939727783},\n",
              "  {'label': 'confusion', 'score': -6.085195541381836},\n",
              "  {'label': 'curiosity', 'score': -6.322086334228516},\n",
              "  {'label': 'desire', 'score': -6.566411018371582},\n",
              "  {'label': 'disappointment', 'score': -6.489528656005859},\n",
              "  {'label': 'disapproval', 'score': -5.988158702850342},\n",
              "  {'label': 'disgust', 'score': -6.732181072235107},\n",
              "  {'label': 'embarrassment', 'score': -7.433790683746338},\n",
              "  {'label': 'excitement', 'score': -5.961879730224609},\n",
              "  {'label': 'fear', 'score': -7.438515663146973},\n",
              "  {'label': 'gratitude', 'score': 4.44608736038208},\n",
              "  {'label': 'grief', 'score': -7.705536365509033},\n",
              "  {'label': 'joy', 'score': -5.706426620483398},\n",
              "  {'label': 'love', 'score': -6.243003845214844},\n",
              "  {'label': 'nervousness', 'score': -8.321175575256348},\n",
              "  {'label': 'optimism', 'score': -5.178372383117676},\n",
              "  {'label': 'pride', 'score': -7.636783599853516},\n",
              "  {'label': 'realization', 'score': -5.117827415466309},\n",
              "  {'label': 'relief', 'score': -6.140274524688721},\n",
              "  {'label': 'remorse', 'score': -6.359123706817627},\n",
              "  {'label': 'sadness', 'score': -6.046815872192383},\n",
              "  {'label': 'surprise', 'score': -6.467371940612793},\n",
              "  {'label': 'neutral', 'score': -4.592846870422363}],\n",
              " [{'label': 'admiration', 'score': -6.872695446014404},\n",
              "  {'label': 'amusement', 'score': -5.662468910217285},\n",
              "  {'label': 'anger', 'score': -5.576061248779297},\n",
              "  {'label': 'annoyance', 'score': -3.386410713195801},\n",
              "  {'label': 'approval', 'score': -4.541492938995361},\n",
              "  {'label': 'caring', 'score': -7.46982479095459},\n",
              "  {'label': 'confusion', 'score': -2.3660991191864014},\n",
              "  {'label': 'curiosity', 'score': -3.3631510734558105},\n",
              "  {'label': 'desire', 'score': -7.5394206047058105},\n",
              "  {'label': 'disappointment', 'score': -5.693939685821533},\n",
              "  {'label': 'disapproval', 'score': -4.877028942108154},\n",
              "  {'label': 'disgust', 'score': -6.103391647338867},\n",
              "  {'label': 'embarrassment', 'score': -6.843191146850586},\n",
              "  {'label': 'excitement', 'score': -6.9173760414123535},\n",
              "  {'label': 'fear', 'score': -6.927737236022949},\n",
              "  {'label': 'gratitude', 'score': -7.881070137023926},\n",
              "  {'label': 'grief', 'score': -8.241487503051758},\n",
              "  {'label': 'joy', 'score': -7.3964433670043945},\n",
              "  {'label': 'love', 'score': -8.076667785644531},\n",
              "  {'label': 'nervousness', 'score': -7.702445983886719},\n",
              "  {'label': 'optimism', 'score': -5.856075286865234},\n",
              "  {'label': 'pride', 'score': -9.116532325744629},\n",
              "  {'label': 'realization', 'score': -4.2203168869018555},\n",
              "  {'label': 'relief', 'score': -8.619850158691406},\n",
              "  {'label': 'remorse', 'score': -8.632134437561035},\n",
              "  {'label': 'sadness', 'score': -6.9501519203186035},\n",
              "  {'label': 'surprise', 'score': -5.410222053527832},\n",
              "  {'label': 'neutral', 'score': 1.935123324394226}],\n",
              " [{'label': 'admiration', 'score': -5.222243785858154},\n",
              "  {'label': 'amusement', 'score': -6.065110206604004},\n",
              "  {'label': 'anger', 'score': -7.173776626586914},\n",
              "  {'label': 'annoyance', 'score': -4.932947635650635},\n",
              "  {'label': 'approval', 'score': -3.49578857421875},\n",
              "  {'label': 'caring', 'score': -7.406916618347168},\n",
              "  {'label': 'confusion', 'score': -5.1447529792785645},\n",
              "  {'label': 'curiosity', 'score': -6.112741470336914},\n",
              "  {'label': 'desire', 'score': -7.023458957672119},\n",
              "  {'label': 'disappointment', 'score': -5.273595333099365},\n",
              "  {'label': 'disapproval', 'score': -5.733980655670166},\n",
              "  {'label': 'disgust', 'score': -6.826607704162598},\n",
              "  {'label': 'embarrassment', 'score': -6.780335426330566},\n",
              "  {'label': 'excitement', 'score': -5.523402690887451},\n",
              "  {'label': 'fear', 'score': -7.4197821617126465},\n",
              "  {'label': 'gratitude', 'score': -6.340029716491699},\n",
              "  {'label': 'grief', 'score': -7.5890326499938965},\n",
              "  {'label': 'joy', 'score': -5.762831687927246},\n",
              "  {'label': 'love', 'score': -7.427705764770508},\n",
              "  {'label': 'nervousness', 'score': -7.528531551361084},\n",
              "  {'label': 'optimism', 'score': -5.333613872528076},\n",
              "  {'label': 'pride', 'score': -6.9853620529174805},\n",
              "  {'label': 'realization', 'score': -1.2675321102142334},\n",
              "  {'label': 'relief', 'score': -6.595839023590088},\n",
              "  {'label': 'remorse', 'score': -7.718895435333252},\n",
              "  {'label': 'sadness', 'score': -6.611697673797607},\n",
              "  {'label': 'surprise', 'score': -4.471152305603027},\n",
              "  {'label': 'neutral', 'score': 1.1182291507720947}],\n",
              " [{'label': 'admiration', 'score': -6.056967258453369},\n",
              "  {'label': 'amusement', 'score': -6.759413719177246},\n",
              "  {'label': 'anger', 'score': -6.07161808013916},\n",
              "  {'label': 'annoyance', 'score': -4.216495037078857},\n",
              "  {'label': 'approval', 'score': -4.021987438201904},\n",
              "  {'label': 'caring', 'score': -6.997751235961914},\n",
              "  {'label': 'confusion', 'score': -5.729382038116455},\n",
              "  {'label': 'curiosity', 'score': -6.297615051269531},\n",
              "  {'label': 'desire', 'score': -6.8588104248046875},\n",
              "  {'label': 'disappointment', 'score': -5.58043098449707},\n",
              "  {'label': 'disapproval', 'score': -5.454561710357666},\n",
              "  {'label': 'disgust', 'score': -6.177985191345215},\n",
              "  {'label': 'embarrassment', 'score': -7.420153617858887},\n",
              "  {'label': 'excitement', 'score': -6.721418857574463},\n",
              "  {'label': 'fear', 'score': -6.958676338195801},\n",
              "  {'label': 'gratitude', 'score': -7.801173210144043},\n",
              "  {'label': 'grief', 'score': -8.298745155334473},\n",
              "  {'label': 'joy', 'score': -7.232564926147461},\n",
              "  {'label': 'love', 'score': -7.489204406738281},\n",
              "  {'label': 'nervousness', 'score': -8.225133895874023},\n",
              "  {'label': 'optimism', 'score': -5.734902858734131},\n",
              "  {'label': 'pride', 'score': -8.339090347290039},\n",
              "  {'label': 'realization', 'score': -4.592394828796387},\n",
              "  {'label': 'relief', 'score': -8.368363380432129},\n",
              "  {'label': 'remorse', 'score': -8.460250854492188},\n",
              "  {'label': 'sadness', 'score': -6.60561990737915},\n",
              "  {'label': 'surprise', 'score': -6.9265666007995605},\n",
              "  {'label': 'neutral', 'score': 3.2251226902008057}],\n",
              " [{'label': 'admiration', 'score': -5.743112564086914},\n",
              "  {'label': 'amusement', 'score': -6.097411632537842},\n",
              "  {'label': 'anger', 'score': -5.963436603546143},\n",
              "  {'label': 'annoyance', 'score': -4.937156677246094},\n",
              "  {'label': 'approval', 'score': -4.321529865264893},\n",
              "  {'label': 'caring', 'score': -6.964114665985107},\n",
              "  {'label': 'confusion', 'score': -5.898248195648193},\n",
              "  {'label': 'curiosity', 'score': -6.415950775146484},\n",
              "  {'label': 'desire', 'score': -6.774669170379639},\n",
              "  {'label': 'disappointment', 'score': -5.645715713500977},\n",
              "  {'label': 'disapproval', 'score': -5.53078031539917},\n",
              "  {'label': 'disgust', 'score': -6.046247959136963},\n",
              "  {'label': 'embarrassment', 'score': -7.074107646942139},\n",
              "  {'label': 'excitement', 'score': -6.107283115386963},\n",
              "  {'label': 'fear', 'score': -6.413461208343506},\n",
              "  {'label': 'gratitude', 'score': -6.886336326599121},\n",
              "  {'label': 'grief', 'score': -7.640762805938721},\n",
              "  {'label': 'joy', 'score': -6.32453727722168},\n",
              "  {'label': 'love', 'score': -6.673233509063721},\n",
              "  {'label': 'nervousness', 'score': -7.869392395019531},\n",
              "  {'label': 'optimism', 'score': -6.132580757141113},\n",
              "  {'label': 'pride', 'score': -7.875216007232666},\n",
              "  {'label': 'realization', 'score': -4.983499050140381},\n",
              "  {'label': 'relief', 'score': -7.900380611419678},\n",
              "  {'label': 'remorse', 'score': -7.81242036819458},\n",
              "  {'label': 'sadness', 'score': -6.047371864318848},\n",
              "  {'label': 'surprise', 'score': -6.702811241149902},\n",
              "  {'label': 'neutral', 'score': 3.487105369567871}],\n",
              " [{'label': 'admiration', 'score': -5.886186599731445},\n",
              "  {'label': 'amusement', 'score': -6.241233825683594},\n",
              "  {'label': 'anger', 'score': -6.015084266662598},\n",
              "  {'label': 'annoyance', 'score': -4.276445388793945},\n",
              "  {'label': 'approval', 'score': -1.7883654832839966},\n",
              "  {'label': 'caring', 'score': 0.32228636741638184},\n",
              "  {'label': 'confusion', 'score': -5.847757816314697},\n",
              "  {'label': 'curiosity', 'score': -6.516079425811768},\n",
              "  {'label': 'desire', 'score': -6.094775676727295},\n",
              "  {'label': 'disappointment', 'score': -5.2280073165893555},\n",
              "  {'label': 'disapproval', 'score': -2.611591100692749},\n",
              "  {'label': 'disgust', 'score': -7.099155426025391},\n",
              "  {'label': 'embarrassment', 'score': -6.58660364151001},\n",
              "  {'label': 'excitement', 'score': -6.6609063148498535},\n",
              "  {'label': 'fear', 'score': -5.03638219833374},\n",
              "  {'label': 'gratitude', 'score': -5.721255302429199},\n",
              "  {'label': 'grief', 'score': -6.281337738037109},\n",
              "  {'label': 'joy', 'score': -5.283668518066406},\n",
              "  {'label': 'love', 'score': -6.266096591949463},\n",
              "  {'label': 'nervousness', 'score': -4.894306659698486},\n",
              "  {'label': 'optimism', 'score': -2.8748505115509033},\n",
              "  {'label': 'pride', 'score': -6.536712169647217},\n",
              "  {'label': 'realization', 'score': -3.550048351287842},\n",
              "  {'label': 'relief', 'score': -4.063199043273926},\n",
              "  {'label': 'remorse', 'score': -5.648221969604492},\n",
              "  {'label': 'sadness', 'score': -4.641177654266357},\n",
              "  {'label': 'surprise', 'score': -7.189166069030762},\n",
              "  {'label': 'neutral', 'score': -1.068381428718567}],\n",
              " [{'label': 'admiration', 'score': -5.791255950927734},\n",
              "  {'label': 'amusement', 'score': -6.708650588989258},\n",
              "  {'label': 'anger', 'score': -7.364842414855957},\n",
              "  {'label': 'annoyance', 'score': -4.981036186218262},\n",
              "  {'label': 'approval', 'score': -2.410139560699463},\n",
              "  {'label': 'caring', 'score': -7.30592679977417},\n",
              "  {'label': 'confusion', 'score': -4.773380279541016},\n",
              "  {'label': 'curiosity', 'score': -6.200525283813477},\n",
              "  {'label': 'desire', 'score': -6.949867248535156},\n",
              "  {'label': 'disappointment', 'score': -5.620825290679932},\n",
              "  {'label': 'disapproval', 'score': -5.4986701011657715},\n",
              "  {'label': 'disgust', 'score': -6.825568675994873},\n",
              "  {'label': 'embarrassment', 'score': -7.548717975616455},\n",
              "  {'label': 'excitement', 'score': -6.753828525543213},\n",
              "  {'label': 'fear', 'score': -7.305501937866211},\n",
              "  {'label': 'gratitude', 'score': -6.879186630249023},\n",
              "  {'label': 'grief', 'score': -8.26419448852539},\n",
              "  {'label': 'joy', 'score': -7.02362585067749},\n",
              "  {'label': 'love', 'score': -7.365724563598633},\n",
              "  {'label': 'nervousness', 'score': -7.8523712158203125},\n",
              "  {'label': 'optimism', 'score': -5.058193206787109},\n",
              "  {'label': 'pride', 'score': -7.790059566497803},\n",
              "  {'label': 'realization', 'score': -1.975553035736084},\n",
              "  {'label': 'relief', 'score': -7.347368240356445},\n",
              "  {'label': 'remorse', 'score': -7.935169696807861},\n",
              "  {'label': 'sadness', 'score': -6.828233242034912},\n",
              "  {'label': 'surprise', 'score': -6.2489094734191895},\n",
              "  {'label': 'neutral', 'score': 1.5393821001052856}],\n",
              " [{'label': 'admiration', 'score': -5.454664707183838},\n",
              "  {'label': 'amusement', 'score': -7.137998580932617},\n",
              "  {'label': 'anger', 'score': -7.720729827880859},\n",
              "  {'label': 'annoyance', 'score': -5.671201229095459},\n",
              "  {'label': 'approval', 'score': -1.7494491338729858},\n",
              "  {'label': 'caring', 'score': -7.041510105133057},\n",
              "  {'label': 'confusion', 'score': -5.9410810470581055},\n",
              "  {'label': 'curiosity', 'score': -6.743651866912842},\n",
              "  {'label': 'desire', 'score': -5.877592086791992},\n",
              "  {'label': 'disappointment', 'score': -5.744246006011963},\n",
              "  {'label': 'disapproval', 'score': -5.29382848739624},\n",
              "  {'label': 'disgust', 'score': -7.264943599700928},\n",
              "  {'label': 'embarrassment', 'score': -8.583700180053711},\n",
              "  {'label': 'excitement', 'score': -6.689497470855713},\n",
              "  {'label': 'fear', 'score': -7.876359939575195},\n",
              "  {'label': 'gratitude', 'score': -7.155562877655029},\n",
              "  {'label': 'grief', 'score': -8.71121597290039},\n",
              "  {'label': 'joy', 'score': -7.012911319732666},\n",
              "  {'label': 'love', 'score': -6.7921671867370605},\n",
              "  {'label': 'nervousness', 'score': -8.374181747436523},\n",
              "  {'label': 'optimism', 'score': -4.3520073890686035},\n",
              "  {'label': 'pride', 'score': -7.937788963317871},\n",
              "  {'label': 'realization', 'score': -3.3205924034118652},\n",
              "  {'label': 'relief', 'score': -7.694482326507568},\n",
              "  {'label': 'remorse', 'score': -8.284578323364258},\n",
              "  {'label': 'sadness', 'score': -7.075211524963379},\n",
              "  {'label': 'surprise', 'score': -7.382760047912598},\n",
              "  {'label': 'neutral', 'score': 1.6911053657531738}],\n",
              " [{'label': 'admiration', 'score': -7.039155960083008},\n",
              "  {'label': 'amusement', 'score': -6.3377227783203125},\n",
              "  {'label': 'anger', 'score': -6.209539890289307},\n",
              "  {'label': 'annoyance', 'score': -4.71891450881958},\n",
              "  {'label': 'approval', 'score': -4.873012542724609},\n",
              "  {'label': 'caring', 'score': -6.025003910064697},\n",
              "  {'label': 'confusion', 'score': -1.6980878114700317},\n",
              "  {'label': 'curiosity', 'score': -1.1214927434921265},\n",
              "  {'label': 'desire', 'score': -6.18424654006958},\n",
              "  {'label': 'disappointment', 'score': -6.43672513961792},\n",
              "  {'label': 'disapproval', 'score': -6.088111877441406},\n",
              "  {'label': 'disgust', 'score': -6.789923191070557},\n",
              "  {'label': 'embarrassment', 'score': -7.399322986602783},\n",
              "  {'label': 'excitement', 'score': -6.372591495513916},\n",
              "  {'label': 'fear', 'score': -6.679641246795654},\n",
              "  {'label': 'gratitude', 'score': -7.345383644104004},\n",
              "  {'label': 'grief', 'score': -8.093925476074219},\n",
              "  {'label': 'joy', 'score': -7.140227794647217},\n",
              "  {'label': 'love', 'score': -6.992955684661865},\n",
              "  {'label': 'nervousness', 'score': -7.437341690063477},\n",
              "  {'label': 'optimism', 'score': -5.024758815765381},\n",
              "  {'label': 'pride', 'score': -9.333537101745605},\n",
              "  {'label': 'realization', 'score': -5.037259101867676},\n",
              "  {'label': 'relief', 'score': -8.483216285705566},\n",
              "  {'label': 'remorse', 'score': -7.706402778625488},\n",
              "  {'label': 'sadness', 'score': -6.846093654632568},\n",
              "  {'label': 'surprise', 'score': -5.280147552490234},\n",
              "  {'label': 'neutral', 'score': 1.2213605642318726}],\n",
              " [{'label': 'admiration', 'score': -5.989521026611328},\n",
              "  {'label': 'amusement', 'score': -6.180157661437988},\n",
              "  {'label': 'anger', 'score': -4.9951348304748535},\n",
              "  {'label': 'annoyance', 'score': -2.494426965713501},\n",
              "  {'label': 'approval', 'score': -4.123435020446777},\n",
              "  {'label': 'caring', 'score': -6.435276031494141},\n",
              "  {'label': 'confusion', 'score': -6.274226665496826},\n",
              "  {'label': 'curiosity', 'score': -7.122440338134766},\n",
              "  {'label': 'desire', 'score': -6.651390075683594},\n",
              "  {'label': 'disappointment', 'score': -2.1488709449768066},\n",
              "  {'label': 'disapproval', 'score': 0.38049086928367615},\n",
              "  {'label': 'disgust', 'score': -5.6978349685668945},\n",
              "  {'label': 'embarrassment', 'score': -5.710330486297607},\n",
              "  {'label': 'excitement', 'score': -5.9962334632873535},\n",
              "  {'label': 'fear', 'score': -6.990084648132324},\n",
              "  {'label': 'gratitude', 'score': -6.474039077758789},\n",
              "  {'label': 'grief', 'score': -7.2942891120910645},\n",
              "  {'label': 'joy', 'score': -5.917058944702148},\n",
              "  {'label': 'love', 'score': -6.639402866363525},\n",
              "  {'label': 'nervousness', 'score': -7.209240436553955},\n",
              "  {'label': 'optimism', 'score': -6.036238193511963},\n",
              "  {'label': 'pride', 'score': -7.186290264129639},\n",
              "  {'label': 'realization', 'score': -3.752448081970215},\n",
              "  {'label': 'relief', 'score': -6.29198694229126},\n",
              "  {'label': 'remorse', 'score': -6.949094772338867},\n",
              "  {'label': 'sadness', 'score': -4.866568088531494},\n",
              "  {'label': 'surprise', 'score': -5.2204365730285645},\n",
              "  {'label': 'neutral', 'score': -0.6378939747810364}],\n",
              " [{'label': 'admiration', 'score': -2.9530012607574463},\n",
              "  {'label': 'amusement', 'score': -6.980541229248047},\n",
              "  {'label': 'anger', 'score': -7.521551132202148},\n",
              "  {'label': 'annoyance', 'score': -5.864307880401611},\n",
              "  {'label': 'approval', 'score': -1.2466894388198853},\n",
              "  {'label': 'caring', 'score': -3.0460171699523926},\n",
              "  {'label': 'confusion', 'score': -6.7867536544799805},\n",
              "  {'label': 'curiosity', 'score': -7.055513858795166},\n",
              "  {'label': 'desire', 'score': -5.632232666015625},\n",
              "  {'label': 'disappointment', 'score': -6.330697059631348},\n",
              "  {'label': 'disapproval', 'score': -5.463475227355957},\n",
              "  {'label': 'disgust', 'score': -7.406225681304932},\n",
              "  {'label': 'embarrassment', 'score': -8.021100997924805},\n",
              "  {'label': 'excitement', 'score': -5.488550662994385},\n",
              "  {'label': 'fear', 'score': -6.920960426330566},\n",
              "  {'label': 'gratitude', 'score': -4.282247066497803},\n",
              "  {'label': 'grief', 'score': -7.384847640991211},\n",
              "  {'label': 'joy', 'score': -5.583894729614258},\n",
              "  {'label': 'love', 'score': -7.230224609375},\n",
              "  {'label': 'nervousness', 'score': -7.45350456237793},\n",
              "  {'label': 'optimism', 'score': -2.3726046085357666},\n",
              "  {'label': 'pride', 'score': -5.4212188720703125},\n",
              "  {'label': 'realization', 'score': -4.170608043670654},\n",
              "  {'label': 'relief', 'score': -5.108676433563232},\n",
              "  {'label': 'remorse', 'score': -7.197790622711182},\n",
              "  {'label': 'sadness', 'score': -6.478394508361816},\n",
              "  {'label': 'surprise', 'score': -6.994717597961426},\n",
              "  {'label': 'neutral', 'score': 0.482354998588562}],\n",
              " [{'label': 'admiration', 'score': -5.502148151397705},\n",
              "  {'label': 'amusement', 'score': -6.770569801330566},\n",
              "  {'label': 'anger', 'score': -6.886973857879639},\n",
              "  {'label': 'annoyance', 'score': -5.51322603225708},\n",
              "  {'label': 'approval', 'score': -1.4385257959365845},\n",
              "  {'label': 'caring', 'score': -6.467835426330566},\n",
              "  {'label': 'confusion', 'score': -6.650653839111328},\n",
              "  {'label': 'curiosity', 'score': -6.893430233001709},\n",
              "  {'label': 'desire', 'score': -7.349305152893066},\n",
              "  {'label': 'disappointment', 'score': -6.9487080574035645},\n",
              "  {'label': 'disapproval', 'score': -5.709686756134033},\n",
              "  {'label': 'disgust', 'score': -7.273895740509033},\n",
              "  {'label': 'embarrassment', 'score': -8.824152946472168},\n",
              "  {'label': 'excitement', 'score': -6.965631008148193},\n",
              "  {'label': 'fear', 'score': -7.971377849578857},\n",
              "  {'label': 'gratitude', 'score': -7.15688943862915},\n",
              "  {'label': 'grief', 'score': -9.0501708984375},\n",
              "  {'label': 'joy', 'score': -6.760889530181885},\n",
              "  {'label': 'love', 'score': -6.586106300354004},\n",
              "  {'label': 'nervousness', 'score': -8.909324645996094},\n",
              "  {'label': 'optimism', 'score': -5.51024055480957},\n",
              "  {'label': 'pride', 'score': -8.261821746826172},\n",
              "  {'label': 'realization', 'score': -4.737070083618164},\n",
              "  {'label': 'relief', 'score': -7.850427150726318},\n",
              "  {'label': 'remorse', 'score': -8.781195640563965},\n",
              "  {'label': 'sadness', 'score': -7.56881856918335},\n",
              "  {'label': 'surprise', 'score': -8.09017276763916},\n",
              "  {'label': 'neutral', 'score': 1.6422522068023682}],\n",
              " [{'label': 'admiration', 'score': -5.501256942749023},\n",
              "  {'label': 'amusement', 'score': -6.01607608795166},\n",
              "  {'label': 'anger', 'score': -5.940014839172363},\n",
              "  {'label': 'annoyance', 'score': -5.207574367523193},\n",
              "  {'label': 'approval', 'score': -4.308304786682129},\n",
              "  {'label': 'caring', 'score': -6.577177047729492},\n",
              "  {'label': 'confusion', 'score': -5.99630069732666},\n",
              "  {'label': 'curiosity', 'score': -6.429349899291992},\n",
              "  {'label': 'desire', 'score': -6.34499454498291},\n",
              "  {'label': 'disappointment', 'score': -5.715795516967773},\n",
              "  {'label': 'disapproval', 'score': -5.817345142364502},\n",
              "  {'label': 'disgust', 'score': -5.853020668029785},\n",
              "  {'label': 'embarrassment', 'score': -7.190784454345703},\n",
              "  {'label': 'excitement', 'score': -5.854034423828125},\n",
              "  {'label': 'fear', 'score': -6.242649078369141},\n",
              "  {'label': 'gratitude', 'score': -6.765228271484375},\n",
              "  {'label': 'grief', 'score': -7.430067539215088},\n",
              "  {'label': 'joy', 'score': -6.016685485839844},\n",
              "  {'label': 'love', 'score': -5.979477882385254},\n",
              "  {'label': 'nervousness', 'score': -7.790316581726074},\n",
              "  {'label': 'optimism', 'score': -6.165053844451904},\n",
              "  {'label': 'pride', 'score': -7.725393295288086},\n",
              "  {'label': 'realization', 'score': -5.197555065155029},\n",
              "  {'label': 'relief', 'score': -7.821467876434326},\n",
              "  {'label': 'remorse', 'score': -7.5360822677612305},\n",
              "  {'label': 'sadness', 'score': -5.828542232513428},\n",
              "  {'label': 'surprise', 'score': -6.829925060272217},\n",
              "  {'label': 'neutral', 'score': 3.425318479537964}],\n",
              " [{'label': 'admiration', 'score': -4.590641021728516},\n",
              "  {'label': 'amusement', 'score': -6.223064422607422},\n",
              "  {'label': 'anger', 'score': -6.8918046951293945},\n",
              "  {'label': 'annoyance', 'score': -5.045329570770264},\n",
              "  {'label': 'approval', 'score': -2.3967854976654053},\n",
              "  {'label': 'caring', 'score': -7.724022388458252},\n",
              "  {'label': 'confusion', 'score': -6.542067527770996},\n",
              "  {'label': 'curiosity', 'score': -6.898429870605469},\n",
              "  {'label': 'desire', 'score': -7.266258239746094},\n",
              "  {'label': 'disappointment', 'score': -6.047161102294922},\n",
              "  {'label': 'disapproval', 'score': -6.076679229736328},\n",
              "  {'label': 'disgust', 'score': -6.428339958190918},\n",
              "  {'label': 'embarrassment', 'score': -7.057192802429199},\n",
              "  {'label': 'excitement', 'score': -4.496761322021484},\n",
              "  {'label': 'fear', 'score': -6.92193078994751},\n",
              "  {'label': 'gratitude', 'score': -7.588949203491211},\n",
              "  {'label': 'grief', 'score': -8.216501235961914},\n",
              "  {'label': 'joy', 'score': -5.529749393463135},\n",
              "  {'label': 'love', 'score': -6.513927459716797},\n",
              "  {'label': 'nervousness', 'score': -7.824289321899414},\n",
              "  {'label': 'optimism', 'score': -5.943395137786865},\n",
              "  {'label': 'pride', 'score': -6.650285243988037},\n",
              "  {'label': 'realization', 'score': -2.991889476776123},\n",
              "  {'label': 'relief', 'score': -6.869135856628418},\n",
              "  {'label': 'remorse', 'score': -8.486394882202148},\n",
              "  {'label': 'sadness', 'score': -7.231602668762207},\n",
              "  {'label': 'surprise', 'score': -5.2280449867248535},\n",
              "  {'label': 'neutral', 'score': 1.6518868207931519}],\n",
              " [{'label': 'admiration', 'score': -6.090811252593994},\n",
              "  {'label': 'amusement', 'score': -6.680689811706543},\n",
              "  {'label': 'anger', 'score': -6.738641262054443},\n",
              "  {'label': 'annoyance', 'score': -4.076765537261963},\n",
              "  {'label': 'approval', 'score': -3.344876289367676},\n",
              "  {'label': 'caring', 'score': -6.549774646759033},\n",
              "  {'label': 'confusion', 'score': -5.092434883117676},\n",
              "  {'label': 'curiosity', 'score': -6.963844299316406},\n",
              "  {'label': 'desire', 'score': -5.878528118133545},\n",
              "  {'label': 'disappointment', 'score': -1.2854199409484863},\n",
              "  {'label': 'disapproval', 'score': -0.6924675703048706},\n",
              "  {'label': 'disgust', 'score': -6.0942792892456055},\n",
              "  {'label': 'embarrassment', 'score': -5.768426895141602},\n",
              "  {'label': 'excitement', 'score': -7.0941362380981445},\n",
              "  {'label': 'fear', 'score': -6.9262776374816895},\n",
              "  {'label': 'gratitude', 'score': -6.778450012207031},\n",
              "  {'label': 'grief', 'score': -6.924919605255127},\n",
              "  {'label': 'joy', 'score': -6.398890018463135},\n",
              "  {'label': 'love', 'score': -6.116293430328369},\n",
              "  {'label': 'nervousness', 'score': -6.713364124298096},\n",
              "  {'label': 'optimism', 'score': -5.1561784744262695},\n",
              "  {'label': 'pride', 'score': -7.717428207397461},\n",
              "  {'label': 'realization', 'score': -3.241724729537964},\n",
              "  {'label': 'relief', 'score': -6.362203598022461},\n",
              "  {'label': 'remorse', 'score': -5.469858169555664},\n",
              "  {'label': 'sadness', 'score': -3.539947986602783},\n",
              "  {'label': 'surprise', 'score': -6.6113362312316895},\n",
              "  {'label': 'neutral', 'score': 0.06728533655405045}],\n",
              " [{'label': 'admiration', 'score': -5.209358215332031},\n",
              "  {'label': 'amusement', 'score': -5.09718132019043},\n",
              "  {'label': 'anger', 'score': -6.221105098724365},\n",
              "  {'label': 'annoyance', 'score': -3.9468631744384766},\n",
              "  {'label': 'approval', 'score': -4.317340850830078},\n",
              "  {'label': 'caring', 'score': -7.123104095458984},\n",
              "  {'label': 'confusion', 'score': -5.407619476318359},\n",
              "  {'label': 'curiosity', 'score': -5.36967134475708},\n",
              "  {'label': 'desire', 'score': -5.664581298828125},\n",
              "  {'label': 'disappointment', 'score': -2.1255714893341064},\n",
              "  {'label': 'disapproval', 'score': -4.284200668334961},\n",
              "  {'label': 'disgust', 'score': -5.500360488891602},\n",
              "  {'label': 'embarrassment', 'score': -4.497561454772949},\n",
              "  {'label': 'excitement', 'score': -4.471440315246582},\n",
              "  {'label': 'fear', 'score': -5.819526195526123},\n",
              "  {'label': 'gratitude', 'score': -6.260349750518799},\n",
              "  {'label': 'grief', 'score': -5.878538131713867},\n",
              "  {'label': 'joy', 'score': -5.188381195068359},\n",
              "  {'label': 'love', 'score': -6.102844715118408},\n",
              "  {'label': 'nervousness', 'score': -5.844186782836914},\n",
              "  {'label': 'optimism', 'score': -3.8588645458221436},\n",
              "  {'label': 'pride', 'score': -6.638124942779541},\n",
              "  {'label': 'realization', 'score': -1.4436899423599243},\n",
              "  {'label': 'relief', 'score': -5.372118949890137},\n",
              "  {'label': 'remorse', 'score': -6.340709209442139},\n",
              "  {'label': 'sadness', 'score': -4.570239067077637},\n",
              "  {'label': 'surprise', 'score': 0.6714200973510742},\n",
              "  {'label': 'neutral', 'score': -1.7082897424697876}],\n",
              " [{'label': 'admiration', 'score': -6.013528823852539},\n",
              "  {'label': 'amusement', 'score': -6.130793571472168},\n",
              "  {'label': 'anger', 'score': -6.062264919281006},\n",
              "  {'label': 'annoyance', 'score': -5.101072311401367},\n",
              "  {'label': 'approval', 'score': -4.3970770835876465},\n",
              "  {'label': 'caring', 'score': -6.737894058227539},\n",
              "  {'label': 'confusion', 'score': -5.50223970413208},\n",
              "  {'label': 'curiosity', 'score': -6.344467639923096},\n",
              "  {'label': 'desire', 'score': -6.87219762802124},\n",
              "  {'label': 'disappointment', 'score': -5.748879909515381},\n",
              "  {'label': 'disapproval', 'score': -5.6068549156188965},\n",
              "  {'label': 'disgust', 'score': -6.288761615753174},\n",
              "  {'label': 'embarrassment', 'score': -7.156720161437988},\n",
              "  {'label': 'excitement', 'score': -6.302365779876709},\n",
              "  {'label': 'fear', 'score': -6.3513994216918945},\n",
              "  {'label': 'gratitude', 'score': -6.977909088134766},\n",
              "  {'label': 'grief', 'score': -7.644236087799072},\n",
              "  {'label': 'joy', 'score': -6.2868571281433105},\n",
              "  {'label': 'love', 'score': -6.82863187789917},\n",
              "  {'label': 'nervousness', 'score': -7.653482913970947},\n",
              "  {'label': 'optimism', 'score': -6.07166051864624},\n",
              "  {'label': 'pride', 'score': -8.039196014404297},\n",
              "  {'label': 'realization', 'score': -4.8789567947387695},\n",
              "  {'label': 'relief', 'score': -7.905641078948975},\n",
              "  {'label': 'remorse', 'score': -7.651058197021484},\n",
              "  {'label': 'sadness', 'score': -6.010056495666504},\n",
              "  {'label': 'surprise', 'score': -6.829958915710449},\n",
              "  {'label': 'neutral', 'score': 3.407256841659546}],\n",
              " [{'label': 'admiration', 'score': -6.0236382484436035},\n",
              "  {'label': 'amusement', 'score': -6.390691757202148},\n",
              "  {'label': 'anger', 'score': -5.3513641357421875},\n",
              "  {'label': 'annoyance', 'score': -3.5933032035827637},\n",
              "  {'label': 'approval', 'score': -4.936737060546875},\n",
              "  {'label': 'caring', 'score': -5.086213111877441},\n",
              "  {'label': 'confusion', 'score': -6.744650840759277},\n",
              "  {'label': 'curiosity', 'score': -6.276907920837402},\n",
              "  {'label': 'desire', 'score': -5.0854573249816895},\n",
              "  {'label': 'disappointment', 'score': -1.9119312763214111},\n",
              "  {'label': 'disapproval', 'score': -4.872344017028809},\n",
              "  {'label': 'disgust', 'score': -5.190980911254883},\n",
              "  {'label': 'embarrassment', 'score': -6.156295299530029},\n",
              "  {'label': 'excitement', 'score': -7.046821117401123},\n",
              "  {'label': 'fear', 'score': -6.407511234283447},\n",
              "  {'label': 'gratitude', 'score': -7.163148880004883},\n",
              "  {'label': 'grief', 'score': -4.606360912322998},\n",
              "  {'label': 'joy', 'score': -5.958962440490723},\n",
              "  {'label': 'love', 'score': -6.145625114440918},\n",
              "  {'label': 'nervousness', 'score': -5.838247776031494},\n",
              "  {'label': 'optimism', 'score': -6.174166202545166},\n",
              "  {'label': 'pride', 'score': -7.961093425750732},\n",
              "  {'label': 'realization', 'score': -4.598771572113037},\n",
              "  {'label': 'relief', 'score': -6.695555686950684},\n",
              "  {'label': 'remorse', 'score': -5.131265640258789},\n",
              "  {'label': 'sadness', 'score': 0.637627124786377},\n",
              "  {'label': 'surprise', 'score': -6.70670747756958},\n",
              "  {'label': 'neutral', 'score': -0.6997812390327454}],\n",
              " [{'label': 'admiration', 'score': -3.943661689758301},\n",
              "  {'label': 'amusement', 'score': -6.580186367034912},\n",
              "  {'label': 'anger', 'score': -6.856363773345947},\n",
              "  {'label': 'annoyance', 'score': -5.595020294189453},\n",
              "  {'label': 'approval', 'score': -3.555800199508667},\n",
              "  {'label': 'caring', 'score': -6.56304931640625},\n",
              "  {'label': 'confusion', 'score': -6.849278926849365},\n",
              "  {'label': 'curiosity', 'score': -7.346453666687012},\n",
              "  {'label': 'desire', 'score': -5.600744724273682},\n",
              "  {'label': 'disappointment', 'score': -5.453416347503662},\n",
              "  {'label': 'disapproval', 'score': -6.430682182312012},\n",
              "  {'label': 'disgust', 'score': -5.964504718780518},\n",
              "  {'label': 'embarrassment', 'score': -6.954508304595947},\n",
              "  {'label': 'excitement', 'score': -4.832128524780273},\n",
              "  {'label': 'fear', 'score': -5.689631462097168},\n",
              "  {'label': 'gratitude', 'score': -6.235229969024658},\n",
              "  {'label': 'grief', 'score': -7.182589530944824},\n",
              "  {'label': 'joy', 'score': -5.348266124725342},\n",
              "  {'label': 'love', 'score': -6.8856048583984375},\n",
              "  {'label': 'nervousness', 'score': -7.096278667449951},\n",
              "  {'label': 'optimism', 'score': -5.3639302253723145},\n",
              "  {'label': 'pride', 'score': -6.077651023864746},\n",
              "  {'label': 'realization', 'score': -4.411581516265869},\n",
              "  {'label': 'relief', 'score': -6.636404991149902},\n",
              "  {'label': 'remorse', 'score': -7.379012107849121},\n",
              "  {'label': 'sadness', 'score': -5.749597072601318},\n",
              "  {'label': 'surprise', 'score': -6.235328197479248},\n",
              "  {'label': 'neutral', 'score': 2.599592924118042}],\n",
              " [{'label': 'admiration', 'score': -3.6476526260375977},\n",
              "  {'label': 'amusement', 'score': -7.145585536956787},\n",
              "  {'label': 'anger', 'score': -6.922937393188477},\n",
              "  {'label': 'annoyance', 'score': -5.615111827850342},\n",
              "  {'label': 'approval', 'score': -0.5540931820869446},\n",
              "  {'label': 'caring', 'score': -0.6876590251922607},\n",
              "  {'label': 'confusion', 'score': -6.929629802703857},\n",
              "  {'label': 'curiosity', 'score': -6.4349822998046875},\n",
              "  {'label': 'desire', 'score': -4.970747470855713},\n",
              "  {'label': 'disappointment', 'score': -6.772853374481201},\n",
              "  {'label': 'disapproval', 'score': -5.853031158447266},\n",
              "  {'label': 'disgust', 'score': -7.183589935302734},\n",
              "  {'label': 'embarrassment', 'score': -7.935948371887207},\n",
              "  {'label': 'excitement', 'score': -5.6548285484313965},\n",
              "  {'label': 'fear', 'score': -6.785632610321045},\n",
              "  {'label': 'gratitude', 'score': -5.100724697113037},\n",
              "  {'label': 'grief', 'score': -7.163740158081055},\n",
              "  {'label': 'joy', 'score': -5.626958847045898},\n",
              "  {'label': 'love', 'score': -5.199006080627441},\n",
              "  {'label': 'nervousness', 'score': -7.064899444580078},\n",
              "  {'label': 'optimism', 'score': -2.2568747997283936},\n",
              "  {'label': 'pride', 'score': -5.8883280754089355},\n",
              "  {'label': 'realization', 'score': -4.178101062774658},\n",
              "  {'label': 'relief', 'score': -4.9672698974609375},\n",
              "  {'label': 'remorse', 'score': -6.756984233856201},\n",
              "  {'label': 'sadness', 'score': -6.533058166503906},\n",
              "  {'label': 'surprise', 'score': -7.3475422859191895},\n",
              "  {'label': 'neutral', 'score': -0.679997980594635}],\n",
              " [{'label': 'admiration', 'score': -5.590447902679443},\n",
              "  {'label': 'amusement', 'score': -5.036539554595947},\n",
              "  {'label': 'anger', 'score': -5.580204010009766},\n",
              "  {'label': 'annoyance', 'score': -4.0129714012146},\n",
              "  {'label': 'approval', 'score': -4.284316539764404},\n",
              "  {'label': 'caring', 'score': -5.786165237426758},\n",
              "  {'label': 'confusion', 'score': -5.864013671875},\n",
              "  {'label': 'curiosity', 'score': -4.482408046722412},\n",
              "  {'label': 'desire', 'score': 0.8334982395172119},\n",
              "  {'label': 'disappointment', 'score': -4.70503044128418},\n",
              "  {'label': 'disapproval', 'score': -5.723277568817139},\n",
              "  {'label': 'disgust', 'score': -5.575599193572998},\n",
              "  {'label': 'embarrassment', 'score': -7.34529447555542},\n",
              "  {'label': 'excitement', 'score': -4.77491569519043},\n",
              "  {'label': 'fear', 'score': -6.618234157562256},\n",
              "  {'label': 'gratitude', 'score': -6.799321174621582},\n",
              "  {'label': 'grief', 'score': -7.326416969299316},\n",
              "  {'label': 'joy', 'score': -5.474705219268799},\n",
              "  {'label': 'love', 'score': -5.251631259918213},\n",
              "  {'label': 'nervousness', 'score': -6.899938583374023},\n",
              "  {'label': 'optimism', 'score': -3.7448980808258057},\n",
              "  {'label': 'pride', 'score': -7.550103664398193},\n",
              "  {'label': 'realization', 'score': -5.287907600402832},\n",
              "  {'label': 'relief', 'score': -7.371501922607422},\n",
              "  {'label': 'remorse', 'score': -6.874502182006836},\n",
              "  {'label': 'sadness', 'score': -5.533415794372559},\n",
              "  {'label': 'surprise', 'score': -6.461785316467285},\n",
              "  {'label': 'neutral', 'score': -0.9885038733482361}],\n",
              " [{'label': 'admiration', 'score': -6.148923397064209},\n",
              "  {'label': 'amusement', 'score': -6.672492980957031},\n",
              "  {'label': 'anger', 'score': -6.406290054321289},\n",
              "  {'label': 'annoyance', 'score': -5.049675941467285},\n",
              "  {'label': 'approval', 'score': -4.700042724609375},\n",
              "  {'label': 'caring', 'score': -6.528372764587402},\n",
              "  {'label': 'confusion', 'score': -0.4847141206264496},\n",
              "  {'label': 'curiosity', 'score': 0.27646926045417786},\n",
              "  {'label': 'desire', 'score': -6.854272365570068},\n",
              "  {'label': 'disappointment', 'score': -6.317936420440674},\n",
              "  {'label': 'disapproval', 'score': -5.627240180969238},\n",
              "  {'label': 'disgust', 'score': -6.980401515960693},\n",
              "  {'label': 'embarrassment', 'score': -7.360811710357666},\n",
              "  {'label': 'excitement', 'score': -6.353765964508057},\n",
              "  {'label': 'fear', 'score': -6.806170463562012},\n",
              "  {'label': 'gratitude', 'score': -6.94747257232666},\n",
              "  {'label': 'grief', 'score': -8.222479820251465},\n",
              "  {'label': 'joy', 'score': -7.13453483581543},\n",
              "  {'label': 'love', 'score': -6.461179733276367},\n",
              "  {'label': 'nervousness', 'score': -7.610802173614502},\n",
              "  {'label': 'optimism', 'score': -5.757847309112549},\n",
              "  {'label': 'pride', 'score': -9.714296340942383},\n",
              "  {'label': 'realization', 'score': -5.064598560333252},\n",
              "  {'label': 'relief', 'score': -8.741874694824219},\n",
              "  {'label': 'remorse', 'score': -7.596538066864014},\n",
              "  {'label': 'sadness', 'score': -6.776007175445557},\n",
              "  {'label': 'surprise', 'score': -4.926941871643066},\n",
              "  {'label': 'neutral', 'score': -0.7943056225776672}],\n",
              " [{'label': 'admiration', 'score': -6.822896480560303},\n",
              "  {'label': 'amusement', 'score': -6.325618743896484},\n",
              "  {'label': 'anger', 'score': -6.0636210441589355},\n",
              "  {'label': 'annoyance', 'score': -4.368626117706299},\n",
              "  {'label': 'approval', 'score': -4.544358253479004},\n",
              "  {'label': 'caring', 'score': -6.107565402984619},\n",
              "  {'label': 'confusion', 'score': -5.173979759216309},\n",
              "  {'label': 'curiosity', 'score': -5.979858875274658},\n",
              "  {'label': 'desire', 'score': -6.117679119110107},\n",
              "  {'label': 'disappointment', 'score': -5.638847351074219},\n",
              "  {'label': 'disapproval', 'score': -5.164760589599609},\n",
              "  {'label': 'disgust', 'score': -6.288477897644043},\n",
              "  {'label': 'embarrassment', 'score': -7.538004398345947},\n",
              "  {'label': 'excitement', 'score': -7.345397472381592},\n",
              "  {'label': 'fear', 'score': -6.835516452789307},\n",
              "  {'label': 'gratitude', 'score': -7.143267631530762},\n",
              "  {'label': 'grief', 'score': -7.930562496185303},\n",
              "  {'label': 'joy', 'score': -7.246161937713623},\n",
              "  {'label': 'love', 'score': -7.525263786315918},\n",
              "  {'label': 'nervousness', 'score': -7.929080486297607},\n",
              "  {'label': 'optimism', 'score': -5.410679340362549},\n",
              "  {'label': 'pride', 'score': -8.692538261413574},\n",
              "  {'label': 'realization', 'score': -5.034679412841797},\n",
              "  {'label': 'relief', 'score': -8.255396842956543},\n",
              "  {'label': 'remorse', 'score': -7.704133987426758},\n",
              "  {'label': 'sadness', 'score': -6.22322416305542},\n",
              "  {'label': 'surprise', 'score': -7.507526397705078},\n",
              "  {'label': 'neutral', 'score': 3.19018292427063}],\n",
              " [{'label': 'admiration', 'score': -3.3519835472106934},\n",
              "  {'label': 'amusement', 'score': -5.092833518981934},\n",
              "  {'label': 'anger', 'score': -5.844287872314453},\n",
              "  {'label': 'annoyance', 'score': -5.1059370040893555},\n",
              "  {'label': 'approval', 'score': -3.796776056289673},\n",
              "  {'label': 'caring', 'score': -1.621206521987915},\n",
              "  {'label': 'confusion', 'score': -5.530076026916504},\n",
              "  {'label': 'curiosity', 'score': -4.4028401374816895},\n",
              "  {'label': 'desire', 'score': -3.7190239429473877},\n",
              "  {'label': 'disappointment', 'score': -5.53832483291626},\n",
              "  {'label': 'disapproval', 'score': -5.70318078994751},\n",
              "  {'label': 'disgust', 'score': -6.17476224899292},\n",
              "  {'label': 'embarrassment', 'score': -6.066461086273193},\n",
              "  {'label': 'excitement', 'score': -2.012484073638916},\n",
              "  {'label': 'fear', 'score': -3.822786569595337},\n",
              "  {'label': 'gratitude', 'score': -4.039368629455566},\n",
              "  {'label': 'grief', 'score': -5.485972881317139},\n",
              "  {'label': 'joy', 'score': -3.3288798332214355},\n",
              "  {'label': 'love', 'score': -5.3480987548828125},\n",
              "  {'label': 'nervousness', 'score': -4.676815032958984},\n",
              "  {'label': 'optimism', 'score': 1.0548313856124878},\n",
              "  {'label': 'pride', 'score': -5.1134562492370605},\n",
              "  {'label': 'realization', 'score': -4.07098388671875},\n",
              "  {'label': 'relief', 'score': -4.502735137939453},\n",
              "  {'label': 'remorse', 'score': -5.288656234741211},\n",
              "  {'label': 'sadness', 'score': -5.092708587646484},\n",
              "  {'label': 'surprise', 'score': -1.152712106704712},\n",
              "  {'label': 'neutral', 'score': -3.6425132751464844}],\n",
              " [{'label': 'admiration', 'score': 0.48190221190452576},\n",
              "  {'label': 'amusement', 'score': -7.137651443481445},\n",
              "  {'label': 'anger', 'score': -6.600288391113281},\n",
              "  {'label': 'annoyance', 'score': -4.8294901847839355},\n",
              "  {'label': 'approval', 'score': -1.4324398040771484},\n",
              "  {'label': 'caring', 'score': -6.377503395080566},\n",
              "  {'label': 'confusion', 'score': -7.269043922424316},\n",
              "  {'label': 'curiosity', 'score': -7.494090557098389},\n",
              "  {'label': 'desire', 'score': -7.026864051818848},\n",
              "  {'label': 'disappointment', 'score': -5.447942733764648},\n",
              "  {'label': 'disapproval', 'score': -5.54589319229126},\n",
              "  {'label': 'disgust', 'score': -6.998000144958496},\n",
              "  {'label': 'embarrassment', 'score': -7.608180999755859},\n",
              "  {'label': 'excitement', 'score': -5.635514736175537},\n",
              "  {'label': 'fear', 'score': -7.888662338256836},\n",
              "  {'label': 'gratitude', 'score': -4.45294189453125},\n",
              "  {'label': 'grief', 'score': -7.893402576446533},\n",
              "  {'label': 'joy', 'score': -5.6788740158081055},\n",
              "  {'label': 'love', 'score': -6.818423748016357},\n",
              "  {'label': 'nervousness', 'score': -9.048063278198242},\n",
              "  {'label': 'optimism', 'score': -4.888996601104736},\n",
              "  {'label': 'pride', 'score': -4.829002857208252},\n",
              "  {'label': 'realization', 'score': -3.99344801902771},\n",
              "  {'label': 'relief', 'score': -6.314070701599121},\n",
              "  {'label': 'remorse', 'score': -7.985919952392578},\n",
              "  {'label': 'sadness', 'score': -7.01037073135376},\n",
              "  {'label': 'surprise', 'score': -6.604187488555908},\n",
              "  {'label': 'neutral', 'score': -1.1056420803070068}],\n",
              " [{'label': 'admiration', 'score': -5.292425155639648},\n",
              "  {'label': 'amusement', 'score': -4.192859172821045},\n",
              "  {'label': 'anger', 'score': -6.03788948059082},\n",
              "  {'label': 'annoyance', 'score': -4.173648357391357},\n",
              "  {'label': 'approval', 'score': -2.9365224838256836},\n",
              "  {'label': 'caring', 'score': -6.132205486297607},\n",
              "  {'label': 'confusion', 'score': -2.90319561958313},\n",
              "  {'label': 'curiosity', 'score': -5.89296293258667},\n",
              "  {'label': 'desire', 'score': -6.1621012687683105},\n",
              "  {'label': 'disappointment', 'score': -3.47481107711792},\n",
              "  {'label': 'disapproval', 'score': -5.0056633949279785},\n",
              "  {'label': 'disgust', 'score': -5.352340221405029},\n",
              "  {'label': 'embarrassment', 'score': -4.052723407745361},\n",
              "  {'label': 'excitement', 'score': -6.039328098297119},\n",
              "  {'label': 'fear', 'score': -5.125590801239014},\n",
              "  {'label': 'gratitude', 'score': -5.711480140686035},\n",
              "  {'label': 'grief', 'score': -5.613088607788086},\n",
              "  {'label': 'joy', 'score': -4.514909267425537},\n",
              "  {'label': 'love', 'score': -5.762781143188477},\n",
              "  {'label': 'nervousness', 'score': -4.451023101806641},\n",
              "  {'label': 'optimism', 'score': -5.085626125335693},\n",
              "  {'label': 'pride', 'score': -5.919581890106201},\n",
              "  {'label': 'realization', 'score': 1.4101446866989136},\n",
              "  {'label': 'relief', 'score': -4.800083637237549},\n",
              "  {'label': 'remorse', 'score': -5.380366802215576},\n",
              "  {'label': 'sadness', 'score': -3.82857346534729},\n",
              "  {'label': 'surprise', 'score': -4.175647735595703},\n",
              "  {'label': 'neutral', 'score': -1.1918067932128906}],\n",
              " [{'label': 'admiration', 'score': -6.063211441040039},\n",
              "  {'label': 'amusement', 'score': -5.736149787902832},\n",
              "  {'label': 'anger', 'score': 0.8908324241638184},\n",
              "  {'label': 'annoyance', 'score': -1.4004031419754028},\n",
              "  {'label': 'approval', 'score': -5.813262462615967},\n",
              "  {'label': 'caring', 'score': -5.753609657287598},\n",
              "  {'label': 'confusion', 'score': -4.362441539764404},\n",
              "  {'label': 'curiosity', 'score': -3.7497384548187256},\n",
              "  {'label': 'desire', 'score': -6.6255011558532715},\n",
              "  {'label': 'disappointment', 'score': -3.918854236602783},\n",
              "  {'label': 'disapproval', 'score': -4.236450672149658},\n",
              "  {'label': 'disgust', 'score': -4.454611778259277},\n",
              "  {'label': 'embarrassment', 'score': -5.891638278961182},\n",
              "  {'label': 'excitement', 'score': -6.783164978027344},\n",
              "  {'label': 'fear', 'score': -6.163007736206055},\n",
              "  {'label': 'gratitude', 'score': -7.414566993713379},\n",
              "  {'label': 'grief', 'score': -6.337741851806641},\n",
              "  {'label': 'joy', 'score': -6.341625213623047},\n",
              "  {'label': 'love', 'score': -6.2523064613342285},\n",
              "  {'label': 'nervousness', 'score': -6.911203861236572},\n",
              "  {'label': 'optimism', 'score': -6.433127403259277},\n",
              "  {'label': 'pride', 'score': -7.99484395980835},\n",
              "  {'label': 'realization', 'score': -5.523456573486328},\n",
              "  {'label': 'relief', 'score': -8.303287506103516},\n",
              "  {'label': 'remorse', 'score': -6.752262592315674},\n",
              "  {'label': 'sadness', 'score': -3.749101400375366},\n",
              "  {'label': 'surprise', 'score': -5.707075119018555},\n",
              "  {'label': 'neutral', 'score': -1.6742998361587524}],\n",
              " [{'label': 'admiration', 'score': -4.520820140838623},\n",
              "  {'label': 'amusement', 'score': -4.858783721923828},\n",
              "  {'label': 'anger', 'score': -5.2855448722839355},\n",
              "  {'label': 'annoyance', 'score': -4.879331588745117},\n",
              "  {'label': 'approval', 'score': -3.428338050842285},\n",
              "  {'label': 'caring', 'score': -5.913380146026611},\n",
              "  {'label': 'confusion', 'score': -5.341709136962891},\n",
              "  {'label': 'curiosity', 'score': -5.879330158233643},\n",
              "  {'label': 'desire', 'score': -5.606627464294434},\n",
              "  {'label': 'disappointment', 'score': -5.382312297821045},\n",
              "  {'label': 'disapproval', 'score': -5.509544849395752},\n",
              "  {'label': 'disgust', 'score': -4.802456855773926},\n",
              "  {'label': 'embarrassment', 'score': -5.484996318817139},\n",
              "  {'label': 'excitement', 'score': -3.2505719661712646},\n",
              "  {'label': 'fear', 'score': 0.5346856713294983},\n",
              "  {'label': 'gratitude', 'score': -6.792093276977539},\n",
              "  {'label': 'grief', 'score': -5.588049411773682},\n",
              "  {'label': 'joy', 'score': -4.173258304595947},\n",
              "  {'label': 'love', 'score': -5.5311970710754395},\n",
              "  {'label': 'nervousness', 'score': -3.685109853744507},\n",
              "  {'label': 'optimism', 'score': -5.4771552085876465},\n",
              "  {'label': 'pride', 'score': -5.734125137329102},\n",
              "  {'label': 'realization', 'score': -3.0400452613830566},\n",
              "  {'label': 'relief', 'score': -5.473351001739502},\n",
              "  {'label': 'remorse', 'score': -7.301262855529785},\n",
              "  {'label': 'sadness', 'score': -4.566980838775635},\n",
              "  {'label': 'surprise', 'score': -3.2553629875183105},\n",
              "  {'label': 'neutral', 'score': -1.102333664894104}],\n",
              " [{'label': 'admiration', 'score': -1.2244971990585327},\n",
              "  {'label': 'amusement', 'score': -7.3619513511657715},\n",
              "  {'label': 'anger', 'score': -6.548168659210205},\n",
              "  {'label': 'annoyance', 'score': -4.675683975219727},\n",
              "  {'label': 'approval', 'score': -0.8100547790527344},\n",
              "  {'label': 'caring', 'score': -4.489915370941162},\n",
              "  {'label': 'confusion', 'score': -6.914520740509033},\n",
              "  {'label': 'curiosity', 'score': -7.624330997467041},\n",
              "  {'label': 'desire', 'score': -6.199459552764893},\n",
              "  {'label': 'disappointment', 'score': -4.865818977355957},\n",
              "  {'label': 'disapproval', 'score': -4.872496128082275},\n",
              "  {'label': 'disgust', 'score': -6.791801452636719},\n",
              "  {'label': 'embarrassment', 'score': -6.527174472808838},\n",
              "  {'label': 'excitement', 'score': -5.272720813751221},\n",
              "  {'label': 'fear', 'score': -7.12492036819458},\n",
              "  {'label': 'gratitude', 'score': -2.654262065887451},\n",
              "  {'label': 'grief', 'score': -6.445435047149658},\n",
              "  {'label': 'joy', 'score': -3.896073341369629},\n",
              "  {'label': 'love', 'score': -7.802511215209961},\n",
              "  {'label': 'nervousness', 'score': -7.22107458114624},\n",
              "  {'label': 'optimism', 'score': -3.7022364139556885},\n",
              "  {'label': 'pride', 'score': -3.2060773372650146},\n",
              "  {'label': 'realization', 'score': -3.1346518993377686},\n",
              "  {'label': 'relief', 'score': -3.161480188369751},\n",
              "  {'label': 'remorse', 'score': -6.661522388458252},\n",
              "  {'label': 'sadness', 'score': -5.863318920135498},\n",
              "  {'label': 'surprise', 'score': -6.269505500793457},\n",
              "  {'label': 'neutral', 'score': -1.2808517217636108}],\n",
              " [{'label': 'admiration', 'score': -6.521725177764893},\n",
              "  {'label': 'amusement', 'score': -6.123852252960205},\n",
              "  {'label': 'anger', 'score': -4.262683391571045},\n",
              "  {'label': 'annoyance', 'score': -2.2150380611419678},\n",
              "  {'label': 'approval', 'score': -4.1027140617370605},\n",
              "  {'label': 'caring', 'score': -6.0458197593688965},\n",
              "  {'label': 'confusion', 'score': -4.6428704261779785},\n",
              "  {'label': 'curiosity', 'score': -6.044459342956543},\n",
              "  {'label': 'desire', 'score': -6.6847734451293945},\n",
              "  {'label': 'disappointment', 'score': -3.6067492961883545},\n",
              "  {'label': 'disapproval', 'score': 1.4556801319122314},\n",
              "  {'label': 'disgust', 'score': -5.098610877990723},\n",
              "  {'label': 'embarrassment', 'score': -6.080550193786621},\n",
              "  {'label': 'excitement', 'score': -6.723344326019287},\n",
              "  {'label': 'fear', 'score': -6.817441940307617},\n",
              "  {'label': 'gratitude', 'score': -6.743880271911621},\n",
              "  {'label': 'grief', 'score': -7.841007709503174},\n",
              "  {'label': 'joy', 'score': -6.528623580932617},\n",
              "  {'label': 'love', 'score': -7.016304969787598},\n",
              "  {'label': 'nervousness', 'score': -7.2848052978515625},\n",
              "  {'label': 'optimism', 'score': -5.817132472991943},\n",
              "  {'label': 'pride', 'score': -8.179949760437012},\n",
              "  {'label': 'realization', 'score': -4.258769989013672},\n",
              "  {'label': 'relief', 'score': -7.25291633605957},\n",
              "  {'label': 'remorse', 'score': -7.202055931091309},\n",
              "  {'label': 'sadness', 'score': -5.550700664520264},\n",
              "  {'label': 'surprise', 'score': -5.904073715209961},\n",
              "  {'label': 'neutral', 'score': -1.6205475330352783}],\n",
              " [{'label': 'admiration', 'score': -6.242856025695801},\n",
              "  {'label': 'amusement', 'score': -6.27980375289917},\n",
              "  {'label': 'anger', 'score': -6.503076553344727},\n",
              "  {'label': 'annoyance', 'score': -5.167215347290039},\n",
              "  {'label': 'approval', 'score': -4.470718860626221},\n",
              "  {'label': 'caring', 'score': -6.205536842346191},\n",
              "  {'label': 'confusion', 'score': -1.3582823276519775},\n",
              "  {'label': 'curiosity', 'score': 0.32928958535194397},\n",
              "  {'label': 'desire', 'score': -6.373555660247803},\n",
              "  {'label': 'disappointment', 'score': -6.259543418884277},\n",
              "  {'label': 'disapproval', 'score': -5.900868892669678},\n",
              "  {'label': 'disgust', 'score': -7.175854682922363},\n",
              "  {'label': 'embarrassment', 'score': -7.668874263763428},\n",
              "  {'label': 'excitement', 'score': -6.273359775543213},\n",
              "  {'label': 'fear', 'score': -6.98659610748291},\n",
              "  {'label': 'gratitude', 'score': -7.369683265686035},\n",
              "  {'label': 'grief', 'score': -8.255644798278809},\n",
              "  {'label': 'joy', 'score': -7.081398963928223},\n",
              "  {'label': 'love', 'score': -6.404379367828369},\n",
              "  {'label': 'nervousness', 'score': -7.642328262329102},\n",
              "  {'label': 'optimism', 'score': -5.3568525314331055},\n",
              "  {'label': 'pride', 'score': -9.827960968017578},\n",
              "  {'label': 'realization', 'score': -5.398898124694824},\n",
              "  {'label': 'relief', 'score': -8.653319358825684},\n",
              "  {'label': 'remorse', 'score': -7.638206958770752},\n",
              "  {'label': 'sadness', 'score': -6.686685085296631},\n",
              "  {'label': 'surprise', 'score': -5.539702415466309},\n",
              "  {'label': 'neutral', 'score': -0.2138647437095642}],\n",
              " [{'label': 'admiration', 'score': -5.6956305503845215},\n",
              "  {'label': 'amusement', 'score': -6.773467540740967},\n",
              "  {'label': 'anger', 'score': -5.023839950561523},\n",
              "  {'label': 'annoyance', 'score': -2.078580141067505},\n",
              "  {'label': 'approval', 'score': -2.5817558765411377},\n",
              "  {'label': 'caring', 'score': -5.503365993499756},\n",
              "  {'label': 'confusion', 'score': -5.852532386779785},\n",
              "  {'label': 'curiosity', 'score': -6.544430732727051},\n",
              "  {'label': 'desire', 'score': -6.0350565910339355},\n",
              "  {'label': 'disappointment', 'score': -0.7671212553977966},\n",
              "  {'label': 'disapproval', 'score': -2.217733860015869},\n",
              "  {'label': 'disgust', 'score': -3.9625191688537598},\n",
              "  {'label': 'embarrassment', 'score': -4.988412380218506},\n",
              "  {'label': 'excitement', 'score': -6.568500518798828},\n",
              "  {'label': 'fear', 'score': -4.472550868988037},\n",
              "  {'label': 'gratitude', 'score': -7.557334899902344},\n",
              "  {'label': 'grief', 'score': -6.055988311767578},\n",
              "  {'label': 'joy', 'score': -6.137852668762207},\n",
              "  {'label': 'love', 'score': -5.888271808624268},\n",
              "  {'label': 'nervousness', 'score': -4.26024055480957},\n",
              "  {'label': 'optimism', 'score': -6.077274322509766},\n",
              "  {'label': 'pride', 'score': -7.377847671508789},\n",
              "  {'label': 'realization', 'score': -3.759615898132324},\n",
              "  {'label': 'relief', 'score': -5.935181617736816},\n",
              "  {'label': 'remorse', 'score': -6.194135665893555},\n",
              "  {'label': 'sadness', 'score': -1.416645884513855},\n",
              "  {'label': 'surprise', 'score': -7.146632671356201},\n",
              "  {'label': 'neutral', 'score': -2.984724521636963}],\n",
              " [{'label': 'admiration', 'score': -6.237018585205078},\n",
              "  {'label': 'amusement', 'score': -6.515097141265869},\n",
              "  {'label': 'anger', 'score': -5.705946445465088},\n",
              "  {'label': 'annoyance', 'score': -4.5887532234191895},\n",
              "  {'label': 'approval', 'score': -4.316700458526611},\n",
              "  {'label': 'caring', 'score': -5.960068702697754},\n",
              "  {'label': 'confusion', 'score': -6.35477876663208},\n",
              "  {'label': 'curiosity', 'score': -6.573198318481445},\n",
              "  {'label': 'desire', 'score': -6.524168014526367},\n",
              "  {'label': 'disappointment', 'score': -5.812405109405518},\n",
              "  {'label': 'disapproval', 'score': -5.74338436126709},\n",
              "  {'label': 'disgust', 'score': -6.3860955238342285},\n",
              "  {'label': 'embarrassment', 'score': -7.494710445404053},\n",
              "  {'label': 'excitement', 'score': -6.54837703704834},\n",
              "  {'label': 'fear', 'score': -6.758974552154541},\n",
              "  {'label': 'gratitude', 'score': -7.290085792541504},\n",
              "  {'label': 'grief', 'score': -7.88129186630249},\n",
              "  {'label': 'joy', 'score': -6.735925674438477},\n",
              "  {'label': 'love', 'score': -7.0731940269470215},\n",
              "  {'label': 'nervousness', 'score': -7.82072639465332},\n",
              "  {'label': 'optimism', 'score': -5.801501750946045},\n",
              "  {'label': 'pride', 'score': -8.248748779296875},\n",
              "  {'label': 'realization', 'score': -5.232475280761719},\n",
              "  {'label': 'relief', 'score': -8.111246109008789},\n",
              "  {'label': 'remorse', 'score': -7.863027572631836},\n",
              "  {'label': 'sadness', 'score': -6.112064361572266},\n",
              "  {'label': 'surprise', 'score': -7.36057710647583},\n",
              "  {'label': 'neutral', 'score': 3.401639461517334}],\n",
              " [{'label': 'admiration', 'score': -5.5324225425720215},\n",
              "  {'label': 'amusement', 'score': -6.188705921173096},\n",
              "  {'label': 'anger', 'score': -6.262004375457764},\n",
              "  {'label': 'annoyance', 'score': -5.405918121337891},\n",
              "  {'label': 'approval', 'score': -3.631432294845581},\n",
              "  {'label': 'caring', 'score': -6.640542030334473},\n",
              "  {'label': 'confusion', 'score': -6.271554470062256},\n",
              "  {'label': 'curiosity', 'score': -6.64058256149292},\n",
              "  {'label': 'desire', 'score': -6.717527389526367},\n",
              "  {'label': 'disappointment', 'score': -5.809017658233643},\n",
              "  {'label': 'disapproval', 'score': -5.6898088455200195},\n",
              "  {'label': 'disgust', 'score': -6.104996681213379},\n",
              "  {'label': 'embarrassment', 'score': -7.53851318359375},\n",
              "  {'label': 'excitement', 'score': -6.317411422729492},\n",
              "  {'label': 'fear', 'score': -6.508395195007324},\n",
              "  {'label': 'gratitude', 'score': -7.1013970375061035},\n",
              "  {'label': 'grief', 'score': -7.608977794647217},\n",
              "  {'label': 'joy', 'score': -6.26306676864624},\n",
              "  {'label': 'love', 'score': -5.69952917098999},\n",
              "  {'label': 'nervousness', 'score': -8.029962539672852},\n",
              "  {'label': 'optimism', 'score': -6.196742534637451},\n",
              "  {'label': 'pride', 'score': -7.995340347290039},\n",
              "  {'label': 'realization', 'score': -4.951527118682861},\n",
              "  {'label': 'relief', 'score': -7.93225622177124},\n",
              "  {'label': 'remorse', 'score': -7.802049160003662},\n",
              "  {'label': 'sadness', 'score': -5.840041160583496},\n",
              "  {'label': 'surprise', 'score': -7.324549674987793},\n",
              "  {'label': 'neutral', 'score': 3.202451229095459}],\n",
              " [{'label': 'admiration', 'score': 1.5653157234191895},\n",
              "  {'label': 'amusement', 'score': -6.936467170715332},\n",
              "  {'label': 'anger', 'score': -5.998661041259766},\n",
              "  {'label': 'annoyance', 'score': -4.919363975524902},\n",
              "  {'label': 'approval', 'score': -2.7395102977752686},\n",
              "  {'label': 'caring', 'score': -6.6600728034973145},\n",
              "  {'label': 'confusion', 'score': -6.742206573486328},\n",
              "  {'label': 'curiosity', 'score': -7.015406608581543},\n",
              "  {'label': 'desire', 'score': -7.423160552978516},\n",
              "  {'label': 'disappointment', 'score': -5.318051815032959},\n",
              "  {'label': 'disapproval', 'score': -5.038311004638672},\n",
              "  {'label': 'disgust', 'score': -6.42186164855957},\n",
              "  {'label': 'embarrassment', 'score': -7.577180862426758},\n",
              "  {'label': 'excitement', 'score': -6.155381202697754},\n",
              "  {'label': 'fear', 'score': -7.350983142852783},\n",
              "  {'label': 'gratitude', 'score': -5.7898969650268555},\n",
              "  {'label': 'grief', 'score': -8.003813743591309},\n",
              "  {'label': 'joy', 'score': -6.32538366317749},\n",
              "  {'label': 'love', 'score': -6.349610328674316},\n",
              "  {'label': 'nervousness', 'score': -8.969980239868164},\n",
              "  {'label': 'optimism', 'score': -5.670505523681641},\n",
              "  {'label': 'pride', 'score': -5.950035095214844},\n",
              "  {'label': 'realization', 'score': -4.979490756988525},\n",
              "  {'label': 'relief', 'score': -7.565699100494385},\n",
              "  {'label': 'remorse', 'score': -8.114644050598145},\n",
              "  {'label': 'sadness', 'score': -6.505795478820801},\n",
              "  {'label': 'surprise', 'score': -6.959510326385498},\n",
              "  {'label': 'neutral', 'score': -1.456449031829834}],\n",
              " [{'label': 'admiration', 'score': -4.033840179443359},\n",
              "  {'label': 'amusement', 'score': -4.32346248626709},\n",
              "  {'label': 'anger', 'score': -5.632850170135498},\n",
              "  {'label': 'annoyance', 'score': -4.428041458129883},\n",
              "  {'label': 'approval', 'score': -4.598818778991699},\n",
              "  {'label': 'caring', 'score': -7.169001579284668},\n",
              "  {'label': 'confusion', 'score': -6.437173843383789},\n",
              "  {'label': 'curiosity', 'score': -5.286439895629883},\n",
              "  {'label': 'desire', 'score': -4.999843597412109},\n",
              "  {'label': 'disappointment', 'score': -4.964042663574219},\n",
              "  {'label': 'disapproval', 'score': -5.718862056732178},\n",
              "  {'label': 'disgust', 'score': -5.831456661224365},\n",
              "  {'label': 'embarrassment', 'score': -5.726080894470215},\n",
              "  {'label': 'excitement', 'score': -0.9819872975349426},\n",
              "  {'label': 'fear', 'score': -6.231270790100098},\n",
              "  {'label': 'gratitude', 'score': -5.842848777770996},\n",
              "  {'label': 'grief', 'score': -6.592293739318848},\n",
              "  {'label': 'joy', 'score': -3.5336811542510986},\n",
              "  {'label': 'love', 'score': -5.844232559204102},\n",
              "  {'label': 'nervousness', 'score': -6.827917098999023},\n",
              "  {'label': 'optimism', 'score': -4.834916591644287},\n",
              "  {'label': 'pride', 'score': -5.91058349609375},\n",
              "  {'label': 'realization', 'score': -3.5541157722473145},\n",
              "  {'label': 'relief', 'score': -5.824352741241455},\n",
              "  {'label': 'remorse', 'score': -7.489635944366455},\n",
              "  {'label': 'sadness', 'score': -6.318129062652588},\n",
              "  {'label': 'surprise', 'score': 0.578732967376709},\n",
              "  {'label': 'neutral', 'score': -2.328120470046997}],\n",
              " [{'label': 'admiration', 'score': -6.2972259521484375},\n",
              "  {'label': 'amusement', 'score': -6.447658538818359},\n",
              "  {'label': 'anger', 'score': -4.851333141326904},\n",
              "  {'label': 'annoyance', 'score': -3.1849892139434814},\n",
              "  {'label': 'approval', 'score': -3.528956174850464},\n",
              "  {'label': 'caring', 'score': -7.257254600524902},\n",
              "  {'label': 'confusion', 'score': -2.257920742034912},\n",
              "  {'label': 'curiosity', 'score': -1.4424761533737183},\n",
              "  {'label': 'desire', 'score': -7.152937889099121},\n",
              "  {'label': 'disappointment', 'score': -5.965827465057373},\n",
              "  {'label': 'disapproval', 'score': -5.440629482269287},\n",
              "  {'label': 'disgust', 'score': -5.763984680175781},\n",
              "  {'label': 'embarrassment', 'score': -6.910345077514648},\n",
              "  {'label': 'excitement', 'score': -6.79952335357666},\n",
              "  {'label': 'fear', 'score': -7.206595420837402},\n",
              "  {'label': 'gratitude', 'score': -8.314565658569336},\n",
              "  {'label': 'grief', 'score': -8.45056438446045},\n",
              "  {'label': 'joy', 'score': -7.45998477935791},\n",
              "  {'label': 'love', 'score': -7.2866644859313965},\n",
              "  {'label': 'nervousness', 'score': -8.284027099609375},\n",
              "  {'label': 'optimism', 'score': -5.7123703956604},\n",
              "  {'label': 'pride', 'score': -9.024895668029785},\n",
              "  {'label': 'realization', 'score': -4.835639953613281},\n",
              "  {'label': 'relief', 'score': -8.738899230957031},\n",
              "  {'label': 'remorse', 'score': -8.47488021850586},\n",
              "  {'label': 'sadness', 'score': -7.329165458679199},\n",
              "  {'label': 'surprise', 'score': -4.997766017913818},\n",
              "  {'label': 'neutral', 'score': 0.7094501852989197}],\n",
              " [{'label': 'admiration', 'score': -5.632638454437256},\n",
              "  {'label': 'amusement', 'score': -5.884007453918457},\n",
              "  {'label': 'anger', 'score': -5.507572174072266},\n",
              "  {'label': 'annoyance', 'score': -5.11039924621582},\n",
              "  {'label': 'approval', 'score': -4.563170909881592},\n",
              "  {'label': 'caring', 'score': -6.58761739730835},\n",
              "  {'label': 'confusion', 'score': -5.847245216369629},\n",
              "  {'label': 'curiosity', 'score': -6.171565055847168},\n",
              "  {'label': 'desire', 'score': -6.401572227478027},\n",
              "  {'label': 'disappointment', 'score': -5.827124118804932},\n",
              "  {'label': 'disapproval', 'score': -6.033275127410889},\n",
              "  {'label': 'disgust', 'score': -6.098231792449951},\n",
              "  {'label': 'embarrassment', 'score': -7.154284954071045},\n",
              "  {'label': 'excitement', 'score': -5.656267166137695},\n",
              "  {'label': 'fear', 'score': -6.105239391326904},\n",
              "  {'label': 'gratitude', 'score': -6.900975704193115},\n",
              "  {'label': 'grief', 'score': -7.324758052825928},\n",
              "  {'label': 'joy', 'score': -5.813875198364258},\n",
              "  {'label': 'love', 'score': -6.2431511878967285},\n",
              "  {'label': 'nervousness', 'score': -7.616806507110596},\n",
              "  {'label': 'optimism', 'score': -6.076488494873047},\n",
              "  {'label': 'pride', 'score': -7.6868577003479},\n",
              "  {'label': 'realization', 'score': -5.3108229637146},\n",
              "  {'label': 'relief', 'score': -7.869184494018555},\n",
              "  {'label': 'remorse', 'score': -7.59920072555542},\n",
              "  {'label': 'sadness', 'score': -5.749032974243164},\n",
              "  {'label': 'surprise', 'score': -6.58434534072876},\n",
              "  {'label': 'neutral', 'score': 3.453685998916626}],\n",
              " [{'label': 'admiration', 'score': 0.956212043762207},\n",
              "  {'label': 'amusement', 'score': -5.509627819061279},\n",
              "  {'label': 'anger', 'score': -6.788992404937744},\n",
              "  {'label': 'annoyance', 'score': -5.835386753082275},\n",
              "  {'label': 'approval', 'score': -3.6834089756011963},\n",
              "  {'label': 'caring', 'score': -5.608669281005859},\n",
              "  {'label': 'confusion', 'score': -5.816403388977051},\n",
              "  {'label': 'curiosity', 'score': -5.468990325927734},\n",
              "  {'label': 'desire', 'score': -6.36329984664917},\n",
              "  {'label': 'disappointment', 'score': -6.529617786407471},\n",
              "  {'label': 'disapproval', 'score': -5.834062099456787},\n",
              "  {'label': 'disgust', 'score': -6.9236369132995605},\n",
              "  {'label': 'embarrassment', 'score': -7.8119049072265625},\n",
              "  {'label': 'excitement', 'score': -4.900733470916748},\n",
              "  {'label': 'fear', 'score': -7.500210285186768},\n",
              "  {'label': 'gratitude', 'score': 3.04896879196167},\n",
              "  {'label': 'grief', 'score': -7.406847953796387},\n",
              "  {'label': 'joy', 'score': -4.469686985015869},\n",
              "  {'label': 'love', 'score': -5.571940898895264},\n",
              "  {'label': 'nervousness', 'score': -8.314108848571777},\n",
              "  {'label': 'optimism', 'score': -4.799875259399414},\n",
              "  {'label': 'pride', 'score': -5.962499141693115},\n",
              "  {'label': 'realization', 'score': -5.265655517578125},\n",
              "  {'label': 'relief', 'score': -6.179351806640625},\n",
              "  {'label': 'remorse', 'score': -7.130400657653809},\n",
              "  {'label': 'sadness', 'score': -6.282464981079102},\n",
              "  {'label': 'surprise', 'score': -6.165736198425293},\n",
              "  {'label': 'neutral', 'score': -5.405910015106201}],\n",
              " [{'label': 'admiration', 'score': -5.32981538772583},\n",
              "  {'label': 'amusement', 'score': -5.8510847091674805},\n",
              "  {'label': 'anger', 'score': -5.7199249267578125},\n",
              "  {'label': 'annoyance', 'score': -3.7107224464416504},\n",
              "  {'label': 'approval', 'score': -1.1246650218963623},\n",
              "  {'label': 'caring', 'score': -6.139609336853027},\n",
              "  {'label': 'confusion', 'score': -5.773504734039307},\n",
              "  {'label': 'curiosity', 'score': -7.598658561706543},\n",
              "  {'label': 'desire', 'score': -7.066971302032471},\n",
              "  {'label': 'disappointment', 'score': -5.594176292419434},\n",
              "  {'label': 'disapproval', 'score': -2.536764144897461},\n",
              "  {'label': 'disgust', 'score': -6.557554721832275},\n",
              "  {'label': 'embarrassment', 'score': -6.430240154266357},\n",
              "  {'label': 'excitement', 'score': -5.272672653198242},\n",
              "  {'label': 'fear', 'score': -7.037327766418457},\n",
              "  {'label': 'gratitude', 'score': -6.1264424324035645},\n",
              "  {'label': 'grief', 'score': -7.6529998779296875},\n",
              "  {'label': 'joy', 'score': -4.441721439361572},\n",
              "  {'label': 'love', 'score': -7.5136260986328125},\n",
              "  {'label': 'nervousness', 'score': -7.146897792816162},\n",
              "  {'label': 'optimism', 'score': -5.498895645141602},\n",
              "  {'label': 'pride', 'score': -5.664499759674072},\n",
              "  {'label': 'realization', 'score': -2.338820457458496},\n",
              "  {'label': 'relief', 'score': -4.806352138519287},\n",
              "  {'label': 'remorse', 'score': -8.08248519897461},\n",
              "  {'label': 'sadness', 'score': -6.754701137542725},\n",
              "  {'label': 'surprise', 'score': -5.891652584075928},\n",
              "  {'label': 'neutral', 'score': 0.1413683295249939}],\n",
              " [{'label': 'admiration', 'score': -4.143824100494385},\n",
              "  {'label': 'amusement', 'score': -4.780707359313965},\n",
              "  {'label': 'anger', 'score': -4.010955333709717},\n",
              "  {'label': 'annoyance', 'score': -3.1335880756378174},\n",
              "  {'label': 'approval', 'score': -3.0434577465057373},\n",
              "  {'label': 'caring', 'score': -5.345497131347656},\n",
              "  {'label': 'confusion', 'score': -5.228409290313721},\n",
              "  {'label': 'curiosity', 'score': -4.636721134185791},\n",
              "  {'label': 'desire', 'score': -4.363609790802002},\n",
              "  {'label': 'disappointment', 'score': -4.001972675323486},\n",
              "  {'label': 'disapproval', 'score': -3.6828439235687256},\n",
              "  {'label': 'disgust', 'score': 1.152613878250122},\n",
              "  {'label': 'embarrassment', 'score': -4.333767890930176},\n",
              "  {'label': 'excitement', 'score': -5.047021389007568},\n",
              "  {'label': 'fear', 'score': -4.050909519195557},\n",
              "  {'label': 'gratitude', 'score': -3.9250259399414062},\n",
              "  {'label': 'grief', 'score': -6.258058071136475},\n",
              "  {'label': 'joy', 'score': -5.734888076782227},\n",
              "  {'label': 'love', 'score': -0.8993608951568604},\n",
              "  {'label': 'nervousness', 'score': -6.173233509063721},\n",
              "  {'label': 'optimism', 'score': -5.439589500427246},\n",
              "  {'label': 'pride', 'score': -7.096561431884766},\n",
              "  {'label': 'realization', 'score': -4.796084880828857},\n",
              "  {'label': 'relief', 'score': -6.717939853668213},\n",
              "  {'label': 'remorse', 'score': -5.197001934051514},\n",
              "  {'label': 'sadness', 'score': -3.7677669525146484},\n",
              "  {'label': 'surprise', 'score': -5.656979560852051},\n",
              "  {'label': 'neutral', 'score': -4.369775295257568}],\n",
              " [{'label': 'admiration', 'score': -1.7608699798583984},\n",
              "  {'label': 'amusement', 'score': -5.542905330657959},\n",
              "  {'label': 'anger', 'score': -6.5855326652526855},\n",
              "  {'label': 'annoyance', 'score': -5.625505447387695},\n",
              "  {'label': 'approval', 'score': -1.5263028144836426},\n",
              "  {'label': 'caring', 'score': -3.2779433727264404},\n",
              "  {'label': 'confusion', 'score': -6.400557518005371},\n",
              "  {'label': 'curiosity', 'score': -7.092906951904297},\n",
              "  {'label': 'desire', 'score': -6.332605838775635},\n",
              "  {'label': 'disappointment', 'score': -6.706467628479004},\n",
              "  {'label': 'disapproval', 'score': -5.666231155395508},\n",
              "  {'label': 'disgust', 'score': -7.409507751464844},\n",
              "  {'label': 'embarrassment', 'score': -7.527224063873291},\n",
              "  {'label': 'excitement', 'score': -4.349279880523682},\n",
              "  {'label': 'fear', 'score': -7.394895076751709},\n",
              "  {'label': 'gratitude', 'score': -2.612868547439575},\n",
              "  {'label': 'grief', 'score': -6.890550136566162},\n",
              "  {'label': 'joy', 'score': 0.5932701230049133},\n",
              "  {'label': 'love', 'score': -3.932232618331909},\n",
              "  {'label': 'nervousness', 'score': -7.145635604858398},\n",
              "  {'label': 'optimism', 'score': -4.2330708503723145},\n",
              "  {'label': 'pride', 'score': -4.404073238372803},\n",
              "  {'label': 'realization', 'score': -4.876006126403809},\n",
              "  {'label': 'relief', 'score': -2.997645616531372},\n",
              "  {'label': 'remorse', 'score': -7.118355751037598},\n",
              "  {'label': 'sadness', 'score': -6.43230676651001},\n",
              "  {'label': 'surprise', 'score': -7.045747756958008},\n",
              "  {'label': 'neutral', 'score': -2.7868940830230713}],\n",
              " [{'label': 'admiration', 'score': -7.073744773864746},\n",
              "  {'label': 'amusement', 'score': -7.167261123657227},\n",
              "  {'label': 'anger', 'score': -3.507686138153076},\n",
              "  {'label': 'annoyance', 'score': -1.6907343864440918},\n",
              "  {'label': 'approval', 'score': -4.49945068359375},\n",
              "  {'label': 'caring', 'score': -5.459018707275391},\n",
              "  {'label': 'confusion', 'score': -2.2012760639190674},\n",
              "  {'label': 'curiosity', 'score': -0.9551606178283691},\n",
              "  {'label': 'desire', 'score': -6.1969122886657715},\n",
              "  {'label': 'disappointment', 'score': -1.9835119247436523},\n",
              "  {'label': 'disapproval', 'score': -4.170887470245361},\n",
              "  {'label': 'disgust', 'score': -4.483906269073486},\n",
              "  {'label': 'embarrassment', 'score': -4.308324813842773},\n",
              "  {'label': 'excitement', 'score': -7.254187107086182},\n",
              "  {'label': 'fear', 'score': -5.210341453552246},\n",
              "  {'label': 'gratitude', 'score': -8.251852035522461},\n",
              "  {'label': 'grief', 'score': -6.26785945892334},\n",
              "  {'label': 'joy', 'score': -7.459300994873047},\n",
              "  {'label': 'love', 'score': -6.983892917633057},\n",
              "  {'label': 'nervousness', 'score': -5.546280384063721},\n",
              "  {'label': 'optimism', 'score': -5.128324508666992},\n",
              "  {'label': 'pride', 'score': -8.54742431640625},\n",
              "  {'label': 'realization', 'score': -4.230793476104736},\n",
              "  {'label': 'relief', 'score': -7.732264518737793},\n",
              "  {'label': 'remorse', 'score': -5.942842483520508},\n",
              "  {'label': 'sadness', 'score': -3.5286214351654053},\n",
              "  {'label': 'surprise', 'score': -5.043373107910156},\n",
              "  {'label': 'neutral', 'score': -0.3726750314235687}],\n",
              " [{'label': 'admiration', 'score': -4.729405403137207},\n",
              "  {'label': 'amusement', 'score': 0.8356833457946777},\n",
              "  {'label': 'anger', 'score': -6.043706893920898},\n",
              "  {'label': 'annoyance', 'score': -4.975987911224365},\n",
              "  {'label': 'approval', 'score': -3.977875232696533},\n",
              "  {'label': 'caring', 'score': -4.364279270172119},\n",
              "  {'label': 'confusion', 'score': -5.245604515075684},\n",
              "  {'label': 'curiosity', 'score': -5.017168998718262},\n",
              "  {'label': 'desire', 'score': -4.19338321685791},\n",
              "  {'label': 'disappointment', 'score': -4.645681858062744},\n",
              "  {'label': 'disapproval', 'score': -5.1105875968933105},\n",
              "  {'label': 'disgust', 'score': -5.733726978302002},\n",
              "  {'label': 'embarrassment', 'score': -3.80495548248291},\n",
              "  {'label': 'excitement', 'score': -5.306681156158447},\n",
              "  {'label': 'fear', 'score': -6.441366195678711},\n",
              "  {'label': 'gratitude', 'score': -4.913814544677734},\n",
              "  {'label': 'grief', 'score': -5.567976474761963},\n",
              "  {'label': 'joy', 'score': -2.5658483505249023},\n",
              "  {'label': 'love', 'score': -4.499494552612305},\n",
              "  {'label': 'nervousness', 'score': -5.7012457847595215},\n",
              "  {'label': 'optimism', 'score': -3.500572919845581},\n",
              "  {'label': 'pride', 'score': -6.359079837799072},\n",
              "  {'label': 'realization', 'score': -2.963496208190918},\n",
              "  {'label': 'relief', 'score': -5.090391159057617},\n",
              "  {'label': 'remorse', 'score': -0.5842214226722717},\n",
              "  {'label': 'sadness', 'score': -2.2529194355010986},\n",
              "  {'label': 'surprise', 'score': -5.78628396987915},\n",
              "  {'label': 'neutral', 'score': -4.396012783050537}],\n",
              " [{'label': 'admiration', 'score': -6.036073684692383},\n",
              "  {'label': 'amusement', 'score': -5.937912940979004},\n",
              "  {'label': 'anger', 'score': -5.631608486175537},\n",
              "  {'label': 'annoyance', 'score': -4.807554244995117},\n",
              "  {'label': 'approval', 'score': -4.760827541351318},\n",
              "  {'label': 'caring', 'score': -6.779702663421631},\n",
              "  {'label': 'confusion', 'score': -5.830795764923096},\n",
              "  {'label': 'curiosity', 'score': -6.054387092590332},\n",
              "  {'label': 'desire', 'score': -6.336273670196533},\n",
              "  {'label': 'disappointment', 'score': -5.641114711761475},\n",
              "  {'label': 'disapproval', 'score': -5.969986438751221},\n",
              "  {'label': 'disgust', 'score': -5.97310733795166},\n",
              "  {'label': 'embarrassment', 'score': -7.088788032531738},\n",
              "  {'label': 'excitement', 'score': -5.828700542449951},\n",
              "  {'label': 'fear', 'score': -6.236570358276367},\n",
              "  {'label': 'gratitude', 'score': -7.068048477172852},\n",
              "  {'label': 'grief', 'score': -7.508157730102539},\n",
              "  {'label': 'joy', 'score': -6.251884460449219},\n",
              "  {'label': 'love', 'score': -6.570585250854492},\n",
              "  {'label': 'nervousness', 'score': -7.656233310699463},\n",
              "  {'label': 'optimism', 'score': -5.955393314361572},\n",
              "  {'label': 'pride', 'score': -7.929479598999023},\n",
              "  {'label': 'realization', 'score': -5.165647029876709},\n",
              "  {'label': 'relief', 'score': -8.01949691772461},\n",
              "  {'label': 'remorse', 'score': -7.771162033081055},\n",
              "  {'label': 'sadness', 'score': -5.857560634613037},\n",
              "  {'label': 'surprise', 'score': -6.352675914764404},\n",
              "  {'label': 'neutral', 'score': 3.43088960647583}],\n",
              " [{'label': 'admiration', 'score': -5.79368782043457},\n",
              "  {'label': 'amusement', 'score': -7.076787948608398},\n",
              "  {'label': 'anger', 'score': -7.15170431137085},\n",
              "  {'label': 'annoyance', 'score': -5.460146427154541},\n",
              "  {'label': 'approval', 'score': -2.7764124870300293},\n",
              "  {'label': 'caring', 'score': -6.3399858474731445},\n",
              "  {'label': 'confusion', 'score': -6.314114093780518},\n",
              "  {'label': 'curiosity', 'score': -7.160111904144287},\n",
              "  {'label': 'desire', 'score': -6.641957759857178},\n",
              "  {'label': 'disappointment', 'score': -5.845123767852783},\n",
              "  {'label': 'disapproval', 'score': -5.343024730682373},\n",
              "  {'label': 'disgust', 'score': -6.907570838928223},\n",
              "  {'label': 'embarrassment', 'score': -8.245911598205566},\n",
              "  {'label': 'excitement', 'score': -7.224950790405273},\n",
              "  {'label': 'fear', 'score': -7.253184795379639},\n",
              "  {'label': 'gratitude', 'score': -6.798917293548584},\n",
              "  {'label': 'grief', 'score': -8.418766975402832},\n",
              "  {'label': 'joy', 'score': -7.08150577545166},\n",
              "  {'label': 'love', 'score': -6.992555618286133},\n",
              "  {'label': 'nervousness', 'score': -8.341984748840332},\n",
              "  {'label': 'optimism', 'score': -5.054924488067627},\n",
              "  {'label': 'pride', 'score': -8.17763614654541},\n",
              "  {'label': 'realization', 'score': -4.410049915313721},\n",
              "  {'label': 'relief', 'score': -7.667147636413574},\n",
              "  {'label': 'remorse', 'score': -8.134324073791504},\n",
              "  {'label': 'sadness', 'score': -6.72047233581543},\n",
              "  {'label': 'surprise', 'score': -7.949617862701416},\n",
              "  {'label': 'neutral', 'score': 2.7265446186065674}],\n",
              " [{'label': 'admiration', 'score': -6.718839645385742},\n",
              "  {'label': 'amusement', 'score': -6.782332420349121},\n",
              "  {'label': 'anger', 'score': -6.881994724273682},\n",
              "  {'label': 'annoyance', 'score': -5.134913444519043},\n",
              "  {'label': 'approval', 'score': -3.8340461254119873},\n",
              "  {'label': 'caring', 'score': -7.036484718322754},\n",
              "  {'label': 'confusion', 'score': -3.7550649642944336},\n",
              "  {'label': 'curiosity', 'score': -5.299732208251953},\n",
              "  {'label': 'desire', 'score': -6.983709335327148},\n",
              "  {'label': 'disappointment', 'score': -6.01609468460083},\n",
              "  {'label': 'disapproval', 'score': -5.439838409423828},\n",
              "  {'label': 'disgust', 'score': -6.876059532165527},\n",
              "  {'label': 'embarrassment', 'score': -7.724488735198975},\n",
              "  {'label': 'excitement', 'score': -7.053195476531982},\n",
              "  {'label': 'fear', 'score': -7.2501606941223145},\n",
              "  {'label': 'gratitude', 'score': -7.29231071472168},\n",
              "  {'label': 'grief', 'score': -8.394865036010742},\n",
              "  {'label': 'joy', 'score': -7.1152849197387695},\n",
              "  {'label': 'love', 'score': -7.157877445220947},\n",
              "  {'label': 'nervousness', 'score': -8.109261512756348},\n",
              "  {'label': 'optimism', 'score': -5.671314239501953},\n",
              "  {'label': 'pride', 'score': -8.797041893005371},\n",
              "  {'label': 'realization', 'score': -4.170105457305908},\n",
              "  {'label': 'relief', 'score': -8.294670104980469},\n",
              "  {'label': 'remorse', 'score': -8.0416259765625},\n",
              "  {'label': 'sadness', 'score': -6.790754318237305},\n",
              "  {'label': 'surprise', 'score': -6.967295169830322},\n",
              "  {'label': 'neutral', 'score': 2.6165456771850586}],\n",
              " [{'label': 'admiration', 'score': -6.364317893981934},\n",
              "  {'label': 'amusement', 'score': -6.103683948516846},\n",
              "  {'label': 'anger', 'score': -6.208234786987305},\n",
              "  {'label': 'annoyance', 'score': -5.013397693634033},\n",
              "  {'label': 'approval', 'score': -4.800266265869141},\n",
              "  {'label': 'caring', 'score': -6.651759624481201},\n",
              "  {'label': 'confusion', 'score': -1.8239800930023193},\n",
              "  {'label': 'curiosity', 'score': -0.1865115761756897},\n",
              "  {'label': 'desire', 'score': -6.3950300216674805},\n",
              "  {'label': 'disappointment', 'score': -6.58206844329834},\n",
              "  {'label': 'disapproval', 'score': -6.130451679229736},\n",
              "  {'label': 'disgust', 'score': -7.107107639312744},\n",
              "  {'label': 'embarrassment', 'score': -7.588752269744873},\n",
              "  {'label': 'excitement', 'score': -5.89830207824707},\n",
              "  {'label': 'fear', 'score': -6.997598171234131},\n",
              "  {'label': 'gratitude', 'score': -7.795477867126465},\n",
              "  {'label': 'grief', 'score': -8.344745635986328},\n",
              "  {'label': 'joy', 'score': -6.927384853363037},\n",
              "  {'label': 'love', 'score': -6.441652297973633},\n",
              "  {'label': 'nervousness', 'score': -7.7352495193481445},\n",
              "  {'label': 'optimism', 'score': -5.783562660217285},\n",
              "  {'label': 'pride', 'score': -9.70964241027832},\n",
              "  {'label': 'realization', 'score': -5.543009281158447},\n",
              "  {'label': 'relief', 'score': -8.822239875793457},\n",
              "  {'label': 'remorse', 'score': -8.016858100891113},\n",
              "  {'label': 'sadness', 'score': -6.9935736656188965},\n",
              "  {'label': 'surprise', 'score': -5.327523231506348},\n",
              "  {'label': 'neutral', 'score': 0.501334547996521}],\n",
              " [{'label': 'admiration', 'score': -1.8682291507720947},\n",
              "  {'label': 'amusement', 'score': -5.0388898849487305},\n",
              "  {'label': 'anger', 'score': -6.2967705726623535},\n",
              "  {'label': 'annoyance', 'score': -5.268469333648682},\n",
              "  {'label': 'approval', 'score': -2.4784305095672607},\n",
              "  {'label': 'caring', 'score': -3.9578261375427246},\n",
              "  {'label': 'confusion', 'score': -6.002052307128906},\n",
              "  {'label': 'curiosity', 'score': -6.720241546630859},\n",
              "  {'label': 'desire', 'score': -6.478163242340088},\n",
              "  {'label': 'disappointment', 'score': -6.409400939941406},\n",
              "  {'label': 'disapproval', 'score': -5.367752552032471},\n",
              "  {'label': 'disgust', 'score': -7.354418754577637},\n",
              "  {'label': 'embarrassment', 'score': -7.153944969177246},\n",
              "  {'label': 'excitement', 'score': -4.251894950866699},\n",
              "  {'label': 'fear', 'score': -7.404890060424805},\n",
              "  {'label': 'gratitude', 'score': -2.6403470039367676},\n",
              "  {'label': 'grief', 'score': -6.703965663909912},\n",
              "  {'label': 'joy', 'score': 1.2017862796783447},\n",
              "  {'label': 'love', 'score': -5.297510623931885},\n",
              "  {'label': 'nervousness', 'score': -6.883685111999512},\n",
              "  {'label': 'optimism', 'score': -4.750857830047607},\n",
              "  {'label': 'pride', 'score': -4.221027851104736},\n",
              "  {'label': 'realization', 'score': -4.710386753082275},\n",
              "  {'label': 'relief', 'score': -2.8086743354797363},\n",
              "  {'label': 'remorse', 'score': -7.165089130401611},\n",
              "  {'label': 'sadness', 'score': -6.220262050628662},\n",
              "  {'label': 'surprise', 'score': -6.379729270935059},\n",
              "  {'label': 'neutral', 'score': -3.2720096111297607}],\n",
              " [{'label': 'admiration', 'score': -5.715794086456299},\n",
              "  {'label': 'amusement', 'score': -5.991188049316406},\n",
              "  {'label': 'anger', 'score': -6.707314968109131},\n",
              "  {'label': 'annoyance', 'score': -4.377222061157227},\n",
              "  {'label': 'approval', 'score': -3.0785531997680664},\n",
              "  {'label': 'caring', 'score': -7.53013277053833},\n",
              "  {'label': 'confusion', 'score': -5.99803352355957},\n",
              "  {'label': 'curiosity', 'score': -7.188086032867432},\n",
              "  {'label': 'desire', 'score': -7.04859733581543},\n",
              "  {'label': 'disappointment', 'score': -5.676751136779785},\n",
              "  {'label': 'disapproval', 'score': -5.568188190460205},\n",
              "  {'label': 'disgust', 'score': -6.298086643218994},\n",
              "  {'label': 'embarrassment', 'score': -7.181658744812012},\n",
              "  {'label': 'excitement', 'score': -6.350797653198242},\n",
              "  {'label': 'fear', 'score': -7.278858661651611},\n",
              "  {'label': 'gratitude', 'score': -7.580024719238281},\n",
              "  {'label': 'grief', 'score': -8.51798152923584},\n",
              "  {'label': 'joy', 'score': -6.597745418548584},\n",
              "  {'label': 'love', 'score': -6.96310567855835},\n",
              "  {'label': 'nervousness', 'score': -8.225679397583008},\n",
              "  {'label': 'optimism', 'score': -6.1293206214904785},\n",
              "  {'label': 'pride', 'score': -7.778963565826416},\n",
              "  {'label': 'realization', 'score': -3.533158779144287},\n",
              "  {'label': 'relief', 'score': -7.570436477661133},\n",
              "  {'label': 'remorse', 'score': -8.341708183288574},\n",
              "  {'label': 'sadness', 'score': -7.110113143920898},\n",
              "  {'label': 'surprise', 'score': -6.882412910461426},\n",
              "  {'label': 'neutral', 'score': 2.560683488845825}],\n",
              " [{'label': 'admiration', 'score': -5.39102029800415},\n",
              "  {'label': 'amusement', 'score': -6.51715612411499},\n",
              "  {'label': 'anger', 'score': -6.741180896759033},\n",
              "  {'label': 'annoyance', 'score': -5.440486431121826},\n",
              "  {'label': 'approval', 'score': -2.8773045539855957},\n",
              "  {'label': 'caring', 'score': -5.654090404510498},\n",
              "  {'label': 'confusion', 'score': -1.216037631034851},\n",
              "  {'label': 'curiosity', 'score': 0.23637992143630981},\n",
              "  {'label': 'desire', 'score': -6.215353488922119},\n",
              "  {'label': 'disappointment', 'score': -6.325985908508301},\n",
              "  {'label': 'disapproval', 'score': -5.66364049911499},\n",
              "  {'label': 'disgust', 'score': -7.006862163543701},\n",
              "  {'label': 'embarrassment', 'score': -7.423257827758789},\n",
              "  {'label': 'excitement', 'score': -5.813502311706543},\n",
              "  {'label': 'fear', 'score': -6.058976650238037},\n",
              "  {'label': 'gratitude', 'score': -7.588425636291504},\n",
              "  {'label': 'grief', 'score': -7.801485061645508},\n",
              "  {'label': 'joy', 'score': -6.609220504760742},\n",
              "  {'label': 'love', 'score': -5.7968430519104},\n",
              "  {'label': 'nervousness', 'score': -6.810770034790039},\n",
              "  {'label': 'optimism', 'score': -4.8463521003723145},\n",
              "  {'label': 'pride', 'score': -8.987557411193848},\n",
              "  {'label': 'realization', 'score': -4.26099157333374},\n",
              "  {'label': 'relief', 'score': -7.85379695892334},\n",
              "  {'label': 'remorse', 'score': -7.562003135681152},\n",
              "  {'label': 'sadness', 'score': -6.361044883728027},\n",
              "  {'label': 'surprise', 'score': -5.007412910461426},\n",
              "  {'label': 'neutral', 'score': -0.8372582197189331}],\n",
              " [{'label': 'admiration', 'score': -3.6338319778442383},\n",
              "  {'label': 'amusement', 'score': -5.224371433258057},\n",
              "  {'label': 'anger', 'score': -6.500546932220459},\n",
              "  {'label': 'annoyance', 'score': -5.334038257598877},\n",
              "  {'label': 'approval', 'score': -2.4888253211975098},\n",
              "  {'label': 'caring', 'score': -4.59206485748291},\n",
              "  {'label': 'confusion', 'score': -4.200117111206055},\n",
              "  {'label': 'curiosity', 'score': -4.503120422363281},\n",
              "  {'label': 'desire', 'score': -6.338673114776611},\n",
              "  {'label': 'disappointment', 'score': -6.788163661956787},\n",
              "  {'label': 'disapproval', 'score': -5.211380481719971},\n",
              "  {'label': 'disgust', 'score': -7.732701301574707},\n",
              "  {'label': 'embarrassment', 'score': -7.307220458984375},\n",
              "  {'label': 'excitement', 'score': -3.6284964084625244},\n",
              "  {'label': 'fear', 'score': -7.579710483551025},\n",
              "  {'label': 'gratitude', 'score': -2.2613961696624756},\n",
              "  {'label': 'grief', 'score': -7.190737247467041},\n",
              "  {'label': 'joy', 'score': 0.6298628449440002},\n",
              "  {'label': 'love', 'score': -5.965047836303711},\n",
              "  {'label': 'nervousness', 'score': -6.640590667724609},\n",
              "  {'label': 'optimism', 'score': -5.042922496795654},\n",
              "  {'label': 'pride', 'score': -5.380471229553223},\n",
              "  {'label': 'realization', 'score': -4.451971530914307},\n",
              "  {'label': 'relief', 'score': -3.254023790359497},\n",
              "  {'label': 'remorse', 'score': -7.214707374572754},\n",
              "  {'label': 'sadness', 'score': -6.611173152923584},\n",
              "  {'label': 'surprise', 'score': -5.88199520111084},\n",
              "  {'label': 'neutral', 'score': -2.7260804176330566}],\n",
              " [{'label': 'admiration', 'score': -5.561672687530518},\n",
              "  {'label': 'amusement', 'score': -7.376975059509277},\n",
              "  {'label': 'anger', 'score': -7.368005275726318},\n",
              "  {'label': 'annoyance', 'score': -5.7038421630859375},\n",
              "  {'label': 'approval', 'score': -2.0459072589874268},\n",
              "  {'label': 'caring', 'score': -3.277209758758545},\n",
              "  {'label': 'confusion', 'score': -5.3804850578308105},\n",
              "  {'label': 'curiosity', 'score': -6.155369758605957},\n",
              "  {'label': 'desire', 'score': -4.940517902374268},\n",
              "  {'label': 'disappointment', 'score': -5.810214042663574},\n",
              "  {'label': 'disapproval', 'score': -5.014425754547119},\n",
              "  {'label': 'disgust', 'score': -7.306485652923584},\n",
              "  {'label': 'embarrassment', 'score': -8.228190422058105},\n",
              "  {'label': 'excitement', 'score': -7.085879802703857},\n",
              "  {'label': 'fear', 'score': -7.232498645782471},\n",
              "  {'label': 'gratitude', 'score': -6.09986686706543},\n",
              "  {'label': 'grief', 'score': -7.849048614501953},\n",
              "  {'label': 'joy', 'score': -6.906678676605225},\n",
              "  {'label': 'love', 'score': -6.620689392089844},\n",
              "  {'label': 'nervousness', 'score': -7.629305839538574},\n",
              "  {'label': 'optimism', 'score': -1.85447096824646},\n",
              "  {'label': 'pride', 'score': -7.480248928070068},\n",
              "  {'label': 'realization', 'score': -3.9024977684020996},\n",
              "  {'label': 'relief', 'score': -6.498005390167236},\n",
              "  {'label': 'remorse', 'score': -6.740821838378906},\n",
              "  {'label': 'sadness', 'score': -6.569127559661865},\n",
              "  {'label': 'surprise', 'score': -7.706974029541016},\n",
              "  {'label': 'neutral', 'score': 1.3648306131362915}],\n",
              " [{'label': 'admiration', 'score': -4.855316162109375},\n",
              "  {'label': 'amusement', 'score': -5.766890048980713},\n",
              "  {'label': 'anger', 'score': -5.984537124633789},\n",
              "  {'label': 'annoyance', 'score': -5.1399736404418945},\n",
              "  {'label': 'approval', 'score': -3.25627064704895},\n",
              "  {'label': 'caring', 'score': -4.428339004516602},\n",
              "  {'label': 'confusion', 'score': -5.565459251403809},\n",
              "  {'label': 'curiosity', 'score': -5.458893775939941},\n",
              "  {'label': 'desire', 'score': -1.4872195720672607},\n",
              "  {'label': 'disappointment', 'score': -5.0857720375061035},\n",
              "  {'label': 'disapproval', 'score': -5.068287372589111},\n",
              "  {'label': 'disgust', 'score': -6.446789264678955},\n",
              "  {'label': 'embarrassment', 'score': -7.707117080688477},\n",
              "  {'label': 'excitement', 'score': -5.625819683074951},\n",
              "  {'label': 'fear', 'score': -6.525744438171387},\n",
              "  {'label': 'gratitude', 'score': -5.329292297363281},\n",
              "  {'label': 'grief', 'score': -7.62335729598999},\n",
              "  {'label': 'joy', 'score': -5.797368049621582},\n",
              "  {'label': 'love', 'score': -4.790602207183838},\n",
              "  {'label': 'nervousness', 'score': -7.448362350463867},\n",
              "  {'label': 'optimism', 'score': 1.9971132278442383},\n",
              "  {'label': 'pride', 'score': -6.943499565124512},\n",
              "  {'label': 'realization', 'score': -4.813281536102295},\n",
              "  {'label': 'relief', 'score': -7.425363063812256},\n",
              "  {'label': 'remorse', 'score': -5.8851637840271},\n",
              "  {'label': 'sadness', 'score': -6.192852020263672},\n",
              "  {'label': 'surprise', 'score': -6.586414337158203},\n",
              "  {'label': 'neutral', 'score': -2.6148648262023926}],\n",
              " [{'label': 'admiration', 'score': -6.951478004455566},\n",
              "  {'label': 'amusement', 'score': -6.163300037384033},\n",
              "  {'label': 'anger', 'score': -5.9351067543029785},\n",
              "  {'label': 'annoyance', 'score': -4.677443504333496},\n",
              "  {'label': 'approval', 'score': -4.511595726013184},\n",
              "  {'label': 'caring', 'score': -6.7545270919799805},\n",
              "  {'label': 'confusion', 'score': -0.44159114360809326},\n",
              "  {'label': 'curiosity', 'score': -0.8883360624313354},\n",
              "  {'label': 'desire', 'score': -7.040943622589111},\n",
              "  {'label': 'disappointment', 'score': -6.648001670837402},\n",
              "  {'label': 'disapproval', 'score': -5.706539154052734},\n",
              "  {'label': 'disgust', 'score': -6.533642768859863},\n",
              "  {'label': 'embarrassment', 'score': -7.161321640014648},\n",
              "  {'label': 'excitement', 'score': -6.518346309661865},\n",
              "  {'label': 'fear', 'score': -6.751925945281982},\n",
              "  {'label': 'gratitude', 'score': -7.034509658813477},\n",
              "  {'label': 'grief', 'score': -8.245474815368652},\n",
              "  {'label': 'joy', 'score': -7.036402225494385},\n",
              "  {'label': 'love', 'score': -6.400957107543945},\n",
              "  {'label': 'nervousness', 'score': -7.79348611831665},\n",
              "  {'label': 'optimism', 'score': -5.826191425323486},\n",
              "  {'label': 'pride', 'score': -9.483492851257324},\n",
              "  {'label': 'realization', 'score': -4.623310565948486},\n",
              "  {'label': 'relief', 'score': -8.610968589782715},\n",
              "  {'label': 'remorse', 'score': -7.894810199737549},\n",
              "  {'label': 'sadness', 'score': -7.0863752365112305},\n",
              "  {'label': 'surprise', 'score': -5.054586887359619},\n",
              "  {'label': 'neutral', 'score': 0.2619120180606842}],\n",
              " [{'label': 'admiration', 'score': -5.219566822052002},\n",
              "  {'label': 'amusement', 'score': -3.441964864730835},\n",
              "  {'label': 'anger', 'score': -6.229915142059326},\n",
              "  {'label': 'annoyance', 'score': -4.952188014984131},\n",
              "  {'label': 'approval', 'score': -2.9929325580596924},\n",
              "  {'label': 'caring', 'score': -4.113941669464111},\n",
              "  {'label': 'confusion', 'score': -5.87246561050415},\n",
              "  {'label': 'curiosity', 'score': -6.372953414916992},\n",
              "  {'label': 'desire', 'score': -5.800853729248047},\n",
              "  {'label': 'disappointment', 'score': -6.436107158660889},\n",
              "  {'label': 'disapproval', 'score': -5.099964618682861},\n",
              "  {'label': 'disgust', 'score': -7.273331165313721},\n",
              "  {'label': 'embarrassment', 'score': -7.091372966766357},\n",
              "  {'label': 'excitement', 'score': -4.218635082244873},\n",
              "  {'label': 'fear', 'score': -7.420485973358154},\n",
              "  {'label': 'gratitude', 'score': -5.71109676361084},\n",
              "  {'label': 'grief', 'score': -7.268381595611572},\n",
              "  {'label': 'joy', 'score': 1.1427417993545532},\n",
              "  {'label': 'love', 'score': -5.155097961425781},\n",
              "  {'label': 'nervousness', 'score': -6.6461358070373535},\n",
              "  {'label': 'optimism', 'score': -4.868749141693115},\n",
              "  {'label': 'pride', 'score': -6.150254726409912},\n",
              "  {'label': 'realization', 'score': -4.655174255371094},\n",
              "  {'label': 'relief', 'score': -4.1619791984558105},\n",
              "  {'label': 'remorse', 'score': -7.156814098358154},\n",
              "  {'label': 'sadness', 'score': -5.792492389678955},\n",
              "  {'label': 'surprise', 'score': -7.399274826049805},\n",
              "  {'label': 'neutral', 'score': -1.3293265104293823}],\n",
              " [{'label': 'admiration', 'score': -2.252326726913452},\n",
              "  {'label': 'amusement', 'score': -0.41488227248191833},\n",
              "  {'label': 'anger', 'score': -6.429261684417725},\n",
              "  {'label': 'annoyance', 'score': -5.084473133087158},\n",
              "  {'label': 'approval', 'score': -2.802420139312744},\n",
              "  {'label': 'caring', 'score': -4.876357555389404},\n",
              "  {'label': 'confusion', 'score': -5.896767616271973},\n",
              "  {'label': 'curiosity', 'score': -6.30193567276001},\n",
              "  {'label': 'desire', 'score': -6.392665863037109},\n",
              "  {'label': 'disappointment', 'score': -6.328614234924316},\n",
              "  {'label': 'disapproval', 'score': -5.117886543273926},\n",
              "  {'label': 'disgust', 'score': -7.4577531814575195},\n",
              "  {'label': 'embarrassment', 'score': -7.294783592224121},\n",
              "  {'label': 'excitement', 'score': -4.606439590454102},\n",
              "  {'label': 'fear', 'score': -7.748535633087158},\n",
              "  {'label': 'gratitude', 'score': -5.035984992980957},\n",
              "  {'label': 'grief', 'score': -7.467149257659912},\n",
              "  {'label': 'joy', 'score': 0.9343246221542358},\n",
              "  {'label': 'love', 'score': -5.166769981384277},\n",
              "  {'label': 'nervousness', 'score': -7.241029262542725},\n",
              "  {'label': 'optimism', 'score': -4.502058506011963},\n",
              "  {'label': 'pride', 'score': -5.791438579559326},\n",
              "  {'label': 'realization', 'score': -4.819980621337891},\n",
              "  {'label': 'relief', 'score': -4.525659084320068},\n",
              "  {'label': 'remorse', 'score': -7.486301422119141},\n",
              "  {'label': 'sadness', 'score': -6.3867387771606445},\n",
              "  {'label': 'surprise', 'score': -7.273105621337891},\n",
              "  {'label': 'neutral', 'score': -3.188126802444458}],\n",
              " [{'label': 'admiration', 'score': 2.4123177528381348},\n",
              "  {'label': 'amusement', 'score': -7.006148338317871},\n",
              "  {'label': 'anger', 'score': -6.5255446434021},\n",
              "  {'label': 'annoyance', 'score': -5.425571918487549},\n",
              "  {'label': 'approval', 'score': -2.576282024383545},\n",
              "  {'label': 'caring', 'score': -6.101293087005615},\n",
              "  {'label': 'confusion', 'score': -6.445655822753906},\n",
              "  {'label': 'curiosity', 'score': -6.309064865112305},\n",
              "  {'label': 'desire', 'score': -6.825674533843994},\n",
              "  {'label': 'disappointment', 'score': -5.715875625610352},\n",
              "  {'label': 'disapproval', 'score': -5.122376918792725},\n",
              "  {'label': 'disgust', 'score': -7.247132301330566},\n",
              "  {'label': 'embarrassment', 'score': -8.0499906539917},\n",
              "  {'label': 'excitement', 'score': -5.942356109619141},\n",
              "  {'label': 'fear', 'score': -7.77338171005249},\n",
              "  {'label': 'gratitude', 'score': -4.98321533203125},\n",
              "  {'label': 'grief', 'score': -8.02699089050293},\n",
              "  {'label': 'joy', 'score': -6.2356719970703125},\n",
              "  {'label': 'love', 'score': -6.498152256011963},\n",
              "  {'label': 'nervousness', 'score': -8.949813842773438},\n",
              "  {'label': 'optimism', 'score': -4.986441612243652},\n",
              "  {'label': 'pride', 'score': -5.9089035987854},\n",
              "  {'label': 'realization', 'score': -5.000201225280762},\n",
              "  {'label': 'relief', 'score': -7.429924964904785},\n",
              "  {'label': 'remorse', 'score': -7.9086689949035645},\n",
              "  {'label': 'sadness', 'score': -6.482000350952148},\n",
              "  {'label': 'surprise', 'score': -6.546477317810059},\n",
              "  {'label': 'neutral', 'score': -2.8918561935424805}],\n",
              " [{'label': 'admiration', 'score': -3.4616193771362305},\n",
              "  {'label': 'amusement', 'score': -3.1386678218841553},\n",
              "  {'label': 'anger', 'score': -5.8854756355285645},\n",
              "  {'label': 'annoyance', 'score': -4.788371562957764},\n",
              "  {'label': 'approval', 'score': -3.5748772621154785},\n",
              "  {'label': 'caring', 'score': -4.30987548828125},\n",
              "  {'label': 'confusion', 'score': -5.802418231964111},\n",
              "  {'label': 'curiosity', 'score': -6.097812175750732},\n",
              "  {'label': 'desire', 'score': -5.640719890594482},\n",
              "  {'label': 'disappointment', 'score': -6.0463175773620605},\n",
              "  {'label': 'disapproval', 'score': -5.168322563171387},\n",
              "  {'label': 'disgust', 'score': -7.059230804443359},\n",
              "  {'label': 'embarrassment', 'score': -6.7344794273376465},\n",
              "  {'label': 'excitement', 'score': -3.8706796169281006},\n",
              "  {'label': 'fear', 'score': -7.1763787269592285},\n",
              "  {'label': 'gratitude', 'score': -4.7610368728637695},\n",
              "  {'label': 'grief', 'score': -6.86805534362793},\n",
              "  {'label': 'joy', 'score': 2.2337279319763184},\n",
              "  {'label': 'love', 'score': -4.471590518951416},\n",
              "  {'label': 'nervousness', 'score': -6.392744064331055},\n",
              "  {'label': 'optimism', 'score': -4.901020050048828},\n",
              "  {'label': 'pride', 'score': -5.491492748260498},\n",
              "  {'label': 'realization', 'score': -4.796907901763916},\n",
              "  {'label': 'relief', 'score': -3.920861005783081},\n",
              "  {'label': 'remorse', 'score': -6.847535133361816},\n",
              "  {'label': 'sadness', 'score': -5.340603828430176},\n",
              "  {'label': 'surprise', 'score': -6.54862117767334},\n",
              "  {'label': 'neutral', 'score': -3.697962999343872}],\n",
              " [{'label': 'admiration', 'score': -5.909796237945557},\n",
              "  {'label': 'amusement', 'score': -5.15744686126709},\n",
              "  {'label': 'anger', 'score': -4.7993550300598145},\n",
              "  {'label': 'annoyance', 'score': -2.723832130432129},\n",
              "  {'label': 'approval', 'score': -4.843353748321533},\n",
              "  {'label': 'caring', 'score': -7.6760945320129395},\n",
              "  {'label': 'confusion', 'score': -0.627239465713501},\n",
              "  {'label': 'curiosity', 'score': -1.4855735301971436},\n",
              "  {'label': 'desire', 'score': -7.295274257659912},\n",
              "  {'label': 'disappointment', 'score': -3.904963970184326},\n",
              "  {'label': 'disapproval', 'score': -2.7461867332458496},\n",
              "  {'label': 'disgust', 'score': -4.459148406982422},\n",
              "  {'label': 'embarrassment', 'score': -4.235108852386475},\n",
              "  {'label': 'excitement', 'score': -5.494504451751709},\n",
              "  {'label': 'fear', 'score': -5.5634846687316895},\n",
              "  {'label': 'gratitude', 'score': -6.9386372566223145},\n",
              "  {'label': 'grief', 'score': -6.985447406768799},\n",
              "  {'label': 'joy', 'score': -6.429501533508301},\n",
              "  {'label': 'love', 'score': -6.918613433837891},\n",
              "  {'label': 'nervousness', 'score': -6.307819843292236},\n",
              "  {'label': 'optimism', 'score': -5.982574462890625},\n",
              "  {'label': 'pride', 'score': -8.139104843139648},\n",
              "  {'label': 'realization', 'score': -2.372591257095337},\n",
              "  {'label': 'relief', 'score': -7.317488670349121},\n",
              "  {'label': 'remorse', 'score': -7.319392204284668},\n",
              "  {'label': 'sadness', 'score': -6.411549091339111},\n",
              "  {'label': 'surprise', 'score': -0.36777839064598083},\n",
              "  {'label': 'neutral', 'score': -1.200293779373169}],\n",
              " [{'label': 'admiration', 'score': -6.350502967834473},\n",
              "  {'label': 'amusement', 'score': -5.254753112792969},\n",
              "  {'label': 'anger', 'score': -3.5567474365234375},\n",
              "  {'label': 'annoyance', 'score': 0.04507685825228691},\n",
              "  {'label': 'approval', 'score': -4.049983024597168},\n",
              "  {'label': 'caring', 'score': -7.129140377044678},\n",
              "  {'label': 'confusion', 'score': -6.082818508148193},\n",
              "  {'label': 'curiosity', 'score': -6.668756484985352},\n",
              "  {'label': 'desire', 'score': -6.888528347015381},\n",
              "  {'label': 'disappointment', 'score': -1.3574533462524414},\n",
              "  {'label': 'disapproval', 'score': -1.9028247594833374},\n",
              "  {'label': 'disgust', 'score': -2.557765245437622},\n",
              "  {'label': 'embarrassment', 'score': -3.8340952396392822},\n",
              "  {'label': 'excitement', 'score': -6.717472076416016},\n",
              "  {'label': 'fear', 'score': -5.669503688812256},\n",
              "  {'label': 'gratitude', 'score': -7.535830020904541},\n",
              "  {'label': 'grief', 'score': -7.198952674865723},\n",
              "  {'label': 'joy', 'score': -6.8384480476379395},\n",
              "  {'label': 'love', 'score': -7.690120697021484},\n",
              "  {'label': 'nervousness', 'score': -6.310061454772949},\n",
              "  {'label': 'optimism', 'score': -6.009687900543213},\n",
              "  {'label': 'pride', 'score': -7.377690315246582},\n",
              "  {'label': 'realization', 'score': -3.8231356143951416},\n",
              "  {'label': 'relief', 'score': -7.001107692718506},\n",
              "  {'label': 'remorse', 'score': -7.284148216247559},\n",
              "  {'label': 'sadness', 'score': -4.607465744018555},\n",
              "  {'label': 'surprise', 'score': -5.731497764587402},\n",
              "  {'label': 'neutral', 'score': -1.1565699577331543}],\n",
              " [{'label': 'admiration', 'score': -5.421490669250488},\n",
              "  {'label': 'amusement', 'score': -5.856133937835693},\n",
              "  {'label': 'anger', 'score': -5.751613616943359},\n",
              "  {'label': 'annoyance', 'score': -4.70485782623291},\n",
              "  {'label': 'approval', 'score': -3.8877179622650146},\n",
              "  {'label': 'caring', 'score': -4.326112747192383},\n",
              "  {'label': 'confusion', 'score': -4.3500075340271},\n",
              "  {'label': 'curiosity', 'score': -4.875187873840332},\n",
              "  {'label': 'desire', 'score': -5.599265098571777},\n",
              "  {'label': 'disappointment', 'score': -2.916651964187622},\n",
              "  {'label': 'disapproval', 'score': -3.9221608638763428},\n",
              "  {'label': 'disgust', 'score': -5.963085174560547},\n",
              "  {'label': 'embarrassment', 'score': -4.18849515914917},\n",
              "  {'label': 'excitement', 'score': -6.46750020980835},\n",
              "  {'label': 'fear', 'score': -6.477488040924072},\n",
              "  {'label': 'gratitude', 'score': -4.653377532958984},\n",
              "  {'label': 'grief', 'score': -5.276770114898682},\n",
              "  {'label': 'joy', 'score': -5.779268264770508},\n",
              "  {'label': 'love', 'score': -5.429111480712891},\n",
              "  {'label': 'nervousness', 'score': -5.515541076660156},\n",
              "  {'label': 'optimism', 'score': -4.7382917404174805},\n",
              "  {'label': 'pride', 'score': -7.395483016967773},\n",
              "  {'label': 'realization', 'score': -3.9200429916381836},\n",
              "  {'label': 'relief', 'score': -6.10932731628418},\n",
              "  {'label': 'remorse', 'score': 1.3483572006225586},\n",
              "  {'label': 'sadness', 'score': -0.9383414387702942},\n",
              "  {'label': 'surprise', 'score': -6.579628944396973},\n",
              "  {'label': 'neutral', 'score': -3.780491828918457}],\n",
              " [{'label': 'admiration', 'score': -3.050762891769409},\n",
              "  {'label': 'amusement', 'score': -4.586155414581299},\n",
              "  {'label': 'anger', 'score': -5.6830363273620605},\n",
              "  {'label': 'annoyance', 'score': -4.982082366943359},\n",
              "  {'label': 'approval', 'score': -4.898839473724365},\n",
              "  {'label': 'caring', 'score': -7.149688720703125},\n",
              "  {'label': 'confusion', 'score': -6.124944686889648},\n",
              "  {'label': 'curiosity', 'score': -4.290858745574951},\n",
              "  {'label': 'desire', 'score': -5.844879150390625},\n",
              "  {'label': 'disappointment', 'score': -5.6665215492248535},\n",
              "  {'label': 'disapproval', 'score': -6.158093452453613},\n",
              "  {'label': 'disgust', 'score': -5.973550319671631},\n",
              "  {'label': 'embarrassment', 'score': -6.251823425292969},\n",
              "  {'label': 'excitement', 'score': -1.2206265926361084},\n",
              "  {'label': 'fear', 'score': -6.227103233337402},\n",
              "  {'label': 'gratitude', 'score': -6.188126087188721},\n",
              "  {'label': 'grief', 'score': -6.9384284019470215},\n",
              "  {'label': 'joy', 'score': -3.9541563987731934},\n",
              "  {'label': 'love', 'score': -4.914702415466309},\n",
              "  {'label': 'nervousness', 'score': -7.406816482543945},\n",
              "  {'label': 'optimism', 'score': -5.608659267425537},\n",
              "  {'label': 'pride', 'score': -6.436394691467285},\n",
              "  {'label': 'realization', 'score': -4.898883819580078},\n",
              "  {'label': 'relief', 'score': -6.824697971343994},\n",
              "  {'label': 'remorse', 'score': -7.9134063720703125},\n",
              "  {'label': 'sadness', 'score': -6.695324897766113},\n",
              "  {'label': 'surprise', 'score': 0.2898297607898712},\n",
              "  {'label': 'neutral', 'score': -1.744383454322815}],\n",
              " [{'label': 'admiration', 'score': -6.37557315826416},\n",
              "  {'label': 'amusement', 'score': -5.1474480628967285},\n",
              "  {'label': 'anger', 'score': -5.228073596954346},\n",
              "  {'label': 'annoyance', 'score': -3.706225633621216},\n",
              "  {'label': 'approval', 'score': -4.536909580230713},\n",
              "  {'label': 'caring', 'score': -6.7660369873046875},\n",
              "  {'label': 'confusion', 'score': -6.788187503814697},\n",
              "  {'label': 'curiosity', 'score': -7.259636878967285},\n",
              "  {'label': 'desire', 'score': -6.996527671813965},\n",
              "  {'label': 'disappointment', 'score': -5.180726051330566},\n",
              "  {'label': 'disapproval', 'score': -5.328192710876465},\n",
              "  {'label': 'disgust', 'score': -5.2674994468688965},\n",
              "  {'label': 'embarrassment', 'score': -6.025198936462402},\n",
              "  {'label': 'excitement', 'score': -6.5255818367004395},\n",
              "  {'label': 'fear', 'score': -5.983829498291016},\n",
              "  {'label': 'gratitude', 'score': -7.377094268798828},\n",
              "  {'label': 'grief', 'score': -7.408121585845947},\n",
              "  {'label': 'joy', 'score': -6.202053070068359},\n",
              "  {'label': 'love', 'score': -7.5802507400512695},\n",
              "  {'label': 'nervousness', 'score': -7.416772842407227},\n",
              "  {'label': 'optimism', 'score': -6.405771732330322},\n",
              "  {'label': 'pride', 'score': -7.539687156677246},\n",
              "  {'label': 'realization', 'score': -4.689036846160889},\n",
              "  {'label': 'relief', 'score': -7.554548263549805},\n",
              "  {'label': 'remorse', 'score': -7.5836334228515625},\n",
              "  {'label': 'sadness', 'score': -5.604516983032227},\n",
              "  {'label': 'surprise', 'score': -6.781669616699219},\n",
              "  {'label': 'neutral', 'score': 2.9419803619384766}],\n",
              " [{'label': 'admiration', 'score': -4.705704689025879},\n",
              "  {'label': 'amusement', 'score': -7.318228721618652},\n",
              "  {'label': 'anger', 'score': -7.182151794433594},\n",
              "  {'label': 'annoyance', 'score': -5.125638961791992},\n",
              "  {'label': 'approval', 'score': -2.057110548019409},\n",
              "  {'label': 'caring', 'score': -7.16395902633667},\n",
              "  {'label': 'confusion', 'score': -6.559940338134766},\n",
              "  {'label': 'curiosity', 'score': -7.232701778411865},\n",
              "  {'label': 'desire', 'score': -7.184506893157959},\n",
              "  {'label': 'disappointment', 'score': -5.970450401306152},\n",
              "  {'label': 'disapproval', 'score': -5.803165912628174},\n",
              "  {'label': 'disgust', 'score': -7.000277519226074},\n",
              "  {'label': 'embarrassment', 'score': -8.391200065612793},\n",
              "  {'label': 'excitement', 'score': -6.717502117156982},\n",
              "  {'label': 'fear', 'score': -7.720648288726807},\n",
              "  {'label': 'gratitude', 'score': -6.780502796173096},\n",
              "  {'label': 'grief', 'score': -8.825932502746582},\n",
              "  {'label': 'joy', 'score': -7.0082550048828125},\n",
              "  {'label': 'love', 'score': -7.212709903717041},\n",
              "  {'label': 'nervousness', 'score': -8.602995872497559},\n",
              "  {'label': 'optimism', 'score': -5.74118185043335},\n",
              "  {'label': 'pride', 'score': -7.807785511016846},\n",
              "  {'label': 'realization', 'score': -3.987393856048584},\n",
              "  {'label': 'relief', 'score': -7.715670108795166},\n",
              "  {'label': 'remorse', 'score': -8.529131889343262},\n",
              "  {'label': 'sadness', 'score': -7.129652500152588},\n",
              "  {'label': 'surprise', 'score': -7.840428829193115},\n",
              "  {'label': 'neutral', 'score': 1.838720440864563}],\n",
              " [{'label': 'admiration', 'score': -4.436086177825928},\n",
              "  {'label': 'amusement', 'score': -5.121207237243652},\n",
              "  {'label': 'anger', 'score': -5.77893590927124},\n",
              "  {'label': 'annoyance', 'score': -4.81145715713501},\n",
              "  {'label': 'approval', 'score': -4.944169998168945},\n",
              "  {'label': 'caring', 'score': -6.680837631225586},\n",
              "  {'label': 'confusion', 'score': -5.054561138153076},\n",
              "  {'label': 'curiosity', 'score': -3.9346344470977783},\n",
              "  {'label': 'desire', 'score': -5.783835411071777},\n",
              "  {'label': 'disappointment', 'score': -4.6009392738342285},\n",
              "  {'label': 'disapproval', 'score': -5.166476249694824},\n",
              "  {'label': 'disgust', 'score': -5.9519548416137695},\n",
              "  {'label': 'embarrassment', 'score': -5.7048187255859375},\n",
              "  {'label': 'excitement', 'score': -3.5644278526306152},\n",
              "  {'label': 'fear', 'score': -6.058674335479736},\n",
              "  {'label': 'gratitude', 'score': -5.78079080581665},\n",
              "  {'label': 'grief', 'score': -6.289423942565918},\n",
              "  {'label': 'joy', 'score': -4.92197322845459},\n",
              "  {'label': 'love', 'score': -5.647583961486816},\n",
              "  {'label': 'nervousness', 'score': -6.9429707527160645},\n",
              "  {'label': 'optimism', 'score': -4.20155668258667},\n",
              "  {'label': 'pride', 'score': -6.8858466148376465},\n",
              "  {'label': 'realization', 'score': -3.3355798721313477},\n",
              "  {'label': 'relief', 'score': -6.299657821655273},\n",
              "  {'label': 'remorse', 'score': -6.848657608032227},\n",
              "  {'label': 'sadness', 'score': -5.996950149536133},\n",
              "  {'label': 'surprise', 'score': 1.9395173788070679},\n",
              "  {'label': 'neutral', 'score': -2.5585665702819824}],\n",
              " [{'label': 'admiration', 'score': -6.610841751098633},\n",
              "  {'label': 'amusement', 'score': -6.278025150299072},\n",
              "  {'label': 'anger', 'score': -6.903883457183838},\n",
              "  {'label': 'annoyance', 'score': -5.247639179229736},\n",
              "  {'label': 'approval', 'score': -3.940656900405884},\n",
              "  {'label': 'caring', 'score': -7.17966365814209},\n",
              "  {'label': 'confusion', 'score': -2.213989734649658},\n",
              "  {'label': 'curiosity', 'score': -2.9322948455810547},\n",
              "  {'label': 'desire', 'score': -7.355185508728027},\n",
              "  {'label': 'disappointment', 'score': -6.105037212371826},\n",
              "  {'label': 'disapproval', 'score': -5.524112224578857},\n",
              "  {'label': 'disgust', 'score': -7.026470184326172},\n",
              "  {'label': 'embarrassment', 'score': -7.566279888153076},\n",
              "  {'label': 'excitement', 'score': -6.474850654602051},\n",
              "  {'label': 'fear', 'score': -7.159939289093018},\n",
              "  {'label': 'gratitude', 'score': -7.54706335067749},\n",
              "  {'label': 'grief', 'score': -8.298562049865723},\n",
              "  {'label': 'joy', 'score': -6.816614627838135},\n",
              "  {'label': 'love', 'score': -7.148673057556152},\n",
              "  {'label': 'nervousness', 'score': -7.790842056274414},\n",
              "  {'label': 'optimism', 'score': -5.845921039581299},\n",
              "  {'label': 'pride', 'score': -9.047778129577637},\n",
              "  {'label': 'realization', 'score': -4.3383564949035645},\n",
              "  {'label': 'relief', 'score': -8.28712272644043},\n",
              "  {'label': 'remorse', 'score': -8.114877700805664},\n",
              "  {'label': 'sadness', 'score': -6.9159159660339355},\n",
              "  {'label': 'surprise', 'score': -5.931413650512695},\n",
              "  {'label': 'neutral', 'score': 1.9786864519119263}],\n",
              " [{'label': 'admiration', 'score': 2.408804416656494},\n",
              "  {'label': 'amusement', 'score': -6.324164867401123},\n",
              "  {'label': 'anger', 'score': -6.471080303192139},\n",
              "  {'label': 'annoyance', 'score': -5.965800762176514},\n",
              "  {'label': 'approval', 'score': -2.9825756549835205},\n",
              "  {'label': 'caring', 'score': -6.193086624145508},\n",
              "  {'label': 'confusion', 'score': -5.955896854400635},\n",
              "  {'label': 'curiosity', 'score': -6.232982635498047},\n",
              "  {'label': 'desire', 'score': -6.442066669464111},\n",
              "  {'label': 'disappointment', 'score': -6.062928199768066},\n",
              "  {'label': 'disapproval', 'score': -5.4922075271606445},\n",
              "  {'label': 'disgust', 'score': -7.080437660217285},\n",
              "  {'label': 'embarrassment', 'score': -8.063322067260742},\n",
              "  {'label': 'excitement', 'score': -5.240036964416504},\n",
              "  {'label': 'fear', 'score': -7.688586711883545},\n",
              "  {'label': 'gratitude', 'score': -5.065134048461914},\n",
              "  {'label': 'grief', 'score': -8.071015357971191},\n",
              "  {'label': 'joy', 'score': -4.4349365234375},\n",
              "  {'label': 'love', 'score': -1.228230595588684},\n",
              "  {'label': 'nervousness', 'score': -8.738604545593262},\n",
              "  {'label': 'optimism', 'score': -5.517480850219727},\n",
              "  {'label': 'pride', 'score': -6.122378349304199},\n",
              "  {'label': 'realization', 'score': -5.39065408706665},\n",
              "  {'label': 'relief', 'score': -7.456137657165527},\n",
              "  {'label': 'remorse', 'score': -7.659194469451904},\n",
              "  {'label': 'sadness', 'score': -6.48518705368042},\n",
              "  {'label': 'surprise', 'score': -6.498342990875244},\n",
              "  {'label': 'neutral', 'score': -4.401107311248779}],\n",
              " [{'label': 'admiration', 'score': -4.7367987632751465},\n",
              "  {'label': 'amusement', 'score': -5.221060752868652},\n",
              "  {'label': 'anger', 'score': -5.504528045654297},\n",
              "  {'label': 'annoyance', 'score': -4.129600524902344},\n",
              "  {'label': 'approval', 'score': -4.677854537963867},\n",
              "  {'label': 'caring', 'score': -5.162355422973633},\n",
              "  {'label': 'confusion', 'score': -5.965200901031494},\n",
              "  {'label': 'curiosity', 'score': -4.91427755355835},\n",
              "  {'label': 'desire', 'score': 1.5516278743743896},\n",
              "  {'label': 'disappointment', 'score': -4.379924774169922},\n",
              "  {'label': 'disapproval', 'score': -5.501848220825195},\n",
              "  {'label': 'disgust', 'score': -5.151546478271484},\n",
              "  {'label': 'embarrassment', 'score': -7.025493621826172},\n",
              "  {'label': 'excitement', 'score': -5.018086910247803},\n",
              "  {'label': 'fear', 'score': -6.362471580505371},\n",
              "  {'label': 'gratitude', 'score': -5.416200637817383},\n",
              "  {'label': 'grief', 'score': -6.889373302459717},\n",
              "  {'label': 'joy', 'score': -5.546422481536865},\n",
              "  {'label': 'love', 'score': -4.686980247497559},\n",
              "  {'label': 'nervousness', 'score': -6.639341354370117},\n",
              "  {'label': 'optimism', 'score': -3.040771245956421},\n",
              "  {'label': 'pride', 'score': -7.1680731773376465},\n",
              "  {'label': 'realization', 'score': -5.297453880310059},\n",
              "  {'label': 'relief', 'score': -7.162545680999756},\n",
              "  {'label': 'remorse', 'score': -5.7917304039001465},\n",
              "  {'label': 'sadness', 'score': -4.936209678649902},\n",
              "  {'label': 'surprise', 'score': -6.248394012451172},\n",
              "  {'label': 'neutral', 'score': -2.434856653213501}],\n",
              " [{'label': 'admiration', 'score': -5.998416423797607},\n",
              "  {'label': 'amusement', 'score': 0.7566844820976257},\n",
              "  {'label': 'anger', 'score': -6.384937763214111},\n",
              "  {'label': 'annoyance', 'score': -5.2301025390625},\n",
              "  {'label': 'approval', 'score': -4.4567084312438965},\n",
              "  {'label': 'caring', 'score': -6.055716514587402},\n",
              "  {'label': 'confusion', 'score': -5.654422283172607},\n",
              "  {'label': 'curiosity', 'score': -4.770259857177734},\n",
              "  {'label': 'desire', 'score': -6.152189254760742},\n",
              "  {'label': 'disappointment', 'score': -6.81098747253418},\n",
              "  {'label': 'disapproval', 'score': -6.4300665855407715},\n",
              "  {'label': 'disgust', 'score': -7.443806171417236},\n",
              "  {'label': 'embarrassment', 'score': -7.4299235343933105},\n",
              "  {'label': 'excitement', 'score': -4.596190452575684},\n",
              "  {'label': 'fear', 'score': -7.562345027923584},\n",
              "  {'label': 'gratitude', 'score': -7.344329833984375},\n",
              "  {'label': 'grief', 'score': -8.148215293884277},\n",
              "  {'label': 'joy', 'score': -1.9611611366271973},\n",
              "  {'label': 'love', 'score': -5.637118339538574},\n",
              "  {'label': 'nervousness', 'score': -7.316637992858887},\n",
              "  {'label': 'optimism', 'score': -5.129784107208252},\n",
              "  {'label': 'pride', 'score': -8.170653343200684},\n",
              "  {'label': 'realization', 'score': -5.261199474334717},\n",
              "  {'label': 'relief', 'score': -6.816134452819824},\n",
              "  {'label': 'remorse', 'score': -7.417757987976074},\n",
              "  {'label': 'sadness', 'score': -6.315380573272705},\n",
              "  {'label': 'surprise', 'score': -6.596776485443115},\n",
              "  {'label': 'neutral', 'score': -1.2083693742752075}],\n",
              " [{'label': 'admiration', 'score': -3.1845383644104004},\n",
              "  {'label': 'amusement', 'score': -5.308945178985596},\n",
              "  {'label': 'anger', 'score': -5.987510681152344},\n",
              "  {'label': 'annoyance', 'score': -4.978174209594727},\n",
              "  {'label': 'approval', 'score': -2.919102430343628},\n",
              "  {'label': 'caring', 'score': -4.884182929992676},\n",
              "  {'label': 'confusion', 'score': -6.5867600440979},\n",
              "  {'label': 'curiosity', 'score': -5.784012317657471},\n",
              "  {'label': 'desire', 'score': -3.2989485263824463},\n",
              "  {'label': 'disappointment', 'score': -5.765629291534424},\n",
              "  {'label': 'disapproval', 'score': -5.732616901397705},\n",
              "  {'label': 'disgust', 'score': -6.350980281829834},\n",
              "  {'label': 'embarrassment', 'score': -6.367002010345459},\n",
              "  {'label': 'excitement', 'score': 0.007661725394427776},\n",
              "  {'label': 'fear', 'score': -5.15366268157959},\n",
              "  {'label': 'gratitude', 'score': -4.997720241546631},\n",
              "  {'label': 'grief', 'score': -6.544810771942139},\n",
              "  {'label': 'joy', 'score': -2.937166452407837},\n",
              "  {'label': 'love', 'score': -5.306647300720215},\n",
              "  {'label': 'nervousness', 'score': -6.143505096435547},\n",
              "  {'label': 'optimism', 'score': -1.4025726318359375},\n",
              "  {'label': 'pride', 'score': -4.539071083068848},\n",
              "  {'label': 'realization', 'score': -3.9890854358673096},\n",
              "  {'label': 'relief', 'score': -5.017275333404541},\n",
              "  {'label': 'remorse', 'score': -7.029345512390137},\n",
              "  {'label': 'sadness', 'score': -6.466487407684326},\n",
              "  {'label': 'surprise', 'score': -1.021324872970581},\n",
              "  {'label': 'neutral', 'score': -2.991943120956421}],\n",
              " [{'label': 'admiration', 'score': -5.374483585357666},\n",
              "  {'label': 'amusement', 'score': -6.06026554107666},\n",
              "  {'label': 'anger', 'score': -7.131006240844727},\n",
              "  {'label': 'annoyance', 'score': -5.633346080780029},\n",
              "  {'label': 'approval', 'score': -3.2702019214630127},\n",
              "  {'label': 'caring', 'score': -6.462921142578125},\n",
              "  {'label': 'confusion', 'score': -6.470849514007568},\n",
              "  {'label': 'curiosity', 'score': -6.801512718200684},\n",
              "  {'label': 'desire', 'score': -5.958783149719238},\n",
              "  {'label': 'disappointment', 'score': -6.065090179443359},\n",
              "  {'label': 'disapproval', 'score': -6.664069652557373},\n",
              "  {'label': 'disgust', 'score': -6.743285179138184},\n",
              "  {'label': 'embarrassment', 'score': -7.579975605010986},\n",
              "  {'label': 'excitement', 'score': -5.411952018737793},\n",
              "  {'label': 'fear', 'score': -6.672082901000977},\n",
              "  {'label': 'gratitude', 'score': -6.732600212097168},\n",
              "  {'label': 'grief', 'score': -7.850241184234619},\n",
              "  {'label': 'joy', 'score': -5.711031913757324},\n",
              "  {'label': 'love', 'score': -6.694350242614746},\n",
              "  {'label': 'nervousness', 'score': -7.5682053565979},\n",
              "  {'label': 'optimism', 'score': -5.233295917510986},\n",
              "  {'label': 'pride', 'score': -7.1543097496032715},\n",
              "  {'label': 'realization', 'score': -4.080383777618408},\n",
              "  {'label': 'relief', 'score': -7.003873348236084},\n",
              "  {'label': 'remorse', 'score': -7.683534145355225},\n",
              "  {'label': 'sadness', 'score': -6.457277297973633},\n",
              "  {'label': 'surprise', 'score': -6.806548118591309},\n",
              "  {'label': 'neutral', 'score': 2.9108314514160156}],\n",
              " [{'label': 'admiration', 'score': -6.252769947052002},\n",
              "  {'label': 'amusement', 'score': -6.293378829956055},\n",
              "  {'label': 'anger', 'score': -4.54160213470459},\n",
              "  {'label': 'annoyance', 'score': -3.6012825965881348},\n",
              "  {'label': 'approval', 'score': -4.673130512237549},\n",
              "  {'label': 'caring', 'score': -5.73650598526001},\n",
              "  {'label': 'confusion', 'score': -6.156761169433594},\n",
              "  {'label': 'curiosity', 'score': -6.172394275665283},\n",
              "  {'label': 'desire', 'score': -6.161604404449463},\n",
              "  {'label': 'disappointment', 'score': -2.050971508026123},\n",
              "  {'label': 'disapproval', 'score': -3.720999240875244},\n",
              "  {'label': 'disgust', 'score': -4.944932460784912},\n",
              "  {'label': 'embarrassment', 'score': -5.9386091232299805},\n",
              "  {'label': 'excitement', 'score': -7.055186748504639},\n",
              "  {'label': 'fear', 'score': -5.368135452270508},\n",
              "  {'label': 'gratitude', 'score': -7.195013046264648},\n",
              "  {'label': 'grief', 'score': -4.235550403594971},\n",
              "  {'label': 'joy', 'score': -5.963528156280518},\n",
              "  {'label': 'love', 'score': -6.0623273849487305},\n",
              "  {'label': 'nervousness', 'score': -5.576986312866211},\n",
              "  {'label': 'optimism', 'score': -6.771517276763916},\n",
              "  {'label': 'pride', 'score': -8.071639060974121},\n",
              "  {'label': 'realization', 'score': -4.003751754760742},\n",
              "  {'label': 'relief', 'score': -6.720675945281982},\n",
              "  {'label': 'remorse', 'score': -5.50186824798584},\n",
              "  {'label': 'sadness', 'score': 1.3426696062088013},\n",
              "  {'label': 'surprise', 'score': -6.141927719116211},\n",
              "  {'label': 'neutral', 'score': -1.7004384994506836}],\n",
              " [{'label': 'admiration', 'score': -5.957304000854492},\n",
              "  {'label': 'amusement', 'score': -6.655930042266846},\n",
              "  {'label': 'anger', 'score': -7.1028313636779785},\n",
              "  {'label': 'annoyance', 'score': -5.091757774353027},\n",
              "  {'label': 'approval', 'score': -3.0574615001678467},\n",
              "  {'label': 'caring', 'score': -6.67985725402832},\n",
              "  {'label': 'confusion', 'score': -6.294910430908203},\n",
              "  {'label': 'curiosity', 'score': -6.928146839141846},\n",
              "  {'label': 'desire', 'score': -6.8525614738464355},\n",
              "  {'label': 'disappointment', 'score': -5.540894508361816},\n",
              "  {'label': 'disapproval', 'score': -5.681468486785889},\n",
              "  {'label': 'disgust', 'score': -6.394101142883301},\n",
              "  {'label': 'embarrassment', 'score': -7.397445201873779},\n",
              "  {'label': 'excitement', 'score': -6.878515243530273},\n",
              "  {'label': 'fear', 'score': -6.863052845001221},\n",
              "  {'label': 'gratitude', 'score': -7.211810111999512},\n",
              "  {'label': 'grief', 'score': -8.13853645324707},\n",
              "  {'label': 'joy', 'score': -7.0583086013793945},\n",
              "  {'label': 'love', 'score': -6.990685939788818},\n",
              "  {'label': 'nervousness', 'score': -7.865339756011963},\n",
              "  {'label': 'optimism', 'score': -5.550787448883057},\n",
              "  {'label': 'pride', 'score': -8.055769920349121},\n",
              "  {'label': 'realization', 'score': -3.6060006618499756},\n",
              "  {'label': 'relief', 'score': -7.515556335449219},\n",
              "  {'label': 'remorse', 'score': -7.806339263916016},\n",
              "  {'label': 'sadness', 'score': -6.258631706237793},\n",
              "  {'label': 'surprise', 'score': -7.170709133148193},\n",
              "  {'label': 'neutral', 'score': 2.6895387172698975}],\n",
              " [{'label': 'admiration', 'score': -6.401821136474609},\n",
              "  {'label': 'amusement', 'score': -6.635924339294434},\n",
              "  {'label': 'anger', 'score': -6.280076026916504},\n",
              "  {'label': 'annoyance', 'score': -4.859748363494873},\n",
              "  {'label': 'approval', 'score': -4.596109390258789},\n",
              "  {'label': 'caring', 'score': -6.765876293182373},\n",
              "  {'label': 'confusion', 'score': -0.31524521112442017},\n",
              "  {'label': 'curiosity', 'score': -0.1267423927783966},\n",
              "  {'label': 'desire', 'score': -7.118078231811523},\n",
              "  {'label': 'disappointment', 'score': -6.204044342041016},\n",
              "  {'label': 'disapproval', 'score': -5.386290550231934},\n",
              "  {'label': 'disgust', 'score': -6.748418807983398},\n",
              "  {'label': 'embarrassment', 'score': -7.162607669830322},\n",
              "  {'label': 'excitement', 'score': -6.694107532501221},\n",
              "  {'label': 'fear', 'score': -6.900177955627441},\n",
              "  {'label': 'gratitude', 'score': -7.1959428787231445},\n",
              "  {'label': 'grief', 'score': -8.187834739685059},\n",
              "  {'label': 'joy', 'score': -7.2906599044799805},\n",
              "  {'label': 'love', 'score': -6.438963890075684},\n",
              "  {'label': 'nervousness', 'score': -7.7400288581848145},\n",
              "  {'label': 'optimism', 'score': -5.999260425567627},\n",
              "  {'label': 'pride', 'score': -9.698040962219238},\n",
              "  {'label': 'realization', 'score': -4.877964496612549},\n",
              "  {'label': 'relief', 'score': -8.808704376220703},\n",
              "  {'label': 'remorse', 'score': -7.64752197265625},\n",
              "  {'label': 'sadness', 'score': -6.7650861740112305},\n",
              "  {'label': 'surprise', 'score': -5.069685459136963},\n",
              "  {'label': 'neutral', 'score': -0.31896328926086426}],\n",
              " [{'label': 'admiration', 'score': -2.7746284008026123},\n",
              "  {'label': 'amusement', 'score': -3.987276792526245},\n",
              "  {'label': 'anger', 'score': -6.913208484649658},\n",
              "  {'label': 'annoyance', 'score': -5.709089279174805},\n",
              "  {'label': 'approval', 'score': -2.243543863296509},\n",
              "  {'label': 'caring', 'score': -5.589599609375},\n",
              "  {'label': 'confusion', 'score': -4.278201103210449},\n",
              "  {'label': 'curiosity', 'score': -1.6532481908798218},\n",
              "  {'label': 'desire', 'score': -4.77678918838501},\n",
              "  {'label': 'disappointment', 'score': -6.702133655548096},\n",
              "  {'label': 'disapproval', 'score': -5.697371482849121},\n",
              "  {'label': 'disgust', 'score': -6.304515361785889},\n",
              "  {'label': 'embarrassment', 'score': -7.295588493347168},\n",
              "  {'label': 'excitement', 'score': 0.5034565925598145},\n",
              "  {'label': 'fear', 'score': -6.236003875732422},\n",
              "  {'label': 'gratitude', 'score': -6.222936630249023},\n",
              "  {'label': 'grief', 'score': -7.923759937286377},\n",
              "  {'label': 'joy', 'score': -3.1881487369537354},\n",
              "  {'label': 'love', 'score': -5.571624279022217},\n",
              "  {'label': 'nervousness', 'score': -6.2820281982421875},\n",
              "  {'label': 'optimism', 'score': -4.049648284912109},\n",
              "  {'label': 'pride', 'score': -6.835524559020996},\n",
              "  {'label': 'realization', 'score': -5.038674354553223},\n",
              "  {'label': 'relief', 'score': -6.304372787475586},\n",
              "  {'label': 'remorse', 'score': -7.736531734466553},\n",
              "  {'label': 'sadness', 'score': -6.7594990730285645},\n",
              "  {'label': 'surprise', 'score': -4.2840681076049805},\n",
              "  {'label': 'neutral', 'score': -2.707157611846924}],\n",
              " [{'label': 'admiration', 'score': -6.224609375},\n",
              "  {'label': 'amusement', 'score': -6.653537750244141},\n",
              "  {'label': 'anger', 'score': -6.484332084655762},\n",
              "  {'label': 'annoyance', 'score': -3.9211549758911133},\n",
              "  {'label': 'approval', 'score': -2.846606969833374},\n",
              "  {'label': 'caring', 'score': -6.1861982345581055},\n",
              "  {'label': 'confusion', 'score': -5.452068328857422},\n",
              "  {'label': 'curiosity', 'score': -6.153186321258545},\n",
              "  {'label': 'desire', 'score': -2.5094797611236572},\n",
              "  {'label': 'disappointment', 'score': -3.9901177883148193},\n",
              "  {'label': 'disapproval', 'score': -2.0520315170288086},\n",
              "  {'label': 'disgust', 'score': -6.634619235992432},\n",
              "  {'label': 'embarrassment', 'score': -7.662150859832764},\n",
              "  {'label': 'excitement', 'score': -6.4926581382751465},\n",
              "  {'label': 'fear', 'score': -7.821677207946777},\n",
              "  {'label': 'gratitude', 'score': -7.365209102630615},\n",
              "  {'label': 'grief', 'score': -8.196564674377441},\n",
              "  {'label': 'joy', 'score': -6.511772155761719},\n",
              "  {'label': 'love', 'score': -6.623494625091553},\n",
              "  {'label': 'nervousness', 'score': -7.719875335693359},\n",
              "  {'label': 'optimism', 'score': -3.722344160079956},\n",
              "  {'label': 'pride', 'score': -7.880338668823242},\n",
              "  {'label': 'realization', 'score': -3.880695104598999},\n",
              "  {'label': 'relief', 'score': -7.339555740356445},\n",
              "  {'label': 'remorse', 'score': -7.538919925689697},\n",
              "  {'label': 'sadness', 'score': -6.271004676818848},\n",
              "  {'label': 'surprise', 'score': -7.263214111328125},\n",
              "  {'label': 'neutral', 'score': 0.5579625368118286}],\n",
              " [{'label': 'admiration', 'score': -2.2129931449890137},\n",
              "  {'label': 'amusement', 'score': -7.776584625244141},\n",
              "  {'label': 'anger', 'score': -7.8869733810424805},\n",
              "  {'label': 'annoyance', 'score': -6.220775127410889},\n",
              "  {'label': 'approval', 'score': -1.227487325668335},\n",
              "  {'label': 'caring', 'score': -4.512024879455566},\n",
              "  {'label': 'confusion', 'score': -6.544101715087891},\n",
              "  {'label': 'curiosity', 'score': -6.648653030395508},\n",
              "  {'label': 'desire', 'score': -5.183259963989258},\n",
              "  {'label': 'disappointment', 'score': -5.902162551879883},\n",
              "  {'label': 'disapproval', 'score': -6.232369422912598},\n",
              "  {'label': 'disgust', 'score': -7.427384853363037},\n",
              "  {'label': 'embarrassment', 'score': -7.856025695800781},\n",
              "  {'label': 'excitement', 'score': -4.673206806182861},\n",
              "  {'label': 'fear', 'score': -7.015707969665527},\n",
              "  {'label': 'gratitude', 'score': -4.51383638381958},\n",
              "  {'label': 'grief', 'score': -7.271185874938965},\n",
              "  {'label': 'joy', 'score': -5.188322067260742},\n",
              "  {'label': 'love', 'score': -6.88729190826416},\n",
              "  {'label': 'nervousness', 'score': -7.4408183097839355},\n",
              "  {'label': 'optimism', 'score': -1.9241368770599365},\n",
              "  {'label': 'pride', 'score': -4.829282283782959},\n",
              "  {'label': 'realization', 'score': -3.566521167755127},\n",
              "  {'label': 'relief', 'score': -5.116457939147949},\n",
              "  {'label': 'remorse', 'score': -7.255119800567627},\n",
              "  {'label': 'sadness', 'score': -6.503108024597168},\n",
              "  {'label': 'surprise', 'score': -5.687287330627441},\n",
              "  {'label': 'neutral', 'score': 0.1079237163066864}],\n",
              " [{'label': 'admiration', 'score': -6.277893543243408},\n",
              "  {'label': 'amusement', 'score': -6.34512996673584},\n",
              "  {'label': 'anger', 'score': -1.2171688079833984},\n",
              "  {'label': 'annoyance', 'score': -0.6086729764938354},\n",
              "  {'label': 'approval', 'score': -4.112729072570801},\n",
              "  {'label': 'caring', 'score': -5.93880033493042},\n",
              "  {'label': 'confusion', 'score': -5.547855854034424},\n",
              "  {'label': 'curiosity', 'score': -6.309750080108643},\n",
              "  {'label': 'desire', 'score': -6.337524890899658},\n",
              "  {'label': 'disappointment', 'score': -3.0843024253845215},\n",
              "  {'label': 'disapproval', 'score': -0.029522117227315903},\n",
              "  {'label': 'disgust', 'score': -3.503699779510498},\n",
              "  {'label': 'embarrassment', 'score': -5.659213542938232},\n",
              "  {'label': 'excitement', 'score': -6.618131160736084},\n",
              "  {'label': 'fear', 'score': -6.419097900390625},\n",
              "  {'label': 'gratitude', 'score': -7.118343830108643},\n",
              "  {'label': 'grief', 'score': -7.649044990539551},\n",
              "  {'label': 'joy', 'score': -6.6484222412109375},\n",
              "  {'label': 'love', 'score': -5.5361480712890625},\n",
              "  {'label': 'nervousness', 'score': -7.206836700439453},\n",
              "  {'label': 'optimism', 'score': -6.08443546295166},\n",
              "  {'label': 'pride', 'score': -7.744023323059082},\n",
              "  {'label': 'realization', 'score': -4.813212871551514},\n",
              "  {'label': 'relief', 'score': -7.712601661682129},\n",
              "  {'label': 'remorse', 'score': -7.208600997924805},\n",
              "  {'label': 'sadness', 'score': -4.926797389984131},\n",
              "  {'label': 'surprise', 'score': -6.32990837097168},\n",
              "  {'label': 'neutral', 'score': -1.977372169494629}],\n",
              " [{'label': 'admiration', 'score': -5.556362152099609},\n",
              "  {'label': 'amusement', 'score': -6.072311878204346},\n",
              "  {'label': 'anger', 'score': -5.7019500732421875},\n",
              "  {'label': 'annoyance', 'score': -4.951987266540527},\n",
              "  {'label': 'approval', 'score': -4.49616813659668},\n",
              "  {'label': 'caring', 'score': -6.844020843505859},\n",
              "  {'label': 'confusion', 'score': -5.8944573402404785},\n",
              "  {'label': 'curiosity', 'score': -6.354526996612549},\n",
              "  {'label': 'desire', 'score': -6.71994161605835},\n",
              "  {'label': 'disappointment', 'score': -5.558165550231934},\n",
              "  {'label': 'disapproval', 'score': -5.495271682739258},\n",
              "  {'label': 'disgust', 'score': -5.880271911621094},\n",
              "  {'label': 'embarrassment', 'score': -6.980037212371826},\n",
              "  {'label': 'excitement', 'score': -5.917483806610107},\n",
              "  {'label': 'fear', 'score': -6.1216959953308105},\n",
              "  {'label': 'gratitude', 'score': -6.995445251464844},\n",
              "  {'label': 'grief', 'score': -7.455615997314453},\n",
              "  {'label': 'joy', 'score': -6.1850481033325195},\n",
              "  {'label': 'love', 'score': -6.662503242492676},\n",
              "  {'label': 'nervousness', 'score': -7.640346527099609},\n",
              "  {'label': 'optimism', 'score': -6.291224956512451},\n",
              "  {'label': 'pride', 'score': -7.760168075561523},\n",
              "  {'label': 'realization', 'score': -5.20848274230957},\n",
              "  {'label': 'relief', 'score': -7.875191688537598},\n",
              "  {'label': 'remorse', 'score': -7.76057767868042},\n",
              "  {'label': 'sadness', 'score': -5.807319164276123},\n",
              "  {'label': 'surprise', 'score': -6.672536849975586},\n",
              "  {'label': 'neutral', 'score': 3.491523027420044}],\n",
              " [{'label': 'admiration', 'score': -4.039873123168945},\n",
              "  {'label': 'amusement', 'score': -5.058764457702637},\n",
              "  {'label': 'anger', 'score': -6.083645820617676},\n",
              "  {'label': 'annoyance', 'score': -5.435992240905762},\n",
              "  {'label': 'approval', 'score': -3.6610107421875},\n",
              "  {'label': 'caring', 'score': -5.399031162261963},\n",
              "  {'label': 'confusion', 'score': -2.906691074371338},\n",
              "  {'label': 'curiosity', 'score': 0.8749902844429016},\n",
              "  {'label': 'desire', 'score': -5.105432033538818},\n",
              "  {'label': 'disappointment', 'score': -6.459887504577637},\n",
              "  {'label': 'disapproval', 'score': -5.695398807525635},\n",
              "  {'label': 'disgust', 'score': -6.757931709289551},\n",
              "  {'label': 'embarrassment', 'score': -7.107791900634766},\n",
              "  {'label': 'excitement', 'score': -1.4542752504348755},\n",
              "  {'label': 'fear', 'score': -5.528861999511719},\n",
              "  {'label': 'gratitude', 'score': -6.92494010925293},\n",
              "  {'label': 'grief', 'score': -7.785366535186768},\n",
              "  {'label': 'joy', 'score': -4.449395179748535},\n",
              "  {'label': 'love', 'score': -4.293953895568848},\n",
              "  {'label': 'nervousness', 'score': -5.680048942565918},\n",
              "  {'label': 'optimism', 'score': -5.040755748748779},\n",
              "  {'label': 'pride', 'score': -8.115509986877441},\n",
              "  {'label': 'realization', 'score': -5.576552391052246},\n",
              "  {'label': 'relief', 'score': -7.283472537994385},\n",
              "  {'label': 'remorse', 'score': -7.325390338897705},\n",
              "  {'label': 'sadness', 'score': -6.517027378082275},\n",
              "  {'label': 'surprise', 'score': -4.2028303146362305},\n",
              "  {'label': 'neutral', 'score': -1.9118521213531494}],\n",
              " [{'label': 'admiration', 'score': -5.310580253601074},\n",
              "  {'label': 'amusement', 'score': -3.19779109954834},\n",
              "  {'label': 'anger', 'score': -5.795302391052246},\n",
              "  {'label': 'annoyance', 'score': -4.153931617736816},\n",
              "  {'label': 'approval', 'score': -3.271670341491699},\n",
              "  {'label': 'caring', 'score': -6.414102554321289},\n",
              "  {'label': 'confusion', 'score': -4.782876968383789},\n",
              "  {'label': 'curiosity', 'score': -6.634740352630615},\n",
              "  {'label': 'desire', 'score': -6.271409034729004},\n",
              "  {'label': 'disappointment', 'score': -3.274153709411621},\n",
              "  {'label': 'disapproval', 'score': -4.904383182525635},\n",
              "  {'label': 'disgust', 'score': -5.51064395904541},\n",
              "  {'label': 'embarrassment', 'score': -3.3441977500915527},\n",
              "  {'label': 'excitement', 'score': -5.6314215660095215},\n",
              "  {'label': 'fear', 'score': -5.516559600830078},\n",
              "  {'label': 'gratitude', 'score': -4.890825271606445},\n",
              "  {'label': 'grief', 'score': -5.6273112297058105},\n",
              "  {'label': 'joy', 'score': -4.39349365234375},\n",
              "  {'label': 'love', 'score': -5.622750759124756},\n",
              "  {'label': 'nervousness', 'score': -5.215505123138428},\n",
              "  {'label': 'optimism', 'score': -4.704843997955322},\n",
              "  {'label': 'pride', 'score': -5.571505069732666},\n",
              "  {'label': 'realization', 'score': 1.5379900932312012},\n",
              "  {'label': 'relief', 'score': -4.506900310516357},\n",
              "  {'label': 'remorse', 'score': -4.162832260131836},\n",
              "  {'label': 'sadness', 'score': -3.8166680335998535},\n",
              "  {'label': 'surprise', 'score': -3.85146427154541},\n",
              "  {'label': 'neutral', 'score': -1.4649055004119873}],\n",
              " [{'label': 'admiration', 'score': -5.760466575622559},\n",
              "  {'label': 'amusement', 'score': -6.677786827087402},\n",
              "  {'label': 'anger', 'score': -6.2744646072387695},\n",
              "  {'label': 'annoyance', 'score': -3.332059621810913},\n",
              "  {'label': 'approval', 'score': -3.6341214179992676},\n",
              "  {'label': 'caring', 'score': -6.334645748138428},\n",
              "  {'label': 'confusion', 'score': -5.643135070800781},\n",
              "  {'label': 'curiosity', 'score': -7.374480247497559},\n",
              "  {'label': 'desire', 'score': -6.076645374298096},\n",
              "  {'label': 'disappointment', 'score': -1.515058994293213},\n",
              "  {'label': 'disapproval', 'score': -0.4851652979850769},\n",
              "  {'label': 'disgust', 'score': -6.244797229766846},\n",
              "  {'label': 'embarrassment', 'score': -6.187984466552734},\n",
              "  {'label': 'excitement', 'score': -7.1682915687561035},\n",
              "  {'label': 'fear', 'score': -7.39640474319458},\n",
              "  {'label': 'gratitude', 'score': -6.188409328460693},\n",
              "  {'label': 'grief', 'score': -7.152856349945068},\n",
              "  {'label': 'joy', 'score': -6.413253307342529},\n",
              "  {'label': 'love', 'score': -6.887747764587402},\n",
              "  {'label': 'nervousness', 'score': -7.1118903160095215},\n",
              "  {'label': 'optimism', 'score': -4.958925724029541},\n",
              "  {'label': 'pride', 'score': -7.386582374572754},\n",
              "  {'label': 'realization', 'score': -3.2260751724243164},\n",
              "  {'label': 'relief', 'score': -6.225205898284912},\n",
              "  {'label': 'remorse', 'score': -6.2314252853393555},\n",
              "  {'label': 'sadness', 'score': -4.59721040725708},\n",
              "  {'label': 'surprise', 'score': -6.439003944396973},\n",
              "  {'label': 'neutral', 'score': 0.27356457710266113}],\n",
              " [{'label': 'admiration', 'score': -4.15692138671875},\n",
              "  {'label': 'amusement', 'score': -4.3206281661987305},\n",
              "  {'label': 'anger', 'score': -6.231716632843018},\n",
              "  {'label': 'annoyance', 'score': -5.503245830535889},\n",
              "  {'label': 'approval', 'score': -3.928295135498047},\n",
              "  {'label': 'caring', 'score': -5.177279472351074},\n",
              "  {'label': 'confusion', 'score': -5.008459091186523},\n",
              "  {'label': 'curiosity', 'score': -4.083606243133545},\n",
              "  {'label': 'desire', 'score': -4.704859733581543},\n",
              "  {'label': 'disappointment', 'score': -6.259148597717285},\n",
              "  {'label': 'disapproval', 'score': -5.473137855529785},\n",
              "  {'label': 'disgust', 'score': -6.839082717895508},\n",
              "  {'label': 'embarrassment', 'score': -6.892458438873291},\n",
              "  {'label': 'excitement', 'score': 0.6827157139778137},\n",
              "  {'label': 'fear', 'score': -6.080757141113281},\n",
              "  {'label': 'gratitude', 'score': -4.830356597900391},\n",
              "  {'label': 'grief', 'score': -7.1727986335754395},\n",
              "  {'label': 'joy', 'score': 0.030150625854730606},\n",
              "  {'label': 'love', 'score': -4.392009735107422},\n",
              "  {'label': 'nervousness', 'score': -5.213561534881592},\n",
              "  {'label': 'optimism', 'score': -5.254740238189697},\n",
              "  {'label': 'pride', 'score': -5.956493377685547},\n",
              "  {'label': 'realization', 'score': -5.416201591491699},\n",
              "  {'label': 'relief', 'score': -5.156756401062012},\n",
              "  {'label': 'remorse', 'score': -7.1278533935546875},\n",
              "  {'label': 'sadness', 'score': -5.833062171936035},\n",
              "  {'label': 'surprise', 'score': -4.903639316558838},\n",
              "  {'label': 'neutral', 'score': -3.667945623397827}],\n",
              " [{'label': 'admiration', 'score': -5.6943206787109375},\n",
              "  {'label': 'amusement', 'score': -7.457441806793213},\n",
              "  {'label': 'anger', 'score': -7.268913745880127},\n",
              "  {'label': 'annoyance', 'score': -4.956002235412598},\n",
              "  {'label': 'approval', 'score': -1.7915862798690796},\n",
              "  {'label': 'caring', 'score': -5.4329833984375},\n",
              "  {'label': 'confusion', 'score': -5.0482072830200195},\n",
              "  {'label': 'curiosity', 'score': -7.136027812957764},\n",
              "  {'label': 'desire', 'score': -6.688300609588623},\n",
              "  {'label': 'disappointment', 'score': -4.7301106452941895},\n",
              "  {'label': 'disapproval', 'score': -2.0984926223754883},\n",
              "  {'label': 'disgust', 'score': -6.818882465362549},\n",
              "  {'label': 'embarrassment', 'score': -7.627021789550781},\n",
              "  {'label': 'excitement', 'score': -7.752839088439941},\n",
              "  {'label': 'fear', 'score': -6.550806522369385},\n",
              "  {'label': 'gratitude', 'score': -6.785362720489502},\n",
              "  {'label': 'grief', 'score': -8.048016548156738},\n",
              "  {'label': 'joy', 'score': -7.1973748207092285},\n",
              "  {'label': 'love', 'score': -7.288875102996826},\n",
              "  {'label': 'nervousness', 'score': -7.295085906982422},\n",
              "  {'label': 'optimism', 'score': -4.572889804840088},\n",
              "  {'label': 'pride', 'score': -7.86684513092041},\n",
              "  {'label': 'realization', 'score': -3.444941520690918},\n",
              "  {'label': 'relief', 'score': -6.580420970916748},\n",
              "  {'label': 'remorse', 'score': -7.664128303527832},\n",
              "  {'label': 'sadness', 'score': -6.162715911865234},\n",
              "  {'label': 'surprise', 'score': -7.7662482261657715},\n",
              "  {'label': 'neutral', 'score': 1.0099811553955078}],\n",
              " [{'label': 'admiration', 'score': -5.711053848266602},\n",
              "  {'label': 'amusement', 'score': -5.1792449951171875},\n",
              "  {'label': 'anger', 'score': 0.7121976613998413},\n",
              "  {'label': 'annoyance', 'score': -1.3366471529006958},\n",
              "  {'label': 'approval', 'score': -5.809636116027832},\n",
              "  {'label': 'caring', 'score': -6.863921165466309},\n",
              "  {'label': 'confusion', 'score': -5.700314998626709},\n",
              "  {'label': 'curiosity', 'score': -5.5468621253967285},\n",
              "  {'label': 'desire', 'score': -6.798269271850586},\n",
              "  {'label': 'disappointment', 'score': -4.625137805938721},\n",
              "  {'label': 'disapproval', 'score': -4.589405536651611},\n",
              "  {'label': 'disgust', 'score': -3.7813754081726074},\n",
              "  {'label': 'embarrassment', 'score': -5.827589511871338},\n",
              "  {'label': 'excitement', 'score': -6.191351890563965},\n",
              "  {'label': 'fear', 'score': -6.495969772338867},\n",
              "  {'label': 'gratitude', 'score': -6.819321632385254},\n",
              "  {'label': 'grief', 'score': -7.183963298797607},\n",
              "  {'label': 'joy', 'score': -5.999065399169922},\n",
              "  {'label': 'love', 'score': -6.18634033203125},\n",
              "  {'label': 'nervousness', 'score': -7.6826348304748535},\n",
              "  {'label': 'optimism', 'score': -6.6475653648376465},\n",
              "  {'label': 'pride', 'score': -7.58639669418335},\n",
              "  {'label': 'realization', 'score': -5.727691650390625},\n",
              "  {'label': 'relief', 'score': -8.229454040527344},\n",
              "  {'label': 'remorse', 'score': -7.695278167724609},\n",
              "  {'label': 'sadness', 'score': -5.389297008514404},\n",
              "  {'label': 'surprise', 'score': -5.218656539916992},\n",
              "  {'label': 'neutral', 'score': -1.5691215991973877}],\n",
              " [{'label': 'admiration', 'score': -6.810937881469727},\n",
              "  {'label': 'amusement', 'score': -6.0156569480896},\n",
              "  {'label': 'anger', 'score': -5.596873760223389},\n",
              "  {'label': 'annoyance', 'score': -2.550987482070923},\n",
              "  {'label': 'approval', 'score': -4.281101703643799},\n",
              "  {'label': 'caring', 'score': -7.376166820526123},\n",
              "  {'label': 'confusion', 'score': -6.209278106689453},\n",
              "  {'label': 'curiosity', 'score': -7.422408103942871},\n",
              "  {'label': 'desire', 'score': -7.345958232879639},\n",
              "  {'label': 'disappointment', 'score': -1.8672120571136475},\n",
              "  {'label': 'disapproval', 'score': -2.4540584087371826},\n",
              "  {'label': 'disgust', 'score': -6.015307903289795},\n",
              "  {'label': 'embarrassment', 'score': -5.4653096199035645},\n",
              "  {'label': 'excitement', 'score': -7.288890838623047},\n",
              "  {'label': 'fear', 'score': -7.317054748535156},\n",
              "  {'label': 'gratitude', 'score': -7.161972522735596},\n",
              "  {'label': 'grief', 'score': -7.125552177429199},\n",
              "  {'label': 'joy', 'score': -6.23118782043457},\n",
              "  {'label': 'love', 'score': -7.4066925048828125},\n",
              "  {'label': 'nervousness', 'score': -7.105656623840332},\n",
              "  {'label': 'optimism', 'score': -6.30202054977417},\n",
              "  {'label': 'pride', 'score': -7.634700298309326},\n",
              "  {'label': 'realization', 'score': -3.3064022064208984},\n",
              "  {'label': 'relief', 'score': -6.561960220336914},\n",
              "  {'label': 'remorse', 'score': -6.668248176574707},\n",
              "  {'label': 'sadness', 'score': -4.296154975891113},\n",
              "  {'label': 'surprise', 'score': -6.139157295227051},\n",
              "  {'label': 'neutral', 'score': 0.8646679520606995}],\n",
              " [{'label': 'admiration', 'score': -4.269448280334473},\n",
              "  {'label': 'amusement', 'score': -5.024414539337158},\n",
              "  {'label': 'anger', 'score': -6.210692882537842},\n",
              "  {'label': 'annoyance', 'score': -5.532477855682373},\n",
              "  {'label': 'approval', 'score': -4.246642112731934},\n",
              "  {'label': 'caring', 'score': -5.6580634117126465},\n",
              "  {'label': 'confusion', 'score': -6.064098358154297},\n",
              "  {'label': 'curiosity', 'score': -5.696929931640625},\n",
              "  {'label': 'desire', 'score': -5.395510196685791},\n",
              "  {'label': 'disappointment', 'score': -6.2997002601623535},\n",
              "  {'label': 'disapproval', 'score': -6.533610820770264},\n",
              "  {'label': 'disgust', 'score': -6.789845943450928},\n",
              "  {'label': 'embarrassment', 'score': -6.58143949508667},\n",
              "  {'label': 'excitement', 'score': 0.17820891737937927},\n",
              "  {'label': 'fear', 'score': -6.238504886627197},\n",
              "  {'label': 'gratitude', 'score': -3.9780173301696777},\n",
              "  {'label': 'grief', 'score': -6.695198059082031},\n",
              "  {'label': 'joy', 'score': -0.45916488766670227},\n",
              "  {'label': 'love', 'score': -4.556000709533691},\n",
              "  {'label': 'nervousness', 'score': -6.144736289978027},\n",
              "  {'label': 'optimism', 'score': -5.562707424163818},\n",
              "  {'label': 'pride', 'score': -5.136770248413086},\n",
              "  {'label': 'realization', 'score': -4.9272918701171875},\n",
              "  {'label': 'relief', 'score': -5.043753147125244},\n",
              "  {'label': 'remorse', 'score': -7.266340255737305},\n",
              "  {'label': 'sadness', 'score': -5.974642753601074},\n",
              "  {'label': 'surprise', 'score': -3.941932201385498},\n",
              "  {'label': 'neutral', 'score': -2.0452611446380615}],\n",
              " [{'label': 'admiration', 'score': -5.74154806137085},\n",
              "  {'label': 'amusement', 'score': -5.91335391998291},\n",
              "  {'label': 'anger', 'score': -5.427279472351074},\n",
              "  {'label': 'annoyance', 'score': -4.916306972503662},\n",
              "  {'label': 'approval', 'score': -4.804856777191162},\n",
              "  {'label': 'caring', 'score': -6.610230445861816},\n",
              "  {'label': 'confusion', 'score': -5.784663677215576},\n",
              "  {'label': 'curiosity', 'score': -6.155820369720459},\n",
              "  {'label': 'desire', 'score': -6.5685529708862305},\n",
              "  {'label': 'disappointment', 'score': -5.713043212890625},\n",
              "  {'label': 'disapproval', 'score': -5.812711715698242},\n",
              "  {'label': 'disgust', 'score': -5.998157978057861},\n",
              "  {'label': 'embarrassment', 'score': -6.990192413330078},\n",
              "  {'label': 'excitement', 'score': -5.808638572692871},\n",
              "  {'label': 'fear', 'score': -6.106563091278076},\n",
              "  {'label': 'gratitude', 'score': -6.705847263336182},\n",
              "  {'label': 'grief', 'score': -7.343317031860352},\n",
              "  {'label': 'joy', 'score': -5.9956135749816895},\n",
              "  {'label': 'love', 'score': -6.59065580368042},\n",
              "  {'label': 'nervousness', 'score': -7.585758686065674},\n",
              "  {'label': 'optimism', 'score': -6.183316230773926},\n",
              "  {'label': 'pride', 'score': -7.7478508949279785},\n",
              "  {'label': 'realization', 'score': -5.3442158699035645},\n",
              "  {'label': 'relief', 'score': -7.871880054473877},\n",
              "  {'label': 'remorse', 'score': -7.62708854675293},\n",
              "  {'label': 'sadness', 'score': -5.800218105316162},\n",
              "  {'label': 'surprise', 'score': -6.518834590911865},\n",
              "  {'label': 'neutral', 'score': 3.4597361087799072}],\n",
              " [{'label': 'admiration', 'score': -5.515880107879639},\n",
              "  {'label': 'amusement', 'score': -4.910605430603027},\n",
              "  {'label': 'anger', 'score': -5.015283584594727},\n",
              "  {'label': 'annoyance', 'score': -4.798842906951904},\n",
              "  {'label': 'approval', 'score': -4.41241455078125},\n",
              "  {'label': 'caring', 'score': -3.429938554763794},\n",
              "  {'label': 'confusion', 'score': -3.195431709289551},\n",
              "  {'label': 'curiosity', 'score': -1.7836898565292358},\n",
              "  {'label': 'desire', 'score': -5.140070915222168},\n",
              "  {'label': 'disappointment', 'score': -3.9467861652374268},\n",
              "  {'label': 'disapproval', 'score': -4.4277496337890625},\n",
              "  {'label': 'disgust', 'score': -5.76665735244751},\n",
              "  {'label': 'embarrassment', 'score': -4.166240692138672},\n",
              "  {'label': 'excitement', 'score': -5.904088020324707},\n",
              "  {'label': 'fear', 'score': -5.848877906799316},\n",
              "  {'label': 'gratitude', 'score': -4.574428081512451},\n",
              "  {'label': 'grief', 'score': -4.910159111022949},\n",
              "  {'label': 'joy', 'score': -5.590601444244385},\n",
              "  {'label': 'love', 'score': -5.070860385894775},\n",
              "  {'label': 'nervousness', 'score': -5.0322723388671875},\n",
              "  {'label': 'optimism', 'score': -4.710885524749756},\n",
              "  {'label': 'pride', 'score': -7.719298839569092},\n",
              "  {'label': 'realization', 'score': -4.587000846862793},\n",
              "  {'label': 'relief', 'score': -6.331763744354248},\n",
              "  {'label': 'remorse', 'score': 1.4595900774002075},\n",
              "  {'label': 'sadness', 'score': -1.1193089485168457},\n",
              "  {'label': 'surprise', 'score': -5.847917556762695},\n",
              "  {'label': 'neutral', 'score': -3.5837719440460205}],\n",
              " [{'label': 'admiration', 'score': -3.3826406002044678},\n",
              "  {'label': 'amusement', 'score': -5.426086902618408},\n",
              "  {'label': 'anger', 'score': -4.787417888641357},\n",
              "  {'label': 'annoyance', 'score': -4.6742262840271},\n",
              "  {'label': 'approval', 'score': -3.857257127761841},\n",
              "  {'label': 'caring', 'score': -5.792250156402588},\n",
              "  {'label': 'confusion', 'score': -5.374035358428955},\n",
              "  {'label': 'curiosity', 'score': -6.232879638671875},\n",
              "  {'label': 'desire', 'score': -5.217712879180908},\n",
              "  {'label': 'disappointment', 'score': -4.617698669433594},\n",
              "  {'label': 'disapproval', 'score': -4.132857799530029},\n",
              "  {'label': 'disgust', 'score': -5.259557723999023},\n",
              "  {'label': 'embarrassment', 'score': -6.874819278717041},\n",
              "  {'label': 'excitement', 'score': -5.899259567260742},\n",
              "  {'label': 'fear', 'score': -6.775010585784912},\n",
              "  {'label': 'gratitude', 'score': -5.039527416229248},\n",
              "  {'label': 'grief', 'score': -7.511368274688721},\n",
              "  {'label': 'joy', 'score': -4.810213088989258},\n",
              "  {'label': 'love', 'score': 3.0789480209350586},\n",
              "  {'label': 'nervousness', 'score': -7.280203819274902},\n",
              "  {'label': 'optimism', 'score': -5.1807966232299805},\n",
              "  {'label': 'pride', 'score': -7.761523246765137},\n",
              "  {'label': 'realization', 'score': -5.0115132331848145},\n",
              "  {'label': 'relief', 'score': -7.748856544494629},\n",
              "  {'label': 'remorse', 'score': -6.148529052734375},\n",
              "  {'label': 'sadness', 'score': -4.9642157554626465},\n",
              "  {'label': 'surprise', 'score': -6.0200042724609375},\n",
              "  {'label': 'neutral', 'score': -4.83179235458374}],\n",
              " [{'label': 'admiration', 'score': -5.642014980316162},\n",
              "  {'label': 'amusement', 'score': -6.475712299346924},\n",
              "  {'label': 'anger', 'score': -6.264284610748291},\n",
              "  {'label': 'annoyance', 'score': -5.203450679779053},\n",
              "  {'label': 'approval', 'score': -4.157351970672607},\n",
              "  {'label': 'caring', 'score': -6.825793266296387},\n",
              "  {'label': 'confusion', 'score': -6.004403591156006},\n",
              "  {'label': 'curiosity', 'score': -6.394522190093994},\n",
              "  {'label': 'desire', 'score': -6.579381465911865},\n",
              "  {'label': 'disappointment', 'score': -5.720322608947754},\n",
              "  {'label': 'disapproval', 'score': -5.771830081939697},\n",
              "  {'label': 'disgust', 'score': -6.162103176116943},\n",
              "  {'label': 'embarrassment', 'score': -7.364148139953613},\n",
              "  {'label': 'excitement', 'score': -6.07918119430542},\n",
              "  {'label': 'fear', 'score': -6.590370178222656},\n",
              "  {'label': 'gratitude', 'score': -6.791125297546387},\n",
              "  {'label': 'grief', 'score': -7.79883337020874},\n",
              "  {'label': 'joy', 'score': -6.372445106506348},\n",
              "  {'label': 'love', 'score': -6.567258358001709},\n",
              "  {'label': 'nervousness', 'score': -7.984973430633545},\n",
              "  {'label': 'optimism', 'score': -6.074920177459717},\n",
              "  {'label': 'pride', 'score': -7.933052062988281},\n",
              "  {'label': 'realization', 'score': -5.057985782623291},\n",
              "  {'label': 'relief', 'score': -7.919934272766113},\n",
              "  {'label': 'remorse', 'score': -7.798638343811035},\n",
              "  {'label': 'sadness', 'score': -6.118803977966309},\n",
              "  {'label': 'surprise', 'score': -6.973819255828857},\n",
              "  {'label': 'neutral', 'score': 3.424302339553833}],\n",
              " [{'label': 'admiration', 'score': -4.993400573730469},\n",
              "  {'label': 'amusement', 'score': -6.0860700607299805},\n",
              "  {'label': 'anger', 'score': -6.072243690490723},\n",
              "  {'label': 'annoyance', 'score': -5.432118892669678},\n",
              "  {'label': 'approval', 'score': -1.1387815475463867},\n",
              "  {'label': 'caring', 'score': -3.1337943077087402},\n",
              "  {'label': 'confusion', 'score': -5.5441741943359375},\n",
              "  {'label': 'curiosity', 'score': -5.673670291900635},\n",
              "  {'label': 'desire', 'score': -5.649590015411377},\n",
              "  {'label': 'disappointment', 'score': -4.69522762298584},\n",
              "  {'label': 'disapproval', 'score': -4.675900936126709},\n",
              "  {'label': 'disgust', 'score': -6.280458927154541},\n",
              "  {'label': 'embarrassment', 'score': -4.934993743896484},\n",
              "  {'label': 'excitement', 'score': -6.337813377380371},\n",
              "  {'label': 'fear', 'score': -6.266773700714111},\n",
              "  {'label': 'gratitude', 'score': -4.813806056976318},\n",
              "  {'label': 'grief', 'score': -5.440537452697754},\n",
              "  {'label': 'joy', 'score': -5.247528553009033},\n",
              "  {'label': 'love', 'score': -4.638047218322754},\n",
              "  {'label': 'nervousness', 'score': -5.890262603759766},\n",
              "  {'label': 'optimism', 'score': -4.441662788391113},\n",
              "  {'label': 'pride', 'score': -6.242164611816406},\n",
              "  {'label': 'realization', 'score': -3.4593966007232666},\n",
              "  {'label': 'relief', 'score': -5.003236770629883},\n",
              "  {'label': 'remorse', 'score': 0.2535811960697174},\n",
              "  {'label': 'sadness', 'score': -2.3313889503479004},\n",
              "  {'label': 'surprise', 'score': -7.198674201965332},\n",
              "  {'label': 'neutral', 'score': -1.9226945638656616}],\n",
              " [{'label': 'admiration', 'score': -5.0363287925720215},\n",
              "  {'label': 'amusement', 'score': -6.00137186050415},\n",
              "  {'label': 'anger', 'score': -6.852678298950195},\n",
              "  {'label': 'annoyance', 'score': -5.53264856338501},\n",
              "  {'label': 'approval', 'score': -4.667659282684326},\n",
              "  {'label': 'caring', 'score': -6.165853500366211},\n",
              "  {'label': 'confusion', 'score': -6.244691371917725},\n",
              "  {'label': 'curiosity', 'score': -6.706037998199463},\n",
              "  {'label': 'desire', 'score': -6.928627967834473},\n",
              "  {'label': 'disappointment', 'score': -6.616048336029053},\n",
              "  {'label': 'disapproval', 'score': -6.09039306640625},\n",
              "  {'label': 'disgust', 'score': -6.961082935333252},\n",
              "  {'label': 'embarrassment', 'score': -7.646114826202393},\n",
              "  {'label': 'excitement', 'score': -6.229193210601807},\n",
              "  {'label': 'fear', 'score': -7.682541370391846},\n",
              "  {'label': 'gratitude', 'score': 4.26276969909668},\n",
              "  {'label': 'grief', 'score': -7.875393390655518},\n",
              "  {'label': 'joy', 'score': -5.558493137359619},\n",
              "  {'label': 'love', 'score': -6.596590042114258},\n",
              "  {'label': 'nervousness', 'score': -8.642857551574707},\n",
              "  {'label': 'optimism', 'score': -5.389803409576416},\n",
              "  {'label': 'pride', 'score': -7.6298370361328125},\n",
              "  {'label': 'realization', 'score': -5.496834754943848},\n",
              "  {'label': 'relief', 'score': -6.3689093589782715},\n",
              "  {'label': 'remorse', 'score': -6.526185512542725},\n",
              "  {'label': 'sadness', 'score': -6.17233419418335},\n",
              "  {'label': 'surprise', 'score': -6.917922496795654},\n",
              "  {'label': 'neutral', 'score': -4.4436798095703125}],\n",
              " [{'label': 'admiration', 'score': -5.9789323806762695},\n",
              "  {'label': 'amusement', 'score': -6.2683868408203125},\n",
              "  {'label': 'anger', 'score': -6.841700553894043},\n",
              "  {'label': 'annoyance', 'score': -5.143486022949219},\n",
              "  {'label': 'approval', 'score': -4.009005546569824},\n",
              "  {'label': 'caring', 'score': -6.748420238494873},\n",
              "  {'label': 'confusion', 'score': -5.453881740570068},\n",
              "  {'label': 'curiosity', 'score': -6.124166011810303},\n",
              "  {'label': 'desire', 'score': -6.520016193389893},\n",
              "  {'label': 'disappointment', 'score': -5.8052544593811035},\n",
              "  {'label': 'disapproval', 'score': -5.843145847320557},\n",
              "  {'label': 'disgust', 'score': -6.608977317810059},\n",
              "  {'label': 'embarrassment', 'score': -7.512729644775391},\n",
              "  {'label': 'excitement', 'score': -6.343912601470947},\n",
              "  {'label': 'fear', 'score': -6.796444892883301},\n",
              "  {'label': 'gratitude', 'score': -7.39588737487793},\n",
              "  {'label': 'grief', 'score': -8.13621711730957},\n",
              "  {'label': 'joy', 'score': -6.659338474273682},\n",
              "  {'label': 'love', 'score': -7.291309833526611},\n",
              "  {'label': 'nervousness', 'score': -7.825222969055176},\n",
              "  {'label': 'optimism', 'score': -5.542216777801514},\n",
              "  {'label': 'pride', 'score': -8.152179718017578},\n",
              "  {'label': 'realization', 'score': -4.446387767791748},\n",
              "  {'label': 'relief', 'score': -7.863528251647949},\n",
              "  {'label': 'remorse', 'score': -8.006383895874023},\n",
              "  {'label': 'sadness', 'score': -6.509758472442627},\n",
              "  {'label': 'surprise', 'score': -7.01300048828125},\n",
              "  {'label': 'neutral', 'score': 3.264529228210449}],\n",
              " [{'label': 'admiration', 'score': -6.492238998413086},\n",
              "  {'label': 'amusement', 'score': -6.66211462020874},\n",
              "  {'label': 'anger', 'score': -6.438108444213867},\n",
              "  {'label': 'annoyance', 'score': -3.7422709465026855},\n",
              "  {'label': 'approval', 'score': -3.0033042430877686},\n",
              "  {'label': 'caring', 'score': -7.618024826049805},\n",
              "  {'label': 'confusion', 'score': -3.660788059234619},\n",
              "  {'label': 'curiosity', 'score': -6.762516975402832},\n",
              "  {'label': 'desire', 'score': -7.389516353607178},\n",
              "  {'label': 'disappointment', 'score': -3.685239553451538},\n",
              "  {'label': 'disapproval', 'score': -2.9108517169952393},\n",
              "  {'label': 'disgust', 'score': -6.1401801109313965},\n",
              "  {'label': 'embarrassment', 'score': -6.089370250701904},\n",
              "  {'label': 'excitement', 'score': -7.903481960296631},\n",
              "  {'label': 'fear', 'score': -7.5716142654418945},\n",
              "  {'label': 'gratitude', 'score': -6.002124786376953},\n",
              "  {'label': 'grief', 'score': -7.694767951965332},\n",
              "  {'label': 'joy', 'score': -7.344569683074951},\n",
              "  {'label': 'love', 'score': -7.016026496887207},\n",
              "  {'label': 'nervousness', 'score': -7.738918781280518},\n",
              "  {'label': 'optimism', 'score': -5.692752361297607},\n",
              "  {'label': 'pride', 'score': -7.9771223068237305},\n",
              "  {'label': 'realization', 'score': -1.3181582689285278},\n",
              "  {'label': 'relief', 'score': -7.219133377075195},\n",
              "  {'label': 'remorse', 'score': -6.693867206573486},\n",
              "  {'label': 'sadness', 'score': -5.7972893714904785},\n",
              "  {'label': 'surprise', 'score': -6.272101879119873},\n",
              "  {'label': 'neutral', 'score': 0.5090009570121765}],\n",
              " [{'label': 'admiration', 'score': -6.303563117980957},\n",
              "  {'label': 'amusement', 'score': -4.905992031097412},\n",
              "  {'label': 'anger', 'score': -4.7347002029418945},\n",
              "  {'label': 'annoyance', 'score': -3.739825487136841},\n",
              "  {'label': 'approval', 'score': -5.295992851257324},\n",
              "  {'label': 'caring', 'score': -6.99808406829834},\n",
              "  {'label': 'confusion', 'score': -5.0591559410095215},\n",
              "  {'label': 'curiosity', 'score': -5.616050720214844},\n",
              "  {'label': 'desire', 'score': -6.759633541107178},\n",
              "  {'label': 'disappointment', 'score': -2.9100844860076904},\n",
              "  {'label': 'disapproval', 'score': -3.9606122970581055},\n",
              "  {'label': 'disgust', 'score': -4.67324686050415},\n",
              "  {'label': 'embarrassment', 'score': -4.09578800201416},\n",
              "  {'label': 'excitement', 'score': -4.586108684539795},\n",
              "  {'label': 'fear', 'score': -2.9003872871398926},\n",
              "  {'label': 'gratitude', 'score': -7.150832176208496},\n",
              "  {'label': 'grief', 'score': -4.723116874694824},\n",
              "  {'label': 'joy', 'score': -4.781826496124268},\n",
              "  {'label': 'love', 'score': -5.70322322845459},\n",
              "  {'label': 'nervousness', 'score': -4.3336286544799805},\n",
              "  {'label': 'optimism', 'score': -7.367740631103516},\n",
              "  {'label': 'pride', 'score': -6.882623195648193},\n",
              "  {'label': 'realization', 'score': -3.0005605220794678},\n",
              "  {'label': 'relief', 'score': -5.882079124450684},\n",
              "  {'label': 'remorse', 'score': -6.4015350341796875},\n",
              "  {'label': 'sadness', 'score': -2.0930850505828857},\n",
              "  {'label': 'surprise', 'score': -2.41766357421875},\n",
              "  {'label': 'neutral', 'score': 0.07569601386785507}],\n",
              " [{'label': 'admiration', 'score': -4.955016136169434},\n",
              "  {'label': 'amusement', 'score': -5.2566094398498535},\n",
              "  {'label': 'anger', 'score': -5.520615100860596},\n",
              "  {'label': 'annoyance', 'score': -4.643871307373047},\n",
              "  {'label': 'approval', 'score': -3.7141835689544678},\n",
              "  {'label': 'caring', 'score': -4.132811546325684},\n",
              "  {'label': 'confusion', 'score': -4.807229042053223},\n",
              "  {'label': 'curiosity', 'score': -5.238847255706787},\n",
              "  {'label': 'desire', 'score': -2.1306817531585693},\n",
              "  {'label': 'disappointment', 'score': -4.714229583740234},\n",
              "  {'label': 'disapproval', 'score': -5.001692771911621},\n",
              "  {'label': 'disgust', 'score': -6.054437160491943},\n",
              "  {'label': 'embarrassment', 'score': -7.103826522827148},\n",
              "  {'label': 'excitement', 'score': -6.036952018737793},\n",
              "  {'label': 'fear', 'score': -6.080470085144043},\n",
              "  {'label': 'gratitude', 'score': -5.565971374511719},\n",
              "  {'label': 'grief', 'score': -7.210794925689697},\n",
              "  {'label': 'joy', 'score': -5.771996021270752},\n",
              "  {'label': 'love', 'score': -5.224161148071289},\n",
              "  {'label': 'nervousness', 'score': -6.967801570892334},\n",
              "  {'label': 'optimism', 'score': 2.358107089996338},\n",
              "  {'label': 'pride', 'score': -6.6475958824157715},\n",
              "  {'label': 'realization', 'score': -4.045742034912109},\n",
              "  {'label': 'relief', 'score': -7.18838357925415},\n",
              "  {'label': 'remorse', 'score': -5.272916793823242},\n",
              "  {'label': 'sadness', 'score': -5.842308521270752},\n",
              "  {'label': 'surprise', 'score': -6.002740383148193},\n",
              "  {'label': 'neutral', 'score': -2.6125597953796387}],\n",
              " [{'label': 'admiration', 'score': -6.623774528503418},\n",
              "  {'label': 'amusement', 'score': -6.5277099609375},\n",
              "  {'label': 'anger', 'score': -5.47460412979126},\n",
              "  {'label': 'annoyance', 'score': -3.878122329711914},\n",
              "  {'label': 'approval', 'score': -5.405689716339111},\n",
              "  {'label': 'caring', 'score': -6.436488151550293},\n",
              "  {'label': 'confusion', 'score': -0.3243495523929596},\n",
              "  {'label': 'curiosity', 'score': 0.20293691754341125},\n",
              "  {'label': 'desire', 'score': -6.984462261199951},\n",
              "  {'label': 'disappointment', 'score': -5.617970943450928},\n",
              "  {'label': 'disapproval', 'score': -5.0399346351623535},\n",
              "  {'label': 'disgust', 'score': -6.243170261383057},\n",
              "  {'label': 'embarrassment', 'score': -6.558382034301758},\n",
              "  {'label': 'excitement', 'score': -6.683114528656006},\n",
              "  {'label': 'fear', 'score': -6.404934406280518},\n",
              "  {'label': 'gratitude', 'score': -7.2455339431762695},\n",
              "  {'label': 'grief', 'score': -7.987142086029053},\n",
              "  {'label': 'joy', 'score': -7.2465009689331055},\n",
              "  {'label': 'love', 'score': -7.110074043273926},\n",
              "  {'label': 'nervousness', 'score': -7.191840171813965},\n",
              "  {'label': 'optimism', 'score': -5.864361763000488},\n",
              "  {'label': 'pride', 'score': -9.652939796447754},\n",
              "  {'label': 'realization', 'score': -5.216355323791504},\n",
              "  {'label': 'relief', 'score': -8.800802230834961},\n",
              "  {'label': 'remorse', 'score': -7.587465763092041},\n",
              "  {'label': 'sadness', 'score': -6.567073822021484},\n",
              "  {'label': 'surprise', 'score': -4.577204704284668},\n",
              "  {'label': 'neutral', 'score': -0.7573656439781189}],\n",
              " [{'label': 'admiration', 'score': -5.687045574188232},\n",
              "  {'label': 'amusement', 'score': -5.77640438079834},\n",
              "  {'label': 'anger', 'score': -5.906044960021973},\n",
              "  {'label': 'annoyance', 'score': -4.184046745300293},\n",
              "  {'label': 'approval', 'score': -4.432989120483398},\n",
              "  {'label': 'caring', 'score': -7.35087251663208},\n",
              "  {'label': 'confusion', 'score': -2.1773598194122314},\n",
              "  {'label': 'curiosity', 'score': -1.3469393253326416},\n",
              "  {'label': 'desire', 'score': -7.425955772399902},\n",
              "  {'label': 'disappointment', 'score': -5.4876179695129395},\n",
              "  {'label': 'disapproval', 'score': -5.887481689453125},\n",
              "  {'label': 'disgust', 'score': -6.375125885009766},\n",
              "  {'label': 'embarrassment', 'score': -6.24382209777832},\n",
              "  {'label': 'excitement', 'score': -5.126261234283447},\n",
              "  {'label': 'fear', 'score': -6.314395427703857},\n",
              "  {'label': 'gratitude', 'score': -8.202078819274902},\n",
              "  {'label': 'grief', 'score': -7.544928073883057},\n",
              "  {'label': 'joy', 'score': -6.334412574768066},\n",
              "  {'label': 'love', 'score': -6.950996398925781},\n",
              "  {'label': 'nervousness', 'score': -7.086215972900391},\n",
              "  {'label': 'optimism', 'score': -5.85903787612915},\n",
              "  {'label': 'pride', 'score': -8.454903602600098},\n",
              "  {'label': 'realization', 'score': -3.5754384994506836},\n",
              "  {'label': 'relief', 'score': -7.983651161193848},\n",
              "  {'label': 'remorse', 'score': -8.166365623474121},\n",
              "  {'label': 'sadness', 'score': -6.808135509490967},\n",
              "  {'label': 'surprise', 'score': -2.357968807220459},\n",
              "  {'label': 'neutral', 'score': 0.734281063079834}],\n",
              " [{'label': 'admiration', 'score': -3.277961492538452},\n",
              "  {'label': 'amusement', 'score': -7.19488000869751},\n",
              "  {'label': 'anger', 'score': -7.337132453918457},\n",
              "  {'label': 'annoyance', 'score': -5.649878978729248},\n",
              "  {'label': 'approval', 'score': 0.7407952547073364},\n",
              "  {'label': 'caring', 'score': -5.086199760437012},\n",
              "  {'label': 'confusion', 'score': -6.450396537780762},\n",
              "  {'label': 'curiosity', 'score': -7.505629539489746},\n",
              "  {'label': 'desire', 'score': -6.463610649108887},\n",
              "  {'label': 'disappointment', 'score': -5.760201454162598},\n",
              "  {'label': 'disapproval', 'score': -5.439174175262451},\n",
              "  {'label': 'disgust', 'score': -7.305161952972412},\n",
              "  {'label': 'embarrassment', 'score': -7.57554817199707},\n",
              "  {'label': 'excitement', 'score': -6.239239692687988},\n",
              "  {'label': 'fear', 'score': -7.053189754486084},\n",
              "  {'label': 'gratitude', 'score': -4.8346099853515625},\n",
              "  {'label': 'grief', 'score': -7.5100507736206055},\n",
              "  {'label': 'joy', 'score': -5.23777437210083},\n",
              "  {'label': 'love', 'score': -6.738158226013184},\n",
              "  {'label': 'nervousness', 'score': -7.246187686920166},\n",
              "  {'label': 'optimism', 'score': -4.221632957458496},\n",
              "  {'label': 'pride', 'score': -5.434875965118408},\n",
              "  {'label': 'realization', 'score': -3.272805690765381},\n",
              "  {'label': 'relief', 'score': -4.876883506774902},\n",
              "  {'label': 'remorse', 'score': -7.082781791687012},\n",
              "  {'label': 'sadness', 'score': -6.052825927734375},\n",
              "  {'label': 'surprise', 'score': -7.506705284118652},\n",
              "  {'label': 'neutral', 'score': -0.9725187420845032}],\n",
              " [{'label': 'admiration', 'score': -6.315126895904541},\n",
              "  {'label': 'amusement', 'score': -6.249134063720703},\n",
              "  {'label': 'anger', 'score': -6.765388011932373},\n",
              "  {'label': 'annoyance', 'score': -4.426201820373535},\n",
              "  {'label': 'approval', 'score': -3.0547332763671875},\n",
              "  {'label': 'caring', 'score': -6.704946041107178},\n",
              "  {'label': 'confusion', 'score': -6.447448253631592},\n",
              "  {'label': 'curiosity', 'score': -7.837457656860352},\n",
              "  {'label': 'desire', 'score': -6.908034801483154},\n",
              "  {'label': 'disappointment', 'score': -4.335568904876709},\n",
              "  {'label': 'disapproval', 'score': -4.838474750518799},\n",
              "  {'label': 'disgust', 'score': -6.240591526031494},\n",
              "  {'label': 'embarrassment', 'score': -6.467108249664307},\n",
              "  {'label': 'excitement', 'score': -7.413364887237549},\n",
              "  {'label': 'fear', 'score': -6.796394348144531},\n",
              "  {'label': 'gratitude', 'score': -6.914689064025879},\n",
              "  {'label': 'grief', 'score': -7.370402812957764},\n",
              "  {'label': 'joy', 'score': -6.374361991882324},\n",
              "  {'label': 'love', 'score': -7.277322769165039},\n",
              "  {'label': 'nervousness', 'score': -7.361001014709473},\n",
              "  {'label': 'optimism', 'score': -5.764199256896973},\n",
              "  {'label': 'pride', 'score': -7.412372589111328},\n",
              "  {'label': 'realization', 'score': -2.8127543926239014},\n",
              "  {'label': 'relief', 'score': -6.508178234100342},\n",
              "  {'label': 'remorse', 'score': -7.043000221252441},\n",
              "  {'label': 'sadness', 'score': -5.1375017166137695},\n",
              "  {'label': 'surprise', 'score': -7.368813514709473},\n",
              "  {'label': 'neutral', 'score': 2.1677048206329346}]]"
            ]
          },
          "metadata": {},
          "execution_count": 41
        }
      ],
      "source": [
        "\n",
        "pipe_outputs = sentiment_pipe(texts, **sent_kwargs)\n",
        "pipe_outputs\n"
      ]
    },
    {
      "cell_type": "code",
      "execution_count": 42,
      "metadata": {
        "colab": {
          "base_uri": "https://localhost:8080/"
        },
        "id": "xiGiFzQSWHNv",
        "outputId": "51ce5b01-490d-49de-9d07-9004ead833f6"
      },
      "outputs": [
        {
          "output_type": "execute_result",
          "data": {
            "text/plain": [
              "[tensor(-5.5758),\n",
              " tensor(-5.0259),\n",
              " tensor(-6.8954),\n",
              " tensor(-2.8499),\n",
              " tensor(-5.6117),\n",
              " tensor(-5.1342),\n",
              " tensor(-6.4502),\n",
              " tensor(-5.1224),\n",
              " tensor(-6.5572),\n",
              " tensor(-6.2088),\n",
              " tensor(-6.9306),\n",
              " tensor(-6.2309),\n",
              " tensor(-7.0525),\n",
              " tensor(-7.3272),\n",
              " tensor(-6.6360),\n",
              " tensor(-5.0267),\n",
              " tensor(-6.1178),\n",
              " tensor(-6.4169),\n",
              " tensor(-6.3429),\n",
              " tensor(-4.0027),\n",
              " tensor(-5.8673),\n",
              " tensor(-6.2277),\n",
              " tensor(-7.0327),\n",
              " tensor(-6.9987),\n",
              " tensor(-6.8226),\n",
              " tensor(1.7083),\n",
              " tensor(-5.9201),\n",
              " tensor(-7.4698),\n",
              " tensor(-7.4069),\n",
              " tensor(-6.9978),\n",
              " tensor(-6.9641),\n",
              " tensor(0.3223),\n",
              " tensor(-7.3059),\n",
              " tensor(-7.0415),\n",
              " tensor(-6.0250),\n",
              " tensor(-6.4353),\n",
              " tensor(-3.0460),\n",
              " tensor(-6.4678),\n",
              " tensor(-6.5772),\n",
              " tensor(-7.7240),\n",
              " tensor(-6.5498),\n",
              " tensor(-7.1231),\n",
              " tensor(-6.7379),\n",
              " tensor(-5.0862),\n",
              " tensor(-6.5630),\n",
              " tensor(-0.6877),\n",
              " tensor(-5.7862),\n",
              " tensor(-6.5284),\n",
              " tensor(-6.1076),\n",
              " tensor(-1.6212),\n",
              " tensor(-6.3775),\n",
              " tensor(-6.1322),\n",
              " tensor(-5.7536),\n",
              " tensor(-5.9134),\n",
              " tensor(-4.4899),\n",
              " tensor(-6.0458),\n",
              " tensor(-6.2055),\n",
              " tensor(-5.5034),\n",
              " tensor(-5.9601),\n",
              " tensor(-6.6405),\n",
              " tensor(-6.6601),\n",
              " tensor(-7.1690),\n",
              " tensor(-7.2573),\n",
              " tensor(-6.5876),\n",
              " tensor(-5.6087),\n",
              " tensor(-6.1396),\n",
              " tensor(-5.3455),\n",
              " tensor(-3.2779),\n",
              " tensor(-5.4590),\n",
              " tensor(-4.3643),\n",
              " tensor(-6.7797),\n",
              " tensor(-6.3400),\n",
              " tensor(-7.0365),\n",
              " tensor(-6.6518),\n",
              " tensor(-3.9578),\n",
              " tensor(-7.5301),\n",
              " tensor(-5.6541),\n",
              " tensor(-4.5921),\n",
              " tensor(-3.2772),\n",
              " tensor(-4.4283),\n",
              " tensor(-6.7545),\n",
              " tensor(-4.1139),\n",
              " tensor(-4.8764),\n",
              " tensor(-6.1013),\n",
              " tensor(-4.3099),\n",
              " tensor(-7.6761),\n",
              " tensor(-7.1291),\n",
              " tensor(-4.3261),\n",
              " tensor(-7.1497),\n",
              " tensor(-6.7660),\n",
              " tensor(-7.1640),\n",
              " tensor(-6.6808),\n",
              " tensor(-7.1797),\n",
              " tensor(-6.1931),\n",
              " tensor(-5.1624),\n",
              " tensor(-6.0557),\n",
              " tensor(-4.8842),\n",
              " tensor(-6.4629),\n",
              " tensor(-5.7365),\n",
              " tensor(-6.6799),\n",
              " tensor(-6.7659),\n",
              " tensor(-5.5896),\n",
              " tensor(-6.1862),\n",
              " tensor(-4.5120),\n",
              " tensor(-5.9388),\n",
              " tensor(-6.8440),\n",
              " tensor(-5.3990),\n",
              " tensor(-6.4141),\n",
              " tensor(-6.3346),\n",
              " tensor(-5.1773),\n",
              " tensor(-5.4330),\n",
              " tensor(-6.8639),\n",
              " tensor(-7.3762),\n",
              " tensor(-5.6581),\n",
              " tensor(-6.6102),\n",
              " tensor(-3.4299),\n",
              " tensor(-5.7923),\n",
              " tensor(-6.8258),\n",
              " tensor(-3.1338),\n",
              " tensor(-6.1659),\n",
              " tensor(-6.7484),\n",
              " tensor(-7.6180),\n",
              " tensor(-6.9981),\n",
              " tensor(-4.1328),\n",
              " tensor(-6.4365),\n",
              " tensor(-7.3509),\n",
              " tensor(-5.0862),\n",
              " tensor(-6.7049)]"
            ]
          },
          "metadata": {},
          "execution_count": 42
        }
      ],
      "source": [
        "\n",
        "rewards = [ torch.tensor(output[5][\"score\"]) for output in pipe_outputs]\n",
        "rewards\n"
      ]
    },
    {
      "cell_type": "code",
      "execution_count": 43,
      "metadata": {
        "colab": {
          "base_uri": "https://localhost:8080/"
        },
        "id": "hDQiUJRMWHNv",
        "outputId": "c480d62f-afe5-48c5-ddeb-5b2d6328d1bf"
      },
      "outputs": [
        {
          "output_type": "execute_result",
          "data": {
            "text/plain": [
              "128"
            ]
          },
          "metadata": {},
          "execution_count": 43
        }
      ],
      "source": [
        "\n",
        "len(rewards)\n"
      ]
    },
    {
      "cell_type": "code",
      "execution_count": 44,
      "metadata": {
        "colab": {
          "base_uri": "https://localhost:8080/"
        },
        "id": "WKncuvFkWHNv",
        "outputId": "41781390-9cb6-4ed2-f88f-bc511b2b3bcb"
      },
      "outputs": [
        {
          "output_type": "stream",
          "name": "stderr",
          "text": [
            "339it [00:02, 159.70it/s]\n"
          ]
        },
        {
          "output_type": "execute_result",
          "data": {
            "text/plain": [
              "339"
            ]
          },
          "metadata": {},
          "execution_count": 44
        }
      ],
      "source": [
        "count = 0\n",
        "for epoch, batch in tqdm(enumerate(ppo_trainer.dataloader)):\n",
        "    count += 1\n",
        "\n",
        "count"
      ]
    },
    {
      "cell_type": "code",
      "execution_count": 45,
      "metadata": {
        "colab": {
          "base_uri": "https://localhost:8080/"
        },
        "id": "SRKt0-haWHNv",
        "outputId": "8bf92d98-2d21-4ca6-d1c0-4581bfe7429c"
      },
      "outputs": [
        {
          "output_type": "stream",
          "name": "stderr",
          "text": [
            "\r0it [00:00, ?it/s]"
          ]
        },
        {
          "output_type": "stream",
          "name": "stdout",
          "text": [
            "0\n"
          ]
        },
        {
          "output_type": "stream",
          "name": "stderr",
          "text": [
            "\r1it [00:18, 18.03s/it]"
          ]
        },
        {
          "output_type": "stream",
          "name": "stdout",
          "text": [
            "1\n"
          ]
        },
        {
          "output_type": "stream",
          "name": "stderr",
          "text": [
            "\r2it [00:37, 19.11s/it]"
          ]
        },
        {
          "output_type": "stream",
          "name": "stdout",
          "text": [
            "2\n"
          ]
        },
        {
          "output_type": "stream",
          "name": "stderr",
          "text": [
            "\r3it [00:57, 19.12s/it]"
          ]
        },
        {
          "output_type": "stream",
          "name": "stdout",
          "text": [
            "3\n"
          ]
        },
        {
          "output_type": "stream",
          "name": "stderr",
          "text": [
            "\r4it [01:19, 20.30s/it]"
          ]
        },
        {
          "output_type": "stream",
          "name": "stdout",
          "text": [
            "4\n"
          ]
        },
        {
          "output_type": "stream",
          "name": "stderr",
          "text": [
            "\r5it [01:39, 20.30s/it]"
          ]
        },
        {
          "output_type": "stream",
          "name": "stdout",
          "text": [
            "5\n"
          ]
        },
        {
          "output_type": "stream",
          "name": "stderr",
          "text": [
            "/usr/local/lib/python3.10/dist-packages/trl/trainer/ppo_trainer.py:1212: UserWarning: The average ratio of batch (40.78) exceeds threshold 10.00. Skipping batch.\n",
            "  warnings.warn(\n",
            "6it [01:58, 19.91s/it]"
          ]
        },
        {
          "output_type": "stream",
          "name": "stdout",
          "text": [
            "6\n"
          ]
        },
        {
          "output_type": "stream",
          "name": "stderr",
          "text": [
            "\r7it [02:18, 19.75s/it]"
          ]
        },
        {
          "output_type": "stream",
          "name": "stdout",
          "text": [
            "7\n"
          ]
        },
        {
          "output_type": "stream",
          "name": "stderr",
          "text": [
            "/usr/local/lib/python3.10/dist-packages/transformers/pipelines/base.py:1157: UserWarning: You seem to be using the pipelines sequentially on GPU. In order to maximize efficiency please use a dataset\n",
            "  warnings.warn(\n",
            "8it [02:39, 20.32s/it]"
          ]
        },
        {
          "output_type": "stream",
          "name": "stdout",
          "text": [
            "8\n"
          ]
        },
        {
          "output_type": "stream",
          "name": "stderr",
          "text": [
            "\r9it [02:59, 20.34s/it]"
          ]
        },
        {
          "output_type": "stream",
          "name": "stdout",
          "text": [
            "9\n"
          ]
        },
        {
          "output_type": "stream",
          "name": "stderr",
          "text": [
            "\r10it [03:19, 20.02s/it]"
          ]
        },
        {
          "output_type": "stream",
          "name": "stdout",
          "text": [
            "10\n"
          ]
        },
        {
          "output_type": "stream",
          "name": "stderr",
          "text": [
            "\r11it [03:39, 19.97s/it]"
          ]
        },
        {
          "output_type": "stream",
          "name": "stdout",
          "text": [
            "11\n"
          ]
        },
        {
          "output_type": "stream",
          "name": "stderr",
          "text": [
            "\r12it [03:58, 19.84s/it]"
          ]
        },
        {
          "output_type": "stream",
          "name": "stdout",
          "text": [
            "12\n"
          ]
        },
        {
          "output_type": "stream",
          "name": "stderr",
          "text": [
            "\r13it [04:18, 19.86s/it]"
          ]
        },
        {
          "output_type": "stream",
          "name": "stdout",
          "text": [
            "13\n"
          ]
        },
        {
          "output_type": "stream",
          "name": "stderr",
          "text": [
            "\r14it [04:39, 20.07s/it]"
          ]
        },
        {
          "output_type": "stream",
          "name": "stdout",
          "text": [
            "14\n"
          ]
        },
        {
          "output_type": "stream",
          "name": "stderr",
          "text": [
            "\r15it [04:59, 20.19s/it]"
          ]
        },
        {
          "output_type": "stream",
          "name": "stdout",
          "text": [
            "15\n"
          ]
        },
        {
          "output_type": "stream",
          "name": "stderr",
          "text": [
            "\r16it [05:19, 20.26s/it]"
          ]
        },
        {
          "output_type": "stream",
          "name": "stdout",
          "text": [
            "16\n"
          ]
        },
        {
          "output_type": "stream",
          "name": "stderr",
          "text": [
            "\r17it [05:38, 19.83s/it]"
          ]
        },
        {
          "output_type": "stream",
          "name": "stdout",
          "text": [
            "17\n"
          ]
        },
        {
          "output_type": "stream",
          "name": "stderr",
          "text": [
            "\r18it [05:58, 19.90s/it]"
          ]
        },
        {
          "output_type": "stream",
          "name": "stdout",
          "text": [
            "18\n"
          ]
        },
        {
          "output_type": "stream",
          "name": "stderr",
          "text": [
            "\r19it [06:19, 19.99s/it]"
          ]
        },
        {
          "output_type": "stream",
          "name": "stdout",
          "text": [
            "19\n"
          ]
        },
        {
          "output_type": "stream",
          "name": "stderr",
          "text": [
            "\r20it [06:39, 20.09s/it]"
          ]
        },
        {
          "output_type": "stream",
          "name": "stdout",
          "text": [
            "20\n"
          ]
        },
        {
          "output_type": "stream",
          "name": "stderr",
          "text": [
            "\r21it [07:01, 20.61s/it]"
          ]
        },
        {
          "output_type": "stream",
          "name": "stdout",
          "text": [
            "21\n"
          ]
        },
        {
          "output_type": "stream",
          "name": "stderr",
          "text": [
            "\r22it [07:20, 20.31s/it]"
          ]
        },
        {
          "output_type": "stream",
          "name": "stdout",
          "text": [
            "22\n"
          ]
        },
        {
          "output_type": "stream",
          "name": "stderr",
          "text": [
            "\r23it [07:40, 20.10s/it]"
          ]
        },
        {
          "output_type": "stream",
          "name": "stdout",
          "text": [
            "23\n"
          ]
        },
        {
          "output_type": "stream",
          "name": "stderr",
          "text": [
            "\r24it [08:01, 20.26s/it]"
          ]
        },
        {
          "output_type": "stream",
          "name": "stdout",
          "text": [
            "24\n"
          ]
        },
        {
          "output_type": "stream",
          "name": "stderr",
          "text": [
            "\r25it [08:20, 19.98s/it]"
          ]
        },
        {
          "output_type": "stream",
          "name": "stdout",
          "text": [
            "25\n"
          ]
        },
        {
          "output_type": "stream",
          "name": "stderr",
          "text": [
            "\r26it [08:41, 20.25s/it]"
          ]
        },
        {
          "output_type": "stream",
          "name": "stdout",
          "text": [
            "26\n"
          ]
        },
        {
          "output_type": "stream",
          "name": "stderr",
          "text": [
            "\r27it [09:01, 20.19s/it]"
          ]
        },
        {
          "output_type": "stream",
          "name": "stdout",
          "text": [
            "27\n"
          ]
        },
        {
          "output_type": "stream",
          "name": "stderr",
          "text": [
            "\r28it [09:20, 19.95s/it]"
          ]
        },
        {
          "output_type": "stream",
          "name": "stdout",
          "text": [
            "28\n"
          ]
        },
        {
          "output_type": "stream",
          "name": "stderr",
          "text": [
            "\r29it [09:39, 19.74s/it]"
          ]
        },
        {
          "output_type": "stream",
          "name": "stdout",
          "text": [
            "29\n"
          ]
        },
        {
          "output_type": "stream",
          "name": "stderr",
          "text": [
            "\r30it [10:00, 20.09s/it]"
          ]
        },
        {
          "output_type": "stream",
          "name": "stdout",
          "text": [
            "30\n"
          ]
        },
        {
          "output_type": "stream",
          "name": "stderr",
          "text": [
            "\r31it [10:21, 20.29s/it]"
          ]
        },
        {
          "output_type": "stream",
          "name": "stdout",
          "text": [
            "31\n"
          ]
        },
        {
          "output_type": "stream",
          "name": "stderr",
          "text": [
            "\r32it [10:41, 20.28s/it]"
          ]
        },
        {
          "output_type": "stream",
          "name": "stdout",
          "text": [
            "32\n"
          ]
        },
        {
          "output_type": "stream",
          "name": "stderr",
          "text": [
            "\r33it [11:01, 20.04s/it]"
          ]
        },
        {
          "output_type": "stream",
          "name": "stdout",
          "text": [
            "33\n"
          ]
        },
        {
          "output_type": "stream",
          "name": "stderr",
          "text": [
            "\r34it [11:20, 19.91s/it]"
          ]
        },
        {
          "output_type": "stream",
          "name": "stdout",
          "text": [
            "34\n"
          ]
        },
        {
          "output_type": "stream",
          "name": "stderr",
          "text": [
            "\r35it [11:41, 20.03s/it]"
          ]
        },
        {
          "output_type": "stream",
          "name": "stdout",
          "text": [
            "35\n"
          ]
        },
        {
          "output_type": "stream",
          "name": "stderr",
          "text": [
            "\r36it [12:01, 19.97s/it]"
          ]
        },
        {
          "output_type": "stream",
          "name": "stdout",
          "text": [
            "36\n"
          ]
        },
        {
          "output_type": "stream",
          "name": "stderr",
          "text": [
            "\r37it [12:21, 19.97s/it]"
          ]
        },
        {
          "output_type": "stream",
          "name": "stdout",
          "text": [
            "37\n"
          ]
        },
        {
          "output_type": "stream",
          "name": "stderr",
          "text": [
            "\r38it [12:40, 19.68s/it]"
          ]
        },
        {
          "output_type": "stream",
          "name": "stdout",
          "text": [
            "38\n"
          ]
        },
        {
          "output_type": "stream",
          "name": "stderr",
          "text": [
            "\r39it [13:00, 19.84s/it]"
          ]
        },
        {
          "output_type": "stream",
          "name": "stdout",
          "text": [
            "39\n"
          ]
        },
        {
          "output_type": "stream",
          "name": "stderr",
          "text": [
            "\r40it [13:19, 19.70s/it]"
          ]
        },
        {
          "output_type": "stream",
          "name": "stdout",
          "text": [
            "40\n"
          ]
        },
        {
          "output_type": "stream",
          "name": "stderr",
          "text": [
            "\r41it [13:39, 19.75s/it]"
          ]
        },
        {
          "output_type": "stream",
          "name": "stdout",
          "text": [
            "41\n"
          ]
        },
        {
          "output_type": "stream",
          "name": "stderr",
          "text": [
            "\r42it [13:59, 19.71s/it]"
          ]
        },
        {
          "output_type": "stream",
          "name": "stdout",
          "text": [
            "42\n"
          ]
        },
        {
          "output_type": "stream",
          "name": "stderr",
          "text": [
            "\r43it [14:19, 19.85s/it]"
          ]
        },
        {
          "output_type": "stream",
          "name": "stdout",
          "text": [
            "43\n"
          ]
        },
        {
          "output_type": "stream",
          "name": "stderr",
          "text": [
            "\r44it [14:38, 19.79s/it]"
          ]
        },
        {
          "output_type": "stream",
          "name": "stdout",
          "text": [
            "44\n"
          ]
        },
        {
          "output_type": "stream",
          "name": "stderr",
          "text": [
            "\r45it [14:58, 19.84s/it]"
          ]
        },
        {
          "output_type": "stream",
          "name": "stdout",
          "text": [
            "45\n"
          ]
        },
        {
          "output_type": "stream",
          "name": "stderr",
          "text": [
            "\r46it [15:17, 19.60s/it]"
          ]
        },
        {
          "output_type": "stream",
          "name": "stdout",
          "text": [
            "46\n"
          ]
        },
        {
          "output_type": "stream",
          "name": "stderr",
          "text": [
            "\r47it [15:36, 19.39s/it]"
          ]
        },
        {
          "output_type": "stream",
          "name": "stdout",
          "text": [
            "47\n"
          ]
        },
        {
          "output_type": "stream",
          "name": "stderr",
          "text": [
            "\r48it [15:57, 19.85s/it]"
          ]
        },
        {
          "output_type": "stream",
          "name": "stdout",
          "text": [
            "48\n"
          ]
        },
        {
          "output_type": "stream",
          "name": "stderr",
          "text": [
            "\r49it [16:18, 20.04s/it]"
          ]
        },
        {
          "output_type": "stream",
          "name": "stdout",
          "text": [
            "49\n"
          ]
        },
        {
          "output_type": "stream",
          "name": "stderr",
          "text": [
            "\r50it [16:37, 19.87s/it]"
          ]
        },
        {
          "output_type": "stream",
          "name": "stdout",
          "text": [
            "50\n"
          ]
        },
        {
          "output_type": "stream",
          "name": "stderr",
          "text": [
            "\r51it [16:57, 19.81s/it]"
          ]
        },
        {
          "output_type": "stream",
          "name": "stdout",
          "text": [
            "51\n"
          ]
        },
        {
          "output_type": "stream",
          "name": "stderr",
          "text": [
            "\r52it [17:17, 19.79s/it]"
          ]
        },
        {
          "output_type": "stream",
          "name": "stdout",
          "text": [
            "52\n"
          ]
        },
        {
          "output_type": "stream",
          "name": "stderr",
          "text": [
            "\r53it [17:35, 19.46s/it]"
          ]
        },
        {
          "output_type": "stream",
          "name": "stdout",
          "text": [
            "53\n"
          ]
        },
        {
          "output_type": "stream",
          "name": "stderr",
          "text": [
            "\r54it [17:55, 19.65s/it]"
          ]
        },
        {
          "output_type": "stream",
          "name": "stdout",
          "text": [
            "54\n"
          ]
        },
        {
          "output_type": "stream",
          "name": "stderr",
          "text": [
            "\r55it [18:15, 19.68s/it]"
          ]
        },
        {
          "output_type": "stream",
          "name": "stdout",
          "text": [
            "55\n"
          ]
        },
        {
          "output_type": "stream",
          "name": "stderr",
          "text": [
            "\r56it [18:35, 19.75s/it]"
          ]
        },
        {
          "output_type": "stream",
          "name": "stdout",
          "text": [
            "56\n"
          ]
        },
        {
          "output_type": "stream",
          "name": "stderr",
          "text": [
            "\r57it [18:56, 20.10s/it]"
          ]
        },
        {
          "output_type": "stream",
          "name": "stdout",
          "text": [
            "57\n"
          ]
        },
        {
          "output_type": "stream",
          "name": "stderr",
          "text": [
            "\r58it [19:15, 19.70s/it]"
          ]
        },
        {
          "output_type": "stream",
          "name": "stdout",
          "text": [
            "58\n"
          ]
        },
        {
          "output_type": "stream",
          "name": "stderr",
          "text": [
            "\r59it [19:34, 19.67s/it]"
          ]
        },
        {
          "output_type": "stream",
          "name": "stdout",
          "text": [
            "59\n"
          ]
        },
        {
          "output_type": "stream",
          "name": "stderr",
          "text": [
            "\r60it [19:53, 19.39s/it]"
          ]
        },
        {
          "output_type": "stream",
          "name": "stdout",
          "text": [
            "60\n"
          ]
        },
        {
          "output_type": "stream",
          "name": "stderr",
          "text": [
            "\r61it [20:14, 19.76s/it]"
          ]
        },
        {
          "output_type": "stream",
          "name": "stdout",
          "text": [
            "61\n"
          ]
        },
        {
          "output_type": "stream",
          "name": "stderr",
          "text": [
            "\r62it [20:35, 20.07s/it]"
          ]
        },
        {
          "output_type": "stream",
          "name": "stdout",
          "text": [
            "62\n"
          ]
        },
        {
          "output_type": "stream",
          "name": "stderr",
          "text": [
            "\r63it [20:55, 20.23s/it]"
          ]
        },
        {
          "output_type": "stream",
          "name": "stdout",
          "text": [
            "63\n"
          ]
        },
        {
          "output_type": "stream",
          "name": "stderr",
          "text": [
            "\r64it [21:15, 20.08s/it]"
          ]
        },
        {
          "output_type": "stream",
          "name": "stdout",
          "text": [
            "64\n"
          ]
        },
        {
          "output_type": "stream",
          "name": "stderr",
          "text": [
            "\r65it [21:35, 20.10s/it]"
          ]
        },
        {
          "output_type": "stream",
          "name": "stdout",
          "text": [
            "65\n"
          ]
        },
        {
          "output_type": "stream",
          "name": "stderr",
          "text": [
            "\r66it [21:55, 20.15s/it]"
          ]
        },
        {
          "output_type": "stream",
          "name": "stdout",
          "text": [
            "66\n"
          ]
        },
        {
          "output_type": "stream",
          "name": "stderr",
          "text": [
            "\r67it [22:15, 19.88s/it]"
          ]
        },
        {
          "output_type": "stream",
          "name": "stdout",
          "text": [
            "67\n"
          ]
        },
        {
          "output_type": "stream",
          "name": "stderr",
          "text": [
            "\r68it [22:34, 19.70s/it]"
          ]
        },
        {
          "output_type": "stream",
          "name": "stdout",
          "text": [
            "68\n"
          ]
        },
        {
          "output_type": "stream",
          "name": "stderr",
          "text": [
            "\r69it [22:54, 19.75s/it]"
          ]
        },
        {
          "output_type": "stream",
          "name": "stdout",
          "text": [
            "69\n"
          ]
        },
        {
          "output_type": "stream",
          "name": "stderr",
          "text": [
            "\r70it [23:13, 19.69s/it]"
          ]
        },
        {
          "output_type": "stream",
          "name": "stdout",
          "text": [
            "70\n"
          ]
        },
        {
          "output_type": "stream",
          "name": "stderr",
          "text": [
            "\r71it [23:33, 19.77s/it]"
          ]
        },
        {
          "output_type": "stream",
          "name": "stdout",
          "text": [
            "71\n"
          ]
        },
        {
          "output_type": "stream",
          "name": "stderr",
          "text": [
            "\r72it [23:54, 19.96s/it]"
          ]
        },
        {
          "output_type": "stream",
          "name": "stdout",
          "text": [
            "72\n"
          ]
        },
        {
          "output_type": "stream",
          "name": "stderr",
          "text": [
            "\r73it [24:14, 20.11s/it]"
          ]
        },
        {
          "output_type": "stream",
          "name": "stdout",
          "text": [
            "73\n"
          ]
        },
        {
          "output_type": "stream",
          "name": "stderr",
          "text": [
            "\r74it [24:33, 19.80s/it]"
          ]
        },
        {
          "output_type": "stream",
          "name": "stdout",
          "text": [
            "74\n"
          ]
        },
        {
          "output_type": "stream",
          "name": "stderr",
          "text": [
            "\r75it [24:53, 19.96s/it]"
          ]
        },
        {
          "output_type": "stream",
          "name": "stdout",
          "text": [
            "75\n"
          ]
        },
        {
          "output_type": "stream",
          "name": "stderr",
          "text": [
            "\r76it [25:13, 19.80s/it]"
          ]
        },
        {
          "output_type": "stream",
          "name": "stdout",
          "text": [
            "76\n"
          ]
        },
        {
          "output_type": "stream",
          "name": "stderr",
          "text": [
            "\r77it [25:32, 19.72s/it]"
          ]
        },
        {
          "output_type": "stream",
          "name": "stdout",
          "text": [
            "77\n"
          ]
        },
        {
          "output_type": "stream",
          "name": "stderr",
          "text": [
            "\r78it [25:53, 19.89s/it]"
          ]
        },
        {
          "output_type": "stream",
          "name": "stdout",
          "text": [
            "78\n"
          ]
        },
        {
          "output_type": "stream",
          "name": "stderr",
          "text": [
            "\r79it [26:12, 19.85s/it]"
          ]
        },
        {
          "output_type": "stream",
          "name": "stdout",
          "text": [
            "79\n"
          ]
        },
        {
          "output_type": "stream",
          "name": "stderr",
          "text": [
            "\r80it [26:32, 19.78s/it]"
          ]
        },
        {
          "output_type": "stream",
          "name": "stdout",
          "text": [
            "80\n"
          ]
        },
        {
          "output_type": "stream",
          "name": "stderr",
          "text": [
            "\r81it [26:53, 20.08s/it]"
          ]
        },
        {
          "output_type": "stream",
          "name": "stdout",
          "text": [
            "81\n"
          ]
        },
        {
          "output_type": "stream",
          "name": "stderr",
          "text": [
            "\r82it [27:13, 19.99s/it]"
          ]
        },
        {
          "output_type": "stream",
          "name": "stdout",
          "text": [
            "82\n"
          ]
        },
        {
          "output_type": "stream",
          "name": "stderr",
          "text": [
            "\r83it [27:32, 19.73s/it]"
          ]
        },
        {
          "output_type": "stream",
          "name": "stdout",
          "text": [
            "83\n"
          ]
        },
        {
          "output_type": "stream",
          "name": "stderr",
          "text": [
            "\r84it [27:52, 19.81s/it]"
          ]
        },
        {
          "output_type": "stream",
          "name": "stdout",
          "text": [
            "84\n"
          ]
        },
        {
          "output_type": "stream",
          "name": "stderr",
          "text": [
            "\r85it [28:11, 19.73s/it]"
          ]
        },
        {
          "output_type": "stream",
          "name": "stdout",
          "text": [
            "85\n"
          ]
        },
        {
          "output_type": "stream",
          "name": "stderr",
          "text": [
            "\r86it [28:32, 19.91s/it]"
          ]
        },
        {
          "output_type": "stream",
          "name": "stdout",
          "text": [
            "86\n"
          ]
        },
        {
          "output_type": "stream",
          "name": "stderr",
          "text": [
            "\r87it [28:51, 19.76s/it]"
          ]
        },
        {
          "output_type": "stream",
          "name": "stdout",
          "text": [
            "87\n"
          ]
        },
        {
          "output_type": "stream",
          "name": "stderr",
          "text": [
            "\r88it [29:10, 19.58s/it]"
          ]
        },
        {
          "output_type": "stream",
          "name": "stdout",
          "text": [
            "88\n"
          ]
        },
        {
          "output_type": "stream",
          "name": "stderr",
          "text": [
            "\r89it [29:31, 20.04s/it]"
          ]
        },
        {
          "output_type": "stream",
          "name": "stdout",
          "text": [
            "89\n"
          ]
        },
        {
          "output_type": "stream",
          "name": "stderr",
          "text": [
            "\r90it [29:53, 20.61s/it]"
          ]
        },
        {
          "output_type": "stream",
          "name": "stdout",
          "text": [
            "90\n"
          ]
        },
        {
          "output_type": "stream",
          "name": "stderr",
          "text": [
            "\r91it [30:14, 20.55s/it]"
          ]
        },
        {
          "output_type": "stream",
          "name": "stdout",
          "text": [
            "91\n"
          ]
        },
        {
          "output_type": "stream",
          "name": "stderr",
          "text": [
            "\r92it [30:35, 20.75s/it]"
          ]
        },
        {
          "output_type": "stream",
          "name": "stdout",
          "text": [
            "92\n"
          ]
        },
        {
          "output_type": "stream",
          "name": "stderr",
          "text": [
            "\r93it [30:56, 20.79s/it]"
          ]
        },
        {
          "output_type": "stream",
          "name": "stdout",
          "text": [
            "93\n"
          ]
        },
        {
          "output_type": "stream",
          "name": "stderr",
          "text": [
            "\r94it [31:16, 20.63s/it]"
          ]
        },
        {
          "output_type": "stream",
          "name": "stdout",
          "text": [
            "94\n"
          ]
        },
        {
          "output_type": "stream",
          "name": "stderr",
          "text": [
            "\r95it [31:36, 20.44s/it]"
          ]
        },
        {
          "output_type": "stream",
          "name": "stdout",
          "text": [
            "95\n"
          ]
        },
        {
          "output_type": "stream",
          "name": "stderr",
          "text": [
            "\r96it [31:57, 20.53s/it]"
          ]
        },
        {
          "output_type": "stream",
          "name": "stdout",
          "text": [
            "96\n"
          ]
        },
        {
          "output_type": "stream",
          "name": "stderr",
          "text": [
            "\r97it [32:17, 20.47s/it]"
          ]
        },
        {
          "output_type": "stream",
          "name": "stdout",
          "text": [
            "97\n"
          ]
        },
        {
          "output_type": "stream",
          "name": "stderr",
          "text": [
            "\r98it [32:37, 20.38s/it]"
          ]
        },
        {
          "output_type": "stream",
          "name": "stdout",
          "text": [
            "98\n"
          ]
        },
        {
          "output_type": "stream",
          "name": "stderr",
          "text": [
            "\r99it [32:58, 20.63s/it]"
          ]
        },
        {
          "output_type": "stream",
          "name": "stdout",
          "text": [
            "99\n"
          ]
        },
        {
          "output_type": "stream",
          "name": "stderr",
          "text": [
            "\r100it [33:20, 20.95s/it]"
          ]
        },
        {
          "output_type": "stream",
          "name": "stdout",
          "text": [
            "100\n"
          ]
        },
        {
          "output_type": "stream",
          "name": "stderr",
          "text": [
            "\r101it [33:41, 21.02s/it]"
          ]
        },
        {
          "output_type": "stream",
          "name": "stdout",
          "text": [
            "101\n"
          ]
        },
        {
          "output_type": "stream",
          "name": "stderr",
          "text": [
            "\r102it [34:03, 21.07s/it]"
          ]
        },
        {
          "output_type": "stream",
          "name": "stdout",
          "text": [
            "102\n"
          ]
        },
        {
          "output_type": "stream",
          "name": "stderr",
          "text": [
            "\r103it [34:23, 20.89s/it]"
          ]
        },
        {
          "output_type": "stream",
          "name": "stdout",
          "text": [
            "103\n"
          ]
        },
        {
          "output_type": "stream",
          "name": "stderr",
          "text": [
            "\r104it [34:43, 20.78s/it]"
          ]
        },
        {
          "output_type": "stream",
          "name": "stdout",
          "text": [
            "104\n"
          ]
        },
        {
          "output_type": "stream",
          "name": "stderr",
          "text": [
            "\r105it [35:04, 20.59s/it]"
          ]
        },
        {
          "output_type": "stream",
          "name": "stdout",
          "text": [
            "105\n"
          ]
        },
        {
          "output_type": "stream",
          "name": "stderr",
          "text": [
            "\r106it [35:23, 20.36s/it]"
          ]
        },
        {
          "output_type": "stream",
          "name": "stdout",
          "text": [
            "106\n"
          ]
        },
        {
          "output_type": "stream",
          "name": "stderr",
          "text": [
            "\r107it [35:44, 20.31s/it]"
          ]
        },
        {
          "output_type": "stream",
          "name": "stdout",
          "text": [
            "107\n"
          ]
        },
        {
          "output_type": "stream",
          "name": "stderr",
          "text": [
            "\r108it [36:05, 20.62s/it]"
          ]
        },
        {
          "output_type": "stream",
          "name": "stdout",
          "text": [
            "108\n"
          ]
        },
        {
          "output_type": "stream",
          "name": "stderr",
          "text": [
            "\r109it [36:24, 20.28s/it]"
          ]
        },
        {
          "output_type": "stream",
          "name": "stdout",
          "text": [
            "109\n"
          ]
        },
        {
          "output_type": "stream",
          "name": "stderr",
          "text": [
            "\r110it [36:44, 20.12s/it]"
          ]
        },
        {
          "output_type": "stream",
          "name": "stdout",
          "text": [
            "110\n"
          ]
        },
        {
          "output_type": "stream",
          "name": "stderr",
          "text": [
            "\r111it [37:05, 20.40s/it]"
          ]
        },
        {
          "output_type": "stream",
          "name": "stdout",
          "text": [
            "111\n"
          ]
        },
        {
          "output_type": "stream",
          "name": "stderr",
          "text": [
            "\r112it [37:25, 20.26s/it]"
          ]
        },
        {
          "output_type": "stream",
          "name": "stdout",
          "text": [
            "112\n"
          ]
        },
        {
          "output_type": "stream",
          "name": "stderr",
          "text": [
            "\r113it [37:45, 20.20s/it]"
          ]
        },
        {
          "output_type": "stream",
          "name": "stdout",
          "text": [
            "113\n"
          ]
        },
        {
          "output_type": "stream",
          "name": "stderr",
          "text": [
            "\r114it [38:05, 20.18s/it]"
          ]
        },
        {
          "output_type": "stream",
          "name": "stdout",
          "text": [
            "114\n"
          ]
        },
        {
          "output_type": "stream",
          "name": "stderr",
          "text": [
            "\r115it [38:25, 19.96s/it]"
          ]
        },
        {
          "output_type": "stream",
          "name": "stdout",
          "text": [
            "115\n"
          ]
        },
        {
          "output_type": "stream",
          "name": "stderr",
          "text": [
            "\r116it [38:44, 19.71s/it]"
          ]
        },
        {
          "output_type": "stream",
          "name": "stdout",
          "text": [
            "116\n"
          ]
        },
        {
          "output_type": "stream",
          "name": "stderr",
          "text": [
            "\r117it [39:04, 19.75s/it]"
          ]
        },
        {
          "output_type": "stream",
          "name": "stdout",
          "text": [
            "117\n"
          ]
        },
        {
          "output_type": "stream",
          "name": "stderr",
          "text": [
            "\r118it [39:22, 19.36s/it]"
          ]
        },
        {
          "output_type": "stream",
          "name": "stdout",
          "text": [
            "118\n"
          ]
        },
        {
          "output_type": "stream",
          "name": "stderr",
          "text": [
            "\r119it [39:42, 19.40s/it]"
          ]
        },
        {
          "output_type": "stream",
          "name": "stdout",
          "text": [
            "119\n"
          ]
        },
        {
          "output_type": "stream",
          "name": "stderr",
          "text": [
            "\r120it [40:03, 19.85s/it]"
          ]
        },
        {
          "output_type": "stream",
          "name": "stdout",
          "text": [
            "120\n"
          ]
        },
        {
          "output_type": "stream",
          "name": "stderr",
          "text": [
            "\r121it [40:22, 19.80s/it]"
          ]
        },
        {
          "output_type": "stream",
          "name": "stdout",
          "text": [
            "121\n"
          ]
        },
        {
          "output_type": "stream",
          "name": "stderr",
          "text": [
            "\r122it [40:41, 19.51s/it]"
          ]
        },
        {
          "output_type": "stream",
          "name": "stdout",
          "text": [
            "122\n"
          ]
        },
        {
          "output_type": "stream",
          "name": "stderr",
          "text": [
            "\r123it [41:00, 19.42s/it]"
          ]
        },
        {
          "output_type": "stream",
          "name": "stdout",
          "text": [
            "123\n"
          ]
        },
        {
          "output_type": "stream",
          "name": "stderr",
          "text": [
            "\r124it [41:20, 19.35s/it]"
          ]
        },
        {
          "output_type": "stream",
          "name": "stdout",
          "text": [
            "124\n"
          ]
        },
        {
          "output_type": "stream",
          "name": "stderr",
          "text": [
            "\r125it [41:39, 19.50s/it]"
          ]
        },
        {
          "output_type": "stream",
          "name": "stdout",
          "text": [
            "125\n"
          ]
        },
        {
          "output_type": "stream",
          "name": "stderr",
          "text": [
            "\r126it [41:59, 19.50s/it]"
          ]
        },
        {
          "output_type": "stream",
          "name": "stdout",
          "text": [
            "126\n"
          ]
        },
        {
          "output_type": "stream",
          "name": "stderr",
          "text": [
            "\r127it [42:18, 19.41s/it]"
          ]
        },
        {
          "output_type": "stream",
          "name": "stdout",
          "text": [
            "127\n"
          ]
        },
        {
          "output_type": "stream",
          "name": "stderr",
          "text": [
            "\r128it [42:39, 19.84s/it]"
          ]
        },
        {
          "output_type": "stream",
          "name": "stdout",
          "text": [
            "128\n"
          ]
        },
        {
          "output_type": "stream",
          "name": "stderr",
          "text": [
            "\r129it [42:59, 19.75s/it]"
          ]
        },
        {
          "output_type": "stream",
          "name": "stdout",
          "text": [
            "129\n"
          ]
        },
        {
          "output_type": "stream",
          "name": "stderr",
          "text": [
            "\r130it [43:17, 19.43s/it]"
          ]
        },
        {
          "output_type": "stream",
          "name": "stdout",
          "text": [
            "130\n"
          ]
        },
        {
          "output_type": "stream",
          "name": "stderr",
          "text": [
            "\r131it [43:35, 19.05s/it]"
          ]
        },
        {
          "output_type": "stream",
          "name": "stdout",
          "text": [
            "131\n"
          ]
        },
        {
          "output_type": "stream",
          "name": "stderr",
          "text": [
            "\r132it [43:55, 19.24s/it]"
          ]
        },
        {
          "output_type": "stream",
          "name": "stdout",
          "text": [
            "132\n"
          ]
        },
        {
          "output_type": "stream",
          "name": "stderr",
          "text": [
            "\r133it [44:15, 19.44s/it]"
          ]
        },
        {
          "output_type": "stream",
          "name": "stdout",
          "text": [
            "133\n"
          ]
        },
        {
          "output_type": "stream",
          "name": "stderr",
          "text": [
            "\r134it [44:35, 19.59s/it]"
          ]
        },
        {
          "output_type": "stream",
          "name": "stdout",
          "text": [
            "134\n"
          ]
        },
        {
          "output_type": "stream",
          "name": "stderr",
          "text": [
            "\r135it [44:54, 19.47s/it]"
          ]
        },
        {
          "output_type": "stream",
          "name": "stdout",
          "text": [
            "135\n"
          ]
        },
        {
          "output_type": "stream",
          "name": "stderr",
          "text": [
            "\r136it [45:14, 19.74s/it]"
          ]
        },
        {
          "output_type": "stream",
          "name": "stdout",
          "text": [
            "136\n"
          ]
        },
        {
          "output_type": "stream",
          "name": "stderr",
          "text": [
            "\r137it [45:34, 19.66s/it]"
          ]
        },
        {
          "output_type": "stream",
          "name": "stdout",
          "text": [
            "137\n"
          ]
        },
        {
          "output_type": "stream",
          "name": "stderr",
          "text": [
            "\r138it [45:53, 19.55s/it]"
          ]
        },
        {
          "output_type": "stream",
          "name": "stdout",
          "text": [
            "138\n"
          ]
        },
        {
          "output_type": "stream",
          "name": "stderr",
          "text": [
            "\r139it [46:13, 19.74s/it]"
          ]
        },
        {
          "output_type": "stream",
          "name": "stdout",
          "text": [
            "139\n"
          ]
        },
        {
          "output_type": "stream",
          "name": "stderr",
          "text": [
            "\r140it [46:33, 19.68s/it]"
          ]
        },
        {
          "output_type": "stream",
          "name": "stdout",
          "text": [
            "140\n"
          ]
        },
        {
          "output_type": "stream",
          "name": "stderr",
          "text": [
            "\r141it [46:53, 19.71s/it]"
          ]
        },
        {
          "output_type": "stream",
          "name": "stdout",
          "text": [
            "141\n"
          ]
        },
        {
          "output_type": "stream",
          "name": "stderr",
          "text": [
            "\r142it [47:12, 19.72s/it]"
          ]
        },
        {
          "output_type": "stream",
          "name": "stdout",
          "text": [
            "142\n"
          ]
        },
        {
          "output_type": "stream",
          "name": "stderr",
          "text": [
            "\r143it [47:32, 19.79s/it]"
          ]
        },
        {
          "output_type": "stream",
          "name": "stdout",
          "text": [
            "143\n"
          ]
        },
        {
          "output_type": "stream",
          "name": "stderr",
          "text": [
            "\r144it [47:53, 20.01s/it]"
          ]
        },
        {
          "output_type": "stream",
          "name": "stdout",
          "text": [
            "144\n"
          ]
        },
        {
          "output_type": "stream",
          "name": "stderr",
          "text": [
            "\r145it [48:12, 19.59s/it]"
          ]
        },
        {
          "output_type": "stream",
          "name": "stdout",
          "text": [
            "145\n"
          ]
        },
        {
          "output_type": "stream",
          "name": "stderr",
          "text": [
            "\r146it [48:32, 19.72s/it]"
          ]
        },
        {
          "output_type": "stream",
          "name": "stdout",
          "text": [
            "146\n"
          ]
        },
        {
          "output_type": "stream",
          "name": "stderr",
          "text": [
            "\r147it [48:52, 19.90s/it]"
          ]
        },
        {
          "output_type": "stream",
          "name": "stdout",
          "text": [
            "147\n"
          ]
        },
        {
          "output_type": "stream",
          "name": "stderr",
          "text": [
            "\r148it [49:13, 20.37s/it]"
          ]
        },
        {
          "output_type": "stream",
          "name": "stdout",
          "text": [
            "148\n"
          ]
        },
        {
          "output_type": "stream",
          "name": "stderr",
          "text": [
            "\r149it [49:34, 20.36s/it]"
          ]
        },
        {
          "output_type": "stream",
          "name": "stdout",
          "text": [
            "149\n"
          ]
        },
        {
          "output_type": "stream",
          "name": "stderr",
          "text": [
            "\r150it [49:53, 19.92s/it]"
          ]
        },
        {
          "output_type": "stream",
          "name": "stdout",
          "text": [
            "150\n"
          ]
        },
        {
          "output_type": "stream",
          "name": "stderr",
          "text": [
            "\r151it [50:13, 19.98s/it]"
          ]
        },
        {
          "output_type": "stream",
          "name": "stdout",
          "text": [
            "151\n"
          ]
        },
        {
          "output_type": "stream",
          "name": "stderr",
          "text": [
            "\r152it [50:33, 20.16s/it]"
          ]
        },
        {
          "output_type": "stream",
          "name": "stdout",
          "text": [
            "152\n"
          ]
        },
        {
          "output_type": "stream",
          "name": "stderr",
          "text": [
            "\r153it [50:52, 19.67s/it]"
          ]
        },
        {
          "output_type": "stream",
          "name": "stdout",
          "text": [
            "153\n"
          ]
        },
        {
          "output_type": "stream",
          "name": "stderr",
          "text": [
            "\r154it [51:12, 19.73s/it]"
          ]
        },
        {
          "output_type": "stream",
          "name": "stdout",
          "text": [
            "154\n"
          ]
        },
        {
          "output_type": "stream",
          "name": "stderr",
          "text": [
            "\r155it [51:31, 19.57s/it]"
          ]
        },
        {
          "output_type": "stream",
          "name": "stdout",
          "text": [
            "155\n"
          ]
        },
        {
          "output_type": "stream",
          "name": "stderr",
          "text": [
            "\r156it [51:51, 19.67s/it]"
          ]
        },
        {
          "output_type": "stream",
          "name": "stdout",
          "text": [
            "156\n"
          ]
        },
        {
          "output_type": "stream",
          "name": "stderr",
          "text": [
            "\r157it [52:12, 20.02s/it]"
          ]
        },
        {
          "output_type": "stream",
          "name": "stdout",
          "text": [
            "157\n"
          ]
        },
        {
          "output_type": "stream",
          "name": "stderr",
          "text": [
            "\r158it [52:31, 19.87s/it]"
          ]
        },
        {
          "output_type": "stream",
          "name": "stdout",
          "text": [
            "158\n"
          ]
        },
        {
          "output_type": "stream",
          "name": "stderr",
          "text": [
            "\r159it [52:51, 19.74s/it]"
          ]
        },
        {
          "output_type": "stream",
          "name": "stdout",
          "text": [
            "159\n"
          ]
        },
        {
          "output_type": "stream",
          "name": "stderr",
          "text": [
            "\r160it [53:11, 20.01s/it]"
          ]
        },
        {
          "output_type": "stream",
          "name": "stdout",
          "text": [
            "160\n"
          ]
        },
        {
          "output_type": "stream",
          "name": "stderr",
          "text": [
            "\r161it [53:31, 19.90s/it]"
          ]
        },
        {
          "output_type": "stream",
          "name": "stdout",
          "text": [
            "161\n"
          ]
        },
        {
          "output_type": "stream",
          "name": "stderr",
          "text": [
            "\r162it [53:50, 19.71s/it]"
          ]
        },
        {
          "output_type": "stream",
          "name": "stdout",
          "text": [
            "162\n"
          ]
        },
        {
          "output_type": "stream",
          "name": "stderr",
          "text": [
            "\r163it [54:11, 20.05s/it]"
          ]
        },
        {
          "output_type": "stream",
          "name": "stdout",
          "text": [
            "163\n"
          ]
        },
        {
          "output_type": "stream",
          "name": "stderr",
          "text": [
            "\r164it [54:31, 20.18s/it]"
          ]
        },
        {
          "output_type": "stream",
          "name": "stdout",
          "text": [
            "164\n"
          ]
        },
        {
          "output_type": "stream",
          "name": "stderr",
          "text": [
            "\r165it [54:51, 20.12s/it]"
          ]
        },
        {
          "output_type": "stream",
          "name": "stdout",
          "text": [
            "165\n"
          ]
        },
        {
          "output_type": "stream",
          "name": "stderr",
          "text": [
            "\r166it [55:12, 20.11s/it]"
          ]
        },
        {
          "output_type": "stream",
          "name": "stdout",
          "text": [
            "166\n"
          ]
        },
        {
          "output_type": "stream",
          "name": "stderr",
          "text": [
            "\r167it [55:31, 19.96s/it]"
          ]
        },
        {
          "output_type": "stream",
          "name": "stdout",
          "text": [
            "167\n"
          ]
        },
        {
          "output_type": "stream",
          "name": "stderr",
          "text": [
            "\r168it [55:50, 19.74s/it]"
          ]
        },
        {
          "output_type": "stream",
          "name": "stdout",
          "text": [
            "168\n"
          ]
        },
        {
          "output_type": "stream",
          "name": "stderr",
          "text": [
            "\r169it [56:11, 19.94s/it]"
          ]
        },
        {
          "output_type": "stream",
          "name": "stdout",
          "text": [
            "169\n"
          ]
        },
        {
          "output_type": "stream",
          "name": "stderr",
          "text": [
            "\r170it [56:30, 19.68s/it]"
          ]
        },
        {
          "output_type": "stream",
          "name": "stdout",
          "text": [
            "170\n"
          ]
        },
        {
          "output_type": "stream",
          "name": "stderr",
          "text": [
            "\r171it [56:49, 19.39s/it]"
          ]
        },
        {
          "output_type": "stream",
          "name": "stdout",
          "text": [
            "171\n"
          ]
        },
        {
          "output_type": "stream",
          "name": "stderr",
          "text": [
            "\r172it [57:09, 19.80s/it]"
          ]
        },
        {
          "output_type": "stream",
          "name": "stdout",
          "text": [
            "172\n"
          ]
        },
        {
          "output_type": "stream",
          "name": "stderr",
          "text": [
            "\r173it [57:29, 19.86s/it]"
          ]
        },
        {
          "output_type": "stream",
          "name": "stdout",
          "text": [
            "173\n"
          ]
        },
        {
          "output_type": "stream",
          "name": "stderr",
          "text": [
            "\r174it [57:48, 19.47s/it]"
          ]
        },
        {
          "output_type": "stream",
          "name": "stdout",
          "text": [
            "174\n"
          ]
        },
        {
          "output_type": "stream",
          "name": "stderr",
          "text": [
            "\r175it [58:09, 19.83s/it]"
          ]
        },
        {
          "output_type": "stream",
          "name": "stdout",
          "text": [
            "175\n"
          ]
        },
        {
          "output_type": "stream",
          "name": "stderr",
          "text": [
            "\r176it [58:27, 19.51s/it]"
          ]
        },
        {
          "output_type": "stream",
          "name": "stdout",
          "text": [
            "176\n"
          ]
        },
        {
          "output_type": "stream",
          "name": "stderr",
          "text": [
            "\r177it [58:47, 19.69s/it]"
          ]
        },
        {
          "output_type": "stream",
          "name": "stdout",
          "text": [
            "177\n"
          ]
        },
        {
          "output_type": "stream",
          "name": "stderr",
          "text": [
            "\r178it [59:06, 19.48s/it]"
          ]
        },
        {
          "output_type": "stream",
          "name": "stdout",
          "text": [
            "178\n"
          ]
        },
        {
          "output_type": "stream",
          "name": "stderr",
          "text": [
            "\r179it [59:26, 19.48s/it]"
          ]
        },
        {
          "output_type": "stream",
          "name": "stdout",
          "text": [
            "179\n"
          ]
        },
        {
          "output_type": "stream",
          "name": "stderr",
          "text": [
            "\r180it [59:46, 19.52s/it]"
          ]
        },
        {
          "output_type": "stream",
          "name": "stdout",
          "text": [
            "180\n"
          ]
        },
        {
          "output_type": "stream",
          "name": "stderr",
          "text": [
            "\r181it [1:00:07, 19.98s/it]"
          ]
        },
        {
          "output_type": "stream",
          "name": "stdout",
          "text": [
            "181\n"
          ]
        },
        {
          "output_type": "stream",
          "name": "stderr",
          "text": [
            "\r182it [1:00:26, 19.88s/it]"
          ]
        },
        {
          "output_type": "stream",
          "name": "stdout",
          "text": [
            "182\n"
          ]
        },
        {
          "output_type": "stream",
          "name": "stderr",
          "text": [
            "\r183it [1:00:46, 19.92s/it]"
          ]
        },
        {
          "output_type": "stream",
          "name": "stdout",
          "text": [
            "183\n"
          ]
        },
        {
          "output_type": "stream",
          "name": "stderr",
          "text": [
            "\r184it [1:01:05, 19.60s/it]"
          ]
        },
        {
          "output_type": "stream",
          "name": "stdout",
          "text": [
            "184\n"
          ]
        },
        {
          "output_type": "stream",
          "name": "stderr",
          "text": [
            "\r185it [1:01:24, 19.48s/it]"
          ]
        },
        {
          "output_type": "stream",
          "name": "stdout",
          "text": [
            "185\n"
          ]
        },
        {
          "output_type": "stream",
          "name": "stderr",
          "text": [
            "\r186it [1:01:44, 19.47s/it]"
          ]
        },
        {
          "output_type": "stream",
          "name": "stdout",
          "text": [
            "186\n"
          ]
        },
        {
          "output_type": "stream",
          "name": "stderr",
          "text": [
            "\r187it [1:02:04, 19.63s/it]"
          ]
        },
        {
          "output_type": "stream",
          "name": "stdout",
          "text": [
            "187\n"
          ]
        },
        {
          "output_type": "stream",
          "name": "stderr",
          "text": [
            "\r188it [1:02:24, 19.87s/it]"
          ]
        },
        {
          "output_type": "stream",
          "name": "stdout",
          "text": [
            "188\n"
          ]
        },
        {
          "output_type": "stream",
          "name": "stderr",
          "text": [
            "\r189it [1:02:44, 19.85s/it]"
          ]
        },
        {
          "output_type": "stream",
          "name": "stdout",
          "text": [
            "189\n"
          ]
        },
        {
          "output_type": "stream",
          "name": "stderr",
          "text": [
            "\r190it [1:03:04, 19.83s/it]"
          ]
        },
        {
          "output_type": "stream",
          "name": "stdout",
          "text": [
            "190\n"
          ]
        },
        {
          "output_type": "stream",
          "name": "stderr",
          "text": [
            "\r191it [1:03:24, 19.84s/it]"
          ]
        },
        {
          "output_type": "stream",
          "name": "stdout",
          "text": [
            "191\n"
          ]
        },
        {
          "output_type": "stream",
          "name": "stderr",
          "text": [
            "\r192it [1:03:44, 19.93s/it]"
          ]
        },
        {
          "output_type": "stream",
          "name": "stdout",
          "text": [
            "192\n"
          ]
        },
        {
          "output_type": "stream",
          "name": "stderr",
          "text": [
            "\r193it [1:04:04, 19.91s/it]"
          ]
        },
        {
          "output_type": "stream",
          "name": "stdout",
          "text": [
            "193\n"
          ]
        },
        {
          "output_type": "stream",
          "name": "stderr",
          "text": [
            "\r194it [1:04:23, 19.76s/it]"
          ]
        },
        {
          "output_type": "stream",
          "name": "stdout",
          "text": [
            "194\n"
          ]
        },
        {
          "output_type": "stream",
          "name": "stderr",
          "text": [
            "\r195it [1:04:43, 19.96s/it]"
          ]
        },
        {
          "output_type": "stream",
          "name": "stdout",
          "text": [
            "195\n"
          ]
        },
        {
          "output_type": "stream",
          "name": "stderr",
          "text": [
            "\r196it [1:05:03, 19.82s/it]"
          ]
        },
        {
          "output_type": "stream",
          "name": "stdout",
          "text": [
            "196\n"
          ]
        },
        {
          "output_type": "stream",
          "name": "stderr",
          "text": [
            "\r197it [1:05:22, 19.65s/it]"
          ]
        },
        {
          "output_type": "stream",
          "name": "stdout",
          "text": [
            "197\n"
          ]
        },
        {
          "output_type": "stream",
          "name": "stderr",
          "text": [
            "\r198it [1:05:42, 19.80s/it]"
          ]
        },
        {
          "output_type": "stream",
          "name": "stdout",
          "text": [
            "198\n"
          ]
        },
        {
          "output_type": "stream",
          "name": "stderr",
          "text": [
            "\r199it [1:06:02, 19.78s/it]"
          ]
        },
        {
          "output_type": "stream",
          "name": "stdout",
          "text": [
            "199\n"
          ]
        },
        {
          "output_type": "stream",
          "name": "stderr",
          "text": [
            "\r200it [1:06:22, 19.77s/it]"
          ]
        },
        {
          "output_type": "stream",
          "name": "stdout",
          "text": [
            "200\n"
          ]
        },
        {
          "output_type": "stream",
          "name": "stderr",
          "text": [
            "\r201it [1:06:42, 20.00s/it]"
          ]
        },
        {
          "output_type": "stream",
          "name": "stdout",
          "text": [
            "201\n"
          ]
        },
        {
          "output_type": "stream",
          "name": "stderr",
          "text": [
            "\r202it [1:07:02, 19.85s/it]"
          ]
        },
        {
          "output_type": "stream",
          "name": "stdout",
          "text": [
            "202\n"
          ]
        },
        {
          "output_type": "stream",
          "name": "stderr",
          "text": [
            "\r203it [1:07:21, 19.55s/it]"
          ]
        },
        {
          "output_type": "stream",
          "name": "stdout",
          "text": [
            "203\n"
          ]
        },
        {
          "output_type": "stream",
          "name": "stderr",
          "text": [
            "\r204it [1:07:41, 19.70s/it]"
          ]
        },
        {
          "output_type": "stream",
          "name": "stdout",
          "text": [
            "204\n"
          ]
        },
        {
          "output_type": "stream",
          "name": "stderr",
          "text": [
            "\r205it [1:08:01, 19.84s/it]"
          ]
        },
        {
          "output_type": "stream",
          "name": "stdout",
          "text": [
            "205\n"
          ]
        },
        {
          "output_type": "stream",
          "name": "stderr",
          "text": [
            "\r206it [1:08:20, 19.54s/it]"
          ]
        },
        {
          "output_type": "stream",
          "name": "stdout",
          "text": [
            "206\n"
          ]
        },
        {
          "output_type": "stream",
          "name": "stderr",
          "text": [
            "\r207it [1:08:40, 19.84s/it]"
          ]
        },
        {
          "output_type": "stream",
          "name": "stdout",
          "text": [
            "207\n"
          ]
        },
        {
          "output_type": "stream",
          "name": "stderr",
          "text": [
            "\r208it [1:09:00, 19.70s/it]"
          ]
        },
        {
          "output_type": "stream",
          "name": "stdout",
          "text": [
            "208\n"
          ]
        },
        {
          "output_type": "stream",
          "name": "stderr",
          "text": [
            "\r209it [1:09:19, 19.56s/it]"
          ]
        },
        {
          "output_type": "stream",
          "name": "stdout",
          "text": [
            "209\n"
          ]
        },
        {
          "output_type": "stream",
          "name": "stderr",
          "text": [
            "\r210it [1:09:39, 19.68s/it]"
          ]
        },
        {
          "output_type": "stream",
          "name": "stdout",
          "text": [
            "210\n"
          ]
        },
        {
          "output_type": "stream",
          "name": "stderr",
          "text": [
            "\r211it [1:09:58, 19.46s/it]"
          ]
        },
        {
          "output_type": "stream",
          "name": "stdout",
          "text": [
            "211\n"
          ]
        },
        {
          "output_type": "stream",
          "name": "stderr",
          "text": [
            "\r212it [1:10:17, 19.41s/it]"
          ]
        },
        {
          "output_type": "stream",
          "name": "stdout",
          "text": [
            "212\n"
          ]
        },
        {
          "output_type": "stream",
          "name": "stderr",
          "text": [
            "\r213it [1:10:37, 19.40s/it]"
          ]
        },
        {
          "output_type": "stream",
          "name": "stdout",
          "text": [
            "213\n"
          ]
        },
        {
          "output_type": "stream",
          "name": "stderr",
          "text": [
            "\r214it [1:10:55, 19.10s/it]"
          ]
        },
        {
          "output_type": "stream",
          "name": "stdout",
          "text": [
            "214\n"
          ]
        },
        {
          "output_type": "stream",
          "name": "stderr",
          "text": [
            "\r215it [1:11:15, 19.39s/it]"
          ]
        },
        {
          "output_type": "stream",
          "name": "stdout",
          "text": [
            "215\n"
          ]
        },
        {
          "output_type": "stream",
          "name": "stderr",
          "text": [
            "\r216it [1:11:35, 19.48s/it]"
          ]
        },
        {
          "output_type": "stream",
          "name": "stdout",
          "text": [
            "216\n"
          ]
        },
        {
          "output_type": "stream",
          "name": "stderr",
          "text": [
            "\r217it [1:11:54, 19.49s/it]"
          ]
        },
        {
          "output_type": "stream",
          "name": "stdout",
          "text": [
            "217\n"
          ]
        },
        {
          "output_type": "stream",
          "name": "stderr",
          "text": [
            "\r218it [1:12:14, 19.64s/it]"
          ]
        },
        {
          "output_type": "stream",
          "name": "stdout",
          "text": [
            "218\n"
          ]
        },
        {
          "output_type": "stream",
          "name": "stderr",
          "text": [
            "\r219it [1:12:34, 19.84s/it]"
          ]
        },
        {
          "output_type": "stream",
          "name": "stdout",
          "text": [
            "219\n"
          ]
        },
        {
          "output_type": "stream",
          "name": "stderr",
          "text": [
            "\r220it [1:12:54, 19.87s/it]"
          ]
        },
        {
          "output_type": "stream",
          "name": "stdout",
          "text": [
            "220\n"
          ]
        },
        {
          "output_type": "stream",
          "name": "stderr",
          "text": [
            "\r221it [1:13:15, 20.13s/it]"
          ]
        },
        {
          "output_type": "stream",
          "name": "stdout",
          "text": [
            "221\n"
          ]
        },
        {
          "output_type": "stream",
          "name": "stderr",
          "text": [
            "\r222it [1:13:34, 19.89s/it]"
          ]
        },
        {
          "output_type": "stream",
          "name": "stdout",
          "text": [
            "222\n"
          ]
        },
        {
          "output_type": "stream",
          "name": "stderr",
          "text": [
            "\r223it [1:13:54, 19.86s/it]"
          ]
        },
        {
          "output_type": "stream",
          "name": "stdout",
          "text": [
            "223\n"
          ]
        },
        {
          "output_type": "stream",
          "name": "stderr",
          "text": [
            "\r224it [1:14:15, 20.11s/it]"
          ]
        },
        {
          "output_type": "stream",
          "name": "stdout",
          "text": [
            "224\n"
          ]
        },
        {
          "output_type": "stream",
          "name": "stderr",
          "text": [
            "\r225it [1:14:36, 20.25s/it]"
          ]
        },
        {
          "output_type": "stream",
          "name": "stdout",
          "text": [
            "225\n"
          ]
        },
        {
          "output_type": "stream",
          "name": "stderr",
          "text": [
            "\r226it [1:14:55, 20.15s/it]"
          ]
        },
        {
          "output_type": "stream",
          "name": "stdout",
          "text": [
            "226\n"
          ]
        },
        {
          "output_type": "stream",
          "name": "stderr",
          "text": [
            "\r227it [1:15:16, 20.28s/it]"
          ]
        },
        {
          "output_type": "stream",
          "name": "stdout",
          "text": [
            "227\n"
          ]
        },
        {
          "output_type": "stream",
          "name": "stderr",
          "text": [
            "\r228it [1:15:35, 19.90s/it]"
          ]
        },
        {
          "output_type": "stream",
          "name": "stdout",
          "text": [
            "228\n"
          ]
        },
        {
          "output_type": "stream",
          "name": "stderr",
          "text": [
            "\r229it [1:15:55, 19.85s/it]"
          ]
        },
        {
          "output_type": "stream",
          "name": "stdout",
          "text": [
            "229\n"
          ]
        },
        {
          "output_type": "stream",
          "name": "stderr",
          "text": [
            "\r230it [1:16:14, 19.81s/it]"
          ]
        },
        {
          "output_type": "stream",
          "name": "stdout",
          "text": [
            "230\n"
          ]
        },
        {
          "output_type": "stream",
          "name": "stderr",
          "text": [
            "\r231it [1:16:34, 19.75s/it]"
          ]
        },
        {
          "output_type": "stream",
          "name": "stdout",
          "text": [
            "231\n"
          ]
        },
        {
          "output_type": "stream",
          "name": "stderr",
          "text": [
            "\r232it [1:16:54, 19.90s/it]"
          ]
        },
        {
          "output_type": "stream",
          "name": "stdout",
          "text": [
            "232\n"
          ]
        },
        {
          "output_type": "stream",
          "name": "stderr",
          "text": [
            "\r233it [1:17:14, 19.83s/it]"
          ]
        },
        {
          "output_type": "stream",
          "name": "stdout",
          "text": [
            "233\n"
          ]
        },
        {
          "output_type": "stream",
          "name": "stderr",
          "text": [
            "\r234it [1:17:35, 20.11s/it]"
          ]
        },
        {
          "output_type": "stream",
          "name": "stdout",
          "text": [
            "234\n"
          ]
        },
        {
          "output_type": "stream",
          "name": "stderr",
          "text": [
            "\r235it [1:17:54, 19.75s/it]"
          ]
        },
        {
          "output_type": "stream",
          "name": "stdout",
          "text": [
            "235\n"
          ]
        },
        {
          "output_type": "stream",
          "name": "stderr",
          "text": [
            "\r236it [1:18:13, 19.77s/it]"
          ]
        },
        {
          "output_type": "stream",
          "name": "stdout",
          "text": [
            "236\n"
          ]
        },
        {
          "output_type": "stream",
          "name": "stderr",
          "text": [
            "\r237it [1:18:33, 19.61s/it]"
          ]
        },
        {
          "output_type": "stream",
          "name": "stdout",
          "text": [
            "237\n"
          ]
        },
        {
          "output_type": "stream",
          "name": "stderr",
          "text": [
            "\r238it [1:18:52, 19.64s/it]"
          ]
        },
        {
          "output_type": "stream",
          "name": "stdout",
          "text": [
            "238\n"
          ]
        },
        {
          "output_type": "stream",
          "name": "stderr",
          "text": [
            "\r239it [1:19:11, 19.40s/it]"
          ]
        },
        {
          "output_type": "stream",
          "name": "stdout",
          "text": [
            "239\n"
          ]
        },
        {
          "output_type": "stream",
          "name": "stderr",
          "text": [
            "\r240it [1:19:31, 19.42s/it]"
          ]
        },
        {
          "output_type": "stream",
          "name": "stdout",
          "text": [
            "240\n"
          ]
        },
        {
          "output_type": "stream",
          "name": "stderr",
          "text": [
            "\r241it [1:19:51, 19.65s/it]"
          ]
        },
        {
          "output_type": "stream",
          "name": "stdout",
          "text": [
            "241\n"
          ]
        },
        {
          "output_type": "stream",
          "name": "stderr",
          "text": [
            "\r242it [1:20:11, 19.68s/it]"
          ]
        },
        {
          "output_type": "stream",
          "name": "stdout",
          "text": [
            "242\n"
          ]
        },
        {
          "output_type": "stream",
          "name": "stderr",
          "text": [
            "\r243it [1:20:30, 19.55s/it]"
          ]
        },
        {
          "output_type": "stream",
          "name": "stdout",
          "text": [
            "243\n"
          ]
        },
        {
          "output_type": "stream",
          "name": "stderr",
          "text": [
            "\r244it [1:20:49, 19.37s/it]"
          ]
        },
        {
          "output_type": "stream",
          "name": "stdout",
          "text": [
            "244\n"
          ]
        },
        {
          "output_type": "stream",
          "name": "stderr",
          "text": [
            "\r245it [1:21:09, 19.55s/it]"
          ]
        },
        {
          "output_type": "stream",
          "name": "stdout",
          "text": [
            "245\n"
          ]
        },
        {
          "output_type": "stream",
          "name": "stderr",
          "text": [
            "\r246it [1:21:28, 19.42s/it]"
          ]
        },
        {
          "output_type": "stream",
          "name": "stdout",
          "text": [
            "246\n"
          ]
        },
        {
          "output_type": "stream",
          "name": "stderr",
          "text": [
            "\r247it [1:21:47, 19.38s/it]"
          ]
        },
        {
          "output_type": "stream",
          "name": "stdout",
          "text": [
            "247\n"
          ]
        },
        {
          "output_type": "stream",
          "name": "stderr",
          "text": [
            "\r248it [1:22:07, 19.56s/it]"
          ]
        },
        {
          "output_type": "stream",
          "name": "stdout",
          "text": [
            "248\n"
          ]
        },
        {
          "output_type": "stream",
          "name": "stderr",
          "text": [
            "\r249it [1:22:27, 19.49s/it]"
          ]
        },
        {
          "output_type": "stream",
          "name": "stdout",
          "text": [
            "249\n"
          ]
        },
        {
          "output_type": "stream",
          "name": "stderr",
          "text": [
            "\r250it [1:22:46, 19.60s/it]"
          ]
        },
        {
          "output_type": "stream",
          "name": "stdout",
          "text": [
            "250\n"
          ]
        },
        {
          "output_type": "stream",
          "name": "stderr",
          "text": [
            "\r251it [1:23:06, 19.66s/it]"
          ]
        },
        {
          "output_type": "stream",
          "name": "stdout",
          "text": [
            "251\n"
          ]
        },
        {
          "output_type": "stream",
          "name": "stderr",
          "text": [
            "\r252it [1:23:26, 19.61s/it]"
          ]
        },
        {
          "output_type": "stream",
          "name": "stdout",
          "text": [
            "252\n"
          ]
        },
        {
          "output_type": "stream",
          "name": "stderr",
          "text": [
            "\r253it [1:23:46, 19.81s/it]"
          ]
        },
        {
          "output_type": "stream",
          "name": "stdout",
          "text": [
            "253\n"
          ]
        },
        {
          "output_type": "stream",
          "name": "stderr",
          "text": [
            "\r254it [1:24:05, 19.44s/it]"
          ]
        },
        {
          "output_type": "stream",
          "name": "stdout",
          "text": [
            "254\n"
          ]
        },
        {
          "output_type": "stream",
          "name": "stderr",
          "text": [
            "\r255it [1:24:25, 19.71s/it]"
          ]
        },
        {
          "output_type": "stream",
          "name": "stdout",
          "text": [
            "255\n"
          ]
        },
        {
          "output_type": "stream",
          "name": "stderr",
          "text": [
            "\r256it [1:24:44, 19.65s/it]"
          ]
        },
        {
          "output_type": "stream",
          "name": "stdout",
          "text": [
            "256\n"
          ]
        },
        {
          "output_type": "stream",
          "name": "stderr",
          "text": [
            "\r257it [1:25:04, 19.53s/it]"
          ]
        },
        {
          "output_type": "stream",
          "name": "stdout",
          "text": [
            "257\n"
          ]
        },
        {
          "output_type": "stream",
          "name": "stderr",
          "text": [
            "\r258it [1:25:24, 19.75s/it]"
          ]
        },
        {
          "output_type": "stream",
          "name": "stdout",
          "text": [
            "258\n"
          ]
        },
        {
          "output_type": "stream",
          "name": "stderr",
          "text": [
            "\r259it [1:25:43, 19.61s/it]"
          ]
        },
        {
          "output_type": "stream",
          "name": "stdout",
          "text": [
            "259\n"
          ]
        },
        {
          "output_type": "stream",
          "name": "stderr",
          "text": [
            "\r260it [1:26:04, 19.87s/it]"
          ]
        },
        {
          "output_type": "stream",
          "name": "stdout",
          "text": [
            "260\n"
          ]
        },
        {
          "output_type": "stream",
          "name": "stderr",
          "text": [
            "\r261it [1:26:24, 19.97s/it]"
          ]
        },
        {
          "output_type": "stream",
          "name": "stdout",
          "text": [
            "261\n"
          ]
        },
        {
          "output_type": "stream",
          "name": "stderr",
          "text": [
            "\r262it [1:26:45, 20.23s/it]"
          ]
        },
        {
          "output_type": "stream",
          "name": "stdout",
          "text": [
            "262\n"
          ]
        },
        {
          "output_type": "stream",
          "name": "stderr",
          "text": [
            "\r263it [1:27:04, 19.92s/it]"
          ]
        },
        {
          "output_type": "stream",
          "name": "stdout",
          "text": [
            "263\n"
          ]
        },
        {
          "output_type": "stream",
          "name": "stderr",
          "text": [
            "\r264it [1:27:23, 19.81s/it]"
          ]
        },
        {
          "output_type": "stream",
          "name": "stdout",
          "text": [
            "264\n"
          ]
        },
        {
          "output_type": "stream",
          "name": "stderr",
          "text": [
            "\r265it [1:27:43, 19.68s/it]"
          ]
        },
        {
          "output_type": "stream",
          "name": "stdout",
          "text": [
            "265\n"
          ]
        },
        {
          "output_type": "stream",
          "name": "stderr",
          "text": [
            "\r266it [1:28:02, 19.65s/it]"
          ]
        },
        {
          "output_type": "stream",
          "name": "stdout",
          "text": [
            "266\n"
          ]
        },
        {
          "output_type": "stream",
          "name": "stderr",
          "text": [
            "\r267it [1:28:23, 19.89s/it]"
          ]
        },
        {
          "output_type": "stream",
          "name": "stdout",
          "text": [
            "267\n"
          ]
        },
        {
          "output_type": "stream",
          "name": "stderr",
          "text": [
            "\r268it [1:28:43, 19.81s/it]"
          ]
        },
        {
          "output_type": "stream",
          "name": "stdout",
          "text": [
            "268\n"
          ]
        },
        {
          "output_type": "stream",
          "name": "stderr",
          "text": [
            "\r269it [1:29:02, 19.62s/it]"
          ]
        },
        {
          "output_type": "stream",
          "name": "stdout",
          "text": [
            "269\n"
          ]
        },
        {
          "output_type": "stream",
          "name": "stderr",
          "text": [
            "\r270it [1:29:22, 19.70s/it]"
          ]
        },
        {
          "output_type": "stream",
          "name": "stdout",
          "text": [
            "270\n"
          ]
        },
        {
          "output_type": "stream",
          "name": "stderr",
          "text": [
            "\r271it [1:29:43, 20.15s/it]"
          ]
        },
        {
          "output_type": "stream",
          "name": "stdout",
          "text": [
            "271\n"
          ]
        },
        {
          "output_type": "stream",
          "name": "stderr",
          "text": [
            "\r272it [1:30:04, 20.35s/it]"
          ]
        },
        {
          "output_type": "stream",
          "name": "stdout",
          "text": [
            "272\n"
          ]
        },
        {
          "output_type": "stream",
          "name": "stderr",
          "text": [
            "\r273it [1:30:23, 20.19s/it]"
          ]
        },
        {
          "output_type": "stream",
          "name": "stdout",
          "text": [
            "273\n"
          ]
        },
        {
          "output_type": "stream",
          "name": "stderr",
          "text": [
            "\r274it [1:30:43, 19.94s/it]"
          ]
        },
        {
          "output_type": "stream",
          "name": "stdout",
          "text": [
            "274\n"
          ]
        },
        {
          "output_type": "stream",
          "name": "stderr",
          "text": [
            "\r275it [1:31:03, 20.02s/it]"
          ]
        },
        {
          "output_type": "stream",
          "name": "stdout",
          "text": [
            "275\n"
          ]
        },
        {
          "output_type": "stream",
          "name": "stderr",
          "text": [
            "\r276it [1:31:23, 20.00s/it]"
          ]
        },
        {
          "output_type": "stream",
          "name": "stdout",
          "text": [
            "276\n"
          ]
        },
        {
          "output_type": "stream",
          "name": "stderr",
          "text": [
            "\r277it [1:31:43, 20.15s/it]"
          ]
        },
        {
          "output_type": "stream",
          "name": "stdout",
          "text": [
            "277\n"
          ]
        },
        {
          "output_type": "stream",
          "name": "stderr",
          "text": [
            "\r278it [1:32:02, 19.79s/it]"
          ]
        },
        {
          "output_type": "stream",
          "name": "stdout",
          "text": [
            "278\n"
          ]
        },
        {
          "output_type": "stream",
          "name": "stderr",
          "text": [
            "\r279it [1:32:22, 19.85s/it]"
          ]
        },
        {
          "output_type": "stream",
          "name": "stdout",
          "text": [
            "279\n"
          ]
        },
        {
          "output_type": "stream",
          "name": "stderr",
          "text": [
            "\r280it [1:32:43, 19.97s/it]"
          ]
        },
        {
          "output_type": "stream",
          "name": "stdout",
          "text": [
            "280\n"
          ]
        },
        {
          "output_type": "stream",
          "name": "stderr",
          "text": [
            "\r281it [1:33:02, 19.75s/it]"
          ]
        },
        {
          "output_type": "stream",
          "name": "stdout",
          "text": [
            "281\n"
          ]
        },
        {
          "output_type": "stream",
          "name": "stderr",
          "text": [
            "\r282it [1:33:22, 19.86s/it]"
          ]
        },
        {
          "output_type": "stream",
          "name": "stdout",
          "text": [
            "282\n"
          ]
        },
        {
          "output_type": "stream",
          "name": "stderr",
          "text": [
            "\r283it [1:33:43, 20.17s/it]"
          ]
        },
        {
          "output_type": "stream",
          "name": "stdout",
          "text": [
            "283\n"
          ]
        },
        {
          "output_type": "stream",
          "name": "stderr",
          "text": [
            "\r284it [1:34:02, 19.93s/it]"
          ]
        },
        {
          "output_type": "stream",
          "name": "stdout",
          "text": [
            "284\n"
          ]
        },
        {
          "output_type": "stream",
          "name": "stderr",
          "text": [
            "\r285it [1:34:22, 19.93s/it]"
          ]
        },
        {
          "output_type": "stream",
          "name": "stdout",
          "text": [
            "285\n"
          ]
        },
        {
          "output_type": "stream",
          "name": "stderr",
          "text": [
            "\r286it [1:34:42, 19.95s/it]"
          ]
        },
        {
          "output_type": "stream",
          "name": "stdout",
          "text": [
            "286\n"
          ]
        },
        {
          "output_type": "stream",
          "name": "stderr",
          "text": [
            "\r287it [1:35:03, 20.09s/it]"
          ]
        },
        {
          "output_type": "stream",
          "name": "stdout",
          "text": [
            "287\n"
          ]
        },
        {
          "output_type": "stream",
          "name": "stderr",
          "text": [
            "\r288it [1:35:22, 20.00s/it]"
          ]
        },
        {
          "output_type": "stream",
          "name": "stdout",
          "text": [
            "288\n"
          ]
        },
        {
          "output_type": "stream",
          "name": "stderr",
          "text": [
            "\r289it [1:35:43, 20.28s/it]"
          ]
        },
        {
          "output_type": "stream",
          "name": "stdout",
          "text": [
            "289\n"
          ]
        },
        {
          "output_type": "stream",
          "name": "stderr",
          "text": [
            "\r290it [1:36:03, 20.17s/it]"
          ]
        },
        {
          "output_type": "stream",
          "name": "stdout",
          "text": [
            "290\n"
          ]
        },
        {
          "output_type": "stream",
          "name": "stderr",
          "text": [
            "\r291it [1:36:24, 20.28s/it]"
          ]
        },
        {
          "output_type": "stream",
          "name": "stdout",
          "text": [
            "291\n"
          ]
        },
        {
          "output_type": "stream",
          "name": "stderr",
          "text": [
            "\r292it [1:36:45, 20.44s/it]"
          ]
        },
        {
          "output_type": "stream",
          "name": "stdout",
          "text": [
            "292\n"
          ]
        },
        {
          "output_type": "stream",
          "name": "stderr",
          "text": [
            "\r293it [1:37:06, 20.67s/it]"
          ]
        },
        {
          "output_type": "stream",
          "name": "stdout",
          "text": [
            "293\n"
          ]
        },
        {
          "output_type": "stream",
          "name": "stderr",
          "text": [
            "\r294it [1:37:26, 20.68s/it]"
          ]
        },
        {
          "output_type": "stream",
          "name": "stdout",
          "text": [
            "294\n"
          ]
        },
        {
          "output_type": "stream",
          "name": "stderr",
          "text": [
            "\r295it [1:37:46, 20.47s/it]"
          ]
        },
        {
          "output_type": "stream",
          "name": "stdout",
          "text": [
            "295\n"
          ]
        },
        {
          "output_type": "stream",
          "name": "stderr",
          "text": [
            "\r296it [1:38:07, 20.48s/it]"
          ]
        },
        {
          "output_type": "stream",
          "name": "stdout",
          "text": [
            "296\n"
          ]
        },
        {
          "output_type": "stream",
          "name": "stderr",
          "text": [
            "\r297it [1:38:28, 20.55s/it]"
          ]
        },
        {
          "output_type": "stream",
          "name": "stdout",
          "text": [
            "297\n"
          ]
        },
        {
          "output_type": "stream",
          "name": "stderr",
          "text": [
            "\r298it [1:38:48, 20.40s/it]"
          ]
        },
        {
          "output_type": "stream",
          "name": "stdout",
          "text": [
            "298\n"
          ]
        },
        {
          "output_type": "stream",
          "name": "stderr",
          "text": [
            "\r299it [1:39:09, 20.59s/it]"
          ]
        },
        {
          "output_type": "stream",
          "name": "stdout",
          "text": [
            "299\n"
          ]
        },
        {
          "output_type": "stream",
          "name": "stderr",
          "text": [
            "\r300it [1:39:29, 20.55s/it]"
          ]
        },
        {
          "output_type": "stream",
          "name": "stdout",
          "text": [
            "300\n"
          ]
        },
        {
          "output_type": "stream",
          "name": "stderr",
          "text": [
            "\r301it [1:39:49, 20.31s/it]"
          ]
        },
        {
          "output_type": "stream",
          "name": "stdout",
          "text": [
            "301\n"
          ]
        },
        {
          "output_type": "stream",
          "name": "stderr",
          "text": [
            "\r302it [1:40:10, 20.42s/it]"
          ]
        },
        {
          "output_type": "stream",
          "name": "stdout",
          "text": [
            "302\n"
          ]
        },
        {
          "output_type": "stream",
          "name": "stderr",
          "text": [
            "\r303it [1:40:31, 20.57s/it]"
          ]
        },
        {
          "output_type": "stream",
          "name": "stdout",
          "text": [
            "303\n"
          ]
        },
        {
          "output_type": "stream",
          "name": "stderr",
          "text": [
            "\r304it [1:40:50, 20.13s/it]"
          ]
        },
        {
          "output_type": "stream",
          "name": "stdout",
          "text": [
            "304\n"
          ]
        },
        {
          "output_type": "stream",
          "name": "stderr",
          "text": [
            "\r305it [1:41:12, 20.68s/it]"
          ]
        },
        {
          "output_type": "stream",
          "name": "stdout",
          "text": [
            "305\n"
          ]
        },
        {
          "output_type": "stream",
          "name": "stderr",
          "text": [
            "\r306it [1:41:30, 20.15s/it]"
          ]
        },
        {
          "output_type": "stream",
          "name": "stdout",
          "text": [
            "306\n"
          ]
        },
        {
          "output_type": "stream",
          "name": "stderr",
          "text": [
            "\r307it [1:41:52, 20.45s/it]"
          ]
        },
        {
          "output_type": "stream",
          "name": "stdout",
          "text": [
            "307\n"
          ]
        },
        {
          "output_type": "stream",
          "name": "stderr",
          "text": [
            "\r308it [1:42:12, 20.54s/it]"
          ]
        },
        {
          "output_type": "stream",
          "name": "stdout",
          "text": [
            "308\n"
          ]
        },
        {
          "output_type": "stream",
          "name": "stderr",
          "text": [
            "\r309it [1:42:33, 20.47s/it]"
          ]
        },
        {
          "output_type": "stream",
          "name": "stdout",
          "text": [
            "309\n"
          ]
        },
        {
          "output_type": "stream",
          "name": "stderr",
          "text": [
            "\r310it [1:42:54, 20.61s/it]"
          ]
        },
        {
          "output_type": "stream",
          "name": "stdout",
          "text": [
            "310\n"
          ]
        },
        {
          "output_type": "stream",
          "name": "stderr",
          "text": [
            "\r311it [1:43:13, 20.36s/it]"
          ]
        },
        {
          "output_type": "stream",
          "name": "stdout",
          "text": [
            "311\n"
          ]
        },
        {
          "output_type": "stream",
          "name": "stderr",
          "text": [
            "\r312it [1:43:34, 20.39s/it]"
          ]
        },
        {
          "output_type": "stream",
          "name": "stdout",
          "text": [
            "312\n"
          ]
        },
        {
          "output_type": "stream",
          "name": "stderr",
          "text": [
            "\r313it [1:43:55, 20.51s/it]"
          ]
        },
        {
          "output_type": "stream",
          "name": "stdout",
          "text": [
            "313\n"
          ]
        },
        {
          "output_type": "stream",
          "name": "stderr",
          "text": [
            "\r314it [1:44:13, 19.95s/it]"
          ]
        },
        {
          "output_type": "stream",
          "name": "stdout",
          "text": [
            "314\n"
          ]
        },
        {
          "output_type": "stream",
          "name": "stderr",
          "text": [
            "\r315it [1:44:34, 20.22s/it]"
          ]
        },
        {
          "output_type": "stream",
          "name": "stdout",
          "text": [
            "315\n"
          ]
        },
        {
          "output_type": "stream",
          "name": "stderr",
          "text": [
            "\r316it [1:44:56, 20.61s/it]"
          ]
        },
        {
          "output_type": "stream",
          "name": "stdout",
          "text": [
            "316\n"
          ]
        },
        {
          "output_type": "stream",
          "name": "stderr",
          "text": [
            "\r317it [1:45:15, 20.24s/it]"
          ]
        },
        {
          "output_type": "stream",
          "name": "stdout",
          "text": [
            "317\n"
          ]
        },
        {
          "output_type": "stream",
          "name": "stderr",
          "text": [
            "\r318it [1:45:34, 19.98s/it]"
          ]
        },
        {
          "output_type": "stream",
          "name": "stdout",
          "text": [
            "318\n"
          ]
        },
        {
          "output_type": "stream",
          "name": "stderr",
          "text": [
            "\r319it [1:45:54, 19.82s/it]"
          ]
        },
        {
          "output_type": "stream",
          "name": "stdout",
          "text": [
            "319\n"
          ]
        },
        {
          "output_type": "stream",
          "name": "stderr",
          "text": [
            "\r320it [1:46:14, 19.84s/it]"
          ]
        },
        {
          "output_type": "stream",
          "name": "stdout",
          "text": [
            "320\n"
          ]
        },
        {
          "output_type": "stream",
          "name": "stderr",
          "text": [
            "\r321it [1:46:33, 19.61s/it]"
          ]
        },
        {
          "output_type": "stream",
          "name": "stdout",
          "text": [
            "321\n"
          ]
        },
        {
          "output_type": "stream",
          "name": "stderr",
          "text": [
            "\r322it [1:46:54, 19.96s/it]"
          ]
        },
        {
          "output_type": "stream",
          "name": "stdout",
          "text": [
            "322\n"
          ]
        },
        {
          "output_type": "stream",
          "name": "stderr",
          "text": [
            "\r323it [1:47:13, 19.91s/it]"
          ]
        },
        {
          "output_type": "stream",
          "name": "stdout",
          "text": [
            "323\n"
          ]
        },
        {
          "output_type": "stream",
          "name": "stderr",
          "text": [
            "\r324it [1:47:33, 19.80s/it]"
          ]
        },
        {
          "output_type": "stream",
          "name": "stdout",
          "text": [
            "324\n"
          ]
        },
        {
          "output_type": "stream",
          "name": "stderr",
          "text": [
            "\r325it [1:47:53, 19.74s/it]"
          ]
        },
        {
          "output_type": "stream",
          "name": "stdout",
          "text": [
            "325\n"
          ]
        },
        {
          "output_type": "stream",
          "name": "stderr",
          "text": [
            "\r326it [1:48:12, 19.65s/it]"
          ]
        },
        {
          "output_type": "stream",
          "name": "stdout",
          "text": [
            "326\n"
          ]
        },
        {
          "output_type": "stream",
          "name": "stderr",
          "text": [
            "\r327it [1:48:32, 19.79s/it]"
          ]
        },
        {
          "output_type": "stream",
          "name": "stdout",
          "text": [
            "327\n"
          ]
        },
        {
          "output_type": "stream",
          "name": "stderr",
          "text": [
            "\r328it [1:48:51, 19.61s/it]"
          ]
        },
        {
          "output_type": "stream",
          "name": "stdout",
          "text": [
            "328\n"
          ]
        },
        {
          "output_type": "stream",
          "name": "stderr",
          "text": [
            "\r329it [1:49:11, 19.66s/it]"
          ]
        },
        {
          "output_type": "stream",
          "name": "stdout",
          "text": [
            "329\n"
          ]
        },
        {
          "output_type": "stream",
          "name": "stderr",
          "text": [
            "\r330it [1:49:30, 19.53s/it]"
          ]
        },
        {
          "output_type": "stream",
          "name": "stdout",
          "text": [
            "330\n"
          ]
        },
        {
          "output_type": "stream",
          "name": "stderr",
          "text": [
            "\r331it [1:49:49, 19.38s/it]"
          ]
        },
        {
          "output_type": "stream",
          "name": "stdout",
          "text": [
            "331\n"
          ]
        },
        {
          "output_type": "stream",
          "name": "stderr",
          "text": [
            "\r332it [1:50:10, 19.75s/it]"
          ]
        },
        {
          "output_type": "stream",
          "name": "stdout",
          "text": [
            "332\n"
          ]
        },
        {
          "output_type": "stream",
          "name": "stderr",
          "text": [
            "\r333it [1:50:30, 19.85s/it]"
          ]
        },
        {
          "output_type": "stream",
          "name": "stdout",
          "text": [
            "333\n"
          ]
        },
        {
          "output_type": "stream",
          "name": "stderr",
          "text": [
            "\r334it [1:50:49, 19.62s/it]"
          ]
        },
        {
          "output_type": "stream",
          "name": "stdout",
          "text": [
            "334\n"
          ]
        },
        {
          "output_type": "stream",
          "name": "stderr",
          "text": [
            "\r335it [1:51:10, 19.88s/it]"
          ]
        },
        {
          "output_type": "stream",
          "name": "stdout",
          "text": [
            "335\n"
          ]
        },
        {
          "output_type": "stream",
          "name": "stderr",
          "text": [
            "\r336it [1:51:30, 19.90s/it]"
          ]
        },
        {
          "output_type": "stream",
          "name": "stdout",
          "text": [
            "336\n"
          ]
        },
        {
          "output_type": "stream",
          "name": "stderr",
          "text": [
            "\r337it [1:51:49, 19.74s/it]"
          ]
        },
        {
          "output_type": "stream",
          "name": "stdout",
          "text": [
            "337\n"
          ]
        },
        {
          "output_type": "stream",
          "name": "stderr",
          "text": [
            "\r338it [1:52:08, 19.60s/it]"
          ]
        },
        {
          "output_type": "stream",
          "name": "stdout",
          "text": [
            "338\n"
          ]
        },
        {
          "output_type": "stream",
          "name": "stderr",
          "text": [
            "339it [1:52:28, 19.91s/it]\n"
          ]
        }
      ],
      "source": [
        "\n",
        "for epoch, batch in tqdm(enumerate(ppo_trainer.dataloader)):\n",
        "    query_tensors = batch[\"input_ids\"]\n",
        "    print(epoch)\n",
        "\n",
        "    #### Get response from gpt2\n",
        "    response_tensors = []\n",
        "    for query in query_tensors:\n",
        "        gen_len                             = output_length_sampler()\n",
        "        generation_kwargs[\"max_new_tokens\"] = gen_len\n",
        "        response                            = ppo_trainer.generate(query, **generation_kwargs)\n",
        "        response_tensors.append( response.squeeze()[-gen_len:] )\n",
        "    batch[\"response\"] = [ tokenizer.decode(r.squeeze()) for r in response_tensors ]\n",
        "\n",
        "    #### Compute sentiment score\n",
        "    texts = [q + r for q, r in zip(batch[\"query\"], batch[\"response\"])]\n",
        "    pipe_outputs = sentiment_pipe(texts, **sent_kwargs)\n",
        "    rewards = [ torch.tensor(output[5][\"score\"]) for output in pipe_outputs]\n",
        "\n",
        "    #### Run PPO step\n",
        "    stats = ppo_trainer.step(\n",
        "                     query_tensors,\n",
        "                     response_tensors,\n",
        "                     rewards\n",
        "    )\n",
        "    ppo_trainer.log_stats(stats, batch, rewards)\n",
        "\n"
      ]
    },
    {
      "cell_type": "code",
      "execution_count": 45,
      "metadata": {
        "id": "DGLWLZlWWHNw"
      },
      "outputs": [],
      "source": []
    },
    {
      "cell_type": "code",
      "execution_count": 46,
      "metadata": {
        "colab": {
          "base_uri": "https://localhost:8080/",
          "height": 35
        },
        "id": "qm7QgAbkWHNw",
        "outputId": "943aa5c4-52f2-4b50-e230-d5a20c52f4c5"
      },
      "outputs": [
        {
          "output_type": "execute_result",
          "data": {
            "text/plain": [
              "'Tesla T4'"
            ],
            "application/vnd.google.colaboratory.intrinsic+json": {
              "type": "string"
            }
          },
          "metadata": {},
          "execution_count": 46
        }
      ],
      "source": [
        "\n",
        "torch.cuda.get_device_name(0)\n"
      ]
    },
    {
      "cell_type": "markdown",
      "metadata": {
        "id": "8sA8VvyXWHNw"
      },
      "source": [
        "\n",
        "One can observe how the model starts to generate more positive outputs after a few optimisation steps.\n",
        "\n",
        "Note: Investigating the KL-divergence will probably show that at this point the model has not converged to the target KL-divergence, yet. To get there would require longer training or starting with a higher initial coefficient.\n"
      ]
    },
    {
      "cell_type": "markdown",
      "metadata": {
        "id": "x0IjvPoyWHNw"
      },
      "source": [
        "\n",
        "Let's inspect some examples from the IMDB dataset. We can use model_ref to compare the tuned model model against the model before optimisation.\n"
      ]
    },
    {
      "cell_type": "code",
      "execution_count": 47,
      "metadata": {
        "id": "AUBtMIezWHNw"
      },
      "outputs": [],
      "source": [
        "\n",
        "#### get a batch from the dataset\n",
        "bs                 = 16\n",
        "game_data          = dict()\n"
      ]
    },
    {
      "cell_type": "code",
      "execution_count": 48,
      "metadata": {
        "colab": {
          "base_uri": "https://localhost:8080/"
        },
        "id": "zrKnDvOvWHNx",
        "outputId": "96781399-1e15-40b1-d0ee-814051f4c447"
      },
      "outputs": [
        {
          "output_type": "execute_result",
          "data": {
            "text/plain": [
              "{}"
            ]
          },
          "metadata": {},
          "execution_count": 48
        }
      ],
      "source": [
        "\n",
        "game_data\n"
      ]
    },
    {
      "cell_type": "code",
      "execution_count": 49,
      "metadata": {
        "id": "QS70SbpWWHNx"
      },
      "outputs": [],
      "source": [
        "\n",
        "dataset.set_format(\"pandas\")\n"
      ]
    },
    {
      "cell_type": "code",
      "execution_count": 50,
      "metadata": {
        "colab": {
          "base_uri": "https://localhost:8080/",
          "height": 551
        },
        "id": "Uu__9nCZWHNx",
        "outputId": "9a37a450-3d29-4c74-9240-635909427f80"
      },
      "outputs": [
        {
          "output_type": "execute_result",
          "data": {
            "text/plain": [
              "                                                  review       labels  \\\n",
              "12330  I dated a girl from Broomfield Colorado. She'd...          [4]   \n",
              "9215   You really need to stop hanging out with those...     [10, 27]   \n",
              "778                            Looks deliriously boring.          [3]   \n",
              "3843   TYT is a gossip shitpost panel for race baitin...  [3, 10, 11]   \n",
              "5245                      “You bring home gifts in bag.”         [27]   \n",
              "6191     So..the head [NAME], is afraid of being rammed?          [6]   \n",
              "32019    I’ll be honest, I didn’t expect that to be real          [4]   \n",
              "36276                                  Congratulatioins!         [15]   \n",
              "26729  Yes it does. I kept doing this for 2 mins. But...          [4]   \n",
              "6199   Yea ur right on that but that doesn't really n...          [4]   \n",
              "27105                                          Big Sexy!         [27]   \n",
              "11876  Because deep down you know that you really don...         [15]   \n",
              "30964  Fuuuuck. I am so angry that this can even happen.          [2]   \n",
              "8210                                  Laughed. Out. Loud          [1]   \n",
              "39204  Please go to youtube and leave a comment and s...         [13]   \n",
              "26439  Maybe someone up there is wondering what it's ...          [7]   \n",
              "\n",
              "            id                                input_ids  \\\n",
              "12330  ed5d4hm              [40, 14567, 257, 2576, 422]   \n",
              "9215   eeqm77h             [1639, 1107, 761, 284, 2245]   \n",
              "778    eeyg7qy                       [41102, 1619, 343]   \n",
              "3843   edg81eo  [9936, 51, 318, 257, 30914, 7510, 7353]   \n",
              "5245   edxv5xg      [447, 250, 1639, 2222, 1363, 13201]   \n",
              "6191   eesiyw1      [2396, 492, 1169, 1182, 685, 20608]   \n",
              "32019  eerzcr2       [40, 447, 247, 297, 307, 5508, 11]   \n",
              "36276  edm66kk                      [18649, 10366, 377]   \n",
              "26729  eevt50a                     [5297, 340, 857, 13]   \n",
              "6199   eeb4yu8              [56, 18213, 2956, 826, 319]   \n",
              "27105  edo9na2                        [12804, 49131, 0]   \n",
              "11876  ed5oc9p         [8128, 2769, 866, 345, 760, 326]   \n",
              "30964  eeomm4p      [37, 12303, 84, 1347, 13, 314, 716]   \n",
              "8210   eeep85e                          [43, 13726, 13]   \n",
              "39204  ed1bmyn                  [5492, 467, 284, 35116]   \n",
              "26439  eezkqmm                            [13300, 2130]   \n",
              "\n",
              "                                 query  \n",
              "12330              I dated a girl from  \n",
              "9215           You really need to stop  \n",
              "778                        Looks delir  \n",
              "3843          TYT is a gossip shitpost  \n",
              "5245             “You bring home gifts  \n",
              "6191                So..the head [NAME  \n",
              "32019                  I’ll be honest,  \n",
              "36276                        Congratul  \n",
              "26729                     Yes it does.  \n",
              "6199                   Yea ur right on  \n",
              "27105                        Big Sexy!  \n",
              "11876  Because deep down you know that  \n",
              "30964                    Fuuuuck. I am  \n",
              "8210                          Laughed.  \n",
              "39204             Please go to youtube  \n",
              "26439                    Maybe someone  "
            ],
            "text/html": [
              "\n",
              "  <div id=\"df-67ebdd94-19de-4234-94c5-c4c01f2d7e3f\" class=\"colab-df-container\">\n",
              "    <div>\n",
              "<style scoped>\n",
              "    .dataframe tbody tr th:only-of-type {\n",
              "        vertical-align: middle;\n",
              "    }\n",
              "\n",
              "    .dataframe tbody tr th {\n",
              "        vertical-align: top;\n",
              "    }\n",
              "\n",
              "    .dataframe thead th {\n",
              "        text-align: right;\n",
              "    }\n",
              "</style>\n",
              "<table border=\"1\" class=\"dataframe\">\n",
              "  <thead>\n",
              "    <tr style=\"text-align: right;\">\n",
              "      <th></th>\n",
              "      <th>review</th>\n",
              "      <th>labels</th>\n",
              "      <th>id</th>\n",
              "      <th>input_ids</th>\n",
              "      <th>query</th>\n",
              "    </tr>\n",
              "  </thead>\n",
              "  <tbody>\n",
              "    <tr>\n",
              "      <th>12330</th>\n",
              "      <td>I dated a girl from Broomfield Colorado. She'd...</td>\n",
              "      <td>[4]</td>\n",
              "      <td>ed5d4hm</td>\n",
              "      <td>[40, 14567, 257, 2576, 422]</td>\n",
              "      <td>I dated a girl from</td>\n",
              "    </tr>\n",
              "    <tr>\n",
              "      <th>9215</th>\n",
              "      <td>You really need to stop hanging out with those...</td>\n",
              "      <td>[10, 27]</td>\n",
              "      <td>eeqm77h</td>\n",
              "      <td>[1639, 1107, 761, 284, 2245]</td>\n",
              "      <td>You really need to stop</td>\n",
              "    </tr>\n",
              "    <tr>\n",
              "      <th>778</th>\n",
              "      <td>Looks deliriously boring.</td>\n",
              "      <td>[3]</td>\n",
              "      <td>eeyg7qy</td>\n",
              "      <td>[41102, 1619, 343]</td>\n",
              "      <td>Looks delir</td>\n",
              "    </tr>\n",
              "    <tr>\n",
              "      <th>3843</th>\n",
              "      <td>TYT is a gossip shitpost panel for race baitin...</td>\n",
              "      <td>[3, 10, 11]</td>\n",
              "      <td>edg81eo</td>\n",
              "      <td>[9936, 51, 318, 257, 30914, 7510, 7353]</td>\n",
              "      <td>TYT is a gossip shitpost</td>\n",
              "    </tr>\n",
              "    <tr>\n",
              "      <th>5245</th>\n",
              "      <td>“You bring home gifts in bag.”</td>\n",
              "      <td>[27]</td>\n",
              "      <td>edxv5xg</td>\n",
              "      <td>[447, 250, 1639, 2222, 1363, 13201]</td>\n",
              "      <td>“You bring home gifts</td>\n",
              "    </tr>\n",
              "    <tr>\n",
              "      <th>6191</th>\n",
              "      <td>So..the head [NAME], is afraid of being rammed?</td>\n",
              "      <td>[6]</td>\n",
              "      <td>eesiyw1</td>\n",
              "      <td>[2396, 492, 1169, 1182, 685, 20608]</td>\n",
              "      <td>So..the head [NAME</td>\n",
              "    </tr>\n",
              "    <tr>\n",
              "      <th>32019</th>\n",
              "      <td>I’ll be honest, I didn’t expect that to be real</td>\n",
              "      <td>[4]</td>\n",
              "      <td>eerzcr2</td>\n",
              "      <td>[40, 447, 247, 297, 307, 5508, 11]</td>\n",
              "      <td>I’ll be honest,</td>\n",
              "    </tr>\n",
              "    <tr>\n",
              "      <th>36276</th>\n",
              "      <td>Congratulatioins!</td>\n",
              "      <td>[15]</td>\n",
              "      <td>edm66kk</td>\n",
              "      <td>[18649, 10366, 377]</td>\n",
              "      <td>Congratul</td>\n",
              "    </tr>\n",
              "    <tr>\n",
              "      <th>26729</th>\n",
              "      <td>Yes it does. I kept doing this for 2 mins. But...</td>\n",
              "      <td>[4]</td>\n",
              "      <td>eevt50a</td>\n",
              "      <td>[5297, 340, 857, 13]</td>\n",
              "      <td>Yes it does.</td>\n",
              "    </tr>\n",
              "    <tr>\n",
              "      <th>6199</th>\n",
              "      <td>Yea ur right on that but that doesn't really n...</td>\n",
              "      <td>[4]</td>\n",
              "      <td>eeb4yu8</td>\n",
              "      <td>[56, 18213, 2956, 826, 319]</td>\n",
              "      <td>Yea ur right on</td>\n",
              "    </tr>\n",
              "    <tr>\n",
              "      <th>27105</th>\n",
              "      <td>Big Sexy!</td>\n",
              "      <td>[27]</td>\n",
              "      <td>edo9na2</td>\n",
              "      <td>[12804, 49131, 0]</td>\n",
              "      <td>Big Sexy!</td>\n",
              "    </tr>\n",
              "    <tr>\n",
              "      <th>11876</th>\n",
              "      <td>Because deep down you know that you really don...</td>\n",
              "      <td>[15]</td>\n",
              "      <td>ed5oc9p</td>\n",
              "      <td>[8128, 2769, 866, 345, 760, 326]</td>\n",
              "      <td>Because deep down you know that</td>\n",
              "    </tr>\n",
              "    <tr>\n",
              "      <th>30964</th>\n",
              "      <td>Fuuuuck. I am so angry that this can even happen.</td>\n",
              "      <td>[2]</td>\n",
              "      <td>eeomm4p</td>\n",
              "      <td>[37, 12303, 84, 1347, 13, 314, 716]</td>\n",
              "      <td>Fuuuuck. I am</td>\n",
              "    </tr>\n",
              "    <tr>\n",
              "      <th>8210</th>\n",
              "      <td>Laughed. Out. Loud</td>\n",
              "      <td>[1]</td>\n",
              "      <td>eeep85e</td>\n",
              "      <td>[43, 13726, 13]</td>\n",
              "      <td>Laughed.</td>\n",
              "    </tr>\n",
              "    <tr>\n",
              "      <th>39204</th>\n",
              "      <td>Please go to youtube and leave a comment and s...</td>\n",
              "      <td>[13]</td>\n",
              "      <td>ed1bmyn</td>\n",
              "      <td>[5492, 467, 284, 35116]</td>\n",
              "      <td>Please go to youtube</td>\n",
              "    </tr>\n",
              "    <tr>\n",
              "      <th>26439</th>\n",
              "      <td>Maybe someone up there is wondering what it's ...</td>\n",
              "      <td>[7]</td>\n",
              "      <td>eezkqmm</td>\n",
              "      <td>[13300, 2130]</td>\n",
              "      <td>Maybe someone</td>\n",
              "    </tr>\n",
              "  </tbody>\n",
              "</table>\n",
              "</div>\n",
              "    <div class=\"colab-df-buttons\">\n",
              "\n",
              "  <div class=\"colab-df-container\">\n",
              "    <button class=\"colab-df-convert\" onclick=\"convertToInteractive('df-67ebdd94-19de-4234-94c5-c4c01f2d7e3f')\"\n",
              "            title=\"Convert this dataframe to an interactive table.\"\n",
              "            style=\"display:none;\">\n",
              "\n",
              "  <svg xmlns=\"http://www.w3.org/2000/svg\" height=\"24px\" viewBox=\"0 -960 960 960\">\n",
              "    <path d=\"M120-120v-720h720v720H120Zm60-500h600v-160H180v160Zm220 220h160v-160H400v160Zm0 220h160v-160H400v160ZM180-400h160v-160H180v160Zm440 0h160v-160H620v160ZM180-180h160v-160H180v160Zm440 0h160v-160H620v160Z\"/>\n",
              "  </svg>\n",
              "    </button>\n",
              "\n",
              "  <style>\n",
              "    .colab-df-container {\n",
              "      display:flex;\n",
              "      gap: 12px;\n",
              "    }\n",
              "\n",
              "    .colab-df-convert {\n",
              "      background-color: #E8F0FE;\n",
              "      border: none;\n",
              "      border-radius: 50%;\n",
              "      cursor: pointer;\n",
              "      display: none;\n",
              "      fill: #1967D2;\n",
              "      height: 32px;\n",
              "      padding: 0 0 0 0;\n",
              "      width: 32px;\n",
              "    }\n",
              "\n",
              "    .colab-df-convert:hover {\n",
              "      background-color: #E2EBFA;\n",
              "      box-shadow: 0px 1px 2px rgba(60, 64, 67, 0.3), 0px 1px 3px 1px rgba(60, 64, 67, 0.15);\n",
              "      fill: #174EA6;\n",
              "    }\n",
              "\n",
              "    .colab-df-buttons div {\n",
              "      margin-bottom: 4px;\n",
              "    }\n",
              "\n",
              "    [theme=dark] .colab-df-convert {\n",
              "      background-color: #3B4455;\n",
              "      fill: #D2E3FC;\n",
              "    }\n",
              "\n",
              "    [theme=dark] .colab-df-convert:hover {\n",
              "      background-color: #434B5C;\n",
              "      box-shadow: 0px 1px 3px 1px rgba(0, 0, 0, 0.15);\n",
              "      filter: drop-shadow(0px 1px 2px rgba(0, 0, 0, 0.3));\n",
              "      fill: #FFFFFF;\n",
              "    }\n",
              "  </style>\n",
              "\n",
              "    <script>\n",
              "      const buttonEl =\n",
              "        document.querySelector('#df-67ebdd94-19de-4234-94c5-c4c01f2d7e3f button.colab-df-convert');\n",
              "      buttonEl.style.display =\n",
              "        google.colab.kernel.accessAllowed ? 'block' : 'none';\n",
              "\n",
              "      async function convertToInteractive(key) {\n",
              "        const element = document.querySelector('#df-67ebdd94-19de-4234-94c5-c4c01f2d7e3f');\n",
              "        const dataTable =\n",
              "          await google.colab.kernel.invokeFunction('convertToInteractive',\n",
              "                                                    [key], {});\n",
              "        if (!dataTable) return;\n",
              "\n",
              "        const docLinkHtml = 'Like what you see? Visit the ' +\n",
              "          '<a target=\"_blank\" href=https://colab.research.google.com/notebooks/data_table.ipynb>data table notebook</a>'\n",
              "          + ' to learn more about interactive tables.';\n",
              "        element.innerHTML = '';\n",
              "        dataTable['output_type'] = 'display_data';\n",
              "        await google.colab.output.renderOutput(dataTable, element);\n",
              "        const docLink = document.createElement('div');\n",
              "        docLink.innerHTML = docLinkHtml;\n",
              "        element.appendChild(docLink);\n",
              "      }\n",
              "    </script>\n",
              "  </div>\n",
              "\n",
              "\n",
              "<div id=\"df-5100b4af-bfa9-4db4-a863-74b8d10ddc7e\">\n",
              "  <button class=\"colab-df-quickchart\" onclick=\"quickchart('df-5100b4af-bfa9-4db4-a863-74b8d10ddc7e')\"\n",
              "            title=\"Suggest charts\"\n",
              "            style=\"display:none;\">\n",
              "\n",
              "<svg xmlns=\"http://www.w3.org/2000/svg\" height=\"24px\"viewBox=\"0 0 24 24\"\n",
              "     width=\"24px\">\n",
              "    <g>\n",
              "        <path d=\"M19 3H5c-1.1 0-2 .9-2 2v14c0 1.1.9 2 2 2h14c1.1 0 2-.9 2-2V5c0-1.1-.9-2-2-2zM9 17H7v-7h2v7zm4 0h-2V7h2v10zm4 0h-2v-4h2v4z\"/>\n",
              "    </g>\n",
              "</svg>\n",
              "  </button>\n",
              "\n",
              "<style>\n",
              "  .colab-df-quickchart {\n",
              "      --bg-color: #E8F0FE;\n",
              "      --fill-color: #1967D2;\n",
              "      --hover-bg-color: #E2EBFA;\n",
              "      --hover-fill-color: #174EA6;\n",
              "      --disabled-fill-color: #AAA;\n",
              "      --disabled-bg-color: #DDD;\n",
              "  }\n",
              "\n",
              "  [theme=dark] .colab-df-quickchart {\n",
              "      --bg-color: #3B4455;\n",
              "      --fill-color: #D2E3FC;\n",
              "      --hover-bg-color: #434B5C;\n",
              "      --hover-fill-color: #FFFFFF;\n",
              "      --disabled-bg-color: #3B4455;\n",
              "      --disabled-fill-color: #666;\n",
              "  }\n",
              "\n",
              "  .colab-df-quickchart {\n",
              "    background-color: var(--bg-color);\n",
              "    border: none;\n",
              "    border-radius: 50%;\n",
              "    cursor: pointer;\n",
              "    display: none;\n",
              "    fill: var(--fill-color);\n",
              "    height: 32px;\n",
              "    padding: 0;\n",
              "    width: 32px;\n",
              "  }\n",
              "\n",
              "  .colab-df-quickchart:hover {\n",
              "    background-color: var(--hover-bg-color);\n",
              "    box-shadow: 0 1px 2px rgba(60, 64, 67, 0.3), 0 1px 3px 1px rgba(60, 64, 67, 0.15);\n",
              "    fill: var(--button-hover-fill-color);\n",
              "  }\n",
              "\n",
              "  .colab-df-quickchart-complete:disabled,\n",
              "  .colab-df-quickchart-complete:disabled:hover {\n",
              "    background-color: var(--disabled-bg-color);\n",
              "    fill: var(--disabled-fill-color);\n",
              "    box-shadow: none;\n",
              "  }\n",
              "\n",
              "  .colab-df-spinner {\n",
              "    border: 2px solid var(--fill-color);\n",
              "    border-color: transparent;\n",
              "    border-bottom-color: var(--fill-color);\n",
              "    animation:\n",
              "      spin 1s steps(1) infinite;\n",
              "  }\n",
              "\n",
              "  @keyframes spin {\n",
              "    0% {\n",
              "      border-color: transparent;\n",
              "      border-bottom-color: var(--fill-color);\n",
              "      border-left-color: var(--fill-color);\n",
              "    }\n",
              "    20% {\n",
              "      border-color: transparent;\n",
              "      border-left-color: var(--fill-color);\n",
              "      border-top-color: var(--fill-color);\n",
              "    }\n",
              "    30% {\n",
              "      border-color: transparent;\n",
              "      border-left-color: var(--fill-color);\n",
              "      border-top-color: var(--fill-color);\n",
              "      border-right-color: var(--fill-color);\n",
              "    }\n",
              "    40% {\n",
              "      border-color: transparent;\n",
              "      border-right-color: var(--fill-color);\n",
              "      border-top-color: var(--fill-color);\n",
              "    }\n",
              "    60% {\n",
              "      border-color: transparent;\n",
              "      border-right-color: var(--fill-color);\n",
              "    }\n",
              "    80% {\n",
              "      border-color: transparent;\n",
              "      border-right-color: var(--fill-color);\n",
              "      border-bottom-color: var(--fill-color);\n",
              "    }\n",
              "    90% {\n",
              "      border-color: transparent;\n",
              "      border-bottom-color: var(--fill-color);\n",
              "    }\n",
              "  }\n",
              "</style>\n",
              "\n",
              "  <script>\n",
              "    async function quickchart(key) {\n",
              "      const quickchartButtonEl =\n",
              "        document.querySelector('#' + key + ' button');\n",
              "      quickchartButtonEl.disabled = true;  // To prevent multiple clicks.\n",
              "      quickchartButtonEl.classList.add('colab-df-spinner');\n",
              "      try {\n",
              "        const charts = await google.colab.kernel.invokeFunction(\n",
              "            'suggestCharts', [key], {});\n",
              "      } catch (error) {\n",
              "        console.error('Error during call to suggestCharts:', error);\n",
              "      }\n",
              "      quickchartButtonEl.classList.remove('colab-df-spinner');\n",
              "      quickchartButtonEl.classList.add('colab-df-quickchart-complete');\n",
              "    }\n",
              "    (() => {\n",
              "      let quickchartButtonEl =\n",
              "        document.querySelector('#df-5100b4af-bfa9-4db4-a863-74b8d10ddc7e button');\n",
              "      quickchartButtonEl.style.display =\n",
              "        google.colab.kernel.accessAllowed ? 'block' : 'none';\n",
              "    })();\n",
              "  </script>\n",
              "</div>\n",
              "    </div>\n",
              "  </div>\n"
            ],
            "application/vnd.google.colaboratory.intrinsic+json": {
              "type": "dataframe",
              "variable_name": "df_batch",
              "summary": "{\n  \"name\": \"df_batch\",\n  \"rows\": 16,\n  \"fields\": [\n    {\n      \"column\": \"review\",\n      \"properties\": {\n        \"dtype\": \"string\",\n        \"num_unique_values\": 16,\n        \"samples\": [\n          \"I dated a girl from Broomfield Colorado. She'd end sentences with \\\"yo\\\". I ended us.\",\n          \"You really need to stop hanging out with those people.\",\n          \"So..the head [NAME], is afraid of being rammed?\"\n        ],\n        \"semantic_type\": \"\",\n        \"description\": \"\"\n      }\n    },\n    {\n      \"column\": \"labels\",\n      \"properties\": {\n        \"dtype\": \"object\",\n        \"semantic_type\": \"\",\n        \"description\": \"\"\n      }\n    },\n    {\n      \"column\": \"id\",\n      \"properties\": {\n        \"dtype\": \"string\",\n        \"num_unique_values\": 16,\n        \"samples\": [\n          \"ed5d4hm\",\n          \"eeqm77h\",\n          \"eesiyw1\"\n        ],\n        \"semantic_type\": \"\",\n        \"description\": \"\"\n      }\n    },\n    {\n      \"column\": \"input_ids\",\n      \"properties\": {\n        \"dtype\": \"object\",\n        \"semantic_type\": \"\",\n        \"description\": \"\"\n      }\n    },\n    {\n      \"column\": \"query\",\n      \"properties\": {\n        \"dtype\": \"string\",\n        \"num_unique_values\": 16,\n        \"samples\": [\n          \"I dated a girl from\",\n          \"You really need to stop\",\n          \"So..the head [NAME\"\n        ],\n        \"semantic_type\": \"\",\n        \"description\": \"\"\n      }\n    }\n  ]\n}"
            }
          },
          "metadata": {},
          "execution_count": 50
        }
      ],
      "source": [
        "\n",
        "df_batch           = dataset[:].sample(bs)\n",
        "df_batch\n"
      ]
    },
    {
      "cell_type": "code",
      "execution_count": 51,
      "metadata": {
        "id": "8TdHf_jOWHNx"
      },
      "outputs": [],
      "source": [
        "\n",
        "game_data[\"query\"] = df_batch[\"query\"].tolist()\n",
        "query_tensors      = df_batch[\"input_ids\"].tolist()\n"
      ]
    },
    {
      "cell_type": "code",
      "execution_count": 52,
      "metadata": {
        "id": "tJoSeGHVWHNx"
      },
      "outputs": [],
      "source": [
        "\n",
        "response_tensors_ref, response_tensors = [], []\n"
      ]
    },
    {
      "cell_type": "code",
      "execution_count": 53,
      "metadata": {
        "id": "2uT-4LsRWHNy"
      },
      "outputs": [],
      "source": [
        "\n",
        "#### get response from gpt2 and gpt2_ref\n",
        "for i in range(bs):\n",
        "    gen_len = output_length_sampler()\n",
        "\n",
        "    output  = ref_model.generate(\n",
        "        torch.tensor(query_tensors[i]).unsqueeze(dim=0).to(device), max_new_tokens=gen_len, **gen_kwargs\n",
        "    ).squeeze()[-gen_len:]\n",
        "    response_tensors_ref.append(output)\n",
        "\n",
        "\n",
        "    output = model.generate(\n",
        "        torch.tensor(query_tensors[i]).unsqueeze(dim=0).to(device), max_new_tokens=gen_len, **gen_kwargs\n",
        "    ).squeeze()[-gen_len:]\n",
        "    response_tensors.append(output)\n"
      ]
    },
    {
      "cell_type": "code",
      "execution_count": 54,
      "metadata": {
        "id": "GyGMvAVCWHNy"
      },
      "outputs": [],
      "source": [
        "\n",
        "#### decode responses\n",
        "game_data[\"response (before)\"] = [tokenizer.decode(response_tensors_ref[i]) for i in range(bs)]\n",
        "game_data[\"response (after)\"]  = [tokenizer.decode(response_tensors[i]) for i in range(bs)]\n"
      ]
    },
    {
      "cell_type": "code",
      "execution_count": 55,
      "metadata": {
        "colab": {
          "base_uri": "https://localhost:8080/"
        },
        "id": "2cAOMyi7WHNy",
        "outputId": "1c82d011-9d86-4e9c-f3d6-b97e775f86eb"
      },
      "outputs": [
        {
          "output_type": "stream",
          "name": "stderr",
          "text": [
            "/usr/local/lib/python3.10/dist-packages/transformers/pipelines/text_classification.py:104: UserWarning: `return_all_scores` is now deprecated,  if want a similar functionality use `top_k=None` instead of `return_all_scores=True` or `top_k=1` instead of `return_all_scores=False`.\n",
            "  warnings.warn(\n",
            "/usr/local/lib/python3.10/dist-packages/transformers/pipelines/base.py:1157: UserWarning: You seem to be using the pipelines sequentially on GPU. In order to maximize efficiency please use a dataset\n",
            "  warnings.warn(\n"
          ]
        }
      ],
      "source": [
        "\n",
        "#### sentiment analysis of query/response pairs before/after\n",
        "texts = [q + r for q, r in zip(game_data[\"query\"], game_data[\"response (before)\"])]\n",
        "game_data[\"rewards (before)\"] = [output[5][\"score\"] for output in sentiment_pipe(texts, **sent_kwargs)]\n"
      ]
    },
    {
      "cell_type": "code",
      "execution_count": 56,
      "metadata": {
        "id": "dp-ODjwJWHNy"
      },
      "outputs": [],
      "source": [
        "\n",
        "texts = [q + r for q, r in zip(game_data[\"query\"], game_data[\"response (after)\"])]\n",
        "game_data[\"rewards (after)\"] = [output[5][\"score\"] for output in sentiment_pipe(texts, **sent_kwargs)]\n"
      ]
    },
    {
      "cell_type": "code",
      "execution_count": 57,
      "metadata": {
        "colab": {
          "base_uri": "https://localhost:8080/",
          "height": 551
        },
        "id": "f3JmYPrXWHNy",
        "outputId": "0ab2c528-fdc0-4214-80d4-c5cda3b8f2c0"
      },
      "outputs": [
        {
          "output_type": "execute_result",
          "data": {
            "text/plain": [
              "                              query  \\\n",
              "0               I dated a girl from   \n",
              "1           You really need to stop   \n",
              "2                       Looks delir   \n",
              "3          TYT is a gossip shitpost   \n",
              "4             “You bring home gifts   \n",
              "5                So..the head [NAME   \n",
              "6                   I’ll be honest,   \n",
              "7                         Congratul   \n",
              "8                      Yes it does.   \n",
              "9                   Yea ur right on   \n",
              "10                        Big Sexy!   \n",
              "11  Because deep down you know that   \n",
              "12                    Fuuuuck. I am   \n",
              "13                         Laughed.   \n",
              "14             Please go to youtube   \n",
              "15                    Maybe someone   \n",
              "\n",
              "                                    response (before)  \\\n",
              "0    my past BUHHHHHHHHHH!! THEY LIVE IN NEW YORK ...   \n",
              "1   -off before you meet your Brazilian fiancé wit...   \n",
              "2   ious in its admission the next time you retake...   \n",
              "3            . A strange sight is happening. It looks   \n",
              "4                              , might as well make a   \n",
              "5                     ]. begins to turn with her head   \n",
              "6    I'm pretty sure that the biggest because what...   \n",
              "7   aced, thus making him a law unto them, became ...   \n",
              "8                       It's a good idea to visit the   \n",
              "9                                  i8 vin deed blit x   \n",
              "10                    Sasha Grey XXXxx (Stills) Sasha   \n",
              "11                  they'll never test your abilities   \n",
              "12                standing at the top of the enclave,   \n",
              "13                         He asked me for directions   \n",
              "14                       .com/hackbow because that is   \n",
              "15                        ran a reference to real But   \n",
              "\n",
              "                                     response (after)  rewards (before)  \\\n",
              "0    now, take care in last game thing, put care o...         -6.185028   \n",
              "1    and be careful of vulnerable or destitute, sh...         -4.064278   \n",
              "2                 . Be careful and \"\\n\\n\\nHope\\n\\nBut         -4.949306   \n",
              "3              . Be careful. This is otherwise. Start         -7.584946   \n",
              "4                                . We'll take care of         -6.229325   \n",
              "5                          ],.. to take care what you         -6.758536   \n",
              "6    be careful, as if of all those who are above are         -5.054090   \n",
              "7          ently. Be safe and you won't be\\n\\n\\nused.         -5.657579   \n",
              "8                      Be careful.\\n\\n\\nEVA plastic\\n         -5.601340   \n",
              "9                            it. DON. Be careful. You         -6.647352   \n",
              "10                    I care when you're done. That's         -6.348194   \n",
              "11                          . I care very deeply that         -6.103355   \n",
              "12      starting to help you to organize this because         -6.832142   \n",
              "13                                Be careful, this is         -6.050234   \n",
              "14                      . I care about the taking it.         -7.105519   \n",
              "15                                    that you.\\n\\nBe         -6.671066   \n",
              "\n",
              "    rewards (after)  \n",
              "0          1.899247  \n",
              "1          2.243831  \n",
              "2          2.261854  \n",
              "3          2.122829  \n",
              "4          2.059892  \n",
              "5          1.449007  \n",
              "6          1.521199  \n",
              "7          1.000404  \n",
              "8          1.835512  \n",
              "9          1.638231  \n",
              "10         2.040056  \n",
              "11         2.122793  \n",
              "12        -3.083085  \n",
              "13         0.277105  \n",
              "14         1.952384  \n",
              "15        -6.353726  "
            ],
            "text/html": [
              "\n",
              "  <div id=\"df-5a4c2e54-df82-4043-93cb-a795d2d9c378\" class=\"colab-df-container\">\n",
              "    <div>\n",
              "<style scoped>\n",
              "    .dataframe tbody tr th:only-of-type {\n",
              "        vertical-align: middle;\n",
              "    }\n",
              "\n",
              "    .dataframe tbody tr th {\n",
              "        vertical-align: top;\n",
              "    }\n",
              "\n",
              "    .dataframe thead th {\n",
              "        text-align: right;\n",
              "    }\n",
              "</style>\n",
              "<table border=\"1\" class=\"dataframe\">\n",
              "  <thead>\n",
              "    <tr style=\"text-align: right;\">\n",
              "      <th></th>\n",
              "      <th>query</th>\n",
              "      <th>response (before)</th>\n",
              "      <th>response (after)</th>\n",
              "      <th>rewards (before)</th>\n",
              "      <th>rewards (after)</th>\n",
              "    </tr>\n",
              "  </thead>\n",
              "  <tbody>\n",
              "    <tr>\n",
              "      <th>0</th>\n",
              "      <td>I dated a girl from</td>\n",
              "      <td>my past BUHHHHHHHHHH!! THEY LIVE IN NEW YORK ...</td>\n",
              "      <td>now, take care in last game thing, put care o...</td>\n",
              "      <td>-6.185028</td>\n",
              "      <td>1.899247</td>\n",
              "    </tr>\n",
              "    <tr>\n",
              "      <th>1</th>\n",
              "      <td>You really need to stop</td>\n",
              "      <td>-off before you meet your Brazilian fiancé wit...</td>\n",
              "      <td>and be careful of vulnerable or destitute, sh...</td>\n",
              "      <td>-4.064278</td>\n",
              "      <td>2.243831</td>\n",
              "    </tr>\n",
              "    <tr>\n",
              "      <th>2</th>\n",
              "      <td>Looks delir</td>\n",
              "      <td>ious in its admission the next time you retake...</td>\n",
              "      <td>. Be careful and \"\\n\\n\\nHope\\n\\nBut</td>\n",
              "      <td>-4.949306</td>\n",
              "      <td>2.261854</td>\n",
              "    </tr>\n",
              "    <tr>\n",
              "      <th>3</th>\n",
              "      <td>TYT is a gossip shitpost</td>\n",
              "      <td>. A strange sight is happening. It looks</td>\n",
              "      <td>. Be careful. This is otherwise. Start</td>\n",
              "      <td>-7.584946</td>\n",
              "      <td>2.122829</td>\n",
              "    </tr>\n",
              "    <tr>\n",
              "      <th>4</th>\n",
              "      <td>“You bring home gifts</td>\n",
              "      <td>, might as well make a</td>\n",
              "      <td>. We'll take care of</td>\n",
              "      <td>-6.229325</td>\n",
              "      <td>2.059892</td>\n",
              "    </tr>\n",
              "    <tr>\n",
              "      <th>5</th>\n",
              "      <td>So..the head [NAME</td>\n",
              "      <td>]. begins to turn with her head</td>\n",
              "      <td>],.. to take care what you</td>\n",
              "      <td>-6.758536</td>\n",
              "      <td>1.449007</td>\n",
              "    </tr>\n",
              "    <tr>\n",
              "      <th>6</th>\n",
              "      <td>I’ll be honest,</td>\n",
              "      <td>I'm pretty sure that the biggest because what...</td>\n",
              "      <td>be careful, as if of all those who are above are</td>\n",
              "      <td>-5.054090</td>\n",
              "      <td>1.521199</td>\n",
              "    </tr>\n",
              "    <tr>\n",
              "      <th>7</th>\n",
              "      <td>Congratul</td>\n",
              "      <td>aced, thus making him a law unto them, became ...</td>\n",
              "      <td>ently. Be safe and you won't be\\n\\n\\nused.</td>\n",
              "      <td>-5.657579</td>\n",
              "      <td>1.000404</td>\n",
              "    </tr>\n",
              "    <tr>\n",
              "      <th>8</th>\n",
              "      <td>Yes it does.</td>\n",
              "      <td>It's a good idea to visit the</td>\n",
              "      <td>Be careful.\\n\\n\\nEVA plastic\\n</td>\n",
              "      <td>-5.601340</td>\n",
              "      <td>1.835512</td>\n",
              "    </tr>\n",
              "    <tr>\n",
              "      <th>9</th>\n",
              "      <td>Yea ur right on</td>\n",
              "      <td>i8 vin deed blit x</td>\n",
              "      <td>it. DON. Be careful. You</td>\n",
              "      <td>-6.647352</td>\n",
              "      <td>1.638231</td>\n",
              "    </tr>\n",
              "    <tr>\n",
              "      <th>10</th>\n",
              "      <td>Big Sexy!</td>\n",
              "      <td>Sasha Grey XXXxx (Stills) Sasha</td>\n",
              "      <td>I care when you're done. That's</td>\n",
              "      <td>-6.348194</td>\n",
              "      <td>2.040056</td>\n",
              "    </tr>\n",
              "    <tr>\n",
              "      <th>11</th>\n",
              "      <td>Because deep down you know that</td>\n",
              "      <td>they'll never test your abilities</td>\n",
              "      <td>. I care very deeply that</td>\n",
              "      <td>-6.103355</td>\n",
              "      <td>2.122793</td>\n",
              "    </tr>\n",
              "    <tr>\n",
              "      <th>12</th>\n",
              "      <td>Fuuuuck. I am</td>\n",
              "      <td>standing at the top of the enclave,</td>\n",
              "      <td>starting to help you to organize this because</td>\n",
              "      <td>-6.832142</td>\n",
              "      <td>-3.083085</td>\n",
              "    </tr>\n",
              "    <tr>\n",
              "      <th>13</th>\n",
              "      <td>Laughed.</td>\n",
              "      <td>He asked me for directions</td>\n",
              "      <td>Be careful, this is</td>\n",
              "      <td>-6.050234</td>\n",
              "      <td>0.277105</td>\n",
              "    </tr>\n",
              "    <tr>\n",
              "      <th>14</th>\n",
              "      <td>Please go to youtube</td>\n",
              "      <td>.com/hackbow because that is</td>\n",
              "      <td>. I care about the taking it.</td>\n",
              "      <td>-7.105519</td>\n",
              "      <td>1.952384</td>\n",
              "    </tr>\n",
              "    <tr>\n",
              "      <th>15</th>\n",
              "      <td>Maybe someone</td>\n",
              "      <td>ran a reference to real But</td>\n",
              "      <td>that you.\\n\\nBe</td>\n",
              "      <td>-6.671066</td>\n",
              "      <td>-6.353726</td>\n",
              "    </tr>\n",
              "  </tbody>\n",
              "</table>\n",
              "</div>\n",
              "    <div class=\"colab-df-buttons\">\n",
              "\n",
              "  <div class=\"colab-df-container\">\n",
              "    <button class=\"colab-df-convert\" onclick=\"convertToInteractive('df-5a4c2e54-df82-4043-93cb-a795d2d9c378')\"\n",
              "            title=\"Convert this dataframe to an interactive table.\"\n",
              "            style=\"display:none;\">\n",
              "\n",
              "  <svg xmlns=\"http://www.w3.org/2000/svg\" height=\"24px\" viewBox=\"0 -960 960 960\">\n",
              "    <path d=\"M120-120v-720h720v720H120Zm60-500h600v-160H180v160Zm220 220h160v-160H400v160Zm0 220h160v-160H400v160ZM180-400h160v-160H180v160Zm440 0h160v-160H620v160ZM180-180h160v-160H180v160Zm440 0h160v-160H620v160Z\"/>\n",
              "  </svg>\n",
              "    </button>\n",
              "\n",
              "  <style>\n",
              "    .colab-df-container {\n",
              "      display:flex;\n",
              "      gap: 12px;\n",
              "    }\n",
              "\n",
              "    .colab-df-convert {\n",
              "      background-color: #E8F0FE;\n",
              "      border: none;\n",
              "      border-radius: 50%;\n",
              "      cursor: pointer;\n",
              "      display: none;\n",
              "      fill: #1967D2;\n",
              "      height: 32px;\n",
              "      padding: 0 0 0 0;\n",
              "      width: 32px;\n",
              "    }\n",
              "\n",
              "    .colab-df-convert:hover {\n",
              "      background-color: #E2EBFA;\n",
              "      box-shadow: 0px 1px 2px rgba(60, 64, 67, 0.3), 0px 1px 3px 1px rgba(60, 64, 67, 0.15);\n",
              "      fill: #174EA6;\n",
              "    }\n",
              "\n",
              "    .colab-df-buttons div {\n",
              "      margin-bottom: 4px;\n",
              "    }\n",
              "\n",
              "    [theme=dark] .colab-df-convert {\n",
              "      background-color: #3B4455;\n",
              "      fill: #D2E3FC;\n",
              "    }\n",
              "\n",
              "    [theme=dark] .colab-df-convert:hover {\n",
              "      background-color: #434B5C;\n",
              "      box-shadow: 0px 1px 3px 1px rgba(0, 0, 0, 0.15);\n",
              "      filter: drop-shadow(0px 1px 2px rgba(0, 0, 0, 0.3));\n",
              "      fill: #FFFFFF;\n",
              "    }\n",
              "  </style>\n",
              "\n",
              "    <script>\n",
              "      const buttonEl =\n",
              "        document.querySelector('#df-5a4c2e54-df82-4043-93cb-a795d2d9c378 button.colab-df-convert');\n",
              "      buttonEl.style.display =\n",
              "        google.colab.kernel.accessAllowed ? 'block' : 'none';\n",
              "\n",
              "      async function convertToInteractive(key) {\n",
              "        const element = document.querySelector('#df-5a4c2e54-df82-4043-93cb-a795d2d9c378');\n",
              "        const dataTable =\n",
              "          await google.colab.kernel.invokeFunction('convertToInteractive',\n",
              "                                                    [key], {});\n",
              "        if (!dataTable) return;\n",
              "\n",
              "        const docLinkHtml = 'Like what you see? Visit the ' +\n",
              "          '<a target=\"_blank\" href=https://colab.research.google.com/notebooks/data_table.ipynb>data table notebook</a>'\n",
              "          + ' to learn more about interactive tables.';\n",
              "        element.innerHTML = '';\n",
              "        dataTable['output_type'] = 'display_data';\n",
              "        await google.colab.output.renderOutput(dataTable, element);\n",
              "        const docLink = document.createElement('div');\n",
              "        docLink.innerHTML = docLinkHtml;\n",
              "        element.appendChild(docLink);\n",
              "      }\n",
              "    </script>\n",
              "  </div>\n",
              "\n",
              "\n",
              "<div id=\"df-f4e3d62f-1c14-46ea-a8e5-f4a53ed4bd00\">\n",
              "  <button class=\"colab-df-quickchart\" onclick=\"quickchart('df-f4e3d62f-1c14-46ea-a8e5-f4a53ed4bd00')\"\n",
              "            title=\"Suggest charts\"\n",
              "            style=\"display:none;\">\n",
              "\n",
              "<svg xmlns=\"http://www.w3.org/2000/svg\" height=\"24px\"viewBox=\"0 0 24 24\"\n",
              "     width=\"24px\">\n",
              "    <g>\n",
              "        <path d=\"M19 3H5c-1.1 0-2 .9-2 2v14c0 1.1.9 2 2 2h14c1.1 0 2-.9 2-2V5c0-1.1-.9-2-2-2zM9 17H7v-7h2v7zm4 0h-2V7h2v10zm4 0h-2v-4h2v4z\"/>\n",
              "    </g>\n",
              "</svg>\n",
              "  </button>\n",
              "\n",
              "<style>\n",
              "  .colab-df-quickchart {\n",
              "      --bg-color: #E8F0FE;\n",
              "      --fill-color: #1967D2;\n",
              "      --hover-bg-color: #E2EBFA;\n",
              "      --hover-fill-color: #174EA6;\n",
              "      --disabled-fill-color: #AAA;\n",
              "      --disabled-bg-color: #DDD;\n",
              "  }\n",
              "\n",
              "  [theme=dark] .colab-df-quickchart {\n",
              "      --bg-color: #3B4455;\n",
              "      --fill-color: #D2E3FC;\n",
              "      --hover-bg-color: #434B5C;\n",
              "      --hover-fill-color: #FFFFFF;\n",
              "      --disabled-bg-color: #3B4455;\n",
              "      --disabled-fill-color: #666;\n",
              "  }\n",
              "\n",
              "  .colab-df-quickchart {\n",
              "    background-color: var(--bg-color);\n",
              "    border: none;\n",
              "    border-radius: 50%;\n",
              "    cursor: pointer;\n",
              "    display: none;\n",
              "    fill: var(--fill-color);\n",
              "    height: 32px;\n",
              "    padding: 0;\n",
              "    width: 32px;\n",
              "  }\n",
              "\n",
              "  .colab-df-quickchart:hover {\n",
              "    background-color: var(--hover-bg-color);\n",
              "    box-shadow: 0 1px 2px rgba(60, 64, 67, 0.3), 0 1px 3px 1px rgba(60, 64, 67, 0.15);\n",
              "    fill: var(--button-hover-fill-color);\n",
              "  }\n",
              "\n",
              "  .colab-df-quickchart-complete:disabled,\n",
              "  .colab-df-quickchart-complete:disabled:hover {\n",
              "    background-color: var(--disabled-bg-color);\n",
              "    fill: var(--disabled-fill-color);\n",
              "    box-shadow: none;\n",
              "  }\n",
              "\n",
              "  .colab-df-spinner {\n",
              "    border: 2px solid var(--fill-color);\n",
              "    border-color: transparent;\n",
              "    border-bottom-color: var(--fill-color);\n",
              "    animation:\n",
              "      spin 1s steps(1) infinite;\n",
              "  }\n",
              "\n",
              "  @keyframes spin {\n",
              "    0% {\n",
              "      border-color: transparent;\n",
              "      border-bottom-color: var(--fill-color);\n",
              "      border-left-color: var(--fill-color);\n",
              "    }\n",
              "    20% {\n",
              "      border-color: transparent;\n",
              "      border-left-color: var(--fill-color);\n",
              "      border-top-color: var(--fill-color);\n",
              "    }\n",
              "    30% {\n",
              "      border-color: transparent;\n",
              "      border-left-color: var(--fill-color);\n",
              "      border-top-color: var(--fill-color);\n",
              "      border-right-color: var(--fill-color);\n",
              "    }\n",
              "    40% {\n",
              "      border-color: transparent;\n",
              "      border-right-color: var(--fill-color);\n",
              "      border-top-color: var(--fill-color);\n",
              "    }\n",
              "    60% {\n",
              "      border-color: transparent;\n",
              "      border-right-color: var(--fill-color);\n",
              "    }\n",
              "    80% {\n",
              "      border-color: transparent;\n",
              "      border-right-color: var(--fill-color);\n",
              "      border-bottom-color: var(--fill-color);\n",
              "    }\n",
              "    90% {\n",
              "      border-color: transparent;\n",
              "      border-bottom-color: var(--fill-color);\n",
              "    }\n",
              "  }\n",
              "</style>\n",
              "\n",
              "  <script>\n",
              "    async function quickchart(key) {\n",
              "      const quickchartButtonEl =\n",
              "        document.querySelector('#' + key + ' button');\n",
              "      quickchartButtonEl.disabled = true;  // To prevent multiple clicks.\n",
              "      quickchartButtonEl.classList.add('colab-df-spinner');\n",
              "      try {\n",
              "        const charts = await google.colab.kernel.invokeFunction(\n",
              "            'suggestCharts', [key], {});\n",
              "      } catch (error) {\n",
              "        console.error('Error during call to suggestCharts:', error);\n",
              "      }\n",
              "      quickchartButtonEl.classList.remove('colab-df-spinner');\n",
              "      quickchartButtonEl.classList.add('colab-df-quickchart-complete');\n",
              "    }\n",
              "    (() => {\n",
              "      let quickchartButtonEl =\n",
              "        document.querySelector('#df-f4e3d62f-1c14-46ea-a8e5-f4a53ed4bd00 button');\n",
              "      quickchartButtonEl.style.display =\n",
              "        google.colab.kernel.accessAllowed ? 'block' : 'none';\n",
              "    })();\n",
              "  </script>\n",
              "</div>\n",
              "    </div>\n",
              "  </div>\n"
            ],
            "application/vnd.google.colaboratory.intrinsic+json": {
              "type": "dataframe",
              "variable_name": "df_results",
              "summary": "{\n  \"name\": \"df_results\",\n  \"rows\": 16,\n  \"fields\": [\n    {\n      \"column\": \"query\",\n      \"properties\": {\n        \"dtype\": \"string\",\n        \"num_unique_values\": 16,\n        \"samples\": [\n          \"I dated a girl from\",\n          \"You really need to stop\",\n          \"So..the head [NAME\"\n        ],\n        \"semantic_type\": \"\",\n        \"description\": \"\"\n      }\n    },\n    {\n      \"column\": \"response (before)\",\n      \"properties\": {\n        \"dtype\": \"string\",\n        \"num_unique_values\": 16,\n        \"samples\": [\n          \" my past BUHHHHHHHHHH!! THEY LIVE IN NEW YORK W/ FIR\",\n          \"-off before you meet your Brazilian fianc\\u00e9 within 18 hours of\",\n          \"]. begins to turn with her head\"\n        ],\n        \"semantic_type\": \"\",\n        \"description\": \"\"\n      }\n    },\n    {\n      \"column\": \"response (after)\",\n      \"properties\": {\n        \"dtype\": \"string\",\n        \"num_unique_values\": 16,\n        \"samples\": [\n          \" now, take care in last game thing, put care of my precious point\",\n          \" and be careful of vulnerable or destitute, she always you have\",\n          \"],.. to take care what you\"\n        ],\n        \"semantic_type\": \"\",\n        \"description\": \"\"\n      }\n    },\n    {\n      \"column\": \"rewards (before)\",\n      \"properties\": {\n        \"dtype\": \"number\",\n        \"std\": 0.8907862928157401,\n        \"min\": -7.5849456787109375,\n        \"max\": -4.0642781257629395,\n        \"num_unique_values\": 16,\n        \"samples\": [\n          -6.185028076171875,\n          -4.0642781257629395,\n          -6.758535861968994\n        ],\n        \"semantic_type\": \"\",\n        \"description\": \"\"\n      }\n    },\n    {\n      \"column\": \"rewards (after)\",\n      \"properties\": {\n        \"dtype\": \"number\",\n        \"std\": 2.343325517558241,\n        \"min\": -6.353725910186768,\n        \"max\": 2.2618539333343506,\n        \"num_unique_values\": 16,\n        \"samples\": [\n          1.8992468118667603,\n          2.243830919265747,\n          1.4490066766738892\n        ],\n        \"semantic_type\": \"\",\n        \"description\": \"\"\n      }\n    }\n  ]\n}"
            }
          },
          "metadata": {},
          "execution_count": 57
        }
      ],
      "source": [
        "\n",
        "# store results in a dataframe\n",
        "df_results = pd.DataFrame(game_data)\n",
        "df_results\n"
      ]
    },
    {
      "cell_type": "code",
      "execution_count": 58,
      "metadata": {
        "colab": {
          "base_uri": "https://localhost:8080/",
          "height": 178
        },
        "id": "SCFRbujTWHNz",
        "outputId": "bbaa3f3e-4642-41af-a3ed-945d936ea785"
      },
      "outputs": [
        {
          "output_type": "stream",
          "name": "stdout",
          "text": [
            "mean:\n"
          ]
        },
        {
          "output_type": "display_data",
          "data": {
            "text/plain": [
              "rewards (before)   -6.115143\n",
              "rewards (after)     0.936721\n",
              "dtype: float64"
            ]
          },
          "metadata": {}
        },
        {
          "output_type": "stream",
          "name": "stdout",
          "text": [
            "\n",
            "median:\n"
          ]
        },
        {
          "output_type": "display_data",
          "data": {
            "text/plain": [
              "rewards (before)   -6.207177\n",
              "rewards (after)     1.867379\n",
              "dtype: float64"
            ]
          },
          "metadata": {}
        }
      ],
      "source": [
        "\n",
        "print(\"mean:\")\n",
        "display(df_results[[\"rewards (before)\", \"rewards (after)\"]].mean())\n",
        "print()\n",
        "print(\"median:\")\n",
        "display(df_results[[\"rewards (before)\", \"rewards (after)\"]].median())\n",
        "\n"
      ]
    },
    {
      "cell_type": "code",
      "execution_count": 59,
      "metadata": {
        "colab": {
          "base_uri": "https://localhost:8080/"
        },
        "id": "6Q9TOKBQWHNz",
        "outputId": "49eeaff1-5aed-4841-8efd-2504faba32e3"
      },
      "outputs": [
        {
          "output_type": "execute_result",
          "data": {
            "text/plain": [
              "('gpt2-imdb-pos-v2/tokenizer_config.json',\n",
              " 'gpt2-imdb-pos-v2/special_tokens_map.json',\n",
              " 'gpt2-imdb-pos-v2/vocab.json',\n",
              " 'gpt2-imdb-pos-v2/merges.txt',\n",
              " 'gpt2-imdb-pos-v2/added_tokens.json',\n",
              " 'gpt2-imdb-pos-v2/tokenizer.json')"
            ]
          },
          "metadata": {},
          "execution_count": 59
        }
      ],
      "source": [
        "\n",
        "## model.save_pretrained(    \"gpt2-imdb-pos-v2\", push_to_hub=True)\n",
        "## tokenizer.save_pretrained(\"gpt2-imdb-pos-v2\", push_to_hub=True)\n",
        "\n",
        "model.save_pretrained(    \"gpt2-imdb-pos-v2\", push_to_hub=False)\n",
        "tokenizer.save_pretrained(\"gpt2-imdb-pos-v2\", push_to_hub=False)\n",
        "\n"
      ]
    },
    {
      "cell_type": "code",
      "execution_count": 59,
      "metadata": {
        "id": "gKsu4w39WHNz"
      },
      "outputs": [],
      "source": []
    },
    {
      "cell_type": "code",
      "execution_count": 59,
      "metadata": {
        "id": "BdxJKC7iWHNz"
      },
      "outputs": [],
      "source": [
        "\n",
        "\n",
        "\n",
        "\n",
        "\n",
        "\n",
        "\n",
        "\n",
        "\n",
        "\n",
        "\n",
        "\n",
        "\n",
        "\n",
        "\n",
        "\n",
        "\n"
      ]
    },
    {
      "cell_type": "code",
      "execution_count": 59,
      "metadata": {
        "id": "KPmgXWvoWHNz"
      },
      "outputs": [],
      "source": [
        "\n"
      ]
    },
    {
      "cell_type": "code",
      "execution_count": 59,
      "metadata": {
        "id": "DhlIKMBKWHN0"
      },
      "outputs": [],
      "source": [
        "\n"
      ]
    },
    {
      "cell_type": "code",
      "execution_count": 59,
      "metadata": {
        "id": "c4pZbrg_WHN0"
      },
      "outputs": [],
      "source": []
    },
    {
      "cell_type": "code",
      "execution_count": 59,
      "metadata": {
        "id": "AjCyJzubWHN0"
      },
      "outputs": [],
      "source": []
    },
    {
      "cell_type": "code",
      "execution_count": 59,
      "metadata": {
        "id": "CrwPaGHLWHN0"
      },
      "outputs": [],
      "source": []
    },
    {
      "cell_type": "code",
      "execution_count": 59,
      "metadata": {
        "id": "6KVy8IGLWHN0"
      },
      "outputs": [],
      "source": []
    },
    {
      "cell_type": "code",
      "execution_count": 59,
      "metadata": {
        "id": "TspnlrIHWHN0"
      },
      "outputs": [],
      "source": []
    },
    {
      "cell_type": "code",
      "execution_count": 59,
      "metadata": {
        "id": "XVpRTbX2WHN0"
      },
      "outputs": [],
      "source": []
    },
    {
      "cell_type": "code",
      "execution_count": 59,
      "metadata": {
        "id": "QLcsK__cWHN1"
      },
      "outputs": [],
      "source": []
    },
    {
      "cell_type": "code",
      "execution_count": 59,
      "metadata": {
        "id": "iwqTfSfzWHN1"
      },
      "outputs": [],
      "source": []
    },
    {
      "cell_type": "code",
      "execution_count": 59,
      "metadata": {
        "id": "OvuBBs2kWHN1"
      },
      "outputs": [],
      "source": []
    },
    {
      "cell_type": "code",
      "execution_count": 59,
      "metadata": {
        "id": "z8a2pdW-WHN1"
      },
      "outputs": [],
      "source": []
    },
    {
      "cell_type": "code",
      "execution_count": 59,
      "metadata": {
        "id": "4S9zofzrWHN1"
      },
      "outputs": [],
      "source": []
    },
    {
      "cell_type": "code",
      "execution_count": 59,
      "metadata": {
        "id": "mf8cY6mcWHN1"
      },
      "outputs": [],
      "source": []
    },
    {
      "cell_type": "code",
      "execution_count": 59,
      "metadata": {
        "id": "5y4qMg4MWHN1"
      },
      "outputs": [],
      "source": []
    },
    {
      "cell_type": "code",
      "execution_count": 59,
      "metadata": {
        "id": "dWXy7vcnWHN1"
      },
      "outputs": [],
      "source": []
    }
  ],
  "metadata": {
    "kernelspec": {
      "display_name": "Python 3",
      "name": "python3"
    },
    "language_info": {
      "codemirror_mode": {
        "name": "ipython",
        "version": 3
      },
      "file_extension": ".py",
      "mimetype": "text/x-python",
      "name": "python",
      "nbconvert_exporter": "python",
      "pygments_lexer": "ipython3",
      "version": "3.11.7"
    },
    "colab": {
      "provenance": [],
      "gpuType": "T4"
    },
    "accelerator": "GPU"
  },
  "nbformat": 4,
  "nbformat_minor": 0
}